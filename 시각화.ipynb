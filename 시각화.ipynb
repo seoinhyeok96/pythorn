{
 "cells": [
  {
   "cell_type": "code",
   "execution_count": 1,
   "id": "166074be",
   "metadata": {},
   "outputs": [],
   "source": [
    "a=\"파이썬\""
   ]
  },
  {
   "cell_type": "code",
   "execution_count": 2,
   "id": "d1aa55d2",
   "metadata": {},
   "outputs": [
    {
     "data": {
      "text/plain": [
       "'파이썬'"
      ]
     },
     "execution_count": 2,
     "metadata": {},
     "output_type": "execute_result"
    }
   ],
   "source": [
    "a"
   ]
  },
  {
   "cell_type": "code",
   "execution_count": 3,
   "id": "1f45ded0",
   "metadata": {},
   "outputs": [],
   "source": [
    "korean_presidents=['윤석열','문재인','박근혜','노무현','김대중']"
   ]
  },
  {
   "cell_type": "code",
   "execution_count": 75,
   "id": "36947636",
   "metadata": {
    "scrolled": true
   },
   "outputs": [
    {
     "data": {
      "text/plain": [
       "['윤석열', '문재인', '박근혜', '이명박', '노무현', '김대중']"
      ]
     },
     "execution_count": 75,
     "metadata": {},
     "output_type": "execute_result"
    }
   ],
   "source": [
    "korean_presidents"
   ]
  },
  {
   "cell_type": "code",
   "execution_count": 5,
   "id": "608a54f5",
   "metadata": {},
   "outputs": [],
   "source": [
    "korean_presidents.append(\"이명박\")"
   ]
  },
  {
   "cell_type": "code",
   "execution_count": 7,
   "id": "0a330b13",
   "metadata": {},
   "outputs": [],
   "source": [
    "korean_presidents.remove(\"이명박\")"
   ]
  },
  {
   "cell_type": "code",
   "execution_count": null,
   "id": "95453408",
   "metadata": {},
   "outputs": [],
   "source": [
    "# 원하는 자리에 넣고 싶을떼 insert \n",
    "korean_presidents.insert(3,\"이명박\")"
   ]
  },
  {
   "cell_type": "code",
   "execution_count": 74,
   "id": "d37c9e5d",
   "metadata": {},
   "outputs": [],
   "source": [
    "korean_presidents.insert(3,\"이명박\")"
   ]
  },
  {
   "cell_type": "code",
   "execution_count": 9,
   "id": "7c411de7",
   "metadata": {},
   "outputs": [],
   "source": [
    "# randint 랜덤으로 뽑고 싶을때 쓰는 함수 \n",
    "from random import randint"
   ]
  },
  {
   "cell_type": "code",
   "execution_count": 46,
   "id": "00d0d8c8",
   "metadata": {},
   "outputs": [
    {
     "data": {
      "text/plain": [
       "5"
      ]
     },
     "execution_count": 46,
     "metadata": {},
     "output_type": "execute_result"
    }
   ],
   "source": [
    "randint(0,9)"
   ]
  },
  {
   "cell_type": "code",
   "execution_count": 78,
   "id": "ae0eefa3",
   "metadata": {},
   "outputs": [
    {
     "data": {
      "text/plain": [
       "'인혁은 바나나 5개 와 사과 4개를 7일동안 먹었다.'"
      ]
     },
     "execution_count": 78,
     "metadata": {},
     "output_type": "execute_result"
    }
   ],
   "source": [
    "#숫자는 %s이고 숫자는 %d 이다\n",
    "name=\"인혁\"\n",
    "bananas=5\n",
    "apples=4\n",
    "day=7\n",
    "\"%s은 바나나 %d개 와 사과 %d개를 %d일동안 먹었다.\"%(name,bananas,apples,day)"
   ]
  },
  {
   "cell_type": "code",
   "execution_count": 79,
   "id": "e8164d38",
   "metadata": {},
   "outputs": [
    {
     "data": {
      "text/plain": [
       "'인혁은 바나나 5개 와 사과 4개를 7일동안 먹었다.'"
      ]
     },
     "execution_count": 79,
     "metadata": {},
     "output_type": "execute_result"
    }
   ],
   "source": [
    "name=\"인혁\"\n",
    "bananas=5\n",
    "apples=4\n",
    "day=7\n",
    "\"{0}은 바나나 {1}개 와 사과 {2}개를 {3}일동안 먹었다.\".format(name,bananas,apples,day)"
   ]
  },
  {
   "cell_type": "markdown",
   "id": "8afb4595",
   "metadata": {},
   "source": [
    "##  방금 배운 randint 함수를 사용해서 korean_presidents 리스트의 대통령을 랜덤하게 출력해주세용!\n"
   ]
  },
  {
   "cell_type": "code",
   "execution_count": 73,
   "id": "9eb722ab",
   "metadata": {},
   "outputs": [
    {
     "data": {
      "text/plain": [
       "'노무현'"
      ]
     },
     "execution_count": 73,
     "metadata": {},
     "output_type": "execute_result"
    }
   ],
   "source": [
    "korean_presidents[randint(0,4)]"
   ]
  },
  {
   "cell_type": "markdown",
   "id": "481c8fe6",
   "metadata": {},
   "source": [
    "## 논리형"
   ]
  },
  {
   "cell_type": "code",
   "execution_count": 80,
   "id": "6f6be145",
   "metadata": {},
   "outputs": [],
   "source": [
    "a=True\n",
    "b=False"
   ]
  },
  {
   "cell_type": "code",
   "execution_count": 81,
   "id": "ae362195",
   "metadata": {},
   "outputs": [
    {
     "data": {
      "text/plain": [
       "1"
      ]
     },
     "execution_count": 81,
     "metadata": {},
     "output_type": "execute_result"
    }
   ],
   "source": [
    "a+b"
   ]
  },
  {
   "cell_type": "code",
   "execution_count": 83,
   "id": "2da250e9",
   "metadata": {},
   "outputs": [
    {
     "data": {
      "text/plain": [
       "False"
      ]
     },
     "execution_count": 83,
     "metadata": {},
     "output_type": "execute_result"
    }
   ],
   "source": [
    "a and b"
   ]
  },
  {
   "cell_type": "code",
   "execution_count": 84,
   "id": "0ca95e73",
   "metadata": {},
   "outputs": [
    {
     "data": {
      "text/plain": [
       "True"
      ]
     },
     "execution_count": 84,
     "metadata": {},
     "output_type": "execute_result"
    }
   ],
   "source": [
    "a or b"
   ]
  },
  {
   "cell_type": "code",
   "execution_count": 86,
   "id": "da13da84",
   "metadata": {},
   "outputs": [
    {
     "data": {
      "text/plain": [
       "False"
      ]
     },
     "execution_count": 86,
     "metadata": {},
     "output_type": "execute_result"
    }
   ],
   "source": [
    "a==b"
   ]
  },
  {
   "cell_type": "code",
   "execution_count": 85,
   "id": "f40bce0f",
   "metadata": {},
   "outputs": [
    {
     "data": {
      "text/plain": [
       "False"
      ]
     },
     "execution_count": 85,
     "metadata": {},
     "output_type": "execute_result"
    }
   ],
   "source": [
    "not a"
   ]
  },
  {
   "cell_type": "code",
   "execution_count": 87,
   "id": "186bf5cf",
   "metadata": {},
   "outputs": [
    {
     "data": {
      "text/plain": [
       "True"
      ]
     },
     "execution_count": 87,
     "metadata": {},
     "output_type": "execute_result"
    }
   ],
   "source": [
    "a!=b"
   ]
  },
  {
   "cell_type": "markdown",
   "id": "d2291d89",
   "metadata": {},
   "source": [
    "#  반복문\n",
    "\n"
   ]
  },
  {
   "cell_type": "code",
   "execution_count": null,
   "id": "847b80f0",
   "metadata": {},
   "outputs": [],
   "source": [
    "# 현재 i 의 값은 0입니다.\n",
    "# 현재 i 의 값은 1입니다.\n",
    "...\n",
    "현재 값은 9입니다."
   ]
  },
  {
   "cell_type": "code",
   "execution_count": 92,
   "id": "a7998cc7",
   "metadata": {},
   "outputs": [
    {
     "name": "stdout",
     "output_type": "stream",
     "text": [
      "현재 i의 값은 0입니다.\n",
      "현재 i의 값은 1입니다.\n",
      "현재 i의 값은 2입니다.\n",
      "현재 i의 값은 3입니다.\n",
      "현재 i의 값은 4입니다.\n",
      "현재 i의 값은 5입니다.\n",
      "현재 i의 값은 6입니다.\n",
      "현재 i의 값은 7입니다.\n",
      "현재 i의 값은 8입니다.\n",
      "현재 i의 값은 9입니다.\n"
     ]
    }
   ],
   "source": [
    "i=0\n",
    "while (i<=9):\n",
    "    print(\"현재 i의 값은 %d입니다.\"%i)\n",
    "    i+=1"
   ]
  },
  {
   "cell_type": "code",
   "execution_count": 97,
   "id": "4c0de90c",
   "metadata": {},
   "outputs": [
    {
     "name": "stdout",
     "output_type": "stream",
     "text": [
      "현재 i의 값은 0입니다.\n",
      "현재 i의 값은 1입니다.\n",
      "현재 i의 값은 2입니다.\n",
      "현재 i의 값은 3입니다.\n",
      "현재 i의 값은 4입니다.\n",
      "현재 i의 값은 5입니다.\n",
      "현재 i의 값은 6입니다.\n",
      "현재 i의 값은 7입니다.\n",
      "현재 i의 값은 8입니다.\n",
      "현재 i의 값은 9입니다.\n"
     ]
    }
   ],
   "source": [
    "for i in range(0,10):\n",
    "    print(\"현재 i의 값은 %d입니다.\"%i)\n",
    "    i+=1"
   ]
  },
  {
   "cell_type": "code",
   "execution_count": null,
   "id": "365023fb",
   "metadata": {},
   "outputs": [],
   "source": [
    "# for문을 사용하여 대통령들의 이름을 출력하세용!\n",
    "ex. 대통령의 이름은 윤석열 입니다.\n",
    "    대통령의 이름은 문제인 입니다.\n",
    "    .........."
   ]
  },
  {
   "cell_type": "code",
   "execution_count": 102,
   "id": "80ae2abe",
   "metadata": {
    "scrolled": true
   },
   "outputs": [
    {
     "name": "stdout",
     "output_type": "stream",
     "text": [
      "대통령의 이름은 윤석열입니다. \n",
      "대통령의 이름은 문재인입니다. \n",
      "대통령의 이름은 박근혜입니다. \n",
      "대통령의 이름은 이명박입니다. \n",
      "대통령의 이름은 노무현입니다. \n",
      "대통령의 이름은 김대중입니다. \n"
     ]
    }
   ],
   "source": [
    "for i in korean_presidents:\n",
    "    print(\"대통령의 이름은 {}입니다. \".format(i))"
   ]
  },
  {
   "cell_type": "code",
   "execution_count": 103,
   "id": "689d38ef",
   "metadata": {
    "scrolled": true
   },
   "outputs": [
    {
     "name": "stdout",
     "output_type": "stream",
     "text": [
      "대통령의 이름은 윤석열입니다. \n",
      "대통령의 이름은 문재인입니다. \n",
      "대통령의 이름은 박근혜입니다. \n",
      "대통령의 이름은 이명박입니다. \n",
      "대통령의 이름은 노무현입니다. \n",
      "대통령의 이름은 김대중입니다. \n"
     ]
    }
   ],
   "source": [
    "for i in korean_presidents:\n",
    "     print(\"대통령의 이름은 %s입니다. \"%i)"
   ]
  },
  {
   "cell_type": "markdown",
   "id": "b331e988",
   "metadata": {},
   "source": [
    "## 구구단 3단 4단을 출력해 주세요!"
   ]
  },
  {
   "cell_type": "code",
   "execution_count": 108,
   "id": "43da0c91",
   "metadata": {},
   "outputs": [
    {
     "name": "stdout",
     "output_type": "stream",
     "text": [
      "==3단 시작==\n",
      "3 x 1= 3\n",
      "3 x 2= 6\n",
      "3 x 3= 9\n",
      "3 x 4= 12\n",
      "3 x 5= 15\n",
      "3 x 6= 18\n",
      "3 x 7= 21\n",
      "3 x 8= 24\n",
      "3 x 9= 27\n",
      "==4단 시작==\n",
      "4 x 1= 4\n",
      "4 x 2= 8\n",
      "4 x 3= 12\n",
      "4 x 4= 16\n",
      "4 x 5= 20\n",
      "4 x 6= 24\n",
      "4 x 7= 28\n",
      "4 x 8= 32\n",
      "4 x 9= 36\n"
     ]
    }
   ],
   "source": [
    "for e in range(3,5):\n",
    "    print(\"==%d단 시작==\"%e)\n",
    "    for a in range(1,10):\n",
    "        print(\"%d x %d= %d\"%(e,a,a*e))"
   ]
  },
  {
   "cell_type": "markdown",
   "id": "85ae868a",
   "metadata": {},
   "source": []
  },
  {
   "cell_type": "code",
   "execution_count": 114,
   "id": "45bd1375",
   "metadata": {},
   "outputs": [],
   "source": []
  },
  {
   "cell_type": "code",
   "execution_count": 115,
   "id": "78d1a81b",
   "metadata": {},
   "outputs": [
    {
     "data": {
      "text/plain": [
       "50"
      ]
     },
     "execution_count": 115,
     "metadata": {},
     "output_type": "execute_result"
    }
   ],
   "source": []
  }
 ],
 "metadata": {
  "kernelspec": {
   "display_name": "Python 3 (ipykernel)",
   "language": "python",
   "name": "python3"
  },
  "language_info": {
   "codemirror_mode": {
    "name": "ipython",
    "version": 3
   },
   "file_extension": ".py",
   "mimetype": "text/x-python",
   "name": "python",
   "nbconvert_exporter": "python",
   "pygments_lexer": "ipython3",
   "version": "3.9.12"
  }
 },
 "nbformat": 4,
 "nbformat_minor": 5
}
