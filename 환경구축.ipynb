{
 "cells": [
  {
   "cell_type": "code",
   "execution_count": 1,
   "id": "0bae75fe",
   "metadata": {
    "scrolled": true
   },
   "outputs": [
    {
     "name": "stdout",
     "output_type": "stream",
     "text": [
      "3\n",
      "4\n"
     ]
    }
   ],
   "source": [
    "print(1+2)\n",
    "print(2+2)"
   ]
  },
  {
   "cell_type": "markdown",
   "id": "f116c61f",
   "metadata": {},
   "source": [
    "환경 구축을 지금부터 시작할께요  # Heading"
   ]
  },
  {
   "cell_type": "code",
   "execution_count": 2,
   "id": "53370f11",
   "metadata": {},
   "outputs": [],
   "source": [
    "#주석입니다. 1+1은 2입니다. ㅇㅋ?"
   ]
  },
  {
   "cell_type": "markdown",
   "id": "dcd933fa",
   "metadata": {},
   "source": [
    "# Heading 1\n",
    "가자\n",
    "## Heading 2\n",
    "들어가자\n",
    "### Heading 3\n",
    "어찌내가 왕이 될 상인가?\n",
    "Bulleted List\n",
    "        \n",
    "        \n",
    "  Bulleted List\n",
    "                                           1.Numbered List"
   ]
  },
  {
   "cell_type": "markdown",
   "id": "459c9fab",
   "metadata": {},
   "source": []
  },
  {
   "cell_type": "code",
   "execution_count": 4,
   "id": "a42e62a9",
   "metadata": {},
   "outputs": [],
   "source": [
    "## Heading"
   ]
  },
  {
   "cell_type": "markdown",
   "id": "9b16dcad",
   "metadata": {},
   "source": [
    "Bulleted List"
   ]
  },
  {
   "cell_type": "markdown",
   "id": "d6cbac22",
   "metadata": {},
   "source": [
    "#### Heading 4\n",
    "이 역사는 기원전 3400전으로 거슬러 올라간다.\n"
   ]
  },
  {
   "cell_type": "markdown",
   "id": "0236a215",
   "metadata": {},
   "source": [
    "**볼트체**"
   ]
  },
  {
   "cell_type": "markdown",
   "id": "0089b9e3",
   "metadata": {},
   "source": [
    "*에라 모르겠다(이테리체)*"
   ]
  },
  {
   "cell_type": "markdown",
   "id": "53d73a06",
   "metadata": {},
   "source": [
    "그림이나 영상 넣기\n"
   ]
  },
  {
   "cell_type": "code",
   "execution_count": null,
   "id": "6e56fcb1",
   "metadata": {},
   "outputs": [],
   "source": []
  },
  {
   "cell_type": "code",
   "execution_count": 20,
   "id": "71d90fc3",
   "metadata": {},
   "outputs": [],
   "source": [
    "from IPython.display import Image"
   ]
  },
  {
   "cell_type": "code",
   "execution_count": 24,
   "id": "d3355deb",
   "metadata": {},
   "outputs": [
    {
     "data": {
      "text/html": [
       "<img src=\"https://pbs.twimg.com/media/EA9UJBjU4AAdkCm?format=jpg&name=900x900\" width=\"400\" height=\"300\"/>"
      ],
      "text/plain": [
       "<IPython.core.display.Image object>"
      ]
     },
     "execution_count": 24,
     "metadata": {},
     "output_type": "execute_result"
    }
   ],
   "source": [
    "Image(url='https://pbs.twimg.com/media/EA9UJBjU4AAdkCm?format=jpg&name=900x900',width=400,height=300)"
   ]
  },
  {
   "cell_type": "markdown",
   "id": "acb7897e",
   "metadata": {},
   "source": [
    "비디오 넣기 유튜브에서 영상을 가져올때 주소의 =이하를 가져온다."
   ]
  },
  {
   "cell_type": "code",
   "execution_count": 30,
   "id": "a0e672cf",
   "metadata": {},
   "outputs": [],
   "source": [
    "from IPython.lib.display import YouTubeVideo"
   ]
  },
  {
   "cell_type": "code",
   "execution_count": 31,
   "id": "387d126c",
   "metadata": {},
   "outputs": [
    {
     "data": {
      "image/jpeg": "[encoded data removed]",
      "text/html": [
       "\n",
       "        <iframe\n",
       "            width=\"400\"\n",
       "            height=\"300\"\n",
       "            src=\"https://www.youtube.com/embed/I5cq54MFQCo\"\n",
       "            frameborder=\"0\"\n",
       "            allowfullscreen\n",
       "            \n",
       "        ></iframe>\n",
       "        "
      ],
      "text/plain": [
       "<IPython.lib.display.YouTubeVideo at 0x17ff50bfca0>"
      ]
     },
     "execution_count": 31,
     "metadata": {},
     "output_type": "execute_result"
    }
   ],
   "source": [
    "YouTubeVideo('I5cq54MFQCo')"
   ]
  },
  {
   "cell_type": "markdown",
   "id": "d56fa1f7",
   "metadata": {},
   "source": []
  },
  {
   "cell_type": "code",
   "execution_count": 33,
   "id": "fe3134b9",
   "metadata": {},
   "outputs": [],
   "source": [
    "import antigravity"
   ]
  },
  {
   "cell_type": "markdown",
   "id": "212faec8",
   "metadata": {},
   "source": [
    "변수 = 데이터의 변화로 움직일수 있는 수"
   ]
  },
  {
   "cell_type": "code",
   "execution_count": 43,
   "id": "3104b131",
   "metadata": {},
   "outputs": [],
   "source": [
    "num=3\n",
    "num=8\n",
    "num=3.14"
   ]
  },
  {
   "cell_type": "code",
   "execution_count": 38,
   "id": "b46fc0f2",
   "metadata": {},
   "outputs": [
    {
     "data": {
      "text/plain": [
       "8"
      ]
     },
     "execution_count": 38,
     "metadata": {},
     "output_type": "execute_result"
    }
   ],
   "source": [
    "num"
   ]
  },
  {
   "cell_type": "code",
   "execution_count": 39,
   "id": "74c8bb56",
   "metadata": {},
   "outputs": [
    {
     "data": {
      "text/plain": [
       "13"
      ]
     },
     "execution_count": 39,
     "metadata": {},
     "output_type": "execute_result"
    }
   ],
   "source": [
    "num+5"
   ]
  },
  {
   "cell_type": "code",
   "execution_count": 44,
   "id": "be16f3c7",
   "metadata": {},
   "outputs": [
    {
     "data": {
      "text/plain": [
       "int"
      ]
     },
     "execution_count": 44,
     "metadata": {},
     "output_type": "execute_result"
    }
   ],
   "source": [
    "type(3)"
   ]
  },
  {
   "cell_type": "code",
   "execution_count": 45,
   "id": "028a67fa",
   "metadata": {},
   "outputs": [
    {
     "data": {
      "text/plain": [
       "float"
      ]
     },
     "execution_count": 45,
     "metadata": {},
     "output_type": "execute_result"
    }
   ],
   "source": [
    "type(3.14)"
   ]
  },
  {
   "cell_type": "code",
   "execution_count": 47,
   "id": "9807ddd9",
   "metadata": {},
   "outputs": [
    {
     "data": {
      "text/plain": [
       "float"
      ]
     },
     "execution_count": 47,
     "metadata": {},
     "output_type": "execute_result"
    }
   ],
   "source": [
    "type(num)"
   ]
  },
  {
   "cell_type": "markdown",
   "id": "d217020b",
   "metadata": {},
   "source": [
    "문자 할당"
   ]
  },
  {
   "cell_type": "code",
   "execution_count": 48,
   "id": "ad98cde1",
   "metadata": {},
   "outputs": [],
   "source": [
    "c='ddw'"
   ]
  },
  {
   "cell_type": "code",
   "execution_count": 49,
   "id": "4eadad59",
   "metadata": {},
   "outputs": [
    {
     "data": {
      "text/plain": [
       "'ddw'"
      ]
     },
     "execution_count": 49,
     "metadata": {},
     "output_type": "execute_result"
    }
   ],
   "source": [
    "c"
   ]
  },
  {
   "cell_type": "code",
   "execution_count": 50,
   "id": "9f8935f3",
   "metadata": {},
   "outputs": [
    {
     "data": {
      "text/plain": [
       "str"
      ]
     },
     "execution_count": 50,
     "metadata": {},
     "output_type": "execute_result"
    }
   ],
   "source": [
    "type(c)"
   ]
  },
  {
   "cell_type": "code",
   "execution_count": 51,
   "id": "2e337828",
   "metadata": {},
   "outputs": [
    {
     "ename": "SyntaxError",
     "evalue": "invalid syntax (2388655016.py, line 1)",
     "output_type": "error",
     "traceback": [
      "\u001b[1;36m  Input \u001b[1;32mIn [51]\u001b[1;36m\u001b[0m\n\u001b[1;33m    2A=10\u001b[0m\n\u001b[1;37m     ^\u001b[0m\n\u001b[1;31mSyntaxError\u001b[0m\u001b[1;31m:\u001b[0m invalid syntax\n"
     ]
    }
   ],
   "source": [
    "2A=10"
   ]
  },
  {
   "cell_type": "code",
   "execution_count": 52,
   "id": "21fa7368",
   "metadata": {},
   "outputs": [],
   "source": [
    "ad_1 = 21"
   ]
  },
  {
   "cell_type": "code",
   "execution_count": 58,
   "id": "e69cd334",
   "metadata": {},
   "outputs": [
    {
     "data": {
      "text/plain": [
       "21"
      ]
     },
     "execution_count": 58,
     "metadata": {},
     "output_type": "execute_result"
    }
   ],
   "source": [
    "ad_1 "
   ]
  },
  {
   "cell_type": "code",
   "execution_count": 54,
   "id": "3be8c7eb",
   "metadata": {
    "scrolled": true
   },
   "outputs": [
    {
     "ename": "SyntaxError",
     "evalue": "invalid syntax (2276412872.py, line 1)",
     "output_type": "error",
     "traceback": [
      "\u001b[1;36m  Input \u001b[1;32mIn [54]\u001b[1;36m\u001b[0m\n\u001b[1;33m    a a = 30\u001b[0m\n\u001b[1;37m      ^\u001b[0m\n\u001b[1;31mSyntaxError\u001b[0m\u001b[1;31m:\u001b[0m invalid syntax\n"
     ]
    }
   ],
   "source": [
    "a a = 30"
   ]
  },
  {
   "cell_type": "code",
   "execution_count": 60,
   "id": "44a6bb45",
   "metadata": {},
   "outputs": [
    {
     "data": {
      "text/plain": [
       "1.0"
      ]
     },
     "execution_count": 60,
     "metadata": {},
     "output_type": "execute_result"
    }
   ],
   "source": [
    "distance = 10\n",
    "veloclity = 10\n",
    "time = distance/veloclity\n",
    "time"
   ]
  },
  {
   "cell_type": "code",
   "execution_count": 61,
   "id": "c8487685",
   "metadata": {},
   "outputs": [
    {
     "ename": "NameError",
     "evalue": "name 'df' is not defined",
     "output_type": "error",
     "traceback": [
      "\u001b[1;31m---------------------------------------------------------------------------\u001b[0m",
      "\u001b[1;31mNameError\u001b[0m                                 Traceback (most recent call last)",
      "Input \u001b[1;32mIn [61]\u001b[0m, in \u001b[0;36m<cell line: 1>\u001b[1;34m()\u001b[0m\n\u001b[1;32m----> 1\u001b[0m \u001b[43mdf\u001b[49m\n",
      "\u001b[1;31mNameError\u001b[0m: name 'df' is not defined"
     ]
    }
   ],
   "source": [
    "df"
   ]
  },
  {
   "cell_type": "markdown",
   "id": "337a5476",
   "metadata": {},
   "source": [
    "요즘은 그래픽 카드로 코딩을 한다.\n",
    "구글 코랩 \n",
    "단점 저장이 안됨\n"
   ]
  },
  {
   "cell_type": "code",
   "execution_count": 69,
   "id": "d46dd851",
   "metadata": {},
   "outputs": [
    {
     "name": "stdout",
     "output_type": "stream",
     "text": [
      "25\n"
     ]
    }
   ],
   "source": [
    "a=10\n",
    "b=15\n",
    "c=a+b\n",
    "print(c)"
   ]
  },
  {
   "cell_type": "code",
   "execution_count": 71,
   "id": "778f0347",
   "metadata": {},
   "outputs": [
    {
     "name": "stdout",
     "output_type": "stream",
     "text": [
      "25\n"
     ]
    }
   ],
   "source": [
    "a,b=10,15\n",
    "c=a+b\n",
    "print(c)"
   ]
  },
  {
   "cell_type": "code",
   "execution_count": 72,
   "id": "0a0f99fc",
   "metadata": {},
   "outputs": [
    {
     "name": "stdout",
     "output_type": "stream",
     "text": [
      "hello python hello python\n"
     ]
    }
   ],
   "source": [
    "str1,str2= 'hello python','hello python'\n",
    "print(str1,str2)"
   ]
  },
  {
   "cell_type": "code",
   "execution_count": 74,
   "id": "97cc6dbf",
   "metadata": {},
   "outputs": [
    {
     "name": "stdout",
     "output_type": "stream",
     "text": [
      "hello python hello python\n"
     ]
    }
   ],
   "source": [
    "str1=str2=\"hello python\"\n",
    "print(str1,str2)"
   ]
  },
  {
   "cell_type": "code",
   "execution_count": 76,
   "id": "5da1caad",
   "metadata": {},
   "outputs": [
    {
     "data": {
      "text/plain": [
       "\"철수는 '6시에 집에 간다'고 했다.\""
      ]
     },
     "execution_count": 76,
     "metadata": {},
     "output_type": "execute_result"
    }
   ],
   "source": [
    "\"철수는 '6시에 집에 간다'고 했다.\""
   ]
  },
  {
   "cell_type": "code",
   "execution_count": 78,
   "id": "4f91a04b",
   "metadata": {},
   "outputs": [
    {
     "data": {
      "text/plain": [
       "\"she's gone\""
      ]
     },
     "execution_count": 78,
     "metadata": {},
     "output_type": "execute_result"
    }
   ],
   "source": [
    "\"she's gone\""
   ]
  },
  {
   "cell_type": "code",
   "execution_count": 79,
   "id": "c3f22a75",
   "metadata": {},
   "outputs": [
    {
     "ename": "SyntaxError",
     "evalue": "invalid syntax (2049093385.py, line 1)",
     "output_type": "error",
     "traceback": [
      "\u001b[1;36m  Input \u001b[1;32mIn [79]\u001b[1;36m\u001b[0m\n\u001b[1;33m    print(he said, \"she\")\u001b[0m\n\u001b[1;37m             ^\u001b[0m\n\u001b[1;31mSyntaxError\u001b[0m\u001b[1;31m:\u001b[0m invalid syntax\n"
     ]
    }
   ],
   "source": [
    "print(he said, \"she\")"
   ]
  },
  {
   "cell_type": "markdown",
   "id": "d954aabc",
   "metadata": {},
   "source": [
    "인덱싱과 슬라이싱\n",
    "0부터 센다 왼쪽 기준\n",
    "오른쪽 -1,-2,-3\n",
    "인덱싱은 하나만 지칭\n",
    "슬라이싱은 구간을 지칭\n",
    "3이상 7미만"
   ]
  },
  {
   "cell_type": "code",
   "execution_count": 81,
   "id": "d54b0b44",
   "metadata": {},
   "outputs": [],
   "source": [
    "sentence=\"my name is in hyeok\""
   ]
  },
  {
   "cell_type": "code",
   "execution_count": 82,
   "id": "0e632090",
   "metadata": {},
   "outputs": [
    {
     "data": {
      "text/plain": [
       "'m'"
      ]
     },
     "execution_count": 82,
     "metadata": {},
     "output_type": "execute_result"
    }
   ],
   "source": [
    "sentence[5]"
   ]
  },
  {
   "cell_type": "code",
   "execution_count": 83,
   "id": "3c14bb40",
   "metadata": {},
   "outputs": [
    {
     "data": {
      "text/plain": [
       "'a'"
      ]
     },
     "execution_count": 83,
     "metadata": {},
     "output_type": "execute_result"
    }
   ],
   "source": [
    "sentence[4]"
   ]
  },
  {
   "cell_type": "code",
   "execution_count": 88,
   "id": "518555a9",
   "metadata": {},
   "outputs": [
    {
     "data": {
      "text/plain": [
       "'y'"
      ]
     },
     "execution_count": 88,
     "metadata": {},
     "output_type": "execute_result"
    }
   ],
   "source": [
    "sentence[-4]"
   ]
  },
  {
   "cell_type": "code",
   "execution_count": 89,
   "id": "ac358d32",
   "metadata": {},
   "outputs": [
    {
     "data": {
      "text/plain": [
       "'name'"
      ]
     },
     "execution_count": 89,
     "metadata": {},
     "output_type": "execute_result"
    }
   ],
   "source": [
    "sentence[3:7]"
   ]
  },
  {
   "cell_type": "code",
   "execution_count": 92,
   "id": "c3cd2f56",
   "metadata": {},
   "outputs": [
    {
     "data": {
      "text/plain": [
       "' is'"
      ]
     },
     "execution_count": 92,
     "metadata": {},
     "output_type": "execute_result"
    }
   ],
   "source": [
    "sentence[-12:-9]"
   ]
  },
  {
   "cell_type": "code",
   "execution_count": 93,
   "id": "623e40ba",
   "metadata": {},
   "outputs": [
    {
     "data": {
      "text/plain": [
       "' is in hyeok'"
      ]
     },
     "execution_count": 93,
     "metadata": {},
     "output_type": "execute_result"
    }
   ],
   "source": [
    "sentence[-12:]"
   ]
  },
  {
   "cell_type": "markdown",
   "id": "7145e988",
   "metadata": {},
   "source": [
    "-이정보들을 연도 /월/일/ 날씨 변수로 쪼개서 저장하고 싶습니다.\n",
    "-어떤 날씨 정보가 오든지 , 연/월 /일 날씨를 변함 없이 지칭하는 슬라이딩 코드를 짜봅니다.\n"
   ]
  },
  {
   "cell_type": "code",
   "execution_count": null,
   "id": "52061db7",
   "metadata": {},
   "outputs": [],
   "source": []
  },
  {
   "cell_type": "code",
   "execution_count": 99,
   "id": "416a65db",
   "metadata": {},
   "outputs": [
    {
     "name": "stdout",
     "output_type": "stream",
     "text": [
      "2022\n",
      "08\n",
      "09\n",
      "Sunny\n"
     ]
    }
   ],
   "source": [
    "weather_info = \"20220809Sunny\"\n",
    "# weather_info= \"20220910cloudy\"\n",
    "# weather_info= \"2022811Fog\"\n",
    "\n",
    "year = weather_info [:4]\n",
    "month =weather_info [4:6]\n",
    "day = weather_info [6:8]\n",
    "weather= weather_info [8:]\n",
    "\n",
    "print(year)\n",
    "print(month)\n",
    "print(day)\n",
    "print(weather)"
   ]
  },
  {
   "cell_type": "markdown",
   "id": "568ef520",
   "metadata": {},
   "source": [
    "**2일차** 복습"
   ]
  },
  {
   "cell_type": "markdown",
   "id": "70fb6126",
   "metadata": {},
   "source": [
    "주석 처리 단축키 컨트롤+/"
   ]
  },
  {
   "cell_type": "markdown",
   "id": "ec6e3d1c",
   "metadata": {},
   "source": [
    "- 하고 띄어 쓰기 하기 , 한글을 쓸수 있으나 영어 추천 영어 숫자 어던바 순 맨앞에 숫자 X"
   ]
  },
  {
   "cell_type": "markdown",
   "id": "39852150",
   "metadata": {},
   "source": [
    "함수는 초록색 특수문자 연산 보라색 문자열은 빨간색 검은색은 변수 가능"
   ]
  },
  {
   "cell_type": "code",
   "execution_count": 6,
   "id": "bea6455b",
   "metadata": {},
   "outputs": [],
   "source": [
    "num=3.0"
   ]
  },
  {
   "cell_type": "code",
   "execution_count": 7,
   "id": "66545105",
   "metadata": {},
   "outputs": [
    {
     "data": {
      "text/plain": [
       "float"
      ]
     },
     "execution_count": 7,
     "metadata": {},
     "output_type": "execute_result"
    }
   ],
   "source": [
    "type(num)"
   ]
  },
  {
   "cell_type": "markdown",
   "id": "8c691f76",
   "metadata": {},
   "source": [
    "범주형 자료 연속형 자료 "
   ]
  },
  {
   "cell_type": "code",
   "execution_count": 12,
   "id": "1e8c7768",
   "metadata": {},
   "outputs": [
    {
     "data": {
      "text/plain": [
       "str"
      ]
     },
     "execution_count": 12,
     "metadata": {},
     "output_type": "execute_result"
    }
   ],
   "source": [
    "num='num'\n",
    "type(num)"
   ]
  },
  {
   "cell_type": "code",
   "execution_count": 13,
   "id": "6bf0c395",
   "metadata": {},
   "outputs": [
    {
     "data": {
      "text/plain": [
       "\"she's gone \""
      ]
     },
     "execution_count": 13,
     "metadata": {},
     "output_type": "execute_result"
    }
   ],
   "source": [
    "\"she's gone \""
   ]
  },
  {
   "cell_type": "code",
   "execution_count": 20,
   "id": "affcd2a3",
   "metadata": {},
   "outputs": [],
   "source": [
    "sentence = \"my name is seoinhyeok\""
   ]
  },
  {
   "cell_type": "code",
   "execution_count": 23,
   "id": "f8282534",
   "metadata": {},
   "outputs": [],
   "source": [
    "sentence = [2]"
   ]
  },
  {
   "cell_type": "markdown",
   "id": "ceaf683d",
   "metadata": {},
   "source": [
    "왼쪽 이상 오른쪽 미만 "
   ]
  }
 ],
 "metadata": {
  "kernelspec": {
   "display_name": "Python 3 (ipykernel)",
   "language": "python",
   "name": "python3"
  },
  "language_info": {
   "codemirror_mode": {
    "name": "ipython",
    "version": 3
   },
   "file_extension": ".py",
   "mimetype": "text/x-python",
   "name": "python",
   "nbconvert_exporter": "python",
   "pygments_lexer": "ipython3",
   "version": "3.9.12"
  }
 },
 "nbformat": 4,
 "nbformat_minor": 5
}
