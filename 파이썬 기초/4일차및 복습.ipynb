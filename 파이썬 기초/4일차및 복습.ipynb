{
 "cells": [
  {
   "cell_type": "markdown",
   "id": "b96a3e54",
   "metadata": {},
   "source": [
    "### 분리형\n",
    "- 정수형(int)\n",
    "- 논리형(BOOiean)\n",
    "- 실수형(float)\n",
    "- 문자형(str)\n"
   ]
  },
  {
   "cell_type": "code",
   "execution_count": 2,
   "id": "64911b33",
   "metadata": {},
   "outputs": [],
   "source": [
    "sum=3"
   ]
  },
  {
   "cell_type": "code",
   "execution_count": 3,
   "id": "2952c999",
   "metadata": {},
   "outputs": [
    {
     "data": {
      "text/plain": [
       "3"
      ]
     },
     "execution_count": 3,
     "metadata": {},
     "output_type": "execute_result"
    }
   ],
   "source": [
    "sum"
   ]
  },
  {
   "cell_type": "markdown",
   "id": "9686ee1e",
   "metadata": {},
   "source": [
    "### 인덱싱과 슬라이싱"
   ]
  },
  {
   "cell_type": "code",
   "execution_count": 5,
   "id": "2e6a1b65",
   "metadata": {},
   "outputs": [],
   "source": [
    "name = 1\n",
    "fire = 2\n",
    "banana=3\n",
    "a=4\n",
    "b=6"
   ]
  },
  {
   "cell_type": "code",
   "execution_count": 8,
   "id": "27f9ce25",
   "metadata": {},
   "outputs": [
    {
     "data": {
      "text/plain": [
       "10"
      ]
     },
     "execution_count": 8,
     "metadata": {},
     "output_type": "execute_result"
    }
   ],
   "source": [
    "a=4\n",
    "b=6\n",
    "add=a+b\n",
    "add"
   ]
  },
  {
   "cell_type": "code",
   "execution_count": 10,
   "id": "f6aaec56",
   "metadata": {},
   "outputs": [
    {
     "ename": "SyntaxError",
     "evalue": "invalid syntax (4232502370.py, line 2)",
     "output_type": "error",
     "traceback": [
      "\u001b[1;36m  Input \u001b[1;32mIn [10]\u001b[1;36m\u001b[0m\n\u001b[1;33m    add a and b\u001b[0m\n\u001b[1;37m        ^\u001b[0m\n\u001b[1;31mSyntaxError\u001b[0m\u001b[1;31m:\u001b[0m invalid syntax\n"
     ]
    }
   ],
   "source": [
    "#변수 이름은 검은색\n",
    "#인덱싱을 하나 슬라이싱은 구간 지정"
   ]
  },
  {
   "cell_type": "code",
   "execution_count": 16,
   "id": "7466c410",
   "metadata": {},
   "outputs": [
    {
     "data": {
      "text/plain": [
       "'a'"
      ]
     },
     "execution_count": 16,
     "metadata": {},
     "output_type": "execute_result"
    }
   ],
   "source": [
    "[\"apple\",\"banana\",\"melon\"][0][0]"
   ]
  },
  {
   "cell_type": "code",
   "execution_count": 17,
   "id": "b59825ac",
   "metadata": {},
   "outputs": [],
   "source": [
    "##]]]가 있다는건 리스트가 3개다"
   ]
  },
  {
   "cell_type": "code",
   "execution_count": 18,
   "id": "4a6a5cc4",
   "metadata": {},
   "outputs": [
    {
     "data": {
      "text/plain": [
       "'melon'"
      ]
     },
     "execution_count": 18,
     "metadata": {},
     "output_type": "execute_result"
    }
   ],
   "source": [
    "\"watermelon\"[5:10]"
   ]
  },
  {
   "cell_type": "code",
   "execution_count": 19,
   "id": "4210ff14",
   "metadata": {},
   "outputs": [
    {
     "data": {
      "text/plain": [
       "'melon'"
      ]
     },
     "execution_count": 19,
     "metadata": {},
     "output_type": "execute_result"
    }
   ],
   "source": [
    "\"watermelon\"[-5:]"
   ]
  },
  {
   "cell_type": "code",
   "execution_count": 21,
   "id": "71f32d85",
   "metadata": {},
   "outputs": [
    {
     "data": {
      "text/plain": [
       "'water'"
      ]
     },
     "execution_count": 21,
     "metadata": {},
     "output_type": "execute_result"
    }
   ],
   "source": [
    "\"watermelon\"[0:5]"
   ]
  },
  {
   "cell_type": "code",
   "execution_count": 22,
   "id": "2b20f5b4",
   "metadata": {},
   "outputs": [
    {
     "data": {
      "text/plain": [
       "'water'"
      ]
     },
     "execution_count": 22,
     "metadata": {},
     "output_type": "execute_result"
    }
   ],
   "source": [
    "\"watermelon\"[:5]"
   ]
  },
  {
   "cell_type": "markdown",
   "id": "8652b277",
   "metadata": {},
   "source": [
    "## 포맷팅\n"
   ]
  },
  {
   "cell_type": "code",
   "execution_count": 24,
   "id": "4e711abe",
   "metadata": {},
   "outputs": [
    {
     "data": {
      "text/plain": [
       "'wifi'"
      ]
     },
     "execution_count": 24,
     "metadata": {},
     "output_type": "execute_result"
    }
   ],
   "source": [
    "ID= \"wifi\"\n",
    "ID"
   ]
  },
  {
   "cell_type": "code",
   "execution_count": 28,
   "id": "6d1627a2",
   "metadata": {},
   "outputs": [
    {
     "name": "stdout",
     "output_type": "stream",
     "text": [
      "시장에 가면 망고이/가있다.\n"
     ]
    }
   ],
   "source": [
    "fruit1 = \"망고\"\n",
    "fruit2 = \"파인애플\"\n",
    "fruit3 = \"멜론\"\n",
    "\n",
    "print(f\"시장에 가면 {fruit1}이/가있다.\")"
   ]
  },
  {
   "cell_type": "code",
   "execution_count": 32,
   "id": "32244540",
   "metadata": {},
   "outputs": [
    {
     "data": {
      "text/plain": [
       "9"
      ]
     },
     "execution_count": 32,
     "metadata": {},
     "output_type": "execute_result"
    }
   ],
   "source": [
    "sentence = \"there is a market\"\n",
    "sentence.find(\"a\")\n",
    "\n",
    "sentence.count \n",
    "sentence.find(\"a\")\n"
   ]
  },
  {
   "cell_type": "code",
   "execution_count": 33,
   "id": "fab223b5",
   "metadata": {},
   "outputs": [
    {
     "data": {
      "text/plain": [
       "'THERE IS A MARKET'"
      ]
     },
     "execution_count": 33,
     "metadata": {},
     "output_type": "execute_result"
    }
   ],
   "source": [
    "sentence.upper()"
   ]
  },
  {
   "cell_type": "code",
   "execution_count": 35,
   "id": "7160fc70",
   "metadata": {},
   "outputs": [
    {
     "data": {
      "text/plain": [
       "'there is a market'"
      ]
     },
     "execution_count": 35,
     "metadata": {},
     "output_type": "execute_result"
    }
   ],
   "source": [
    "sentence. lower()"
   ]
  },
  {
   "cell_type": "code",
   "execution_count": 37,
   "id": "279f2e60",
   "metadata": {},
   "outputs": [
    {
     "data": {
      "text/plain": [
       "['there is ', ' m', 'rket']"
      ]
     },
     "execution_count": 37,
     "metadata": {},
     "output_type": "execute_result"
    }
   ],
   "source": [
    "sentence.split(\"a\")"
   ]
  },
  {
   "cell_type": "code",
   "execution_count": 38,
   "id": "61a073dd",
   "metadata": {},
   "outputs": [],
   "source": [
    "## repalce 변경하라\n",
    "##문자열 없애기\n",
    "sentence.replace(\"mango\",\"\") 이렇게 하면 없애는거 가능1 "
   ]
  },
  {
   "cell_type": "markdown",
   "id": "376df509",
   "metadata": {},
   "source": [
    "## 연산하기"
   ]
  },
  {
   "cell_type": "code",
   "execution_count": 42,
   "id": "ff897124",
   "metadata": {},
   "outputs": [
    {
     "data": {
      "text/plain": [
       "3"
      ]
     },
     "execution_count": 42,
     "metadata": {},
     "output_type": "execute_result"
    }
   ],
   "source": [
    "# 연산자 7를 2로 나누 었을때 몫을 반환\n",
    "7//2"
   ]
  },
  {
   "cell_type": "code",
   "execution_count": 44,
   "id": "b8f63ada",
   "metadata": {},
   "outputs": [
    {
     "data": {
      "text/plain": [
       "1"
      ]
     },
     "execution_count": 44,
     "metadata": {},
     "output_type": "execute_result"
    }
   ],
   "source": [
    "7%2"
   ]
  },
  {
   "cell_type": "code",
   "execution_count": 45,
   "id": "07c69916",
   "metadata": {},
   "outputs": [
    {
     "data": {
      "text/plain": [
       "49"
      ]
     },
     "execution_count": 45,
     "metadata": {},
     "output_type": "execute_result"
    }
   ],
   "source": [
    "7**2"
   ]
  },
  {
   "cell_type": "code",
   "execution_count": 46,
   "id": "b275f44f",
   "metadata": {},
   "outputs": [
    {
     "data": {
      "text/plain": [
       "14"
      ]
     },
     "execution_count": 46,
     "metadata": {},
     "output_type": "execute_result"
    }
   ],
   "source": [
    "num= 7\n",
    "num=num+7\n",
    "num"
   ]
  },
  {
   "cell_type": "code",
   "execution_count": 47,
   "id": "ff4b7104",
   "metadata": {},
   "outputs": [
    {
     "data": {
      "text/plain": [
       "21"
      ]
     },
     "execution_count": 47,
     "metadata": {},
     "output_type": "execute_result"
    }
   ],
   "source": [
    "num +=7\n",
    "num"
   ]
  },
  {
   "cell_type": "markdown",
   "id": "16dc7ef1",
   "metadata": {},
   "source": [
    "문자끼리의 연산\n"
   ]
  },
  {
   "cell_type": "code",
   "execution_count": 48,
   "id": "21681066",
   "metadata": {},
   "outputs": [
    {
     "data": {
      "text/plain": [
       "'안녕하세요'"
      ]
     },
     "execution_count": 48,
     "metadata": {},
     "output_type": "execute_result"
    }
   ],
   "source": [
    "a=\"안녕\"\n",
    "b= \"하세요\"\n",
    "a+b"
   ]
  },
  {
   "cell_type": "code",
   "execution_count": 49,
   "id": "d7f07a43",
   "metadata": {},
   "outputs": [
    {
     "ename": "TypeError",
     "evalue": "unsupported operand type(s) for -: 'str' and 'str'",
     "output_type": "error",
     "traceback": [
      "\u001b[1;31m---------------------------------------------------------------------------\u001b[0m",
      "\u001b[1;31mTypeError\u001b[0m                                 Traceback (most recent call last)",
      "Input \u001b[1;32mIn [49]\u001b[0m, in \u001b[0;36m<cell line: 1>\u001b[1;34m()\u001b[0m\n\u001b[1;32m----> 1\u001b[0m \u001b[43ma\u001b[49m\u001b[38;5;241;43m-\u001b[39;49m\u001b[43mb\u001b[49m\n",
      "\u001b[1;31mTypeError\u001b[0m: unsupported operand type(s) for -: 'str' and 'str'"
     ]
    }
   ],
   "source": [
    "a-b"
   ]
  },
  {
   "cell_type": "code",
   "execution_count": 50,
   "id": "3751267d",
   "metadata": {},
   "outputs": [
    {
     "ename": "TypeError",
     "evalue": "unsupported operand type(s) for /: 'str' and 'str'",
     "output_type": "error",
     "traceback": [
      "\u001b[1;31m---------------------------------------------------------------------------\u001b[0m",
      "\u001b[1;31mTypeError\u001b[0m                                 Traceback (most recent call last)",
      "Input \u001b[1;32mIn [50]\u001b[0m, in \u001b[0;36m<cell line: 1>\u001b[1;34m()\u001b[0m\n\u001b[1;32m----> 1\u001b[0m \u001b[43ma\u001b[49m\u001b[38;5;241;43m/\u001b[39;49m\u001b[43mb\u001b[49m\n",
      "\u001b[1;31mTypeError\u001b[0m: unsupported operand type(s) for /: 'str' and 'str'"
     ]
    }
   ],
   "source": [
    "a/b"
   ]
  },
  {
   "cell_type": "code",
   "execution_count": 53,
   "id": "61ab431a",
   "metadata": {},
   "outputs": [
    {
     "data": {
      "text/plain": [
       "'안녕안녕안녕'"
      ]
     },
     "execution_count": 53,
     "metadata": {},
     "output_type": "execute_result"
    }
   ],
   "source": [
    "a*3"
   ]
  },
  {
   "cell_type": "code",
   "execution_count": 60,
   "id": "27132de4",
   "metadata": {},
   "outputs": [
    {
     "name": "stdout",
     "output_type": "stream",
     "text": [
      "14\n",
      "14\n"
     ]
    }
   ],
   "source": [
    "print(7+7)\n",
    "print(int('7')+int('7'))"
   ]
  },
  {
   "cell_type": "code",
   "execution_count": 64,
   "id": "d60af47e",
   "metadata": {},
   "outputs": [
    {
     "data": {
      "text/plain": [
       "4"
      ]
     },
     "execution_count": 64,
     "metadata": {},
     "output_type": "execute_result"
    }
   ],
   "source": [
    "##그 자료형의 인덱싱의 갯수\n",
    "fruit={\"mango\",\"grape\",\"apple\",\"banana\"}\n",
    "len(fruit)"
   ]
  },
  {
   "cell_type": "code",
   "execution_count": 66,
   "id": "66c6987b",
   "metadata": {},
   "outputs": [
    {
     "ename": "TypeError",
     "evalue": "'set' object is not subscriptable",
     "output_type": "error",
     "traceback": [
      "\u001b[1;31m---------------------------------------------------------------------------\u001b[0m",
      "\u001b[1;31mTypeError\u001b[0m                                 Traceback (most recent call last)",
      "Input \u001b[1;32mIn [66]\u001b[0m, in \u001b[0;36m<cell line: 1>\u001b[1;34m()\u001b[0m\n\u001b[1;32m----> 1\u001b[0m \u001b[38;5;28mlen\u001b[39m(\u001b[43mfruit\u001b[49m\u001b[43m[\u001b[49m\u001b[38;5;241;43m0\u001b[39;49m\u001b[43m]\u001b[49m)\n",
      "\u001b[1;31mTypeError\u001b[0m: 'set' object is not subscriptable"
     ]
    }
   ],
   "source": [
    "len(fruit[0])"
   ]
  },
  {
   "cell_type": "code",
   "execution_count": 67,
   "id": "6959cfcf",
   "metadata": {},
   "outputs": [
    {
     "data": {
      "text/plain": [
       "False"
      ]
     },
     "execution_count": 67,
     "metadata": {},
     "output_type": "execute_result"
    }
   ],
   "source": [
    "1==3 ##1과3은 같다"
   ]
  },
  {
   "cell_type": "code",
   "execution_count": 68,
   "id": "4985a5e8",
   "metadata": {},
   "outputs": [],
   "source": [
    "##명제를 배우는 이유는 조건문 때문"
   ]
  },
  {
   "cell_type": "markdown",
   "id": "604ae3fb",
   "metadata": {},
   "source": [
    "## 조건문"
   ]
  },
  {
   "cell_type": "code",
   "execution_count": null,
   "id": "4b431592",
   "metadata": {},
   "outputs": [],
   "source": [
    "if 명제 : \n",
    "    명제가 참일 때 실행하는 코드\n",
    "else :\n",
    "    명제가 거짓일 때 실행하는 코드\n",
    "    "
   ]
  },
  {
   "cell_type": "code",
   "execution_count": null,
   "id": "953eae31",
   "metadata": {},
   "outputs": [],
   "source": [
    "sutfa = 3\n",
    "#sutja = 4\n",
    "#sutja = 5\n"
   ]
  },
  {
   "cell_type": "code",
   "execution_count": 73,
   "id": "3d03775f",
   "metadata": {},
   "outputs": [
    {
     "ename": "NameError",
     "evalue": "name 'sutfa' is not defined",
     "output_type": "error",
     "traceback": [
      "\u001b[1;31m---------------------------------------------------------------------------\u001b[0m",
      "\u001b[1;31mNameError\u001b[0m                                 Traceback (most recent call last)",
      "Input \u001b[1;32mIn [73]\u001b[0m, in \u001b[0;36m<cell line: 1>\u001b[1;34m()\u001b[0m\n\u001b[1;32m----> 1\u001b[0m \u001b[38;5;28;01mif\u001b[39;00m \u001b[43msutfa\u001b[49m\u001b[38;5;241m%\u001b[39m\u001b[38;5;241m2\u001b[39m \u001b[38;5;241m==\u001b[39m \u001b[38;5;241m0\u001b[39m:\n\u001b[0;32m      2\u001b[0m     \u001b[38;5;28mprint\u001b[39m(\u001b[38;5;124m\"\u001b[39m\u001b[38;5;124m짝수 입니다.\u001b[39m\u001b[38;5;124m\"\u001b[39m)\n\u001b[0;32m      3\u001b[0m \u001b[38;5;28;01melse\u001b[39;00m :\n",
      "\u001b[1;31mNameError\u001b[0m: name 'sutfa' is not defined"
     ]
    }
   ],
   "source": [
    "if sutfa%2 == 0:\n",
    "    print(\"짝수 입니다.\")\n",
    "else :\n",
    "    print(\"홀수 입니다.\")"
   ]
  },
  {
   "cell_type": "code",
   "execution_count": 74,
   "id": "bde897ab",
   "metadata": {},
   "outputs": [
    {
     "data": {
      "text/plain": [
       "True"
      ]
     },
     "execution_count": 74,
     "metadata": {},
     "output_type": "execute_result"
    }
   ],
   "source": [
    "fruit={\"mango\",\"grape\",\"apple\",\"banana\"}\n",
    "\"mango\" in fruit"
   ]
  },
  {
   "cell_type": "code",
   "execution_count": 75,
   "id": "c0a59c83",
   "metadata": {},
   "outputs": [
    {
     "data": {
      "text/plain": [
       "True"
      ]
     },
     "execution_count": 75,
     "metadata": {},
     "output_type": "execute_result"
    }
   ],
   "source": [
    "'m'(#작은 범위)in 'mango'(#큰범위)"
   ]
  },
  {
   "cell_type": "code",
   "execution_count": 76,
   "id": "1f3eb094",
   "metadata": {},
   "outputs": [
    {
     "data": {
      "text/plain": [
       "True"
      ]
     },
     "execution_count": 76,
     "metadata": {},
     "output_type": "execute_result"
    }
   ],
   "source": [
    "fruit={\"mango\",\"grape\",\"apple\",\"banana\"}\n",
    "(\"mango\"in fruit) and (\"grape\" in fruit )"
   ]
  },
  {
   "cell_type": "code",
   "execution_count": 77,
   "id": "18e18684",
   "metadata": {},
   "outputs": [],
   "source": [
    "#if문을 통해 tell me 를 찾는다."
   ]
  },
  {
   "cell_type": "code",
   "execution_count": 94,
   "id": "8ce29ece",
   "metadata": {},
   "outputs": [
    {
     "name": "stdout",
     "output_type": "stream",
     "text": [
      "tell me가 있습니다.\n"
     ]
    },
    {
     "data": {
      "text/plain": [
       "'\\n너도 날 좋아할 줄은 몰랐어\\n어쩌면 좋아 너무나 좋아\\n꿈만 같아서 나\\n내 자신을 자꾸 꼬집어 봐 너무나 좋아\\n니가 날 혹시 안 좋아할까봐\\n혼자 얼마나 애 태운지 몰라\\n그런데 니가 날 사랑한다니\\n어머나, 다시 한 번 말해봐\\n**\\nTell me tell me\\ntell tell tell tell tell tell me\\n나를 사랑한다고 날 기다려 왔다고\\nTell me tell me\\ntell tell tell tell tell tell me\\n내가 필요하다 말해, 말해줘요\\nTell me tell me\\ntell tell tell tell tell tell me\\n자꾸만 듣고 싶어 계속 내게 말해줘\\nTell me tell me\\ntell tell tell tell tell tell me\\n꿈이 아니라고 말해, 말해줘요 **\\n어쩜 내 가슴이 이렇게 뛰니\\n가슴이 정말 터질 것 같아\\n니가 날 볼 때면\\n전기에 감전된 사람처럼 전기가 올라\\n얼마나 오래 기다린지 몰라\\n얼마나 오래 꿈 꿨는지 몰라\\n그런데 니가 날 사랑한다니 어머나,\\n다시 한 번 말해봐\\n** repeat\\nTell me tell me tell me you\\nWant me want me want me too\\nTell me tell me tell me you\\nLove me too Love me too\\n얼마나 오래 기다린지 몰라\\n얼마나 오래 꿈 꿨는지 몰라\\n그런데 니가 날 사랑한다니\\n어머나, 다시 한 번 말해봐\\n** repeat\\nTell me tell me\\ntell tell tell tell tell tell me\\ntell tell tell tell tell tell me\\nTell me\\n'"
      ]
     },
     "execution_count": 94,
     "metadata": {},
     "output_type": "execute_result"
    }
   ],
   "source": [
    "lyrics = \"\"\"\n",
    "너도 날 좋아할 줄은 몰랐어\n",
    "어쩌면 좋아 너무나 좋아\n",
    "꿈만 같아서 나\n",
    "내 자신을 자꾸 꼬집어 봐 너무나 좋아\n",
    "니가 날 혹시 안 좋아할까봐\n",
    "혼자 얼마나 애 태운지 몰라\n",
    "그런데 니가 날 사랑한다니\n",
    "어머나, 다시 한 번 말해봐\n",
    "**\n",
    "Tell me tell me\n",
    "tell tell tell tell tell tell me\n",
    "나를 사랑한다고 날 기다려 왔다고\n",
    "Tell me tell me\n",
    "tell tell tell tell tell tell me\n",
    "내가 필요하다 말해, 말해줘요\n",
    "Tell me tell me\n",
    "tell tell tell tell tell tell me\n",
    "자꾸만 듣고 싶어 계속 내게 말해줘\n",
    "Tell me tell me\n",
    "tell tell tell tell tell tell me\n",
    "꿈이 아니라고 말해, 말해줘요 **\n",
    "어쩜 내 가슴이 이렇게 뛰니\n",
    "가슴이 정말 터질 것 같아\n",
    "니가 날 볼 때면\n",
    "전기에 감전된 사람처럼 전기가 올라\n",
    "얼마나 오래 기다린지 몰라\n",
    "얼마나 오래 꿈 꿨는지 몰라\n",
    "그런데 니가 날 사랑한다니 어머나,\n",
    "다시 한 번 말해봐\n",
    "** repeat\n",
    "Tell me tell me tell me you\n",
    "Want me want me want me too\n",
    "Tell me tell me tell me you\n",
    "Love me too Love me too\n",
    "얼마나 오래 기다린지 몰라\n",
    "얼마나 오래 꿈 꿨는지 몰라\n",
    "그런데 니가 날 사랑한다니\n",
    "어머나, 다시 한 번 말해봐\n",
    "** repeat\n",
    "Tell me tell me\n",
    "tell tell tell tell tell tell me\n",
    "tell tell tell tell tell tell me\n",
    "Tell me\n",
    "\"\"\"\n",
    "\n",
    "if \"tell me\"in lyrics  :\n",
    "    print(\"tell me가 있습니다.\")\n",
    "else :\n",
    "    print(\"tell me가 없습니다.\")\n",
    "\n",
    "\n"
   ]
  },
  {
   "cell_type": "code",
   "execution_count": 97,
   "id": "77f52ba2",
   "metadata": {},
   "outputs": [
    {
     "ename": "SyntaxError",
     "evalue": "unexpected character after line continuation character (1995578759.py, line 1)",
     "output_type": "error",
     "traceback": [
      "\u001b[1;36m  Input \u001b[1;32mIn [97]\u001b[1;36m\u001b[0m\n\u001b[1;33m    lyrics = lyrics.replace(\\n,\" \")\u001b[0m\n\u001b[1;37m                             ^\u001b[0m\n\u001b[1;31mSyntaxError\u001b[0m\u001b[1;31m:\u001b[0m unexpected character after line continuation character\n"
     ]
    }
   ],
   "source": [
    "lyrics = lyrics.replace(\\n,\" \")\n",
    "lyrics = lyrics.lower()\n",
    "lyrics = lyrics.replace(\"tell me\",\"\")\n",
    "lyrics\n",
    "\n"
   ]
  },
  {
   "cell_type": "code",
   "execution_count": 106,
   "id": "88df79dc",
   "metadata": {},
   "outputs": [
    {
     "data": {
      "text/plain": [
       "'\\n너도 날 좋아할 줄은 몰랐어\\n어쩌면 좋아 너무나 좋아\\n꿈만 같아서 나\\n내 자신을 자꾸 꼬집어 봐 너무나 좋아\\n니가 날 혹시 안 좋아할까봐\\n혼자 얼마나 애 태운지 몰라\\n그런데 니가 날 사랑한다니\\n어머나, 다시 한 번 말해봐\\n**\\n \\ntell tell tell tell tell \\n나를 사랑한다고 날 기다려 왔다고\\n \\ntell tell tell tell tell \\n내가 필요하다 말해, 말해줘요\\n \\ntell tell tell tell tell \\n자꾸만 듣고 싶어 계속 내게 말해줘\\n \\ntell tell tell tell tell \\n꿈이 아니라고 말해, 말해줘요 **\\n어쩜 내 가슴이 이렇게 뛰니\\n가슴이 정말 터질 것 같아\\n니가 날 볼 때면\\n전기에 감전된 사람처럼 전기가 올라\\n얼마나 오래 기다린지 몰라\\n얼마나 오래 꿈 꿨는지 몰라\\n그런데 니가 날 사랑한다니 어머나,\\n다시 한 번 말해봐\\n** repeat\\n you\\nwant me want me want me too\\n you\\nlove me too love me too\\n얼마나 오래 기다린지 몰라\\n얼마나 오래 꿈 꿨는지 몰라\\n그런데 니가 날 사랑한다니\\n어머나, 다시 한 번 말해봐\\n** repeat\\n \\ntell tell tell tell tell \\ntell tell tell tell tell \\n\\n'"
      ]
     },
     "execution_count": 106,
     "metadata": {},
     "output_type": "execute_result"
    }
   ],
   "source": [
    "# 가리는 경우\n",
    "\n",
    "lyrics = lyrics.replace(\"tell me\",\"@@@@@@@@@\")\n",
    "lyrics"
   ]
  },
  {
   "cell_type": "code",
   "execution_count": 105,
   "id": "98cd573a",
   "metadata": {},
   "outputs": [
    {
     "data": {
      "text/plain": [
       "'너도 날 좋아할 줄은 몰랐어\\n어쩌면 좋아 너무나 좋아\\n꿈만 같아서 나\\n내 자신을 자꾸 꼬집어 봐 너무나 좋아\\n니가 날 혹시 안 좋아할까봐\\n혼자 얼마나 애 태운지 몰라\\n그런데 니가 날 사랑한다니\\n어머나, 다시 한 번 말해봐\\n**\\n \\ntell tell tell tell tell \\n나를 사랑한다고 날 기다려 왔다고\\n \\ntell tell tell tell tell \\n내가 필요하다 말해, 말해줘요\\n \\ntell tell tell tell tell \\n자꾸만 듣고 싶어 계속 내게 말해줘\\n \\ntell tell tell tell tell \\n꿈이 아니라고 말해, 말해줘요 **\\n어쩜 내 가슴이 이렇게 뛰니\\n가슴이 정말 터질 것 같아\\n니가 날 볼 때면\\n전기에 감전된 사람처럼 전기가 올라\\n얼마나 오래 기다린지 몰라\\n얼마나 오래 꿈 꿨는지 몰라\\n그런데 니가 날 사랑한다니 어머나,\\n다시 한 번 말해봐\\n** repeat\\n you\\nwant me want me want me too\\n you\\nlove me too love me too\\n얼마나 오래 기다린지 몰라\\n얼마나 오래 꿈 꿨는지 몰라\\n그런데 니가 날 사랑한다니\\n어머나, 다시 한 번 말해봐\\n** repeat\\n \\ntell tell tell tell tell \\ntell tell tell tell tell \\n'"
      ]
     },
     "execution_count": 105,
     "metadata": {},
     "output_type": "execute_result"
    }
   ],
   "source": [
    "#빈칸 두개를 하나로 줄여라\n",
    "lyrics = lyrics.replace(\"  \",\" \")\n",
    "lyrics[1:-1]\n"
   ]
  },
  {
   "cell_type": "markdown",
   "id": "3dc2a710",
   "metadata": {},
   "source": [
    "# 리스트, 튜플\n"
   ]
  },
  {
   "cell_type": "code",
   "execution_count": 107,
   "id": "10031875",
   "metadata": {},
   "outputs": [],
   "source": [
    "#리스트 데이터 조작 가능\n",
    "#튜플 데이터 조작 불가능"
   ]
  },
  {
   "cell_type": "markdown",
   "id": "eda3f3eb",
   "metadata": {},
   "source": [
    "### 데이터 추가\n",
    "1. 문자열: 덧셈 연산\n",
    "2. 리스트: append,insert"
   ]
  },
  {
   "cell_type": "code",
   "execution_count": 110,
   "id": "72392592",
   "metadata": {},
   "outputs": [
    {
     "data": {
      "text/plain": [
       "'짜장면, 짬뽕 , 탕수육,군만두'"
      ]
     },
     "execution_count": 110,
     "metadata": {},
     "output_type": "execute_result"
    }
   ],
   "source": [
    "meum = \"짜장면, 짬뽕 ,탕수육\"\n",
    "meum + \",군만두\""
   ]
  },
  {
   "cell_type": "code",
   "execution_count": 124,
   "id": "6f59681e",
   "metadata": {},
   "outputs": [
    {
     "data": {
      "text/plain": [
       "['짜장면', '짬뽕', '탕수육', '군만두']"
      ]
     },
     "execution_count": 124,
     "metadata": {},
     "output_type": "execute_result"
    }
   ],
   "source": [
    "meum = [\"짜장면\", \"짬뽕\" ,\"탕수육\"]\n",
    "meum.append(\"군만두\")\n",
    "meum"
   ]
  },
  {
   "cell_type": "code",
   "execution_count": 125,
   "id": "c5388ae0",
   "metadata": {},
   "outputs": [
    {
     "data": {
      "text/plain": [
       "['짜장면', '팔보채', '짬뽕', '탕수육', '군만두']"
      ]
     },
     "execution_count": 125,
     "metadata": {},
     "output_type": "execute_result"
    }
   ],
   "source": [
    "meum.insert(1,\"팔보채\")\n",
    "meum"
   ]
  },
  {
   "cell_type": "markdown",
   "id": "5bde6792",
   "metadata": {},
   "source": [
    "### 데이터 제거\n",
    "- 1.문자열:replace\n",
    "- 2.리스트:del,remove,pop"
   ]
  },
  {
   "cell_type": "code",
   "execution_count": 127,
   "id": "42ecb801",
   "metadata": {},
   "outputs": [
    {
     "ename": "AttributeError",
     "evalue": "'tuple' object has no attribute 'replace'",
     "output_type": "error",
     "traceback": [
      "\u001b[1;31m---------------------------------------------------------------------------\u001b[0m",
      "\u001b[1;31mAttributeError\u001b[0m                            Traceback (most recent call last)",
      "Input \u001b[1;32mIn [127]\u001b[0m, in \u001b[0;36m<cell line: 2>\u001b[1;34m()\u001b[0m\n\u001b[0;32m      1\u001b[0m meum \u001b[38;5;241m=\u001b[39m \u001b[38;5;124m\"\u001b[39m\u001b[38;5;124m짜장면\u001b[39m\u001b[38;5;124m\"\u001b[39m, \u001b[38;5;124m\"\u001b[39m\u001b[38;5;124m짬뽕\u001b[39m\u001b[38;5;124m\"\u001b[39m ,\u001b[38;5;124m\"\u001b[39m\u001b[38;5;124m탕수육\u001b[39m\u001b[38;5;124m\"\u001b[39m\n\u001b[1;32m----> 2\u001b[0m \u001b[43mmeum\u001b[49m\u001b[38;5;241;43m.\u001b[39;49m\u001b[43mreplace\u001b[49m(\u001b[38;5;124m\"\u001b[39m\u001b[38;5;124m, 탕수육\u001b[39m\u001b[38;5;124m\"\u001b[39m,\u001b[38;5;124m\"\u001b[39m\u001b[38;5;124m\"\u001b[39m)\n\u001b[0;32m      3\u001b[0m meum\n",
      "\u001b[1;31mAttributeError\u001b[0m: 'tuple' object has no attribute 'replace'"
     ]
    }
   ],
   "source": [
    "meum = \"짜장면\", \"짬뽕\" ,\"탕수육\"\n",
    "meum.replace(\", 탕수육\",\"\")\n",
    "meum"
   ]
  },
  {
   "cell_type": "code",
   "execution_count": 123,
   "id": "b0187ecc",
   "metadata": {},
   "outputs": [
    {
     "ename": "AttributeError",
     "evalue": "'str' object has no attribute 'remove'",
     "output_type": "error",
     "traceback": [
      "\u001b[1;31m---------------------------------------------------------------------------\u001b[0m",
      "\u001b[1;31mAttributeError\u001b[0m                            Traceback (most recent call last)",
      "Input \u001b[1;32mIn [123]\u001b[0m, in \u001b[0;36m<cell line: 1>\u001b[1;34m()\u001b[0m\n\u001b[1;32m----> 1\u001b[0m \u001b[43mmeum\u001b[49m\u001b[38;5;241;43m.\u001b[39;49m\u001b[43mremove\u001b[49m(\u001b[38;5;124m\"\u001b[39m\u001b[38;5;124m탕수육\u001b[39m\u001b[38;5;124m\"\u001b[39m)\n",
      "\u001b[1;31mAttributeError\u001b[0m: 'str' object has no attribute 'remove'"
     ]
    }
   ],
   "source": [
    "meum.remove(\"탕수육\")"
   ]
  },
  {
   "cell_type": "markdown",
   "id": "fcafe087",
   "metadata": {},
   "source": [
    "### 데이터 교체\n",
    "1: 문자열 : replace\n",
    "    2: 리스트 : 딱히 함수x\n"
   ]
  },
  {
   "cell_type": "code",
   "execution_count": 129,
   "id": "2d4da7d3",
   "metadata": {},
   "outputs": [
    {
     "data": {
      "text/plain": [
       "'짜장면,짬뽕,탕수육,군만두'"
      ]
     },
     "execution_count": 129,
     "metadata": {},
     "output_type": "execute_result"
    }
   ],
   "source": [
    "meum = \"짜장면,짬뽕,탕수육,팔보채\"\n",
    "meum = meum.replace(\"팔보채\",\"군만두\")\n",
    "meum"
   ]
  },
  {
   "cell_type": "code",
   "execution_count": 132,
   "id": "600c50c5",
   "metadata": {},
   "outputs": [
    {
     "data": {
      "text/plain": [
       "['짜장면', '유산슬', '탕수육', '팔보채']"
      ]
     },
     "execution_count": 132,
     "metadata": {},
     "output_type": "execute_result"
    }
   ],
   "source": [
    "meum = [\"짜장면\",\"짬뽕\",\"탕수육\",\"팔보채\"]\n",
    "meum[1] = \"유산슬\"\n",
    "meum"
   ]
  },
  {
   "cell_type": "markdown",
   "id": "1e508ca1",
   "metadata": {},
   "source": []
  },
  {
   "cell_type": "code",
   "execution_count": 137,
   "id": "1b738ae8",
   "metadata": {},
   "outputs": [
    {
     "data": {
      "text/plain": [
       "[['mango', 'grape'], ['pineapple', 'banana', ['melon', 'watermelon']]]"
      ]
     },
     "execution_count": 137,
     "metadata": {},
     "output_type": "execute_result"
    }
   ],
   "source": [
    "fruit=[[\"mango\",\"grape\"],[\"apple\",\"banana\",[\"melon\",\"watermelon\"]]]\n",
    "fruit[1][0]=\"pineapple\"\n",
    "fruit"
   ]
  },
  {
   "cell_type": "markdown",
   "id": "f4df962b",
   "metadata": {},
   "source": [
    "### 반복문"
   ]
  },
  {
   "cell_type": "code",
   "execution_count": 138,
   "id": "4bde8eb4",
   "metadata": {},
   "outputs": [
    {
     "ename": "SyntaxError",
     "evalue": "invalid syntax (4236687272.py, line 2)",
     "output_type": "error",
     "traceback": [
      "\u001b[1;36m  Input \u001b[1;32mIn [138]\u001b[1;36m\u001b[0m\n\u001b[1;33m    명제가 참인 한 실행되는 코드\u001b[0m\n\u001b[1;37m        ^\u001b[0m\n\u001b[1;31mSyntaxError\u001b[0m\u001b[1;31m:\u001b[0m invalid syntax\n"
     ]
    }
   ],
   "source": [
    "while 명제 :\n",
    "    명제가 참인 한 실행되는 코드\n",
    "    \n",
    "    "
   ]
  },
  {
   "cell_type": "markdown",
   "id": "278798db",
   "metadata": {},
   "source": [
    "### 무한루프를 피하는 방법\n",
    " - 특정 존건에서 while문에 걸려있는 명제가 거짓이 되도록 설계한다.\n",
    " - break를 사용한다.\n",
    " - whlie문은 참인한 실행됨"
   ]
  },
  {
   "cell_type": "code",
   "execution_count": 141,
   "id": "80726f60",
   "metadata": {},
   "outputs": [
    {
     "name": "stdout",
     "output_type": "stream",
     "text": [
      "0\n",
      "1\n",
      "2\n"
     ]
    }
   ],
   "source": [
    "n=0\n",
    "while n <3 :\n",
    "    print(n)\n",
    "    n=n+1"
   ]
  },
  {
   "cell_type": "code",
   "execution_count": 148,
   "id": "844153ae",
   "metadata": {},
   "outputs": [
    {
     "name": "stdout",
     "output_type": "stream",
     "text": [
      "0\n",
      "1\n",
      "2\n"
     ]
    }
   ],
   "source": [
    "n=0\n",
    "while True : \n",
    "    print(n)\n",
    "    n=n+1\n",
    "    if n >=3:\n",
    "        break\n",
    "    else:\n",
    "        pass"
   ]
  },
  {
   "cell_type": "markdown",
   "id": "8b880c16",
   "metadata": {},
   "source": [
    "#### 1000이넘는 최초의 43배수중 가장 작은 수를 찾고 싶습니다.\n",
    "\n"
   ]
  },
  {
   "cell_type": "code",
   "execution_count": 153,
   "id": "f4be3b40",
   "metadata": {},
   "outputs": [
    {
     "name": "stdout",
     "output_type": "stream",
     "text": [
      "1032\n"
     ]
    }
   ],
   "source": [
    "n=1000\n",
    "while True :\n",
    "    n=n+1\n",
    "    if n%43== 0:\n",
    "        print(n)\n",
    "        break\n",
    "    else:\n",
    "        pass\n",
    "    "
   ]
  },
  {
   "cell_type": "code",
   "execution_count": 155,
   "id": "f5a40451",
   "metadata": {},
   "outputs": [
    {
     "name": "stdout",
     "output_type": "stream",
     "text": [
      "1032\n"
     ]
    }
   ],
   "source": [
    "n=0\n",
    "while n*43 <1000:\n",
    "    n=n+1\n",
    "print(n*43)"
   ]
  },
  {
   "cell_type": "markdown",
   "id": "b6ebd943",
   "metadata": {},
   "source": [
    "### 10000이 넘는 수 중에서 , 가작 작은 43과 67의 최소공배수를 구해세요."
   ]
  },
  {
   "cell_type": "code",
   "execution_count": 159,
   "id": "c6b68097",
   "metadata": {},
   "outputs": [
    {
     "name": "stdout",
     "output_type": "stream",
     "text": [
      "11524\n"
     ]
    }
   ],
   "source": [
    "n=10000\n",
    "while True :\n",
    "    n=n+1\n",
    "    if (n%43 == 0) and (n%67 == 0) :\n",
    "        print(n)\n",
    "        break\n",
    "    else :\n",
    "        pass"
   ]
  },
  {
   "cell_type": "markdown",
   "id": "32a1e3b0",
   "metadata": {},
   "source": [
    "### for문 \n",
    "for 변수 in 순서가 있는 자료형 :\n",
    "    코드 "
   ]
  },
  {
   "cell_type": "code",
   "execution_count": 161,
   "id": "9b849c23",
   "metadata": {},
   "outputs": [
    {
     "name": "stdout",
     "output_type": "stream",
     "text": [
      "1\n",
      "4\n",
      "9\n",
      "16\n"
     ]
    }
   ],
   "source": [
    "for i in[1,2,3,4]:\n",
    "    print(i**2)"
   ]
  },
  {
   "cell_type": "markdown",
   "id": "d7388606",
   "metadata": {},
   "source": [
    "### 3단 만들기"
   ]
  },
  {
   "cell_type": "code",
   "execution_count": 168,
   "id": "6f0d4ada",
   "metadata": {},
   "outputs": [
    {
     "name": "stdout",
     "output_type": "stream",
     "text": [
      "3x 1\n",
      "3x 2\n",
      "3x 3\n",
      "3x 4\n",
      "3x 5\n",
      "3x 6\n",
      "3x 7\n",
      "3x 8\n"
     ]
    }
   ],
   "source": [
    "for i in range(1,9) :\n",
    "    print(\"3x {}\".format(i,3*i))"
   ]
  },
  {
   "cell_type": "code",
   "execution_count": 169,
   "id": "0623d69f",
   "metadata": {},
   "outputs": [
    {
     "ename": "SyntaxError",
     "evalue": "invalid syntax (785392059.py, line 4)",
     "output_type": "error",
     "traceback": [
      "\u001b[1;36m  Input \u001b[1;32mIn [169]\u001b[1;36m\u001b[0m\n\u001b[1;33m    for in range(len(a)) :\u001b[0m\n\u001b[1;37m        ^\u001b[0m\n\u001b[1;31mSyntaxError\u001b[0m\u001b[1;31m:\u001b[0m invalid syntax\n"
     ]
    }
   ],
   "source": [
    "n=0\n",
    "a={1,2,3,4,5,6,7}\n",
    "b={2,4,3,6,5,3,7}\n",
    "for in  :\n",
    "    if  a[i] == b[i] :\n",
    "        n=n+1\n",
    "    else :\n",
    "        pass\n",
    "    "
   ]
  },
  {
   "cell_type": "code",
   "execution_count": 184,
   "id": "b95db702",
   "metadata": {},
   "outputs": [
    {
     "ename": "SyntaxError",
     "evalue": "invalid syntax (974901393.py, line 2)",
     "output_type": "error",
     "traceback": [
      "\u001b[1;36m  Input \u001b[1;32mIn [184]\u001b[1;36m\u001b[0m\n\u001b[1;33m    for w in range(1,9)\u001b[0m\n\u001b[1;37m                       ^\u001b[0m\n\u001b[1;31mSyntaxError\u001b[0m\u001b[1;31m:\u001b[0m invalid syntax\n"
     ]
    }
   ],
   "source": [
    "for i in range(1,9) :\n",
    "    for w in range(1,9)\n",
    "    print(\"{}x{}\".format(i,w)\n",
    "print(\"_____ \")"
   ]
  },
  {
   "cell_type": "code",
   "execution_count": 186,
   "id": "7afe1dba",
   "metadata": {},
   "outputs": [
    {
     "name": "stdout",
     "output_type": "stream",
     "text": [
      "-8.857142857142858\n",
      "-8.857142857142858\n",
      "-8.857142857142858\n",
      "-8.857142857142858\n",
      "-8.857142857142858\n",
      "-8.857142857142858\n",
      "-8.857142857142858\n",
      "-8.857142857142858\n",
      "-8.857142857142858\n",
      "-8.857142857142858\n"
     ]
    }
   ],
   "source": [
    "for l in range(10):\n",
    "    try:\n",
    "        print(1/7-i)\n",
    "    except :\n",
    "        print(\"에러가 났습니다.\")"
   ]
  },
  {
   "cell_type": "code",
   "execution_count": 1,
   "id": "16def7b6",
   "metadata": {},
   "outputs": [
    {
     "name": "stdout",
     "output_type": "stream",
     "text": [
      "3의 배수를 입력하세요:3\n",
      "3\n"
     ]
    }
   ],
   "source": [
    "a= int(input(\"3의 배수를 입력하세요:\"))\n",
    "if a%3 !=0:\n",
    "    raise Exception(\"너 혼난다.\")\n",
    "else:\n",
    "    print(a)"
   ]
  },
  {
   "cell_type": "code",
   "execution_count": 5,
   "id": "2c3e3715",
   "metadata": {},
   "outputs": [
    {
     "ename": "IndexError",
     "evalue": "range object index out of range",
     "output_type": "error",
     "traceback": [
      "\u001b[1;31m---------------------------------------------------------------------------\u001b[0m",
      "\u001b[1;31mIndexError\u001b[0m                                Traceback (most recent call last)",
      "Input \u001b[1;32mIn [5]\u001b[0m, in \u001b[0;36m<cell line: 1>\u001b[1;34m()\u001b[0m\n\u001b[1;32m----> 1\u001b[0m a \u001b[38;5;241m=\u001b[39m \u001b[38;5;28;43mrange\u001b[39;49m\u001b[43m(\u001b[49m\u001b[38;5;241;43m10\u001b[39;49m\u001b[43m)\u001b[49m\u001b[43m[\u001b[49m\u001b[38;5;241;43m12\u001b[39;49m\u001b[43m]\u001b[49m\n",
      "\u001b[1;31mIndexError\u001b[0m: range object index out of range"
     ]
    }
   ],
   "source": [
    "a = range(10)[12]"
   ]
  },
  {
   "cell_type": "code",
   "execution_count": 7,
   "id": "1bb3e787",
   "metadata": {},
   "outputs": [
    {
     "ename": "SyntaxError",
     "evalue": "unexpected EOF while parsing (2304064868.py, line 1)",
     "output_type": "error",
     "traceback": [
      "\u001b[1;36m  Input \u001b[1;32mIn [7]\u001b[1;36m\u001b[0m\n\u001b[1;33m    a= range(10\u001b[0m\n\u001b[1;37m               ^\u001b[0m\n\u001b[1;31mSyntaxError\u001b[0m\u001b[1;31m:\u001b[0m unexpected EOF while parsing\n"
     ]
    }
   ],
   "source": [
    "a= range(10"
   ]
  },
  {
   "cell_type": "code",
   "execution_count": 8,
   "id": "66518893",
   "metadata": {},
   "outputs": [],
   "source": [
    "##캐글 "
   ]
  },
  {
   "cell_type": "code",
   "execution_count": 11,
   "id": "f8b3a434",
   "metadata": {},
   "outputs": [
    {
     "name": "stderr",
     "output_type": "stream",
     "text": [
      "Cloning into 'deep-image-prior'...\n"
     ]
    }
   ],
   "source": [
    "!git clone https://github.com/DmitryUlyanov/deep-image-prior.git"
   ]
  },
  {
   "cell_type": "code",
   "execution_count": 21,
   "id": "d5132367",
   "metadata": {},
   "outputs": [
    {
     "name": "stdout",
     "output_type": "stream",
     "text": [
      "25164150\n"
     ]
    }
   ],
   "source": [
    "n= 0\n",
    "m =0\n",
    "for c in range(1,101):\n",
    "    n=c+n\n",
    "    m=m+c**2\n",
    "print(n**2 - m)\n",
    "    "
   ]
  },
  {
   "cell_type": "markdown",
   "id": "f25b0d80",
   "metadata": {},
   "source": [
    "### 딕션너리"
   ]
  },
  {
   "cell_type": "code",
   "execution_count": 52,
   "id": "6924060e",
   "metadata": {},
   "outputs": [
    {
     "data": {
      "text/plain": [
       "800"
      ]
     },
     "execution_count": 52,
     "metadata": {},
     "output_type": "execute_result"
    }
   ],
   "source": [
    "gg = {\"사과\":800, \"바나나\":1000, \"포도\":800}\n",
    "gg[\"사과\"]"
   ]
  },
  {
   "cell_type": "code",
   "execution_count": 53,
   "id": "2ffc8863",
   "metadata": {},
   "outputs": [
    {
     "data": {
      "text/plain": [
       "{'사과': 800, '바나나': 1000, '포도': 800, '파인애플': 1200}"
      ]
     },
     "execution_count": 53,
     "metadata": {},
     "output_type": "execute_result"
    }
   ],
   "source": [
    "gg[\"파인애플\"] = 1200\n",
    "gg"
   ]
  },
  {
   "cell_type": "code",
   "execution_count": 54,
   "id": "3f3d4f27",
   "metadata": {},
   "outputs": [],
   "source": [
    "del  gg[\"파인애플\"]"
   ]
  },
  {
   "cell_type": "code",
   "execution_count": 55,
   "id": "b040a634",
   "metadata": {},
   "outputs": [
    {
     "name": "stdout",
     "output_type": "stream",
     "text": [
      "사과\n",
      "바나나\n",
      "포도\n"
     ]
    }
   ],
   "source": [
    "for i in gg :\n",
    "    print(i)"
   ]
  },
  {
   "cell_type": "code",
   "execution_count": 56,
   "id": "49c568ec",
   "metadata": {},
   "outputs": [
    {
     "data": {
      "text/plain": [
       "dict_keys(['사과', '바나나', '포도'])"
      ]
     },
     "execution_count": 56,
     "metadata": {},
     "output_type": "execute_result"
    }
   ],
   "source": [
    "gg.keys()"
   ]
  },
  {
   "cell_type": "code",
   "execution_count": 57,
   "id": "aa10a65e",
   "metadata": {},
   "outputs": [
    {
     "data": {
      "text/plain": [
       "dict_values([800, 1000, 800])"
      ]
     },
     "execution_count": 57,
     "metadata": {},
     "output_type": "execute_result"
    }
   ],
   "source": [
    "gg.values()"
   ]
  },
  {
   "cell_type": "code",
   "execution_count": 58,
   "id": "050d2de1",
   "metadata": {},
   "outputs": [
    {
     "data": {
      "text/plain": [
       "{'사과': 880.0000000000001, '바나나': 1100.0, '포도': 880.0000000000001}"
      ]
     },
     "execution_count": 58,
     "metadata": {},
     "output_type": "execute_result"
    }
   ],
   "source": [
    "for i in gg:\n",
    "    m= gg[i]*1.1\n",
    "    \n",
    "    gg[i]=m\n",
    "gg\n",
    "    "
   ]
  },
  {
   "cell_type": "markdown",
   "id": "48e6b06f",
   "metadata": {},
   "source": [
    "전국 사과의 평균을 구해라 "
   ]
  },
  {
   "cell_type": "code",
   "execution_count": 1,
   "id": "83470d09",
   "metadata": {},
   "outputs": [],
   "source": [
    "ggg= {\"서울점\":{\"사과\":800, \"바나나\" : 1000, \"포도\" : 800},\n",
    "        \"부산점\":{\"사과\":700,\"바나나\" :900, \"포도\" :900},\n",
    "        \"대구점\" : {\"사과\" :750, \"바나나\":800, \"포도\" :1000}}"
   ]
  },
  {
   "cell_type": "code",
   "execution_count": 9,
   "id": "367b38c4",
   "metadata": {},
   "outputs": [
    {
     "name": "stdout",
     "output_type": "stream",
     "text": [
      "750.0\n"
     ]
    }
   ],
   "source": [
    "y=0\n",
    "for c in ggg:\n",
    "     y=y+ggg[c][\"사과\"]\n",
    "print(y/3)"
   ]
  },
  {
   "cell_type": "code",
   "execution_count": 8,
   "id": "6e95c5a7",
   "metadata": {},
   "outputs": [
    {
     "name": "stdout",
     "output_type": "stream",
     "text": [
      "900.0\n"
     ]
    }
   ],
   "source": [
    "m=0\n",
    "for c in ggg:\n",
    "    m=m+ggg[c][\"바나나\"]\n",
    "print(m/3)"
   ]
  },
  {
   "cell_type": "code",
   "execution_count": 7,
   "id": "de145709",
   "metadata": {},
   "outputs": [
    {
     "name": "stdout",
     "output_type": "stream",
     "text": [
      "266.6666666666667\n",
      "300.0\n",
      "333.3333333333333\n"
     ]
    }
   ],
   "source": [
    "for c in ggg:\n",
    "    print (ggg[c][\"포도\"]/3)"
   ]
  },
  {
   "cell_type": "code",
   "execution_count": 13,
   "id": "59cc810c",
   "metadata": {},
   "outputs": [],
   "source": [
    "def add(a,b): \n",
    "    return a+b"
   ]
  },
  {
   "cell_type": "code",
   "execution_count": 14,
   "id": "051439f2",
   "metadata": {},
   "outputs": [
    {
     "data": {
      "text/plain": [
       "5"
      ]
     },
     "execution_count": 14,
     "metadata": {},
     "output_type": "execute_result"
    }
   ],
   "source": [
    "add(2,3)"
   ]
  },
  {
   "cell_type": "code",
   "execution_count": 15,
   "id": "2017e41f",
   "metadata": {},
   "outputs": [
    {
     "ename": "ModuleNotFoundError",
     "evalue": "No module named 'mathatic'",
     "output_type": "error",
     "traceback": [
      "\u001b[1;31m---------------------------------------------------------------------------\u001b[0m",
      "\u001b[1;31mModuleNotFoundError\u001b[0m                       Traceback (most recent call last)",
      "Input \u001b[1;32mIn [15]\u001b[0m, in \u001b[0;36m<cell line: 2>\u001b[1;34m()\u001b[0m\n\u001b[0;32m      1\u001b[0m a\u001b[38;5;241m=\u001b[39m\u001b[38;5;241m100\u001b[39m\n\u001b[1;32m----> 2\u001b[0m \u001b[38;5;28;01mimport\u001b[39;00m \u001b[38;5;21;01mmathatic\u001b[39;00m\n",
      "\u001b[1;31mModuleNotFoundError\u001b[0m: No module named 'mathatic'"
     ]
    }
   ],
   "source": [
    "a=100\n",
    "import mathatic"
   ]
  },
  {
   "cell_type": "code",
   "execution_count": null,
   "id": "31d860a5",
   "metadata": {},
   "outputs": [],
   "source": []
  }
 ],
 "metadata": {
  "kernelspec": {
   "display_name": "Python 3 (ipykernel)",
   "language": "python",
   "name": "python3"
  },
  "language_info": {
   "codemirror_mode": {
    "name": "ipython",
    "version": 3
   },
   "file_extension": ".py",
   "mimetype": "text/x-python",
   "name": "python",
   "nbconvert_exporter": "python",
   "pygments_lexer": "ipython3",
   "version": "3.9.12"
  }
 },
 "nbformat": 4,
 "nbformat_minor": 5
}
