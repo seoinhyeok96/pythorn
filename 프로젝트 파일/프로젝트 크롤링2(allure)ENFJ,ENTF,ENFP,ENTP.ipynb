{
 "cells": [
  {
   "cell_type": "code",
   "execution_count": 102,
   "id": "2a442cac",
   "metadata": {
    "scrolled": true
   },
   "outputs": [
    {
     "name": "stdout",
     "output_type": "stream",
     "text": [
      "Requirement already satisfied: bs4 in c:\\users\\user\\anaconda3\\lib\\site-packages (0.0.1)\n",
      "Requirement already satisfied: beautifulsoup4 in c:\\users\\user\\anaconda3\\lib\\site-packages (from bs4) (4.11.1)\n",
      "Requirement already satisfied: soupsieve>1.2 in c:\\users\\user\\anaconda3\\lib\\site-packages (from beautifulsoup4->bs4) (2.3.1)\n"
     ]
    }
   ],
   "source": [
    "import requests as req\n",
    "!pip install bs4\n",
    "from bs4 import BeautifulSoup as bs\n",
    "from selenium.webdriver.common.action_chains import ActionChains\n",
    "from selenium import webdriver\n",
    "driver= webdriver.Chrome(r'C:\\Users\\user\\chromedriver.exe')\n",
    "import pandas as pd\n",
    "import time"
   ]
  },
  {
   "cell_type": "code",
   "execution_count": 103,
   "id": "3efcddf0",
   "metadata": {},
   "outputs": [],
   "source": [
    "driver.get(\"https://www.allurekorea.com/2022/04/30/perfume-mbti_enfj-entj-enfp-entp/?utm_source=naver&utm_medium=partnership\")"
   ]
  },
  {
   "cell_type": "code",
   "execution_count": null,
   "id": "9075ba5c",
   "metadata": {},
   "outputs": [],
   "source": []
  },
  {
   "cell_type": "code",
   "execution_count": 12,
   "id": "9e8f40a2",
   "metadata": {},
   "outputs": [],
   "source": []
  },
  {
   "cell_type": "code",
   "execution_count": 104,
   "id": "932021a6",
   "metadata": {},
   "outputs": [],
   "source": [
    "mbti=driver.find_elements_by_css_selector(\"h4 > strong\")"
   ]
  },
  {
   "cell_type": "code",
   "execution_count": 105,
   "id": "716501ca",
   "metadata": {},
   "outputs": [],
   "source": [
    "soup=bs(driver.page_source,'html.parser')\n",
    "per=soup.select(\"h4 > strong\")"
   ]
  },
  {
   "cell_type": "code",
   "execution_count": 106,
   "id": "4fa36266",
   "metadata": {},
   "outputs": [
    {
     "name": "stdout",
     "output_type": "stream",
     "text": [
      "ENFJ\n",
      "ENTJ\n",
      "ENFP\n",
      "ENTP\n"
     ]
    }
   ],
   "source": [
    "for i in mbti:\n",
    "    print(i.text)"
   ]
  },
  {
   "cell_type": "code",
   "execution_count": 107,
   "id": "358db6aa",
   "metadata": {},
   "outputs": [],
   "source": [
    "mbti_list=[]\n",
    "for q in mbti:\n",
    "    mbti_list.append(q.text)\n"
   ]
  },
  {
   "cell_type": "code",
   "execution_count": 108,
   "id": "bbd1c199",
   "metadata": {},
   "outputs": [],
   "source": [
    "tent= driver.find_elements_by_css_selector('#post-169138 > div.post-content > p')"
   ]
  },
  {
   "cell_type": "code",
   "execution_count": 109,
   "id": "939a413d",
   "metadata": {},
   "outputs": [],
   "source": [
    "soup=bs(driver.page_source,'html.parser')\n",
    "per=soup.select(\"#post-169138 > div.post-content > p\")"
   ]
  },
  {
   "cell_type": "code",
   "execution_count": 110,
   "id": "2d1ed995",
   "metadata": {
    "scrolled": false
   },
   "outputs": [
    {
     "name": "stdout",
     "output_type": "stream",
     "text": [
      "MBTI 그리고 그런 성격을 지닌 향을 짝지었다. 자신을 닮은 향수를 찾고 있다면 여기 그 답이 있다. \n",
      "\n",
      "인간 리트리버라고도 불리는 정 많고 다정한 엔프제는 모임과 대화를 적극적으로 주도한다. 로에베 by 세포라의 ‘솔로 엘라 EDP’는 오렌지, 애플, 피치의 과육향이 화이트 플라워와 우디 향으로 이어진다. 마냥 달콤하거나 그저 묵직하지 않다. 생기와 차분함을 동시에 갖춘 균형 있는 향이다. 100ml 20만원.\n",
      " \n",
      "\n",
      "대담하고 자신감이 넘치는 리더 엔티제는 철저하고 꼼꼼한 일처리를 선호한다. 살짝 까칠하면서도 논리적이고 지적인 느낌을 물씬 풍기는 이솝의 ‘휠 EDP’와 닮았다. 스모키한 우디 향은 심신을 가라앉히고 리프레시를 도와 일의 집중도를 높이는 데 도움을 준다. 50ml 14만5천원.\n",
      " \n",
      "\n",
      "타고난 친화력과 긍정적인 마인드로 분위기 메이커를 자처한다. 해피 바이러스를 전하는 극외향주의자 엔프피에게 어울리는 향은 ‘디올 뷰티의 미스 디올 로즈 에쌍스 EDP’. 싱그러운 그린 노트는 천진난만한 웃음을, 우아한 로즈 향은 반짝이는 존재감을 돋보이게 만든다. 100ml 26만9천원. \n",
      " \n",
      "\n",
      "자기 주장이 강하고 관심 분야가 뚜렷한 엔팁. 직설적이고 솔직한 성격이라면 조 말론 런던의 ‘와일드 블루벨 코롱’를 사용해보길. 낭만적인 꽃향기를 더했으나 쿨내 나는 특별한 향으로 털털한 성격에 어울린다. 깨끗한 잔향 덕분에 자유롭게 다른 향수와 레이어링해 사용하기에도 좋다. 100ml 19만9천원.\n",
      " \n"
     ]
    }
   ],
   "source": []
  },
  {
   "cell_type": "code",
   "execution_count": 111,
   "id": "9e3b1550",
   "metadata": {},
   "outputs": [],
   "source": [
    "## 리스트안에서 첫번째 문단제거 \n",
    "tent.remove(tent[0])\n"
   ]
  },
  {
   "cell_type": "code",
   "execution_count": 133,
   "id": "b4ecea00",
   "metadata": {},
   "outputs": [
    {
     "name": "stdout",
     "output_type": "stream",
     "text": [
      "인간 리트리버라고도 불리는 정 많고 다정한 엔프제는 모임과 대화를 적극적으로 주도한다. 로에베 by 세포라의 ‘솔로 엘라 EDP’는 오렌지, 애플, 피치의 과육향이 화이트 플라워와 우디 향으로 이어진다. 마냥 달콤하거나 그저 묵직하지 않다. 생기와 차분함을 동시에 갖춘 균형 있는 향이다. 100ml 20만원.\n",
      " \n",
      "대담하고 자신감이 넘치는 리더 엔티제는 철저하고 꼼꼼한 일처리를 선호한다. 살짝 까칠하면서도 논리적이고 지적인 느낌을 물씬 풍기는 이솝의 ‘휠 EDP’와 닮았다. 스모키한 우디 향은 심신을 가라앉히고 리프레시를 도와 일의 집중도를 높이는 데 도움을 준다. 50ml 14만5천원.\n",
      " \n",
      "타고난 친화력과 긍정적인 마인드로 분위기 메이커를 자처한다. 해피 바이러스를 전하는 극외향주의자 엔프피에게 어울리는 향은 ‘디올 뷰티의 미스 디올 로즈 에쌍스 EDP’. 싱그러운 그린 노트는 천진난만한 웃음을, 우아한 로즈 향은 반짝이는 존재감을 돋보이게 만든다. 100ml 26만9천원. \n",
      " \n",
      "자기 주장이 강하고 관심 분야가 뚜렷한 엔팁. 직설적이고 솔직한 성격이라면 조 말론 런던의 ‘와일드 블루벨 코롱’를 사용해보길. 낭만적인 꽃향기를 더했으나 쿨내 나는 특별한 향으로 털털한 성격에 어울린다. 깨끗한 잔향 덕분에 자유롭게 다른 향수와 레이어링해 사용하기에도 좋다. 100ml 19만9천원.\n",
      " \n"
     ]
    }
   ],
   "source": [
    "for i in tent:\n",
    "    print(i.text)"
   ]
  },
  {
   "cell_type": "code",
   "execution_count": 134,
   "id": "ab72bd07",
   "metadata": {},
   "outputs": [],
   "source": [
    "tent_list=[]\n",
    "for q in tent:\n",
    "    tent_list.append(q.text)\n",
    "    \n",
    "while \" \" in tent_list:\n",
    "    tent_list.remove(\" \")"
   ]
  },
  {
   "cell_type": "code",
   "execution_count": 135,
   "id": "34fafd28",
   "metadata": {},
   "outputs": [
    {
     "data": {
      "text/plain": [
       "(4, 4)"
      ]
     },
     "execution_count": 135,
     "metadata": {},
     "output_type": "execute_result"
    }
   ],
   "source": [
    "len(tent_list),len(mbti_list)"
   ]
  },
  {
   "cell_type": "code",
   "execution_count": 136,
   "id": "ee9afaf1",
   "metadata": {},
   "outputs": [
    {
     "data": {
      "text/plain": [
       "['인간 리트리버라고도 불리는 정 많고 다정한 엔프제는 모임과 대화를 적극적으로 주도한다. 로에베 by 세포라의 ‘솔로 엘라 EDP’는 오렌지, 애플, 피치의 과육향이 화이트 플라워와 우디 향으로 이어진다. 마냥 달콤하거나 그저 묵직하지 않다. 생기와 차분함을 동시에 갖춘 균형 있는 향이다. 100ml 20만원.',\n",
       " '대담하고 자신감이 넘치는 리더 엔티제는 철저하고 꼼꼼한 일처리를 선호한다. 살짝 까칠하면서도 논리적이고 지적인 느낌을 물씬 풍기는 이솝의 ‘휠 EDP’와 닮았다. 스모키한 우디 향은 심신을 가라앉히고 리프레시를 도와 일의 집중도를 높이는 데 도움을 준다. 50ml 14만5천원.',\n",
       " '타고난 친화력과 긍정적인 마인드로 분위기 메이커를 자처한다. 해피 바이러스를 전하는 극외향주의자 엔프피에게 어울리는 향은 ‘디올 뷰티의 미스 디올 로즈 에쌍스 EDP’. 싱그러운 그린 노트는 천진난만한 웃음을, 우아한 로즈 향은 반짝이는 존재감을 돋보이게 만든다. 100ml 26만9천원. ',\n",
       " '자기 주장이 강하고 관심 분야가 뚜렷한 엔팁. 직설적이고 솔직한 성격이라면 조 말론 런던의 ‘와일드 블루벨 코롱’를 사용해보길. 낭만적인 꽃향기를 더했으나 쿨내 나는 특별한 향으로 털털한 성격에 어울린다. 깨끗한 잔향 덕분에 자유롭게 다른 향수와 레이어링해 사용하기에도 좋다. 100ml 19만9천원.']"
      ]
     },
     "execution_count": 136,
     "metadata": {},
     "output_type": "execute_result"
    }
   ],
   "source": [
    "tent_list"
   ]
  },
  {
   "cell_type": "code",
   "execution_count": 138,
   "id": "d1d5ce25",
   "metadata": {
    "scrolled": true
   },
   "outputs": [
    {
     "data": {
      "text/html": [
       "<div>\n",
       "<style scoped>\n",
       "    .dataframe tbody tr th:only-of-type {\n",
       "        vertical-align: middle;\n",
       "    }\n",
       "\n",
       "    .dataframe tbody tr th {\n",
       "        vertical-align: top;\n",
       "    }\n",
       "\n",
       "    .dataframe thead th {\n",
       "        text-align: right;\n",
       "    }\n",
       "</style>\n",
       "<table border=\"1\" class=\"dataframe\">\n",
       "  <thead>\n",
       "    <tr style=\"text-align: right;\">\n",
       "      <th></th>\n",
       "      <th>mbti</th>\n",
       "      <th>성격설명</th>\n",
       "    </tr>\n",
       "  </thead>\n",
       "  <tbody>\n",
       "    <tr>\n",
       "      <th>0</th>\n",
       "      <td>ENFJ</td>\n",
       "      <td>인간 리트리버라고도 불리는 정 많고 다정한 엔프제는 모임과 대화를 적극적으로 주도한...</td>\n",
       "    </tr>\n",
       "    <tr>\n",
       "      <th>1</th>\n",
       "      <td>ENTJ</td>\n",
       "      <td>대담하고 자신감이 넘치는 리더 엔티제는 철저하고 꼼꼼한 일처리를 선호한다. 살짝 까...</td>\n",
       "    </tr>\n",
       "    <tr>\n",
       "      <th>2</th>\n",
       "      <td>ENFP</td>\n",
       "      <td>타고난 친화력과 긍정적인 마인드로 분위기 메이커를 자처한다. 해피 바이러스를 전하는...</td>\n",
       "    </tr>\n",
       "    <tr>\n",
       "      <th>3</th>\n",
       "      <td>ENTP</td>\n",
       "      <td>자기 주장이 강하고 관심 분야가 뚜렷한 엔팁. 직설적이고 솔직한 성격이라면 조 말론...</td>\n",
       "    </tr>\n",
       "  </tbody>\n",
       "</table>\n",
       "</div>"
      ],
      "text/plain": [
       "   mbti                                               성격설명\n",
       "0  ENFJ  인간 리트리버라고도 불리는 정 많고 다정한 엔프제는 모임과 대화를 적극적으로 주도한...\n",
       "1  ENTJ  대담하고 자신감이 넘치는 리더 엔티제는 철저하고 꼼꼼한 일처리를 선호한다. 살짝 까...\n",
       "2  ENFP  타고난 친화력과 긍정적인 마인드로 분위기 메이커를 자처한다. 해피 바이러스를 전하는...\n",
       "3  ENTP  자기 주장이 강하고 관심 분야가 뚜렷한 엔팁. 직설적이고 솔직한 성격이라면 조 말론..."
      ]
     },
     "execution_count": 138,
     "metadata": {},
     "output_type": "execute_result"
    }
   ],
   "source": [
    "data={'mbti':mbti_list,'성격설명':tent_list}\n",
    "df=pd.DataFrame(data)\n",
    "df"
   ]
  },
  {
   "cell_type": "code",
   "execution_count": 139,
   "id": "2d7e1ba1",
   "metadata": {},
   "outputs": [],
   "source": [
    " df.to_csv('ENFJ,ENTF,ENFP,ENTP.csv',encoding='utf-8-sig')"
   ]
  }
 ],
 "metadata": {
  "kernelspec": {
   "display_name": "Python 3 (ipykernel)",
   "language": "python",
   "name": "python3"
  },
  "language_info": {
   "codemirror_mode": {
    "name": "ipython",
    "version": 3
   },
   "file_extension": ".py",
   "mimetype": "text/x-python",
   "name": "python",
   "nbconvert_exporter": "python",
   "pygments_lexer": "ipython3",
   "version": "3.9.12"
  }
 },
 "nbformat": 4,
 "nbformat_minor": 5
}
