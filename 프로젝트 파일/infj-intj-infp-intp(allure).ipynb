{
 "cells": [
  {
   "cell_type": "code",
   "execution_count": 83,
   "id": "2a2023ec",
   "metadata": {},
   "outputs": [
    {
     "name": "stdout",
     "output_type": "stream",
     "text": [
      "Requirement already satisfied: bs4 in c:\\users\\user\\anaconda3\\lib\\site-packages (0.0.1)\n",
      "Requirement already satisfied: beautifulsoup4 in c:\\users\\user\\anaconda3\\lib\\site-packages (from bs4) (4.11.1)\n",
      "Requirement already satisfied: soupsieve>1.2 in c:\\users\\user\\anaconda3\\lib\\site-packages (from beautifulsoup4->bs4) (2.3.1)\n"
     ]
    }
   ],
   "source": [
    "import requests as req\n",
    "!pip install bs4\n",
    "from bs4 import BeautifulSoup as bs\n",
    "from selenium.webdriver.common.action_chains import ActionChains\n",
    "from selenium import webdriver\n",
    "driver= webdriver.Chrome(r'C:\\Users\\user\\chromedriver.exe')\n",
    "import pandas as pd\n",
    "import time"
   ]
  },
  {
   "cell_type": "code",
   "execution_count": 84,
   "id": "895ebeb9",
   "metadata": {},
   "outputs": [],
   "source": [
    "driver.get(\"https://www.allurekorea.com/2022/04/30/perfume-mbti_infj-intj-infp-intp/?utm_source=related_article&utm_medium=recommend\")"
   ]
  },
  {
   "cell_type": "code",
   "execution_count": 85,
   "id": "99b19aa8",
   "metadata": {},
   "outputs": [],
   "source": [
    "mbti=driver.find_elements_by_css_selector('h4 > strong')"
   ]
  },
  {
   "cell_type": "code",
   "execution_count": 87,
   "id": "57245b4d",
   "metadata": {},
   "outputs": [
    {
     "data": {
      "text/plain": [
       "[<selenium.webdriver.remote.webelement.WebElement (session=\"c07b65704d617dea7970c0d6eea856f6\", element=\"ecb7f4ad-5799-43e6-81fd-609ff2688a5a\")>,\n",
       " <selenium.webdriver.remote.webelement.WebElement (session=\"c07b65704d617dea7970c0d6eea856f6\", element=\"fd4c13b3-43e8-4ffd-b93b-14904fd46a9a\")>,\n",
       " <selenium.webdriver.remote.webelement.WebElement (session=\"c07b65704d617dea7970c0d6eea856f6\", element=\"bedb1239-2c98-48ca-8f58-418f3cb4df08\")>,\n",
       " <selenium.webdriver.remote.webelement.WebElement (session=\"c07b65704d617dea7970c0d6eea856f6\", element=\"bb203b4d-ff31-4540-b958-5cf31d2097db\")>]"
      ]
     },
     "execution_count": 87,
     "metadata": {},
     "output_type": "execute_result"
    }
   ],
   "source": [
    "mbti_list = []\n",
    "for i in mbti:\n",
    "    mbti_list.append(i.text)\n"
   ]
  },
  {
   "cell_type": "code",
   "execution_count": 88,
   "id": "c1c3a4c0",
   "metadata": {},
   "outputs": [
    {
     "data": {
      "text/plain": [
       "['INFJ', 'INTJ', 'INFP', 'INTP']"
      ]
     },
     "execution_count": 88,
     "metadata": {},
     "output_type": "execute_result"
    }
   ],
   "source": [
    "mbti_list"
   ]
  },
  {
   "cell_type": "code",
   "execution_count": 21,
   "id": "35bcbc9a",
   "metadata": {},
   "outputs": [],
   "source": [
    "from bs4 import BeautifulSoup as bs\n",
    "soup=bs(driver.page_source,'html.parser')\n",
    "per=soup.select(\"h4 > strong\")"
   ]
  },
  {
   "cell_type": "code",
   "execution_count": 22,
   "id": "4a0dec06",
   "metadata": {},
   "outputs": [
    {
     "data": {
      "text/plain": [
       "4"
      ]
     },
     "execution_count": 22,
     "metadata": {},
     "output_type": "execute_result"
    }
   ],
   "source": [
    "len(title)"
   ]
  },
  {
   "cell_type": "code",
   "execution_count": 107,
   "id": "ca304430",
   "metadata": {},
   "outputs": [],
   "source": [
    "mbti_list=[]\n",
    "for q in mbti:\n",
    "    mbti_list.append(q.text)"
   ]
  },
  {
   "cell_type": "code",
   "execution_count": 108,
   "id": "951f38d5",
   "metadata": {},
   "outputs": [],
   "source": [
    "tent= driver.find_elements_by_css_selector('#post-169093 > div.post-content')"
   ]
  },
  {
   "cell_type": "code",
   "execution_count": 109,
   "id": "6d619bda",
   "metadata": {},
   "outputs": [],
   "source": [
    "#post-169093 > div.post-content > p:nth-child(9)"
   ]
  },
  {
   "cell_type": "code",
   "execution_count": 110,
   "id": "3aaeec24",
   "metadata": {},
   "outputs": [],
   "source": [
    "soup=bs(driver.page_source,'html.parser')\n",
    "per=soup.select(\"div.post-content > p:nth-child(5)\")"
   ]
  },
  {
   "cell_type": "code",
   "execution_count": 111,
   "id": "2fba018c",
   "metadata": {},
   "outputs": [
    {
     "name": "stdout",
     "output_type": "stream",
     "text": [
      "MBTI 그리고 그런 성격을 지닌 향을 짝지었다. 자신을 닮은 향수를 찾고 있다면 여기 그 답이 있다.\n",
      "INFJ\n",
      "감정이 앞설 땐 생각을 정리하는 혼자만의 시간이 필요한 법. 감수성이 풍부하고 숱한 생각이 스쳐 지나가는 인프제의 마음에 쏙 들 만한 루이 비통의 ‘덩 라 포 EDP’. 향긋한 살구와 차분한 레더 향이 어우러져 잔잔한 기분을 선사한다. 100ml 35만원.\n",
      "  INTJ\n",
      "사실과 원리 원칙을 중시하는 전략가 타입 인티제. 완벽주의를 추구하는 인티제에게 스파이시한 향과 장미가 어우러진 에디션 드 퍼퓸 프레데릭 말의 ‘포트레이트 오브 어 레이디 EDP’를 제안한다. 정장 차림에 또각또각 구두 소리가 어울리는 카리스마 넘치는 향이다. 100ml 50만3천원.\n",
      "  INFP\n",
      "비록 낯가림은 심하지만 상대방에 대한 공감 능력이 뛰어나고 타인의 감정을 잘 살피는 인프피. 플로럴 향과 싱그러운 그린 노트를 자랑하는 에어린의 ‘라일락 패스 EDP 스프레이’를 추천한다. 인프피의 섬세하고 긍정적인 면모와 비슷한 구석을 엿볼 수 있다. 50ml 15만7천원대.\n",
      "  INTP\n",
      "인팁은 문제의 근본 원인을 찾아 부단히 해결하고자 하며, 상상력과 호기심이 풍부해 쉴 새 없이 아이디어가 쏟아져 나온다. 이와 어울리는 향은 톰 포드 뷰티의 ‘오드 우드 EDP’. 무게감이 느껴지는 우디 향조에 크리미한 바닐라와 로즈 향이 더해져 깊고 풍성한 향을 완성한다. 50ml 33만9천원.\n",
      " \n"
     ]
    }
   ],
   "source": [
    "for i in tent:\n",
    "    print(i.text)"
   ]
  },
  {
   "cell_type": "code",
   "execution_count": 112,
   "id": "139f85de",
   "metadata": {},
   "outputs": [],
   "source": [
    "tent_list=[]\n",
    "for q in tent:\n",
    "    tent_list.append(q.text)"
   ]
  },
  {
   "cell_type": "code",
   "execution_count": 113,
   "id": "83bdc671",
   "metadata": {},
   "outputs": [
    {
     "data": {
      "text/plain": [
       "7"
      ]
     },
     "execution_count": 113,
     "metadata": {},
     "output_type": "execute_result"
    }
   ],
   "source": [
    "len(tent2_list)"
   ]
  },
  {
   "cell_type": "code",
   "execution_count": 114,
   "id": "47db894a",
   "metadata": {
    "scrolled": true
   },
   "outputs": [],
   "source": [
    "tent2_list=tent_list[0].split('\\n')"
   ]
  },
  {
   "cell_type": "code",
   "execution_count": 120,
   "id": "cc20165b",
   "metadata": {},
   "outputs": [
    {
     "data": {
      "text/plain": [
       "['감정이 앞설 땐 생각을 정리하는 혼자만의 시간이 필요한 법. 감수성이 풍부하고 숱한 생각이 스쳐 지나가는 인프제의 마음에 쏙 들 만한 루이 비통의 ‘덩 라 포 EDP’. 향긋한 살구와 차분한 레더 향이 어우러져 잔잔한 기분을 선사한다. 100ml 35만원.',\n",
       " '사실과 원리 원칙을 중시하는 전략가 타입 인티제. 완벽주의를 추구하는 인티제에게 스파이시한 향과 장미가 어우러진 에디션 드 퍼퓸 프레데릭 말의 ‘포트레이트 오브 어 레이디 EDP’를 제안한다. 정장 차림에 또각또각 구두 소리가 어울리는 카리스마 넘치는 향이다. 100ml 50만3천원.',\n",
       " '비록 낯가림은 심하지만 상대방에 대한 공감 능력이 뛰어나고 타인의 감정을 잘 살피는 인프피. 플로럴 향과 싱그러운 그린 노트를 자랑하는 에어린의 ‘라일락 패스 EDP 스프레이’를 추천한다. 인프피의 섬세하고 긍정적인 면모와 비슷한 구석을 엿볼 수 있다. 50ml 15만7천원대.',\n",
       " '인팁은 문제의 근본 원인을 찾아 부단히 해결하고자 하며, 상상력과 호기심이 풍부해 쉴 새 없이 아이디어가 쏟아져 나온다. 이와 어울리는 향은 톰 포드 뷰티의 ‘오드 우드 EDP’. 무게감이 느껴지는 우디 향조에 크리미한 바닐라와 로즈 향이 더해져 깊고 풍성한 향을 완성한다. 50ml 33만9천원.']"
      ]
     },
     "execution_count": 120,
     "metadata": {},
     "output_type": "execute_result"
    }
   ],
   "source": [
    "for i in range(len(tent2_list)):\n",
    "    tent2_list[i] = tent2_list[i].strip()\n",
    "tent2_list"
   ]
  },
  {
   "cell_type": "code",
   "execution_count": 119,
   "id": "c5eeeb95",
   "metadata": {},
   "outputs": [],
   "source": [
    "tent2_list.remove(tent2_list[-1])"
   ]
  },
  {
   "cell_type": "code",
   "execution_count": 100,
   "id": "32942e8e",
   "metadata": {},
   "outputs": [
    {
     "data": {
      "text/plain": [
       "[<selenium.webdriver.remote.webelement.WebElement (session=\"c07b65704d617dea7970c0d6eea856f6\", element=\"ecb7f4ad-5799-43e6-81fd-609ff2688a5a\")>,\n",
       " <selenium.webdriver.remote.webelement.WebElement (session=\"c07b65704d617dea7970c0d6eea856f6\", element=\"fd4c13b3-43e8-4ffd-b93b-14904fd46a9a\")>,\n",
       " <selenium.webdriver.remote.webelement.WebElement (session=\"c07b65704d617dea7970c0d6eea856f6\", element=\"bedb1239-2c98-48ca-8f58-418f3cb4df08\")>,\n",
       " <selenium.webdriver.remote.webelement.WebElement (session=\"c07b65704d617dea7970c0d6eea856f6\", element=\"bb203b4d-ff31-4540-b958-5cf31d2097db\")>]"
      ]
     },
     "execution_count": 100,
     "metadata": {},
     "output_type": "execute_result"
    }
   ],
   "source": [
    "mbti"
   ]
  },
  {
   "cell_type": "code",
   "execution_count": 122,
   "id": "b968fe50",
   "metadata": {},
   "outputs": [
    {
     "data": {
      "text/plain": [
       "(4, 4)"
      ]
     },
     "execution_count": 122,
     "metadata": {},
     "output_type": "execute_result"
    }
   ],
   "source": [
    "len(mbti_list),len(tent2_list)"
   ]
  },
  {
   "cell_type": "code",
   "execution_count": 123,
   "id": "7d249a24",
   "metadata": {
    "scrolled": true
   },
   "outputs": [
    {
     "data": {
      "text/html": [
       "<div>\n",
       "<style scoped>\n",
       "    .dataframe tbody tr th:only-of-type {\n",
       "        vertical-align: middle;\n",
       "    }\n",
       "\n",
       "    .dataframe tbody tr th {\n",
       "        vertical-align: top;\n",
       "    }\n",
       "\n",
       "    .dataframe thead th {\n",
       "        text-align: right;\n",
       "    }\n",
       "</style>\n",
       "<table border=\"1\" class=\"dataframe\">\n",
       "  <thead>\n",
       "    <tr style=\"text-align: right;\">\n",
       "      <th></th>\n",
       "      <th>mbti</th>\n",
       "      <th>성격설명</th>\n",
       "    </tr>\n",
       "  </thead>\n",
       "  <tbody>\n",
       "    <tr>\n",
       "      <th>0</th>\n",
       "      <td>INFJ</td>\n",
       "      <td>감정이 앞설 땐 생각을 정리하는 혼자만의 시간이 필요한 법. 감수성이 풍부하고 숱한...</td>\n",
       "    </tr>\n",
       "    <tr>\n",
       "      <th>1</th>\n",
       "      <td>INTJ</td>\n",
       "      <td>사실과 원리 원칙을 중시하는 전략가 타입 인티제. 완벽주의를 추구하는 인티제에게 스...</td>\n",
       "    </tr>\n",
       "    <tr>\n",
       "      <th>2</th>\n",
       "      <td>INFP</td>\n",
       "      <td>비록 낯가림은 심하지만 상대방에 대한 공감 능력이 뛰어나고 타인의 감정을 잘 살피는...</td>\n",
       "    </tr>\n",
       "    <tr>\n",
       "      <th>3</th>\n",
       "      <td>INTP</td>\n",
       "      <td>인팁은 문제의 근본 원인을 찾아 부단히 해결하고자 하며, 상상력과 호기심이 풍부해 ...</td>\n",
       "    </tr>\n",
       "  </tbody>\n",
       "</table>\n",
       "</div>"
      ],
      "text/plain": [
       "   mbti                                               성격설명\n",
       "0  INFJ  감정이 앞설 땐 생각을 정리하는 혼자만의 시간이 필요한 법. 감수성이 풍부하고 숱한...\n",
       "1  INTJ  사실과 원리 원칙을 중시하는 전략가 타입 인티제. 완벽주의를 추구하는 인티제에게 스...\n",
       "2  INFP  비록 낯가림은 심하지만 상대방에 대한 공감 능력이 뛰어나고 타인의 감정을 잘 살피는...\n",
       "3  INTP  인팁은 문제의 근본 원인을 찾아 부단히 해결하고자 하며, 상상력과 호기심이 풍부해 ..."
      ]
     },
     "execution_count": 123,
     "metadata": {},
     "output_type": "execute_result"
    }
   ],
   "source": [
    "data={'mbti':mbti_list,'성격설명':tent2_list}\n",
    "df=pd.DataFrame(data)\n",
    "df"
   ]
  },
  {
   "cell_type": "code",
   "execution_count": 125,
   "id": "e8fb2dcd",
   "metadata": {},
   "outputs": [],
   "source": [
    " df.to_csv('INFJ,INTJ,INFP,INTP.csv',encoding='utf-8-sig')"
   ]
  }
 ],
 "metadata": {
  "kernelspec": {
   "display_name": "Python 3 (ipykernel)",
   "language": "python",
   "name": "python3"
  },
  "language_info": {
   "codemirror_mode": {
    "name": "ipython",
    "version": 3
   },
   "file_extension": ".py",
   "mimetype": "text/x-python",
   "name": "python",
   "nbconvert_exporter": "python",
   "pygments_lexer": "ipython3",
   "version": "3.9.12"
  }
 },
 "nbformat": 4,
 "nbformat_minor": 5
}
