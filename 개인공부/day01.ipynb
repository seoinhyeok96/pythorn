{
 "cells": [
  {
   "cell_type": "code",
   "execution_count": 2,
   "metadata": {},
   "outputs": [],
   "source": [
    "# 라이브러리 import\n",
    "\n",
    "import pandas as pd\n",
    "\n",
    "import matplotlib.pyplot as plt\n",
    "import seaborn as sns"
   ]
  },
  {
   "cell_type": "code",
   "execution_count": 3,
   "metadata": {},
   "outputs": [
    {
     "data": {
      "text/html": [
       "<div>\n",
       "<style scoped>\n",
       "    .dataframe tbody tr th:only-of-type {\n",
       "        vertical-align: middle;\n",
       "    }\n",
       "\n",
       "    .dataframe tbody tr th {\n",
       "        vertical-align: top;\n",
       "    }\n",
       "\n",
       "    .dataframe thead th {\n",
       "        text-align: right;\n",
       "    }\n",
       "</style>\n",
       "<table border=\"1\" class=\"dataframe\">\n",
       "  <thead>\n",
       "    <tr style=\"text-align: right;\">\n",
       "      <th></th>\n",
       "      <th>sepal_length</th>\n",
       "      <th>sepal_width</th>\n",
       "      <th>petal_length</th>\n",
       "      <th>petal_width</th>\n",
       "      <th>species</th>\n",
       "    </tr>\n",
       "  </thead>\n",
       "  <tbody>\n",
       "    <tr>\n",
       "      <th>0</th>\n",
       "      <td>5.1</td>\n",
       "      <td>3.5</td>\n",
       "      <td>1.4</td>\n",
       "      <td>0.2</td>\n",
       "      <td>setosa</td>\n",
       "    </tr>\n",
       "    <tr>\n",
       "      <th>1</th>\n",
       "      <td>4.9</td>\n",
       "      <td>3.0</td>\n",
       "      <td>1.4</td>\n",
       "      <td>0.2</td>\n",
       "      <td>setosa</td>\n",
       "    </tr>\n",
       "    <tr>\n",
       "      <th>2</th>\n",
       "      <td>4.7</td>\n",
       "      <td>3.2</td>\n",
       "      <td>1.3</td>\n",
       "      <td>0.2</td>\n",
       "      <td>setosa</td>\n",
       "    </tr>\n",
       "    <tr>\n",
       "      <th>3</th>\n",
       "      <td>4.6</td>\n",
       "      <td>3.1</td>\n",
       "      <td>1.5</td>\n",
       "      <td>0.2</td>\n",
       "      <td>setosa</td>\n",
       "    </tr>\n",
       "    <tr>\n",
       "      <th>4</th>\n",
       "      <td>5.0</td>\n",
       "      <td>3.6</td>\n",
       "      <td>1.4</td>\n",
       "      <td>0.2</td>\n",
       "      <td>setosa</td>\n",
       "    </tr>\n",
       "    <tr>\n",
       "      <th>...</th>\n",
       "      <td>...</td>\n",
       "      <td>...</td>\n",
       "      <td>...</td>\n",
       "      <td>...</td>\n",
       "      <td>...</td>\n",
       "    </tr>\n",
       "    <tr>\n",
       "      <th>145</th>\n",
       "      <td>6.7</td>\n",
       "      <td>3.0</td>\n",
       "      <td>5.2</td>\n",
       "      <td>2.3</td>\n",
       "      <td>virginica</td>\n",
       "    </tr>\n",
       "    <tr>\n",
       "      <th>146</th>\n",
       "      <td>6.3</td>\n",
       "      <td>2.5</td>\n",
       "      <td>5.0</td>\n",
       "      <td>1.9</td>\n",
       "      <td>virginica</td>\n",
       "    </tr>\n",
       "    <tr>\n",
       "      <th>147</th>\n",
       "      <td>6.5</td>\n",
       "      <td>3.0</td>\n",
       "      <td>5.2</td>\n",
       "      <td>2.0</td>\n",
       "      <td>virginica</td>\n",
       "    </tr>\n",
       "    <tr>\n",
       "      <th>148</th>\n",
       "      <td>6.2</td>\n",
       "      <td>3.4</td>\n",
       "      <td>5.4</td>\n",
       "      <td>2.3</td>\n",
       "      <td>virginica</td>\n",
       "    </tr>\n",
       "    <tr>\n",
       "      <th>149</th>\n",
       "      <td>5.9</td>\n",
       "      <td>3.0</td>\n",
       "      <td>5.1</td>\n",
       "      <td>1.8</td>\n",
       "      <td>virginica</td>\n",
       "    </tr>\n",
       "  </tbody>\n",
       "</table>\n",
       "<p>150 rows × 5 columns</p>\n",
       "</div>"
      ],
      "text/plain": [
       "     sepal_length  sepal_width  petal_length  petal_width    species\n",
       "0             5.1          3.5           1.4          0.2     setosa\n",
       "1             4.9          3.0           1.4          0.2     setosa\n",
       "2             4.7          3.2           1.3          0.2     setosa\n",
       "3             4.6          3.1           1.5          0.2     setosa\n",
       "4             5.0          3.6           1.4          0.2     setosa\n",
       "..            ...          ...           ...          ...        ...\n",
       "145           6.7          3.0           5.2          2.3  virginica\n",
       "146           6.3          2.5           5.0          1.9  virginica\n",
       "147           6.5          3.0           5.2          2.0  virginica\n",
       "148           6.2          3.4           5.4          2.3  virginica\n",
       "149           5.9          3.0           5.1          1.8  virginica\n",
       "\n",
       "[150 rows x 5 columns]"
      ]
     },
     "execution_count": 3,
     "metadata": {},
     "output_type": "execute_result"
    }
   ],
   "source": [
    "df = sns.load_dataset('iris')\n",
    "df"
   ]
  },
  {
   "cell_type": "code",
   "execution_count": 4,
   "metadata": {},
   "outputs": [
    {
     "data": {
      "text/html": [
       "<div>\n",
       "<style scoped>\n",
       "    .dataframe tbody tr th:only-of-type {\n",
       "        vertical-align: middle;\n",
       "    }\n",
       "\n",
       "    .dataframe tbody tr th {\n",
       "        vertical-align: top;\n",
       "    }\n",
       "\n",
       "    .dataframe thead th {\n",
       "        text-align: right;\n",
       "    }\n",
       "</style>\n",
       "<table border=\"1\" class=\"dataframe\">\n",
       "  <thead>\n",
       "    <tr style=\"text-align: right;\">\n",
       "      <th></th>\n",
       "      <th>sepal_length</th>\n",
       "      <th>sepal_width</th>\n",
       "      <th>petal_length</th>\n",
       "      <th>petal_width</th>\n",
       "      <th>species</th>\n",
       "    </tr>\n",
       "  </thead>\n",
       "  <tbody>\n",
       "    <tr>\n",
       "      <th>0</th>\n",
       "      <td>5.1</td>\n",
       "      <td>3.5</td>\n",
       "      <td>1.4</td>\n",
       "      <td>0.2</td>\n",
       "      <td>setosa</td>\n",
       "    </tr>\n",
       "    <tr>\n",
       "      <th>1</th>\n",
       "      <td>4.9</td>\n",
       "      <td>3.0</td>\n",
       "      <td>1.4</td>\n",
       "      <td>0.2</td>\n",
       "      <td>setosa</td>\n",
       "    </tr>\n",
       "    <tr>\n",
       "      <th>2</th>\n",
       "      <td>4.7</td>\n",
       "      <td>3.2</td>\n",
       "      <td>1.3</td>\n",
       "      <td>0.2</td>\n",
       "      <td>setosa</td>\n",
       "    </tr>\n",
       "    <tr>\n",
       "      <th>3</th>\n",
       "      <td>4.6</td>\n",
       "      <td>3.1</td>\n",
       "      <td>1.5</td>\n",
       "      <td>0.2</td>\n",
       "      <td>setosa</td>\n",
       "    </tr>\n",
       "    <tr>\n",
       "      <th>4</th>\n",
       "      <td>5.0</td>\n",
       "      <td>3.6</td>\n",
       "      <td>1.4</td>\n",
       "      <td>0.2</td>\n",
       "      <td>setosa</td>\n",
       "    </tr>\n",
       "  </tbody>\n",
       "</table>\n",
       "</div>"
      ],
      "text/plain": [
       "   sepal_length  sepal_width  petal_length  petal_width species\n",
       "0           5.1          3.5           1.4          0.2  setosa\n",
       "1           4.9          3.0           1.4          0.2  setosa\n",
       "2           4.7          3.2           1.3          0.2  setosa\n",
       "3           4.6          3.1           1.5          0.2  setosa\n",
       "4           5.0          3.6           1.4          0.2  setosa"
      ]
     },
     "execution_count": 4,
     "metadata": {},
     "output_type": "execute_result"
    }
   ],
   "source": [
    "df.head()"
   ]
  },
  {
   "cell_type": "code",
   "execution_count": 9,
   "metadata": {},
   "outputs": [],
   "source": [
    "df.to_csv('iris.csv', index = False)"
   ]
  },
  {
   "cell_type": "code",
   "execution_count": 8,
   "metadata": {},
   "outputs": [],
   "source": [
    "df.to_csv('tmp.csv')"
   ]
  },
  {
   "cell_type": "code",
   "execution_count": 14,
   "metadata": {},
   "outputs": [
    {
     "name": "stdout",
     "output_type": "stream",
     "text": [
      "Requirement already satisfied: requests in /opt/anaconda3/envs/py3.8/lib/python3.8/site-packages (2.28.1)\n",
      "Requirement already satisfied: idna<4,>=2.5 in /opt/anaconda3/envs/py3.8/lib/python3.8/site-packages (from requests) (3.4)\n",
      "Requirement already satisfied: urllib3<1.27,>=1.21.1 in /opt/anaconda3/envs/py3.8/lib/python3.8/site-packages (from requests) (1.26.12)\n",
      "Requirement already satisfied: charset-normalizer<3,>=2 in /opt/anaconda3/envs/py3.8/lib/python3.8/site-packages (from requests) (2.0.4)\n",
      "Requirement already satisfied: certifi>=2017.4.17 in /opt/anaconda3/envs/py3.8/lib/python3.8/site-packages (from requests) (2022.9.24)\n",
      "Note: you may need to restart the kernel to use updated packages.\n"
     ]
    }
   ],
   "source": [
    "## 데이터 데이스 연결\n",
    "<pre>\n",
    "    python 에서 \n",
    "\n",
    "    pymysal => 일반적인 접속을하여 질의 명령을 보내는 작업을 할 수 있음\n",
    "\n",
    "    sqlalchemy\n",
    "    ==>  데이터 베이스의 테이블을 파이썬 객체로 사용할 수 있음\n",
    "        테이블 자체를 파이썬으로 객체화 할 수 있다.\n",
    "</pre>\n"
   ]
  },
  {
   "attachments": {},
   "cell_type": "markdown",
   "metadata": {},
   "source": [
    "# 람다 연습"
   ]
  },
  {
   "cell_type": "code",
   "execution_count": 2,
   "metadata": {},
   "outputs": [
    {
     "name": "stdout",
     "output_type": "stream",
     "text": [
      "14\n"
     ]
    }
   ],
   "source": [
    "f = lambda* z :max(z) * 2 \n",
    "print(f(1,3,7))"
   ]
  },
  {
   "cell_type": "code",
   "execution_count": 6,
   "metadata": {},
   "outputs": [
    {
     "name": "stdout",
     "output_type": "stream",
     "text": [
      "[-4, -2, 0, 2, 3, 4]\n"
     ]
    }
   ],
   "source": [
    "def func(x):\n",
    "    if(x/2) - 1 > 0:\n",
    "        return True\n",
    "    elif x % 2 == 0:\n",
    "        return True\n",
    "    else:\n",
    "        return False\n",
    "print(list(filter(func, range(-5,5))))"
   ]
  },
  {
   "cell_type": "code",
   "execution_count": 50,
   "metadata": {},
   "outputs": [
    {
     "ename": "IndentationError",
     "evalue": "expected an indented block (2170573752.py, line 5)",
     "output_type": "error",
     "traceback": [
      "\u001b[0;36m  Cell \u001b[0;32mIn [50], line 5\u001b[0;36m\u001b[0m\n\u001b[0;31m    print(a, end = ' ')\u001b[0m\n\u001b[0m    ^\u001b[0m\n\u001b[0;31mIndentationError\u001b[0m\u001b[0;31m:\u001b[0m expected an indented block\n"
     ]
    }
   ],
   "source": [
    "ages = [34, 39, 20, 18, 13, 54]\n",
    "\n",
    "print('성년 리스트 :')\n",
    "for a in filter(lambda x: x >= 19, ages): # filter() 함수를 사용한 ages의 필터\n",
    "print(a, end = ' ')"
   ]
  },
  {
   "attachments": {},
   "cell_type": "markdown",
   "metadata": {},
   "source": [
    "## n개의 숫자를 가변인수로 입력받은 후 이 숫자들을 오름차순으로 정렬하여 출력하는 my_sort()함수를 작정하시오"
   ]
  },
  {
   "cell_type": "code",
   "execution_count": 7,
   "metadata": {},
   "outputs": [
    {
     "name": "stdout",
     "output_type": "stream",
     "text": [
      "[1, 3, 5, 7, 9]\n"
     ]
    }
   ],
   "source": [
    "def my_sort(*numbers):\n",
    "    sorted_nums = sorted(numbers)\n",
    "    print(sorted_nums)\n",
    "\n",
    "\n",
    "my_sort(5, 3, 9, 1, 7)"
   ]
  },
  {
   "attachments": {},
   "cell_type": "markdown",
   "metadata": {},
   "source": [
    "## n1에서 n2까지의 정수의 합을 구하는 함수 sum_range(n1,n2)를 작성하시오. 이함수를 이용하여 10에서 20까지 정수의 합과 40에서 100까지 정수의 합을 구하여 다음과 같은 출력을 하는 프로그램을 작성하시오 이때 모든 숫자 값 출력문에는 플레이스홀더를 사용하시오"
   ]
  },
  {
   "cell_type": "code",
   "execution_count": 15,
   "metadata": {},
   "outputs": [
    {
     "ename": "NameError",
     "evalue": "name 'n1' is not defined",
     "output_type": "error",
     "traceback": [
      "\u001b[0;31m---------------------------------------------------------------------------\u001b[0m",
      "\u001b[0;31mNameError\u001b[0m                                 Traceback (most recent call last)",
      "\u001b[1;32m/Users/mac/Documents/GitHub/pythorn/개인공부/day01.ipynb Cell 13\u001b[0m in \u001b[0;36m8\n\u001b[1;32m      <a href='vscode-notebook-cell:/Users/mac/Documents/GitHub/pythorn/%EA%B0%9C%EC%9D%B8%EA%B3%B5%EB%B6%80/day01.ipynb#X16sZmlsZQ%3D%3D?line=2'>3</a>\u001b[0m     \u001b[39mreturn\u001b[39;00m total\n\u001b[1;32m      <a href='vscode-notebook-cell:/Users/mac/Documents/GitHub/pythorn/%EA%B0%9C%EC%9D%B8%EA%B3%B5%EB%B6%80/day01.ipynb#X16sZmlsZQ%3D%3D?line=5'>6</a>\u001b[0m sum_range(\u001b[39m10\u001b[39m,\u001b[39m20\u001b[39m)\n\u001b[0;32m----> <a href='vscode-notebook-cell:/Users/mac/Documents/GitHub/pythorn/%EA%B0%9C%EC%9D%B8%EA%B3%B5%EB%B6%80/day01.ipynb#X16sZmlsZQ%3D%3D?line=7'>8</a>\u001b[0m \u001b[39mprint\u001b[39m(\u001b[39mf\u001b[39m\u001b[39m\"\u001b[39m\u001b[39m{\u001b[39;00mn1\u001b[39m}\u001b[39;00m\u001b[39m에서 \u001b[39m\u001b[39m{\u001b[39;00mn2\u001b[39m}\u001b[39;00m\u001b[39m까지의 정수의 합: \u001b[39m\u001b[39m{\u001b[39;00mrange1_sum\u001b[39m}\u001b[39;00m\u001b[39m\"\u001b[39m)\n",
      "\u001b[0;31mNameError\u001b[0m: name 'n1' is not defined"
     ]
    }
   ],
   "source": [
    "\n",
    "\n",
    "def sum_range(n1, n2):\n",
    "    total = sum(range(n1, n2 + 1))\n",
    "    return total\n",
    "\n",
    "\n",
    "sum_range(10,20)\n",
    "\n",
    "print(f\"{n1}에서 {n2}까지의 정수의 합: {range1_sum}\")"
   ]
  },
  {
   "attachments": {},
   "cell_type": "markdown",
   "metadata": {},
   "source": [
    "<!-- 주민등록번호의 앞 6자리 생년월일은 두 자리의 년도, 두 자리의 월, 두 자리의 날짜로 표현된다. 예를 들어 921030은 1992년 10월 30일을 의미한다. 이렇게 주민등록 번호 형식의 생년월일이 입력될 때 \"1992년 10월 30일\"과 같은 형태로 날짜를 출력하는 코드를 작성하라. 입력되는 날짜의 연도는 1950년 이후부터 입력된다. 즉, 511010은 1951년 10월 10일이지만, 491010은 2049년 10월 10일로 판단해야 한다.\n",
    "\n",
    "---\n",
    "실행 결과\n",
    "```\n",
    "주민등록번호 첫 6숫자 형식 입력: 570312\n",
    "1957년 3월 12일\n",
    "``` -->"
   ]
  },
  {
   "attachments": {},
   "cell_type": "markdown",
   "metadata": {},
   "source": [
    "-- 주민등록번호의 앞 6자리 생년월일은 두 자리의 년도, 두 자리의 월, 두 자리의 날짜로 표현된다. 예를 들어 921030은 1992년 10월 30일을 의미한다. 이렇게 주민등록 번호 형식의 생년월일이 입력될 때 \"1992년 10월 30일\"과 같은 형태로 날짜를 출력하는 코드를 작성하라. 입력되는 날짜의 연도는 1950년 이후부터 입력된다. 즉, 511010은 1951년 10월 10일이지만, 491010은 2049년 10월 10일로 판단해야 한다. --\n",
    "\n",
    "---\n",
    "실행 결과\n",
    "```\n",
    "주민등록번호 첫 6숫자 형식 입력: 570312\n",
    "1957년 3월 12일\n",
    "```"
   ]
  },
  {
   "cell_type": "code",
   "execution_count": 21,
   "metadata": {},
   "outputs": [],
   "source": [
    "def convert_to_date(num):\n",
    "    year = int(num[:2])\n",
    "    month = int(num[2:4])\n",
    "    day = int(num[4:])\n",
    "    full_year = 1900 + year if year >= 50 else 2000 + year\n",
    "\n",
    "    return f\"{full_year}년 {month}월 {day}일\"\n"
   ]
  },
  {
   "cell_type": "code",
   "execution_count": 22,
   "metadata": {},
   "outputs": [
    {
     "name": "stdout",
     "output_type": "stream",
     "text": [
      "1960년 10월 45일\n"
     ]
    }
   ],
   "source": [
    "input_num = input(\"주민등록번호 첫 6숫자 형식 입력: \")\n",
    "result = convert_to_date(input_num)\n",
    "print(result)"
   ]
  },
  {
   "attachments": {},
   "cell_type": "markdown",
   "metadata": {},
   "source": [
    "## 이름을 나타내는 문자열 네 개가 다음과 같이 네개의 변수에 저장되어 있다. 우리는 이 문자열들에 있는 공백과 하이픈을 제거한 후 , 이문자들을 실행결과와 같이 공백 없는 대문자로 저장하고자한다. 문자열 연산을 이용하여 이 문자열들을 그렇게 변경하고, 변경된 이후에 각문자열에서 문자 \"N\"이 몇번 나오는지를 표시하라"
   ]
  },
  {
   "cell_type": "code",
   "execution_count": 24,
   "metadata": {},
   "outputs": [],
   "source": [
    "s1 = 'kang Young Min'\n",
    "s2 = 'kang Young-Min'\n",
    "s3 = 'park Dong Min'\n",
    "s4 = 'park Dong-Min'"
   ]
  },
  {
   "cell_type": "code",
   "execution_count": 23,
   "metadata": {},
   "outputs": [],
   "source": [
    "def count_N(string):\n",
    "    modified_string = string.replace(\" \", \"\").replace(\"-\", \"\").upper()\n",
    "    count = modified_string.count(\"N\")\n",
    "    return count"
   ]
  },
  {
   "cell_type": "code",
   "execution_count": 28,
   "metadata": {},
   "outputs": [
    {
     "name": "stdout",
     "output_type": "stream",
     "text": [
      "문자열 'kang Young Min'에서 'N'의 개수: 3\n",
      "문자열 'kang Young-Min'에서 'N'의 개수: 3\n",
      "문자열 'park Dong Min'에서 'N'의 개수: 2\n",
      "문자열 'park Dong-Min'에서 'N'의 개수: 2\n"
     ]
    }
   ],
   "source": [
    "result = count_N(s1)\n",
    "result2 = count_N(s2)\n",
    "result3 = count_N(s3)\n",
    "result4 = count_N(s4)\n",
    "print(f\"문자열 '{s1}'에서 'N'의 개수: {result}\")\n",
    "print(f\"문자열 '{s2}'에서 'N'의 개수: {result2}\")\n",
    "print(f\"문자열 '{s3}'에서 'N'의 개수: {result3}\")\n",
    "print(f\"문자열 '{s4}'에서 'N'의 개수: {result4}\")"
   ]
  },
  {
   "cell_type": "markdown",
   "metadata": {},
   "source": []
  },
  {
   "attachments": {},
   "cell_type": "markdown",
   "metadata": {},
   "source": [
    "어떤 문자열이 다음과 같이 주어져 있다고 하자. 그런데, 이 문자열에 나타난 도시 중에서 'Bython' 시는 최근 'Python'시로 이름을 변경하였다. 이를 반영하여 이 문자열에 나타나는 \"Bython\"을 모두 \"Python\"으로 변경하고 변경된 횟수를 다음과 같이 출력하라.\n",
    "--\n",
    "실행결과\n",
    "```\n",
    "주어진 문자열 : \n",
    "Park(Java city), Kim(C city), Kang(Bython city), Lee(Bython city), Hong(Ruby city), Cho(Bython city), Koo(C city), Ryu(C++ city)\n",
    "\n",
    "수정된 문자열 : \n",
    "Park(Java city), Kim(C city), Kang(Python city), Lee(Python city), Hong(Ruby city), Cho(Python city), Koo(C city), Ryu(C++ city)\n",
    "Bython 문자열은 모두 3번 수정했습니다.\n",
    "```"
   ]
  },
  {
   "cell_type": "code",
   "execution_count": 34,
   "metadata": {},
   "outputs": [
    {
     "name": "stdout",
     "output_type": "stream",
     "text": [
      "변경된 문자열: Park(Java city), Kim(C city), Kang(Python city), Lee(Python city), Hong(Ruby city), Cho(Python city), Koo(C city), Ryu(C++ city)\n",
      "'Bython'이 'Python'으로 변경된 횟수: 3번\n"
     ]
    }
   ],
   "source": [
    "def replace_and_count(string):\n",
    "    modified_string = string.replace(\"Bython\", \"Python\")\n",
    "    count = string.count(\"Bython\")\n",
    "    return modified_string, count\n",
    "\n",
    "# 사용 예시\n",
    "input_string = \"Park(Java city), Kim(C city), Kang(Bython city), Lee(Bython city), Hong(Ruby city), Cho(Bython city), Koo(C city), Ryu(C++ city)\"\n",
    "result_string, count = replace_and_count(input_string)\n",
    "print(f\"변경된 문자열: {result_string}\")\n",
    "print(f\"'Bython'이 'Python'으로 변경된 횟수: {count}번\")"
   ]
  },
  {
   "cell_type": "code",
   "execution_count": 35,
   "metadata": {},
   "outputs": [
    {
     "name": "stdout",
     "output_type": "stream",
     "text": [
      "주어진 문자열 : \n",
      "Park(Java city), Kim(C city), Kang(Bython city), Lee(Bython city), Hong(Ruby city), Cho(Bython city), Koo(C city), Ryu(C++ city)\n",
      "\n",
      "수정된 문자열 : \n",
      "Park(Java city), Kim(C city), Kang(Python city), Lee(Python city), Hong(Ruby city), Cho(Python city), Koo(C city), Ryu(C++ city)\n",
      "Bython 문자열은 모두 3번 수정했습니다.\n"
     ]
    }
   ],
   "source": [
    "str = 'Park(Java city), Kim(C city), Kang(Bython city), Lee(Bython city), Hong(Ruby city), Cho(Bython city), Koo(C city), Ryu(C++ city)'\n",
    "src = 'Bython'\n",
    "target = 'Python'\n",
    "new_str = str.replace(src, target)\n",
    "n_correction = str.count(src)\n",
    "\n",
    "print('주어진 문자열 : \\n{}\\n'.format(str))\n",
    "print('수정된 문자열 : \\n{}'.format(new_str))\n",
    "print('{} 문자열은 모두 {}번 수정했습니다.'.format(src, n_correction))"
   ]
  },
  {
   "attachments": {},
   "cell_type": "markdown",
   "metadata": {},
   "source": [
    "['a','b','c','d']와 같은 영문 소문자가 들어 있는 a_list라는 이름을 대문자로 변경하는 map()를 작성하라"
   ]
  },
  {
   "cell_type": "code",
   "execution_count": 37,
   "metadata": {},
   "outputs": [
    {
     "name": "stdout",
     "output_type": "stream",
     "text": [
      "['A', 'B', 'C', 'D']\n"
     ]
    }
   ],
   "source": [
    "a_list = ['a', 'b', 'c', 'd']\n",
    "upper_list = list(map(lambda x: x.upper(), a_list))\n",
    "print(upper_list)"
   ]
  },
  {
   "attachments": {},
   "cell_type": "markdown",
   "metadata": {},
   "source": [
    "[10,20,30]과 같은 n_list라는 이름의 리스트를 map()함수로 넣은 결과는 다음과 같다\n",
    "\n",
    "입력 값의 두 배 : [20,40,60]\n",
    "입력 값의 세 배 : [30,60,90]\n"
   ]
  },
  {
   "cell_type": "code",
   "execution_count": null,
   "metadata": {},
   "outputs": [],
   "source": [
    "# twice()와 trip"
   ]
  },
  {
   "attachments": {},
   "cell_type": "markdown",
   "metadata": {},
   "source": [
    "### 리스트 축약 기능과 조건식을 사용하여 1에서 10까지 정수의 세제곱 값 중에서 500이하인 값만 가진 cubic 리스트를 다음과 같이 생성하라\n",
    "cubic = [1,8,27,64,216,343] "
   ]
  },
  {
   "cell_type": "code",
   "execution_count": 41,
   "metadata": {},
   "outputs": [
    {
     "name": "stdout",
     "output_type": "stream",
     "text": [
      "[1, 8, 27, 64, 125, 216, 343]\n"
     ]
    }
   ],
   "source": [
    "cubic = [n**3 for n in range(1,11)if n**3 <=500]\n",
    "print(cubic)"
   ]
  },
  {
   "cell_type": "markdown",
   "metadata": {},
   "source": []
  },
  {
   "cell_type": "code",
   "execution_count": 45,
   "metadata": {},
   "outputs": [
    {
     "data": {
      "text/plain": [
       "[1, 3, 5, 7, 9]"
      ]
     },
     "execution_count": 45,
     "metadata": {},
     "output_type": "execute_result"
    }
   ],
   "source": [
    "# n_list 데이터에서 홀수만을 추출하여 아래와 같이 만들고 싶다. filter 함수를 이용해 작성해 봐라\n",
    "n_list = [1, 2, 3, 4, 5, 6, 7, 8, 9, 10]\n",
    "\n",
    "new_list = list(filter(lambda x: x % 2 != 0, n_list))\n",
    "new_list \n",
    "\n"
   ]
  },
  {
   "cell_type": "code",
   "execution_count": 49,
   "metadata": {},
   "outputs": [
    {
     "name": "stdout",
     "output_type": "stream",
     "text": [
      "[6, 9, 0, 2, 4]\n",
      "[7, 6, 4, 3, 2]\n",
      "[6, 9, 0, 2, 4]\n"
     ]
    }
   ],
   "source": [
    "# 난수 상태 설정\n",
    "import random\n",
    "\n",
    "random.seed(0)\n",
    "\n",
    "state = random.getstate()\n",
    "print(random.sample(range(10),k=5))\n",
    "print(random.sample(range(10),k=5))\n",
    "random.setstate(state)\n",
    "print(random.sample(range(10),k=5))"
   ]
  },
  {
   "cell_type": "code",
   "execution_count": 53,
   "metadata": {},
   "outputs": [
    {
     "name": "stdout",
     "output_type": "stream",
     "text": [
      "[('Y', 1, '하나'), ('U', 2, '둘'), ('N', 3, '셋')]\n",
      "{('Y', 1, '하나'), ('N', 3, '셋'), ('U', 2, '둘')}\n",
      "{'Y': 1, 'U': 2, 'N': 3}\n"
     ]
    }
   ],
   "source": [
    "a = \"YUN\"\n",
    "b= [1,2,3]\n",
    "c= ('하나','둘','셋')\n",
    "\n",
    "print(list(zip(a,b,c)))\n",
    "print(set(zip(a,b,c,)))\n",
    "print(dict(zip(a,b)))\n"
   ]
  },
  {
   "cell_type": "code",
   "execution_count": 10,
   "metadata": {},
   "outputs": [
    {
     "name": "stdout",
     "output_type": "stream",
     "text": [
      "51 67 98 합계: 216\n"
     ]
    }
   ],
   "source": [
    "# eval() 함수 사용\n",
    "cr=input('3명의 국어점수(51,67,98)입력:') # 51,67,98 이런식으로 입력해야됨\n",
    "k1,k2,k3=eval(cr)\n",
    "print(k1,k2,k3,'합계:',k1+k2+k3)"
   ]
  },
  {
   "cell_type": "code",
   "execution_count": 12,
   "metadata": {},
   "outputs": [
    {
     "name": "stdout",
     "output_type": "stream",
     "text": [
      "당신의 이름은 서인혁, 나이는 28살, 직업은 데이터 분석가입니다.\n"
     ]
    }
   ],
   "source": [
    "# 포맷팅 연습\n",
    "\n",
    "name = input('당신의 이름을 입력하세요:')\n",
    "age = input('나이를 입력해 주세요')\n",
    "job = input('당신의 직업을 입력해주세요')\n",
    "\n",
    "print('당신의 이름은 {}, 나이는 {}살, 직업은 {}입니다.'.format(name, age, job))"
   ]
  },
  {
   "cell_type": "code",
   "execution_count": 14,
   "metadata": {},
   "outputs": [
    {
     "name": "stdout",
     "output_type": "stream",
     "text": [
      "2 4 8\n",
      "4 16 64\n",
      "6 36 216\n",
      "8 64 512\n",
      "10 100 1000\n",
      "12 144 1728\n",
      "14 196 2744\n"
     ]
    }
   ],
   "source": [
    "for i  in range(2,15,2):\n",
    "    print('{0} {1} {2}'.format(i,i*i,i*i*i))"
   ]
  },
  {
   "cell_type": "code",
   "execution_count": 15,
   "metadata": {},
   "outputs": [
    {
     "name": "stdout",
     "output_type": "stream",
     "text": [
      "  2    4     8\n",
      "  4   16    64\n",
      "  6   36   216\n",
      "  8   64   512\n",
      " 10  100  1000\n",
      " 12  144  1728\n",
      " 14  196  2744\n"
     ]
    }
   ],
   "source": [
    "for i in range(2, 15, 2):\n",
    "    print('{0:3d} {1:4d} {2:5d}'.format(i, i*i, i*i*i))\n"
   ]
  },
  {
   "attachments": {},
   "cell_type": "markdown",
   "metadata": {},
   "source": [
    "## 연습문제\n"
   ]
  },
  {
   "attachments": {},
   "cell_type": "markdown",
   "metadata": {},
   "source": [
    "# 두수를 입력받아 "
   ]
  },
  {
   "cell_type": "code",
   "execution_count": null,
   "metadata": {},
   "outputs": [],
   "source": []
  },
  {
   "cell_type": "code",
   "execution_count": 16,
   "metadata": {},
   "outputs": [
    {
     "name": "stdout",
     "output_type": "stream",
     "text": [
      "you need python\n"
     ]
    }
   ],
   "source": [
    "print(\" \".join(['you','need','python']))"
   ]
  },
  {
   "cell_type": "code",
   "execution_count": 69,
   "metadata": {},
   "outputs": [
    {
     "data": {
      "text/plain": [
       "'/Users/mac/Documents/GitHub/pythorn/개인공부'"
      ]
     },
     "execution_count": 69,
     "metadata": {},
     "output_type": "execute_result"
    }
   ],
   "source": [
    "# 워킹 디렉토리 확인\n",
    "\n",
    "import os\n",
    "os.getcwd() "
   ]
  },
  {
   "cell_type": "code",
   "execution_count": 24,
   "metadata": {},
   "outputs": [
    {
     "name": "stdout",
     "output_type": "stream",
     "text": [
      "1번째 줄입니다.\n",
      "\n",
      "2번째 줄입니다.\n",
      "\n",
      "3번째 줄입니다.\n",
      "\n",
      "4번째 줄입니다.\n",
      "\n",
      "5번째 줄입니다.\n",
      "\n",
      "6번째 줄입니다.\n",
      "\n",
      "7번째 줄입니다.\n",
      "\n",
      "8번째 줄입니다.\n",
      "\n",
      "9번째 줄입니다.\n",
      "\n",
      "10번째 줄입니다.\n",
      "\n"
     ]
    },
    {
     "ename": "UnsupportedOperation",
     "evalue": "not writable",
     "output_type": "error",
     "traceback": [
      "\u001b[0;31m---------------------------------------------------------------------------\u001b[0m",
      "\u001b[0;31mUnsupportedOperation\u001b[0m                      Traceback (most recent call last)",
      "\u001b[1;32m/Users/mac/Documents/GitHub/pythorn/개인공부/day01.ipynb Cell 46\u001b[0m in \u001b[0;36m1\n\u001b[1;32m      <a href='vscode-notebook-cell:/Users/mac/Documents/GitHub/pythorn/%EA%B0%9C%EC%9D%B8%EA%B3%B5%EB%B6%80/day01.ipynb#X64sZmlsZQ%3D%3D?line=8'>9</a>\u001b[0m \u001b[39mfor\u001b[39;00m i \u001b[39min\u001b[39;00m \u001b[39mrange\u001b[39m(\u001b[39m1\u001b[39m,\u001b[39m11\u001b[39m):\n\u001b[1;32m     <a href='vscode-notebook-cell:/Users/mac/Documents/GitHub/pythorn/%EA%B0%9C%EC%9D%B8%EA%B3%B5%EB%B6%80/day01.ipynb#X64sZmlsZQ%3D%3D?line=9'>10</a>\u001b[0m     data \u001b[39m=\u001b[39m \u001b[39m'\u001b[39m\u001b[39m%d\u001b[39;00m\u001b[39m번째 줄입니다.\u001b[39m\u001b[39m\\n\u001b[39;00m\u001b[39m'\u001b[39m \u001b[39m%\u001b[39mi\n\u001b[0;32m---> <a href='vscode-notebook-cell:/Users/mac/Documents/GitHub/pythorn/%EA%B0%9C%EC%9D%B8%EA%B3%B5%EB%B6%80/day01.ipynb#X64sZmlsZQ%3D%3D?line=10'>11</a>\u001b[0m     f\u001b[39m.\u001b[39;49mwrite(data)\n\u001b[1;32m     <a href='vscode-notebook-cell:/Users/mac/Documents/GitHub/pythorn/%EA%B0%9C%EC%9D%B8%EA%B3%B5%EB%B6%80/day01.ipynb#X64sZmlsZQ%3D%3D?line=11'>12</a>\u001b[0m f\u001b[39m.\u001b[39mclose()\n",
      "\u001b[0;31mUnsupportedOperation\u001b[0m: not writable"
     ]
    }
   ],
   "source": [
    "# write.data\n",
    "f = open('/Users/mac/Documents/새파일.text','r')\n",
    "lines = f.readlines()\n",
    "for line in lines:\n",
    "    print(line)\n",
    "f.close\n",
    "\n",
    "\n",
    "for i in range(1,11):\n",
    "    data = '%d번째 줄입니다.\\n' %i\n",
    "    f.write(data)\n",
    "f.close()"
   ]
  },
  {
   "cell_type": "code",
   "execution_count": null,
   "metadata": {},
   "outputs": [],
   "source": [
    "# read 함수 이용하기\n"
   ]
  },
  {
   "cell_type": "markdown",
   "metadata": {},
   "source": []
  },
  {
   "cell_type": "code",
   "execution_count": 26,
   "metadata": {},
   "outputs": [
    {
     "data": {
      "text/plain": [
       "<function TextIOWrapper.close()>"
      ]
     },
     "execution_count": 26,
     "metadata": {},
     "output_type": "execute_result"
    }
   ],
   "source": [
    "with open('foo.txt','w') as f:\n",
    "    f.write('Life is too short, you need python')\n",
    "f.close"
   ]
  },
  {
   "cell_type": "code",
   "execution_count": 27,
   "metadata": {},
   "outputs": [
    {
     "data": {
      "text/plain": [
       "['/Users/mac/Documents/GitHub/pythorn/개인공부',\n",
       " '/opt/anaconda3/envs/py3.8/lib/python38.zip',\n",
       " '/opt/anaconda3/envs/py3.8/lib/python3.8',\n",
       " '/opt/anaconda3/envs/py3.8/lib/python3.8/lib-dynload',\n",
       " '',\n",
       " '/opt/anaconda3/envs/py3.8/lib/python3.8/site-packages']"
      ]
     },
     "execution_count": 27,
     "metadata": {},
     "output_type": "execute_result"
    }
   ],
   "source": [
    "import sys\n",
    "sys.path"
   ]
  },
  {
   "cell_type": "code",
   "execution_count": null,
   "metadata": {},
   "outputs": [],
   "source": [
    "a = input().split(',')\n"
   ]
  },
  {
   "cell_type": "code",
   "execution_count": 29,
   "metadata": {},
   "outputs": [
    {
     "name": "stdout",
     "output_type": "stream",
     "text": [
      "--IP=127.0.0.1 --STDIN=9003 --CONTROL=9001 --HB=9000 --SESSION.SIGNATURE_SCHEME=\"HMAC-SHA256\" --SESSION.KEY=B\"DA86B858-FF76-426F-B2DD-D854A95A22FC\" --SHELL=9002 --TRANSPORT=\"TCP\" --IOPUB=9004 --F=/USERS/MAC/LIBRARY/JUPYTER/RUNTIME/KERNEL-V2-43800EG4GHP1LGQAQ.JSON "
     ]
    }
   ],
   "source": [
    "import sys\n",
    "args = sys.argv[1:]\n",
    "for i in args:\n",
    "    print(i.upper(), end= ' ')\n"
   ]
  },
  {
   "cell_type": "code",
   "execution_count": 30,
   "metadata": {},
   "outputs": [
    {
     "data": {
      "text/plain": [
       "<function TextIOWrapper.close()>"
      ]
     },
     "execution_count": 30,
     "metadata": {},
     "output_type": "execute_result"
    }
   ],
   "source": [
    "st =input('저장할 내용을 입력하세요:')\n",
    "with open('foo.txt','w') as f:\n",
    "    f.write(st)\n",
    "f.close"
   ]
  },
  {
   "cell_type": "code",
   "execution_count": 39,
   "metadata": {},
   "outputs": [],
   "source": [
    "\n",
    "with open(\"simple.txt\", \"w\") as file:\n",
    "    for i in range(1, 11):\n",
    "        line = f\"{i}\\n\"  # 각 줄의 내용\n",
    "        file.write(line)"
   ]
  },
  {
   "cell_type": "code",
   "execution_count": 41,
   "metadata": {},
   "outputs": [
    {
     "name": "stdout",
     "output_type": "stream",
     "text": [
      "1\n",
      "2\n",
      "3\n",
      "4\n",
      "5\n",
      "6\n",
      "7\n",
      "8\n"
     ]
    }
   ],
   "source": [
    "# simple.txt 파일을 읽어드린다음에 사용로 부터 양의 정수를 n으로 입력받아 최초의 n번쨰 줄까지 화면에 출략하는 프로그램을 작성하시오.\n",
    "\n",
    "# 파일 읽기\n",
    "with open(\"simple.txt\", \"r\") as file:\n",
    "    lines = file.readlines()\n",
    "\n",
    "# 양의 정수 n 입력 받기\n",
    "while True:\n",
    "    n = input(\"양의 정수를 입력하세요: \")\n",
    "    if n.isdigit() and int(n) > 0:\n",
    "        n = int(n)\n",
    "        break\n",
    "    else:\n",
    "        print(\"유효한 양의 정수를 입력해주세요.\")\n",
    "\n",
    "# 최초의 n번째 줄까지 출력\n",
    "for i in range(n):\n",
    "    if i < len(lines):\n",
    "        print(lines[i].strip())\n",
    "    else:\n",
    "        break"
   ]
  },
  {
   "attachments": {},
   "cell_type": "markdown",
   "metadata": {},
   "source": [
    "## 랜덤 모듈의 randint을 이용하여 1에서 1000까지의 임의의 정수를 10개 생성하여 random_numbers.txt 라는 이름의 파일로 저장하시오"
   ]
  },
  {
   "cell_type": "code",
   "execution_count": 48,
   "metadata": {},
   "outputs": [
    {
     "name": "stdout",
     "output_type": "stream",
     "text": [
      "50 237 687 847 392 200 200 740 739 992 "
     ]
    }
   ],
   "source": [
    "import random\n",
    "# 10개의 임의의 정수 생성\n",
    "random_numbers = [random.randint(1, 1000) for _ in range(10)]\n",
    "\n",
    "# 파일에 쓰기\n",
    "with open(\"random_numbers.txt\", \"w\") as file:\n",
    "    for number in random_numbers:\n",
    "        file.write(str(number) + \" \")\n",
    "        print(number, end = ' ')"
   ]
  },
  {
   "attachments": {},
   "cell_type": "markdown",
   "metadata": {},
   "source": [
    "## random_numbers.txt 라는 파일로부터 숫자를 읽어 들인후 이들중 짝수인 값을 가지는 정수를 저장하는 random_even.txt 라는 파일을 만들어라"
   ]
  },
  {
   "cell_type": "code",
   "execution_count": 52,
   "metadata": {},
   "outputs": [
    {
     "name": "stdout",
     "output_type": "stream",
     "text": [
      "50 392 200 200 740 992 "
     ]
    }
   ],
   "source": [
    "# \"random_numbers.txt\" 파일에서 짝수 값을 가지는 정수를 읽어와 \"random_even.txt\" 파일에 저장\n",
    "with open(\"random_numbers.txt\", \"r\") as input_file, open(\"random_even.txt\", \"w\") as output_file:\n",
    "    for line in input_file:\n",
    "        numbers = line.strip().split()  # 공백으로 구분된 숫자들을 리스트로 분할\n",
    "        for number in numbers:\n",
    "            number = int(number)\n",
    "            if number % 2 == 0:\n",
    "                output_file.write(str(number) + \" \")\n",
    "                print(number, end= ' ')\n"
   ]
  },
  {
   "cell_type": "code",
   "execution_count": 59,
   "metadata": {},
   "outputs": [
    {
     "name": "stdout",
     "output_type": "stream",
     "text": [
      "['3', '1', '2', '5', '6', '10', '1', '3', '8', '8', '9', '5', '10', '2', '8', '8', '7', '8', '8', '4', '6', '2', '3', '5', '4', '7', '10', '5', '3', '3']"
     ]
    }
   ],
   "source": [
    "import random\n",
    "\n",
    "# 1에서 10 사이의 랜덤한 숫자 30개 생성\n",
    "random_numbers = [str(random.randint(1, 10)) for _ in range(30)]\n",
    "\n",
    "# 파일에 쓰기\n",
    "with open(\"randint30.txt\", \"w\") as file:\n",
    "    file.write(\" \".join(random_numbers))\n",
    "    print(random_numbers, end= '')"
   ]
  },
  {
   "cell_type": "code",
   "execution_count": 66,
   "metadata": {},
   "outputs": [
    {
     "name": "stdout",
     "output_type": "stream",
     "text": [
      "Collecting mod1\n",
      "  Downloading mod1-1.0.1.zip (747 bytes)\n",
      "  Preparing metadata (setup.py) ... \u001b[?25ldone\n",
      "\u001b[?25hBuilding wheels for collected packages: mod1\n",
      "  Building wheel for mod1 (setup.py) ... \u001b[?25ldone\n",
      "\u001b[?25h  Created wheel for mod1: filename=mod1-1.0.1-py3-none-any.whl size=1197 sha256=4357d4199c5067cc150f44d55e8f3c87d8ff9d58636ea07a503ee4230024f6cc\n",
      "  Stored in directory: /Users/mac/Library/Caches/pip/wheels/5b/c9/cb/d10adb2daea21cd517c0105d0ad5b8ee20e35b489963c36ab4\n",
      "Successfully built mod1\n",
      "Installing collected packages: mod1\n",
      "Successfully installed mod1-1.0.1\n",
      "Note: you may need to restart the kernel to use updated packages.\n"
     ]
    }
   ],
   "source": [
    "pip install mod1 "
   ]
  },
  {
   "cell_type": "code",
   "execution_count": 68,
   "metadata": {},
   "outputs": [
    {
     "ename": "AttributeError",
     "evalue": "module 'mod1' has no attribute 'sum'",
     "output_type": "error",
     "traceback": [
      "\u001b[0;31m---------------------------------------------------------------------------\u001b[0m",
      "\u001b[0;31mAttributeError\u001b[0m                            Traceback (most recent call last)",
      "\u001b[1;32m/Users/mac/Documents/GitHub/pythorn/개인공부/day01.ipynb Cell 62\u001b[0m in \u001b[0;36m3\n\u001b[1;32m      <a href='vscode-notebook-cell:/Users/mac/Documents/GitHub/pythorn/%EA%B0%9C%EC%9D%B8%EA%B3%B5%EB%B6%80/day01.ipynb#Y115sZmlsZQ%3D%3D?line=0'>1</a>\u001b[0m \u001b[39mimport\u001b[39;00m \u001b[39mmod1\u001b[39;00m\n\u001b[0;32m----> <a href='vscode-notebook-cell:/Users/mac/Documents/GitHub/pythorn/%EA%B0%9C%EC%9D%B8%EA%B3%B5%EB%B6%80/day01.ipynb#Y115sZmlsZQ%3D%3D?line=2'>3</a>\u001b[0m \u001b[39mprint\u001b[39m(mod1\u001b[39m.\u001b[39;49msum(\u001b[39m3\u001b[39m,\u001b[39m4\u001b[39m))\n",
      "\u001b[0;31mAttributeError\u001b[0m: module 'mod1' has no attribute 'sum'"
     ]
    }
   ],
   "source": [
    "import mod1\n",
    "\n",
    "print(mod1.sum(3,4))"
   ]
  },
  {
   "cell_type": "code",
   "execution_count": 74,
   "metadata": {},
   "outputs": [
    {
     "name": "stdout",
     "output_type": "stream",
     "text": [
      "안녕하세요 반갑습니다\n",
      "만나서 반가웠습니다. 빠요~!\n"
     ]
    }
   ],
   "source": [
    "import know.hello,know.say_goodbye\n",
    "\n",
    "\n",
    "know.say_goodbye.hello()\n",
    "know.hello.goodbye()"
   ]
  },
  {
   "attachments": {},
   "cell_type": "markdown",
   "metadata": {},
   "source": [
    "## age = [34,39,20,18,13,54]\n",
    "에서 나이가 20이상인 데이터만 뽑아서 리스트 변수로 \n",
    "new_ages = [34,39,20,54] 이를 리스트 축약으로 표현하라"
   ]
  },
  {
   "cell_type": "code",
   "execution_count": 77,
   "metadata": {},
   "outputs": [
    {
     "name": "stdout",
     "output_type": "stream",
     "text": [
      "[20, 34, 39, 54]\n"
     ]
    }
   ],
   "source": [
    "age = [34,39,20,18,13,54]\n",
    "\n",
    "new_ages = [num for num in age if num >= 20 ]\n",
    "new_ages.sort()\n",
    "\n",
    "print(new_ages)"
   ]
  },
  {
   "attachments": {},
   "cell_type": "markdown",
   "metadata": {},
   "source": [
    "# hello.txt 을 생성하고 그안에 'hello.와 'Hi there'을 추가하시오"
   ]
  },
  {
   "cell_type": "code",
   "execution_count": 2,
   "metadata": {},
   "outputs": [],
   "source": [
    "with open(\"hello.txt\", \"w\") as file:\n",
    "    file.write(\"Hello.\\n\")\n",
    "    file.write(\"Hi there.\\n\")\n"
   ]
  },
  {
   "attachments": {},
   "cell_type": "markdown",
   "metadata": {},
   "source": [
    "## hello.txt을 open()함수를 통해 읽어서 파일 내용 맨 밑줄에 'Welcome to Python!'이라는 문자열을 추가한 후 저장하고 한 번 파일을 열어라"
   ]
  },
  {
   "cell_type": "code",
   "execution_count": 4,
   "metadata": {},
   "outputs": [
    {
     "name": "stdout",
     "output_type": "stream",
     "text": [
      "Hello.\n",
      "Hi there.\n",
      "Welcome to Python!\n",
      "Welcome to Python!\n",
      "\n"
     ]
    }
   ],
   "source": [
    "with open(\"hello.txt\", \"r\") as file:\n",
    "    lines = file.readlines()\n",
    "\n",
    "# 'Welcome to Python!' 문자열 추가\n",
    "lines.append(\"Welcome to Python!\\n\")\n",
    "\n",
    "# 파일에 쓰기\n",
    "with open(\"hello.txt\", \"w\") as file:\n",
    "    file.writelines(lines)\n",
    "\n",
    "\n",
    "# 수정된 파일 다시 열기 및 내용 출력\n",
    "with open(\"hello.txt\", \"r\") as file:\n",
    "    file_contents = file.read()\n",
    "\n",
    "print(file_contents)"
   ]
  },
  {
   "attachments": {},
   "cell_type": "markdown",
   "metadata": {},
   "source": [
    "## math 모듈을 이용하여 0에서 10까지 정수의 제곱근을 다음과 같이 소수점 아래 셋째자리까지 출력하라\n",
    "\n",
    "## 예시)\n",
    "## sqrt( 1) = 1000\n",
    "\n",
    "## sqrt( 2)= 1.414"
   ]
  },
  {
   "cell_type": "code",
   "execution_count": 5,
   "metadata": {},
   "outputs": [
    {
     "name": "stdout",
     "output_type": "stream",
     "text": [
      "sqrt(0) = 0.000\n",
      "sqrt(1) = 1.000\n",
      "sqrt(2) = 1.414\n",
      "sqrt(3) = 1.732\n",
      "sqrt(4) = 2.000\n",
      "sqrt(5) = 2.236\n",
      "sqrt(6) = 2.449\n",
      "sqrt(7) = 2.646\n",
      "sqrt(8) = 2.828\n",
      "sqrt(9) = 3.000\n",
      "sqrt(10) = 3.162\n"
     ]
    }
   ],
   "source": [
    "import math\n",
    "\n",
    "for i in range(11):\n",
    "    square_root = math.sqrt(i) #sqrt(숫자) = 제곱근\n",
    "    print(f\"sqrt({i}) = {square_root:.3f}\") # : .3f는 소수점 아래 세 자리까지의 부동소수점 숫자를 나타내기 위한 형식 지정자입니다."
   ]
  },
  {
   "attachments": {},
   "cell_type": "markdown",
   "metadata": {},
   "source": [
    "1~10 사이에 정수중 sample 함수를 이용하여 3가지 정수를 출력하시오"
   ]
  },
  {
   "cell_type": "code",
   "execution_count": 6,
   "metadata": {},
   "outputs": [
    {
     "name": "stdout",
     "output_type": "stream",
     "text": [
      "[4, 7, 5]\n"
     ]
    }
   ],
   "source": [
    "import random\n",
    "\n",
    "numbers = list(range(1, 11))\n",
    "sampled_numbers = random.sample(numbers, 3)\n",
    "\n",
    "print(sampled_numbers)"
   ]
  },
  {
   "attachments": {},
   "cell_type": "markdown",
   "metadata": {},
   "source": [
    "## 로미오와 줄리엣이 주사위를 던져서 숫자 더 큰쪽이 이겼습니다 라는 문자을 출력하는 코드를 작성하시오"
   ]
  },
  {
   "cell_type": "code",
   "execution_count": 46,
   "metadata": {},
   "outputs": [
    {
     "name": "stdout",
     "output_type": "stream",
     "text": [
      "로미오의 주사위 숫자는 6 입니다.\n",
      "줄리엣의 주사위 숫자는 6 입니다.\n",
      "로미오와 줄리엣이 비겼습니다\n"
     ]
    }
   ],
   "source": [
    "import random\n",
    "\n",
    "num_a = random.randrange(1,7)\n",
    "print('로미오의 주사위 숫자는 %d 입니다.' % num_a)\n",
    "num_b = random.randrange(1,7)\n",
    "print('줄리엣의 주사위 숫자는 %d 입니다.' % num_b)\n",
    "\n",
    "if num_a > num_b :\n",
    "    print('로미오가 이겼습니다.')\n",
    "elif num_a == num_b :\n",
    "    print('로미오와 줄리엣이 비겼습니다')\n",
    "\n",
    "else:\n",
    "    print('줄리엣이 이겼습니다.')"
   ]
  },
  {
   "attachments": {},
   "cell_type": "markdown",
   "metadata": {},
   "source": [
    "랜덤 숫자 맞추기 게임 프로그램을 작성하라. 먼저 랜덤하게 1~20까지의 숫자 x를 하나 생성시키고 사용자는 숫자를 하나씩 입력하면서 생성된 숫자 x와 비교해 큰지 작은지를 보고 숫자를 맞춰가는 게임이다. 컴퓨터는 사용자가 입력한 숫자 x가 정답보다 큰지 작은지를 알려주어야 한다. 그리고 사용자가 시도를 할 때 마다 시도한 횟수가 n에 저장되도록 한다.\n",
    " 만일 입력한 숫자와 x가 일치하면 “정답입니다!”라는 메시지를 출력한다. 이 때 3번 이하로 입력하여 숫자를 맞추면 “n번 만에 맞춘 당신은 천재!”, 3번 이상 6번 이하로 입력하여 숫자를 맞추면 “n번 만에 맞추셨네요. 잘 했어요^^”, 7번 이상으로 숫자를 입력하여 맞추면 “n번 만에 맞추다니 쩝쩝...” 이라고 출력하라.\n",
    "---\n",
    "```\n",
    "1~20까지의 숫자를 입력하세요: 3\n",
    "3 보다 큽니다!\n",
    "1~20까지의 숫자를 입력하세요: 9\n",
    "9 보다 작습니다!\n",
    "1~20까지의 숫자를 입력하세요: 6\n",
    "6 보다 작습니다!\n",
    "1~20까지의 숫자를 입력하세요: 5\n",
    "5 보다 작습니다!\n",
    "1~20까지의 숫자를 입력하세요: 4\n",
    "정답입니다!\n",
    "5 번만에 맞추셨네요. 잘했어요^^\n",
    "```"
   ]
  },
  {
   "attachments": {},
   "cell_type": "markdown",
   "metadata": {},
   "source": []
  },
  {
   "cell_type": "code",
   "execution_count": 50,
   "metadata": {},
   "outputs": [
    {
     "name": "stdout",
     "output_type": "stream",
     "text": [
      "정답입니다!\n",
      "1번 만에 맞춘 당신은 천재!\n"
     ]
    }
   ],
   "source": [
    "import random\n",
    "\n",
    "x = random.randint(1, 20) # 1~20 사이에 랜덤한 수 설정\n",
    "n = 0\n",
    "\n",
    "while True:\n",
    "    guess = int(input(\"숫자를 입력하세요: \"))\n",
    "    n += 1\n",
    "\n",
    "    if guess < x:\n",
    "        print(\"숫자가 작습니다. 다시 시도해보세요.\")\n",
    "    elif guess > x:\n",
    "        print(\"숫자가 큽니다. 다시 시도해보세요.\")\n",
    "    else:\n",
    "        break\n",
    "\n",
    "# 평가 출력\n",
    "\n",
    "if n <= 3:\n",
    "    print(\"정답입니다!\")\n",
    "    print(f\"{n}번 만에 맞춘 당신은 천재!\")\n",
    "elif n <= 6:\n",
    "    print(\"정답입니다!\")\n",
    "    print(f\"{n}번 만에 맞추셨네요. 잘 했어요^^\")\n",
    "else:\n",
    "    print(\"정답입니다!\")\n",
    "    print(f\"{n}번 만에 맞추다니 쩝쩝...\")"
   ]
  },
  {
   "cell_type": "code",
   "execution_count": 52,
   "metadata": {},
   "outputs": [
    {
     "name": "stdout",
     "output_type": "stream",
     "text": [
      "BaseClass's myfunc\n",
      "Inhclass's myfunc\n"
     ]
    }
   ],
   "source": [
    "# 상속\n",
    "\n",
    "class BaseClass:\n",
    "    def myfunc(self):\n",
    "        print(\"BaseClass's myfunc\")\n",
    "\n",
    "class Inhclass(BaseClass):\n",
    "    def myfunc(self):\n",
    "        print(\"Inhclass's myfunc\")\n",
    "\n",
    "\n",
    "ex1 = BaseClass()\n",
    "ex1.myfunc()\n",
    "\n",
    "ex2 = Inhclass()\n",
    "ex2.myfunc()"
   ]
  },
  {
   "cell_type": "code",
   "execution_count": 62,
   "metadata": {},
   "outputs": [
    {
     "name": "stdout",
     "output_type": "stream",
     "text": [
      "Base1\n",
      "400\n"
     ]
    }
   ],
   "source": [
    "# 다중 상속\n",
    "\n",
    "class Base1:\n",
    "    def myfunc(self):\n",
    "        print('Base1')\n",
    "\n",
    "class Base2:\n",
    "    member1 = 100\n",
    "    member2 = 200\n",
    "\n",
    "\n",
    "class Base3:\n",
    "    def myfunc2(self,a,b):\n",
    "        print(a+b)\n",
    "class Inhclass(Base1, Base2, Base3):\n",
    "    member3 = 300\n",
    "\n",
    "ex1 = Inhclass()\n",
    "\n",
    "ex1.myfunc()\n",
    "\n",
    "Base1\n",
    "\n",
    "ex1.myfunc2(ex1.member1,ex1.member3)"
   ]
  },
  {
   "attachments": {},
   "cell_type": "markdown",
   "metadata": {},
   "source": [
    "### 다음과 같은 기능을 가지는 클래스를 정의하고, 인스턴스를 생성하여라.\n",
    "- 이름과 나이를 속성으로 가지는 Dog 클래스를 정의하라.\n",
    "- 이름으로 \"Mango\" ,나이로 3의 값을 가지는 my_dog 인스턴스를 생성하여라\n",
    "- my_dog의 이름과 나이를 다음과 같이 출력하여라"
   ]
  },
  {
   "cell_type": "code",
   "execution_count": 71,
   "metadata": {},
   "outputs": [
    {
     "name": "stdout",
     "output_type": "stream",
     "text": [
      "<class '__main__.Dog'>\n",
      "Dog의 이름은 Mango 이고, 나이는 3살 입니다\n"
     ]
    }
   ],
   "source": [
    "# class 생성\n",
    "class Dog:\n",
    "    def __init__(self, name, age):\n",
    "        self.name = name\n",
    "        self.age = age\n",
    "\n",
    "my_dog = Dog(\"Mango\", 3)\n",
    "print(type(my_dog))\n",
    "\n",
    "print(f\"Dog의 이름은 {my_dog.name} 이고, 나이는 {my_dog.age}살 입니다\")"
   ]
  },
  {
   "cell_type": "code",
   "execution_count": 72,
   "metadata": {},
   "outputs": [
    {
     "name": "stdout",
     "output_type": "stream",
     "text": [
      "이름은 Mango이고, 나이는 3살입니다.\n"
     ]
    }
   ],
   "source": [
    "class Dog:\n",
    "  def __init__(self, name, age):\n",
    "    self.name = name\n",
    "    self.age = age\n",
    "  def __str__(self):\n",
    "    return '이름은 {}이고, 나이는 {}살입니다.'.format(self.name, self.age)\n",
    "    \n",
    "my_dog = Dog('Mango', 3)\n",
    "print(my_dog)"
   ]
  },
  {
   "cell_type": "code",
   "execution_count": null,
   "metadata": {},
   "outputs": [],
   "source": [
    "## 초기화 함수 self는 무조건이다..."
   ]
  },
  {
   "cell_type": "code",
   "execution_count": 73,
   "metadata": {},
   "outputs": [],
   "source": [
    "class calculator :\n",
    "    def __init__(self):\n",
    "        self.value = 0 \n",
    "    def add (self,val):\n",
    "        self.value += val"
   ]
  },
  {
   "attachments": {},
   "cell_type": "markdown",
   "metadata": {},
   "source": [
    "\n",
    "## 위 클래스를 상속하는 Upgrade calculator를 만들고 값을 뺄수 있는 minus 메소드가 작동하는 클래스 만들어라"
   ]
  },
  {
   "cell_type": "code",
   "execution_count": 80,
   "metadata": {},
   "outputs": [
    {
     "name": "stdout",
     "output_type": "stream",
     "text": [
      "3\n"
     ]
    }
   ],
   "source": [
    "class UpgradeCalculator(calculator):\n",
    "    def minus(self, val):\n",
    "        self.value -= val\n",
    "\n",
    "cal = UpgradeCalculator()\n",
    "cal.add(10)\n",
    "cal.minus(7)\n",
    "\n",
    "print(cal.value) # 10에서 7을 뺀 3을 출력"
   ]
  },
  {
   "cell_type": "code",
   "execution_count": 83,
   "metadata": {},
   "outputs": [
    {
     "name": "stdout",
     "output_type": "stream",
     "text": [
      "100\n"
     ]
    }
   ],
   "source": [
    "\n",
    "class Calculator:\n",
    "    def __init__(self):\n",
    "        self.value=0\n",
    "        \n",
    "    def add(self, val):\n",
    "        self.value += val\n",
    "        \n",
    "class MaxLimitCalculator(Calculator):\n",
    "    def add(self, val):\n",
    "        super().add(val)\n",
    "        if self.value >= 100:\n",
    "            self.value=100\n",
    "        \n",
    "cal=MaxLimitCalculator()\n",
    "cal.add(50)\n",
    "cal.add(60)\n",
    "\n",
    "print(cal.value)\n",
    "\n"
   ]
  },
  {
   "cell_type": "code",
   "execution_count": 89,
   "metadata": {},
   "outputs": [
    {
     "name": "stdout",
     "output_type": "stream",
     "text": [
      "15\n",
      "3.0\n",
      "40\n",
      "8.0\n"
     ]
    }
   ],
   "source": [
    "\n",
    "# 나의 답\n",
    "class Calculator:\n",
    "    def __init__(self, numbers):\n",
    "        self.numbers = numbers\n",
    "\n",
    "    def sum(self):\n",
    "        return sum(self.numbers)\n",
    "\n",
    "    def avg(self):\n",
    "        return sum(self.numbers) / len(self.numbers)\n",
    "\n",
    "\n",
    "cal1 = Calculator([1, 2, 3, 4, 5])\n",
    "print(cal1.sum())  # 출력: 15\n",
    "print(cal1.avg())  # 출력: 3.0\n",
    "\n",
    "cal2 = Calculator([6, 7, 8, 9, 10])\n",
    "print(cal2.sum())  \n",
    "print(cal2.avg())  \n"
   ]
  },
  {
   "cell_type": "code",
   "execution_count": 90,
   "metadata": {},
   "outputs": [
    {
     "name": "stdout",
     "output_type": "stream",
     "text": [
      "15\n",
      "3.0\n",
      "40\n",
      "8.0\n"
     ]
    }
   ],
   "source": [
    "# 강사님 답\n",
    "\n",
    "class Calculator:\n",
    "    count=0\n",
    "    def __init__(self, val):\n",
    "        self.value1=0\n",
    "        self.value2=0\n",
    "        self.list=val\n",
    "        \n",
    "    def sum(self):\n",
    "        for i in self.list:\n",
    "            self.value1 += i\n",
    "        return self.value1\n",
    "    \n",
    "    def avg(self):\n",
    "        for i in self.list:\n",
    "            self.value2 += i\n",
    "            self.count+=1\n",
    "        return self.value2/self.count\n",
    "\n",
    "\n",
    "\n",
    "cal1=Calculator([1,2,3,4,5])\n",
    "print(cal1.sum())\n",
    "print(cal1.avg())\n",
    "\n",
    "cal2=Calculator([6,7,8,9,10])\n",
    "print(cal2.sum())\n",
    "print(cal2.avg())"
   ]
  },
  {
   "attachments": {},
   "cell_type": "markdown",
   "metadata": {},
   "source": [
    "다음과 같은 기능을 가지는 은행계좌 클래스 BankAccount 클래스를 구현하여라. 그리고 이 클래스를 이용하여 인스턴스를 생성하여라. 이 클래스는 다음과 같은 속성과 동작을 가진다.\n",
    "* 속성\n",
    "  * 이름(name)\n",
    "  * 계좌번호(account_num)\n",
    "  * 잔액(balance)\n",
    "* 행동\n",
    "  * 예금 기능 : deposit(money)\n",
    "    * money 만큼의 돈을 balance에 추가한다.\n",
    "  * 출금 기능 : withdraw(money)\n",
    "    * money 만큼의 돈이 balance에서 빠져나간다(balance가 money보다 작으면 출금이 되지 않는다).\n",
    "---\n",
    "\n",
    "## BankAccount라는 클래스를 만든 후 다음과 같이 account1이라는 계좌를 생성하고 2000원을 입금하여라. 이 계좌 정보를 출력한 후 500원을 출금한 후 다음과 같이 계좌 정보를 출력하여라. 마지막으로 5000원을 출금하여라."
   ]
  },
  {
   "cell_type": "code",
   "execution_count": 122,
   "metadata": {},
   "outputs": [
    {
     "name": "stdout",
     "output_type": "stream",
     "text": [
      "홍길동님의 계좌1234-0001의 잔고 0원입니다.\n",
      "2000원이 입급되었습니다. 잔고는2000입니다.\n",
      "홍길동님의 계좌1234-0001의 잔고 2000원입니다.\n",
      "홍길동님의 계좌1234-0001의 잔고 1500원입니다.\n",
      "출금 요청주신 5000원이 잔고금액인 1500원보다 금액이 많습니다.\n"
     ]
    }
   ],
   "source": [
    "class BankAccount:\n",
    "    def __init__(self, owner, account_number):\n",
    "        self.owner = owner\n",
    "        self.account_number = account_number\n",
    "        self.balance = 0\n",
    "\n",
    "    def deposit(self, amount):\n",
    "        self.balance += amount\n",
    "        print(f'{amount}원이 입급되었습니다. 잔고는{self.balance}입니다.')\n",
    "    def withdraw(self, amount):\n",
    "        if self.balance >= amount:\n",
    "            self.balance -= amount\n",
    "           \n",
    "        else:\n",
    "            print(f'출금 요청주신 {amount}원이 잔고금액인 {self.balance}원보다 금액이 많습니다.')\n",
    "\n",
    "    def __str__(self):\n",
    "        return f\"{self.owner}님의 계좌{self.account_number}의 잔고 {self.balance}원입니다.\"\n",
    "\n",
    "\n",
    "account1 = BankAccount(\"홍길동\", \"1234-0001\")\n",
    "print(account1)\n",
    "account1.deposit(2000)\n",
    "print(account1)\n",
    "account1.withdraw(500)\n",
    "print(account1)\n",
    "account1.withdraw(5000)\n",
    "\n",
    "\n"
   ]
  },
  {
   "cell_type": "code",
   "execution_count": 125,
   "metadata": {},
   "outputs": [
    {
     "name": "stdout",
     "output_type": "stream",
     "text": [
      "홍길동님의 계좌1234-0001의 잔고 0원입니다.\n",
      "2000원이 입급되었습니다. 잔고는2000입니다.\n",
      "홍길동님의 계좌1234-0001의 잔고 2000원입니다.\n",
      "홍길동님의 계좌1234-0001의 잔고 1500원입니다.\n",
      "출금 요청주신 5000원이 잔고금액인 1500원보다 금액이 많습니다.\n"
     ]
    }
   ],
   "source": [
    "class BankAccount2:\n",
    "    \"\"\"A class example in python that models a bank account\"\"\"\n",
    "    def __init__(self, name, account_num, balance=0):\n",
    "        self.name = name\n",
    "        self.account_num = account_num\n",
    "        self.balance = balance\n",
    "    \n",
    "    def get_name():\n",
    "      return self.name\n",
    "    \n",
    "    def get_account_num():\n",
    "      return self.account_num\n",
    "    \n",
    "    def get_balance():\n",
    "      return self.balance\n",
    "    def deposit(self, amount):\n",
    "        self.balance += amount\n",
    "        print('{}원이 입금되었습니다. 잔고는 {}원입니다.'.format(amount,\\\n",
    "                                                 self.balance))\n",
    "        return self.balance\n",
    "  \n",
    "    def withdraw(self, amount):\n",
    "        if self.balance - amount > 0 :\n",
    "            self.balance -= amount\n",
    "        else:\n",
    "          \n",
    "            print('계좌 잔고는 {}원으로 인출 요구 금액 '\\\n",
    "          '{}원보다 작습니다.'.format(self.balance, amount))\n",
    "\n",
    "    def __str__(self):\n",
    "      return '{}님의 계좌 {}의 잔고는 {:,}원입니다.'.format(self.name,\\\n",
    "                                             self.account_num, self.balance)\n",
    "account1 = BankAccount(\"홍길동\", \"1234-0001\")\n",
    "print(account1)\n",
    "account1.deposit(2000)\n",
    "print(account1)\n",
    "account1.withdraw(500)\n",
    "print(account1)\n",
    "account1.withdraw(5000)"
   ]
  },
  {
   "attachments": {},
   "cell_type": "markdown",
   "metadata": {},
   "source": [
    "다음 기능을 가진 Dog 클래스를 생성하고 인스턴스와 메소드를 호출하여라.\n",
    "- a) name 이라는 속성을 가진다.\n",
    "- b) def __init__(self, name): 이라는 초기화 메소드를 가진다. 이 메소드를 통해서 이름을 초기화 한다.\n",
    "- c) my_dog = Dog('Jindo') 라는 명령어로 my_dog 인스턴스를 생성한다.\n",
    "- d) Dog 클래스의 __str__() 메소드를 정의하여 print('my_dog의 정보 :',my_dog)와같은 명령문에 대해 다음과 같은 출력이 나타나도록 하여라.\n",
    "\n",
    "- my_dog의 정보 : 우리집 개 이름은 Jindo입니다."
   ]
  },
  {
   "cell_type": "code",
   "execution_count": 130,
   "metadata": {},
   "outputs": [
    {
     "name": "stdout",
     "output_type": "stream",
     "text": [
      "우리집 개 이름은 Jindo입니다.\n"
     ]
    }
   ],
   "source": [
    "class Dog :\n",
    "    def __init__(self,name):\n",
    "        self.name = name\n",
    "    def __str__(self):\n",
    "        return f\"우리집 개 이름은 {self.name}입니다.\"\n",
    "\n",
    "my_dog = Dog('Jindo')\n",
    "print(my_dog)"
   ]
  },
  {
   "attachments": {},
   "cell_type": "markdown",
   "metadata": {},
   "source": [
    "Student라는 클래스를 만든 후 다음과 같이 student이라는 학생 인스턴스를 생성하고 사용자로부터 \n",
    "다음과 같이 이름, 학번을 입력받은 후, 3번에 걸쳐 국어, 수학, 과학 점수를 입력받으면 아래와 같은 결과물을 출력하는 코드를 작성해 보세요."
   ]
  },
  {
   "cell_type": "code",
   "execution_count": 141,
   "metadata": {},
   "outputs": [
    {
     "name": "stdout",
     "output_type": "stream",
     "text": [
      "학생 이름: 홍길동\n",
      "학번: 20150251 국어 성적: 85수학 성적: 90과학 성적: 95\n",
      "합계: 270,평균: 90.0\n"
     ]
    }
   ],
   "source": [
    "class Student:\n",
    "    def __init__(self, name, student_id):\n",
    "        self.name = name\n",
    "        self.student_id = student_id\n",
    "        self.korean_quiz = 0\n",
    "        self.math_quiz = 0\n",
    "        self.science_quiz = 0\n",
    "\n",
    "    def set_korean_quiz(self, score):\n",
    "        self.korean_quiz = score\n",
    "\n",
    "    def set_math_quiz(self, score):\n",
    "        self.math_quiz = score\n",
    "\n",
    "    def set_science_quiz(self, score):\n",
    "        self.science_quiz = score\n",
    "\n",
    "    def calculate_total_score(self):\n",
    "        total_score = self.korean_quiz + self.math_quiz + self.science_quiz\n",
    "        return total_score\n",
    "\n",
    "    def calculate_average_score(self):\n",
    "        total_score = self.calculate_total_score()\n",
    "        average_score = total_score / 3\n",
    "        return average_score\n",
    "\n",
    "    def __str__(self):\n",
    "        return f\"학생 이름: {self.name}\\n학번: {self.student_id} 국어 성적: {self.korean_quiz}수학 성적: {self.math_quiz}과학 성적: {self.science_quiz}\\n합계: {self.calculate_total_score()},평균: {self.calculate_average_score()}\"\n",
    "\n",
    "\n",
    "name = input('학생의 이름을 입력하세요: ')\n",
    "student_id = input('학생의 학번을 입력하세요: ')\n",
    "\n",
    "student = Student(name, student_id)\n",
    "korean_quiz = int(input('학생의 국어 성적을 입력하세요: '))\n",
    "math_quiz = int(input('학생의 수학 성적을 입력하세요: '))\n",
    "science_quiz = int(input('학생의 과학 성적을 입력하세요: '))\n",
    "\n",
    "student.set_korean_quiz(korean_quiz)\n",
    "student.set_math_quiz(math_quiz)\n",
    "student.set_science_quiz(science_quiz)\n",
    "\n",
    "print(student)\n"
   ]
  },
  {
   "cell_type": "code",
   "execution_count": null,
   "metadata": {},
   "outputs": [],
   "source": []
  }
 ],
 "metadata": {
  "kernelspec": {
   "display_name": "py3.8",
   "language": "python",
   "name": "py3.8"
  },
  "language_info": {
   "codemirror_mode": {
    "name": "ipython",
    "version": 3
   },
   "file_extension": ".py",
   "mimetype": "text/x-python",
   "name": "python",
   "nbconvert_exporter": "python",
   "pygments_lexer": "ipython3",
   "version": "3.8.0"
  },
  "orig_nbformat": 4
 },
 "nbformat": 4,
 "nbformat_minor": 2
}
