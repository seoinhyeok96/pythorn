{
 "cells": [
  {
   "cell_type": "code",
   "execution_count": 2,
   "metadata": {},
   "outputs": [],
   "source": [
    "# 라이브러리 import\n",
    "\n",
    "import pandas as pd\n",
    "\n",
    "import matplotlib.pyplot as plt\n",
    "import seaborn as sns"
   ]
  },
  {
   "cell_type": "code",
   "execution_count": 3,
   "metadata": {},
   "outputs": [
    {
     "data": {
      "text/html": [
       "<div>\n",
       "<style scoped>\n",
       "    .dataframe tbody tr th:only-of-type {\n",
       "        vertical-align: middle;\n",
       "    }\n",
       "\n",
       "    .dataframe tbody tr th {\n",
       "        vertical-align: top;\n",
       "    }\n",
       "\n",
       "    .dataframe thead th {\n",
       "        text-align: right;\n",
       "    }\n",
       "</style>\n",
       "<table border=\"1\" class=\"dataframe\">\n",
       "  <thead>\n",
       "    <tr style=\"text-align: right;\">\n",
       "      <th></th>\n",
       "      <th>sepal_length</th>\n",
       "      <th>sepal_width</th>\n",
       "      <th>petal_length</th>\n",
       "      <th>petal_width</th>\n",
       "      <th>species</th>\n",
       "    </tr>\n",
       "  </thead>\n",
       "  <tbody>\n",
       "    <tr>\n",
       "      <th>0</th>\n",
       "      <td>5.1</td>\n",
       "      <td>3.5</td>\n",
       "      <td>1.4</td>\n",
       "      <td>0.2</td>\n",
       "      <td>setosa</td>\n",
       "    </tr>\n",
       "    <tr>\n",
       "      <th>1</th>\n",
       "      <td>4.9</td>\n",
       "      <td>3.0</td>\n",
       "      <td>1.4</td>\n",
       "      <td>0.2</td>\n",
       "      <td>setosa</td>\n",
       "    </tr>\n",
       "    <tr>\n",
       "      <th>2</th>\n",
       "      <td>4.7</td>\n",
       "      <td>3.2</td>\n",
       "      <td>1.3</td>\n",
       "      <td>0.2</td>\n",
       "      <td>setosa</td>\n",
       "    </tr>\n",
       "    <tr>\n",
       "      <th>3</th>\n",
       "      <td>4.6</td>\n",
       "      <td>3.1</td>\n",
       "      <td>1.5</td>\n",
       "      <td>0.2</td>\n",
       "      <td>setosa</td>\n",
       "    </tr>\n",
       "    <tr>\n",
       "      <th>4</th>\n",
       "      <td>5.0</td>\n",
       "      <td>3.6</td>\n",
       "      <td>1.4</td>\n",
       "      <td>0.2</td>\n",
       "      <td>setosa</td>\n",
       "    </tr>\n",
       "    <tr>\n",
       "      <th>...</th>\n",
       "      <td>...</td>\n",
       "      <td>...</td>\n",
       "      <td>...</td>\n",
       "      <td>...</td>\n",
       "      <td>...</td>\n",
       "    </tr>\n",
       "    <tr>\n",
       "      <th>145</th>\n",
       "      <td>6.7</td>\n",
       "      <td>3.0</td>\n",
       "      <td>5.2</td>\n",
       "      <td>2.3</td>\n",
       "      <td>virginica</td>\n",
       "    </tr>\n",
       "    <tr>\n",
       "      <th>146</th>\n",
       "      <td>6.3</td>\n",
       "      <td>2.5</td>\n",
       "      <td>5.0</td>\n",
       "      <td>1.9</td>\n",
       "      <td>virginica</td>\n",
       "    </tr>\n",
       "    <tr>\n",
       "      <th>147</th>\n",
       "      <td>6.5</td>\n",
       "      <td>3.0</td>\n",
       "      <td>5.2</td>\n",
       "      <td>2.0</td>\n",
       "      <td>virginica</td>\n",
       "    </tr>\n",
       "    <tr>\n",
       "      <th>148</th>\n",
       "      <td>6.2</td>\n",
       "      <td>3.4</td>\n",
       "      <td>5.4</td>\n",
       "      <td>2.3</td>\n",
       "      <td>virginica</td>\n",
       "    </tr>\n",
       "    <tr>\n",
       "      <th>149</th>\n",
       "      <td>5.9</td>\n",
       "      <td>3.0</td>\n",
       "      <td>5.1</td>\n",
       "      <td>1.8</td>\n",
       "      <td>virginica</td>\n",
       "    </tr>\n",
       "  </tbody>\n",
       "</table>\n",
       "<p>150 rows × 5 columns</p>\n",
       "</div>"
      ],
      "text/plain": [
       "     sepal_length  sepal_width  petal_length  petal_width    species\n",
       "0             5.1          3.5           1.4          0.2     setosa\n",
       "1             4.9          3.0           1.4          0.2     setosa\n",
       "2             4.7          3.2           1.3          0.2     setosa\n",
       "3             4.6          3.1           1.5          0.2     setosa\n",
       "4             5.0          3.6           1.4          0.2     setosa\n",
       "..            ...          ...           ...          ...        ...\n",
       "145           6.7          3.0           5.2          2.3  virginica\n",
       "146           6.3          2.5           5.0          1.9  virginica\n",
       "147           6.5          3.0           5.2          2.0  virginica\n",
       "148           6.2          3.4           5.4          2.3  virginica\n",
       "149           5.9          3.0           5.1          1.8  virginica\n",
       "\n",
       "[150 rows x 5 columns]"
      ]
     },
     "execution_count": 3,
     "metadata": {},
     "output_type": "execute_result"
    }
   ],
   "source": [
    "df = sns.load_dataset('iris')\n",
    "df"
   ]
  },
  {
   "cell_type": "code",
   "execution_count": 4,
   "metadata": {},
   "outputs": [
    {
     "data": {
      "text/html": [
       "<div>\n",
       "<style scoped>\n",
       "    .dataframe tbody tr th:only-of-type {\n",
       "        vertical-align: middle;\n",
       "    }\n",
       "\n",
       "    .dataframe tbody tr th {\n",
       "        vertical-align: top;\n",
       "    }\n",
       "\n",
       "    .dataframe thead th {\n",
       "        text-align: right;\n",
       "    }\n",
       "</style>\n",
       "<table border=\"1\" class=\"dataframe\">\n",
       "  <thead>\n",
       "    <tr style=\"text-align: right;\">\n",
       "      <th></th>\n",
       "      <th>sepal_length</th>\n",
       "      <th>sepal_width</th>\n",
       "      <th>petal_length</th>\n",
       "      <th>petal_width</th>\n",
       "      <th>species</th>\n",
       "    </tr>\n",
       "  </thead>\n",
       "  <tbody>\n",
       "    <tr>\n",
       "      <th>0</th>\n",
       "      <td>5.1</td>\n",
       "      <td>3.5</td>\n",
       "      <td>1.4</td>\n",
       "      <td>0.2</td>\n",
       "      <td>setosa</td>\n",
       "    </tr>\n",
       "    <tr>\n",
       "      <th>1</th>\n",
       "      <td>4.9</td>\n",
       "      <td>3.0</td>\n",
       "      <td>1.4</td>\n",
       "      <td>0.2</td>\n",
       "      <td>setosa</td>\n",
       "    </tr>\n",
       "    <tr>\n",
       "      <th>2</th>\n",
       "      <td>4.7</td>\n",
       "      <td>3.2</td>\n",
       "      <td>1.3</td>\n",
       "      <td>0.2</td>\n",
       "      <td>setosa</td>\n",
       "    </tr>\n",
       "    <tr>\n",
       "      <th>3</th>\n",
       "      <td>4.6</td>\n",
       "      <td>3.1</td>\n",
       "      <td>1.5</td>\n",
       "      <td>0.2</td>\n",
       "      <td>setosa</td>\n",
       "    </tr>\n",
       "    <tr>\n",
       "      <th>4</th>\n",
       "      <td>5.0</td>\n",
       "      <td>3.6</td>\n",
       "      <td>1.4</td>\n",
       "      <td>0.2</td>\n",
       "      <td>setosa</td>\n",
       "    </tr>\n",
       "  </tbody>\n",
       "</table>\n",
       "</div>"
      ],
      "text/plain": [
       "   sepal_length  sepal_width  petal_length  petal_width species\n",
       "0           5.1          3.5           1.4          0.2  setosa\n",
       "1           4.9          3.0           1.4          0.2  setosa\n",
       "2           4.7          3.2           1.3          0.2  setosa\n",
       "3           4.6          3.1           1.5          0.2  setosa\n",
       "4           5.0          3.6           1.4          0.2  setosa"
      ]
     },
     "execution_count": 4,
     "metadata": {},
     "output_type": "execute_result"
    }
   ],
   "source": [
    "df.head()"
   ]
  },
  {
   "cell_type": "code",
   "execution_count": 9,
   "metadata": {},
   "outputs": [],
   "source": [
    "df.to_csv('iris.csv', index = False)"
   ]
  },
  {
   "cell_type": "code",
   "execution_count": 8,
   "metadata": {},
   "outputs": [],
   "source": [
    "df.to_csv('tmp.csv')"
   ]
  },
  {
   "cell_type": "code",
   "execution_count": 14,
   "metadata": {},
   "outputs": [
    {
     "name": "stdout",
     "output_type": "stream",
     "text": [
      "Requirement already satisfied: requests in /opt/anaconda3/envs/py3.8/lib/python3.8/site-packages (2.28.1)\n",
      "Requirement already satisfied: idna<4,>=2.5 in /opt/anaconda3/envs/py3.8/lib/python3.8/site-packages (from requests) (3.4)\n",
      "Requirement already satisfied: urllib3<1.27,>=1.21.1 in /opt/anaconda3/envs/py3.8/lib/python3.8/site-packages (from requests) (1.26.12)\n",
      "Requirement already satisfied: charset-normalizer<3,>=2 in /opt/anaconda3/envs/py3.8/lib/python3.8/site-packages (from requests) (2.0.4)\n",
      "Requirement already satisfied: certifi>=2017.4.17 in /opt/anaconda3/envs/py3.8/lib/python3.8/site-packages (from requests) (2022.9.24)\n",
      "Note: you may need to restart the kernel to use updated packages.\n"
     ]
    }
   ],
   "source": [
    "## 데이터 데이스 연결\n",
    "<pre>\n",
    "    python 에서 \n",
    "\n",
    "    pymysal => 일반적인 접속을하여 질의 명령을 보내는 작업을 할 수 있음\n",
    "\n",
    "    sqlalchemy\n",
    "    ==>  데이터 베이스의 테이블을 파이썬 객체로 사용할 수 있음\n",
    "        테이블 자체를 파이썬으로 객체화 할 수 있다.\n",
    "</pre>\n"
   ]
  },
  {
   "attachments": {},
   "cell_type": "markdown",
   "metadata": {},
   "source": [
    "# 람다 연습"
   ]
  },
  {
   "cell_type": "code",
   "execution_count": 2,
   "metadata": {},
   "outputs": [
    {
     "name": "stdout",
     "output_type": "stream",
     "text": [
      "14\n"
     ]
    }
   ],
   "source": [
    "f = lambda* z :max(z) * 2 \n",
    "print(f(1,3,7))"
   ]
  },
  {
   "cell_type": "code",
   "execution_count": 6,
   "metadata": {},
   "outputs": [
    {
     "name": "stdout",
     "output_type": "stream",
     "text": [
      "[-4, -2, 0, 2, 3, 4]\n"
     ]
    }
   ],
   "source": [
    "def func(x):\n",
    "    if(x/2) - 1 > 0:\n",
    "        return True\n",
    "    elif x % 2 == 0:\n",
    "        return True\n",
    "    else:\n",
    "        return False\n",
    "print(list(filter(func, range(-5,5))))"
   ]
  },
  {
   "cell_type": "code",
   "execution_count": 50,
   "metadata": {},
   "outputs": [
    {
     "ename": "IndentationError",
     "evalue": "expected an indented block (2170573752.py, line 5)",
     "output_type": "error",
     "traceback": [
      "\u001b[0;36m  Cell \u001b[0;32mIn [50], line 5\u001b[0;36m\u001b[0m\n\u001b[0;31m    print(a, end = ' ')\u001b[0m\n\u001b[0m    ^\u001b[0m\n\u001b[0;31mIndentationError\u001b[0m\u001b[0;31m:\u001b[0m expected an indented block\n"
     ]
    }
   ],
   "source": [
    "ages = [34, 39, 20, 18, 13, 54]\n",
    "\n",
    "print('성년 리스트 :')\n",
    "for a in filter(lambda x: x >= 19, ages): # filter() 함수를 사용한 ages의 필터\n",
    "print(a, end = ' ')"
   ]
  },
  {
   "attachments": {},
   "cell_type": "markdown",
   "metadata": {},
   "source": [
    "## n개의 숫자를 가변인수로 입력받은 후 이 숫자들을 오름차순으로 정렬하여 출력하는 my_sort()함수를 작정하시오"
   ]
  },
  {
   "cell_type": "code",
   "execution_count": 7,
   "metadata": {},
   "outputs": [
    {
     "name": "stdout",
     "output_type": "stream",
     "text": [
      "[1, 3, 5, 7, 9]\n"
     ]
    }
   ],
   "source": [
    "def my_sort(*numbers):\n",
    "    sorted_nums = sorted(numbers)\n",
    "    print(sorted_nums)\n",
    "\n",
    "\n",
    "my_sort(5, 3, 9, 1, 7)"
   ]
  },
  {
   "attachments": {},
   "cell_type": "markdown",
   "metadata": {},
   "source": [
    "## n1에서 n2까지의 정수의 합을 구하는 함수 sum_range(n1,n2)를 작성하시오. 이함수를 이용하여 10에서 20까지 정수의 합과 40에서 100까지 정수의 합을 구하여 다음과 같은 출력을 하는 프로그램을 작성하시오 이때 모든 숫자 값 출력문에는 플레이스홀더를 사용하시오"
   ]
  },
  {
   "cell_type": "code",
   "execution_count": 15,
   "metadata": {},
   "outputs": [
    {
     "ename": "NameError",
     "evalue": "name 'n1' is not defined",
     "output_type": "error",
     "traceback": [
      "\u001b[0;31m---------------------------------------------------------------------------\u001b[0m",
      "\u001b[0;31mNameError\u001b[0m                                 Traceback (most recent call last)",
      "\u001b[1;32m/Users/mac/Documents/GitHub/pythorn/개인공부/day01.ipynb Cell 13\u001b[0m in \u001b[0;36m8\n\u001b[1;32m      <a href='vscode-notebook-cell:/Users/mac/Documents/GitHub/pythorn/%EA%B0%9C%EC%9D%B8%EA%B3%B5%EB%B6%80/day01.ipynb#X16sZmlsZQ%3D%3D?line=2'>3</a>\u001b[0m     \u001b[39mreturn\u001b[39;00m total\n\u001b[1;32m      <a href='vscode-notebook-cell:/Users/mac/Documents/GitHub/pythorn/%EA%B0%9C%EC%9D%B8%EA%B3%B5%EB%B6%80/day01.ipynb#X16sZmlsZQ%3D%3D?line=5'>6</a>\u001b[0m sum_range(\u001b[39m10\u001b[39m,\u001b[39m20\u001b[39m)\n\u001b[0;32m----> <a href='vscode-notebook-cell:/Users/mac/Documents/GitHub/pythorn/%EA%B0%9C%EC%9D%B8%EA%B3%B5%EB%B6%80/day01.ipynb#X16sZmlsZQ%3D%3D?line=7'>8</a>\u001b[0m \u001b[39mprint\u001b[39m(\u001b[39mf\u001b[39m\u001b[39m\"\u001b[39m\u001b[39m{\u001b[39;00mn1\u001b[39m}\u001b[39;00m\u001b[39m에서 \u001b[39m\u001b[39m{\u001b[39;00mn2\u001b[39m}\u001b[39;00m\u001b[39m까지의 정수의 합: \u001b[39m\u001b[39m{\u001b[39;00mrange1_sum\u001b[39m}\u001b[39;00m\u001b[39m\"\u001b[39m)\n",
      "\u001b[0;31mNameError\u001b[0m: name 'n1' is not defined"
     ]
    }
   ],
   "source": [
    "\n",
    "\n",
    "def sum_range(n1, n2):\n",
    "    total = sum(range(n1, n2 + 1))\n",
    "    return total\n",
    "\n",
    "\n",
    "sum_range(10,20)\n",
    "\n",
    "print(f\"{n1}에서 {n2}까지의 정수의 합: {range1_sum}\")"
   ]
  },
  {
   "attachments": {},
   "cell_type": "markdown",
   "metadata": {},
   "source": [
    "<!-- 주민등록번호의 앞 6자리 생년월일은 두 자리의 년도, 두 자리의 월, 두 자리의 날짜로 표현된다. 예를 들어 921030은 1992년 10월 30일을 의미한다. 이렇게 주민등록 번호 형식의 생년월일이 입력될 때 \"1992년 10월 30일\"과 같은 형태로 날짜를 출력하는 코드를 작성하라. 입력되는 날짜의 연도는 1950년 이후부터 입력된다. 즉, 511010은 1951년 10월 10일이지만, 491010은 2049년 10월 10일로 판단해야 한다.\n",
    "\n",
    "---\n",
    "실행 결과\n",
    "```\n",
    "주민등록번호 첫 6숫자 형식 입력: 570312\n",
    "1957년 3월 12일\n",
    "``` -->"
   ]
  },
  {
   "attachments": {},
   "cell_type": "markdown",
   "metadata": {},
   "source": [
    "-- 주민등록번호의 앞 6자리 생년월일은 두 자리의 년도, 두 자리의 월, 두 자리의 날짜로 표현된다. 예를 들어 921030은 1992년 10월 30일을 의미한다. 이렇게 주민등록 번호 형식의 생년월일이 입력될 때 \"1992년 10월 30일\"과 같은 형태로 날짜를 출력하는 코드를 작성하라. 입력되는 날짜의 연도는 1950년 이후부터 입력된다. 즉, 511010은 1951년 10월 10일이지만, 491010은 2049년 10월 10일로 판단해야 한다. --\n",
    "\n",
    "---\n",
    "실행 결과\n",
    "```\n",
    "주민등록번호 첫 6숫자 형식 입력: 570312\n",
    "1957년 3월 12일\n",
    "```"
   ]
  },
  {
   "cell_type": "code",
   "execution_count": 21,
   "metadata": {},
   "outputs": [],
   "source": [
    "def convert_to_date(num):\n",
    "    year = int(num[:2])\n",
    "    month = int(num[2:4])\n",
    "    day = int(num[4:])\n",
    "    full_year = 1900 + year if year >= 50 else 2000 + year\n",
    "\n",
    "    return f\"{full_year}년 {month}월 {day}일\"\n"
   ]
  },
  {
   "cell_type": "code",
   "execution_count": 22,
   "metadata": {},
   "outputs": [
    {
     "name": "stdout",
     "output_type": "stream",
     "text": [
      "1960년 10월 45일\n"
     ]
    }
   ],
   "source": [
    "input_num = input(\"주민등록번호 첫 6숫자 형식 입력: \")\n",
    "result = convert_to_date(input_num)\n",
    "print(result)"
   ]
  },
  {
   "attachments": {},
   "cell_type": "markdown",
   "metadata": {},
   "source": [
    "## 이름을 나타내는 문자열 네 개가 다음과 같이 네개의 변수에 저장되어 있다. 우리는 이 문자열들에 있는 공백과 하이픈을 제거한 후 , 이문자들을 실행결과와 같이 공백 없는 대문자로 저장하고자한다. 문자열 연산을 이용하여 이 문자열들을 그렇게 변경하고, 변경된 이후에 각문자열에서 문자 \"N\"이 몇번 나오는지를 표시하라"
   ]
  },
  {
   "cell_type": "code",
   "execution_count": 24,
   "metadata": {},
   "outputs": [],
   "source": [
    "s1 = 'kang Young Min'\n",
    "s2 = 'kang Young-Min'\n",
    "s3 = 'park Dong Min'\n",
    "s4 = 'park Dong-Min'"
   ]
  },
  {
   "cell_type": "code",
   "execution_count": 23,
   "metadata": {},
   "outputs": [],
   "source": [
    "def count_N(string):\n",
    "    modified_string = string.replace(\" \", \"\").replace(\"-\", \"\").upper()\n",
    "    count = modified_string.count(\"N\")\n",
    "    return count"
   ]
  },
  {
   "cell_type": "code",
   "execution_count": 28,
   "metadata": {},
   "outputs": [
    {
     "name": "stdout",
     "output_type": "stream",
     "text": [
      "문자열 'kang Young Min'에서 'N'의 개수: 3\n",
      "문자열 'kang Young-Min'에서 'N'의 개수: 3\n",
      "문자열 'park Dong Min'에서 'N'의 개수: 2\n",
      "문자열 'park Dong-Min'에서 'N'의 개수: 2\n"
     ]
    }
   ],
   "source": [
    "result = count_N(s1)\n",
    "result2 = count_N(s2)\n",
    "result3 = count_N(s3)\n",
    "result4 = count_N(s4)\n",
    "print(f\"문자열 '{s1}'에서 'N'의 개수: {result}\")\n",
    "print(f\"문자열 '{s2}'에서 'N'의 개수: {result2}\")\n",
    "print(f\"문자열 '{s3}'에서 'N'의 개수: {result3}\")\n",
    "print(f\"문자열 '{s4}'에서 'N'의 개수: {result4}\")"
   ]
  },
  {
   "cell_type": "markdown",
   "metadata": {},
   "source": []
  },
  {
   "attachments": {},
   "cell_type": "markdown",
   "metadata": {},
   "source": [
    "어떤 문자열이 다음과 같이 주어져 있다고 하자. 그런데, 이 문자열에 나타난 도시 중에서 'Bython' 시는 최근 'Python'시로 이름을 변경하였다. 이를 반영하여 이 문자열에 나타나는 \"Bython\"을 모두 \"Python\"으로 변경하고 변경된 횟수를 다음과 같이 출력하라.\n",
    "--\n",
    "실행결과\n",
    "```\n",
    "주어진 문자열 : \n",
    "Park(Java city), Kim(C city), Kang(Bython city), Lee(Bython city), Hong(Ruby city), Cho(Bython city), Koo(C city), Ryu(C++ city)\n",
    "\n",
    "수정된 문자열 : \n",
    "Park(Java city), Kim(C city), Kang(Python city), Lee(Python city), Hong(Ruby city), Cho(Python city), Koo(C city), Ryu(C++ city)\n",
    "Bython 문자열은 모두 3번 수정했습니다.\n",
    "```"
   ]
  },
  {
   "cell_type": "code",
   "execution_count": 34,
   "metadata": {},
   "outputs": [
    {
     "name": "stdout",
     "output_type": "stream",
     "text": [
      "변경된 문자열: Park(Java city), Kim(C city), Kang(Python city), Lee(Python city), Hong(Ruby city), Cho(Python city), Koo(C city), Ryu(C++ city)\n",
      "'Bython'이 'Python'으로 변경된 횟수: 3번\n"
     ]
    }
   ],
   "source": [
    "def replace_and_count(string):\n",
    "    modified_string = string.replace(\"Bython\", \"Python\")\n",
    "    count = string.count(\"Bython\")\n",
    "    return modified_string, count\n",
    "\n",
    "# 사용 예시\n",
    "input_string = \"Park(Java city), Kim(C city), Kang(Bython city), Lee(Bython city), Hong(Ruby city), Cho(Bython city), Koo(C city), Ryu(C++ city)\"\n",
    "result_string, count = replace_and_count(input_string)\n",
    "print(f\"변경된 문자열: {result_string}\")\n",
    "print(f\"'Bython'이 'Python'으로 변경된 횟수: {count}번\")"
   ]
  },
  {
   "cell_type": "code",
   "execution_count": 35,
   "metadata": {},
   "outputs": [
    {
     "name": "stdout",
     "output_type": "stream",
     "text": [
      "주어진 문자열 : \n",
      "Park(Java city), Kim(C city), Kang(Bython city), Lee(Bython city), Hong(Ruby city), Cho(Bython city), Koo(C city), Ryu(C++ city)\n",
      "\n",
      "수정된 문자열 : \n",
      "Park(Java city), Kim(C city), Kang(Python city), Lee(Python city), Hong(Ruby city), Cho(Python city), Koo(C city), Ryu(C++ city)\n",
      "Bython 문자열은 모두 3번 수정했습니다.\n"
     ]
    }
   ],
   "source": [
    "str = 'Park(Java city), Kim(C city), Kang(Bython city), Lee(Bython city), Hong(Ruby city), Cho(Bython city), Koo(C city), Ryu(C++ city)'\n",
    "src = 'Bython'\n",
    "target = 'Python'\n",
    "new_str = str.replace(src, target)\n",
    "n_correction = str.count(src)\n",
    "\n",
    "print('주어진 문자열 : \\n{}\\n'.format(str))\n",
    "print('수정된 문자열 : \\n{}'.format(new_str))\n",
    "print('{} 문자열은 모두 {}번 수정했습니다.'.format(src, n_correction))"
   ]
  },
  {
   "attachments": {},
   "cell_type": "markdown",
   "metadata": {},
   "source": [
    "['a','b','c','d']와 같은 영문 소문자가 들어 있는 a_list라는 이름을 대문자로 변경하는 map()를 작성하라"
   ]
  },
  {
   "cell_type": "code",
   "execution_count": 37,
   "metadata": {},
   "outputs": [
    {
     "name": "stdout",
     "output_type": "stream",
     "text": [
      "['A', 'B', 'C', 'D']\n"
     ]
    }
   ],
   "source": [
    "a_list = ['a', 'b', 'c', 'd']\n",
    "upper_list = list(map(lambda x: x.upper(), a_list))\n",
    "print(upper_list)"
   ]
  },
  {
   "attachments": {},
   "cell_type": "markdown",
   "metadata": {},
   "source": [
    "[10,20,30]과 같은 n_list라는 이름의 리스트를 map()함수로 넣은 결과는 다음과 같다\n",
    "\n",
    "입력 값의 두 배 : [20,40,60]\n",
    "입력 값의 세 배 : [30,60,90]\n"
   ]
  },
  {
   "cell_type": "code",
   "execution_count": null,
   "metadata": {},
   "outputs": [],
   "source": [
    "# twice()와 trip"
   ]
  },
  {
   "attachments": {},
   "cell_type": "markdown",
   "metadata": {},
   "source": [
    "### 리스트 축약 기능과 조건식을 사용하여 1에서 10까지 정수의 세제곱 값 중에서 500이하인 값만 가진 cubic 리스트를 다음과 같이 생성하라\n",
    "cubic = [1,8,27,64,216,343] "
   ]
  },
  {
   "cell_type": "code",
   "execution_count": 41,
   "metadata": {},
   "outputs": [
    {
     "name": "stdout",
     "output_type": "stream",
     "text": [
      "[1, 8, 27, 64, 125, 216, 343]\n"
     ]
    }
   ],
   "source": [
    "cubic = [n**3 for n in range(1,11)if n**3 <=500]\n",
    "print(cubic)"
   ]
  },
  {
   "cell_type": "markdown",
   "metadata": {},
   "source": []
  },
  {
   "cell_type": "code",
   "execution_count": 45,
   "metadata": {},
   "outputs": [
    {
     "data": {
      "text/plain": [
       "[1, 3, 5, 7, 9]"
      ]
     },
     "execution_count": 45,
     "metadata": {},
     "output_type": "execute_result"
    }
   ],
   "source": [
    "# n_list 데이터에서 홀수만을 추출하여 아래와 같이 만들고 싶다. filter 함수를 이용해 작성해 봐라\n",
    "n_list = [1, 2, 3, 4, 5, 6, 7, 8, 9, 10]\n",
    "\n",
    "new_list = list(filter(lambda x: x % 2 != 0, n_list))\n",
    "new_list \n",
    "\n"
   ]
  },
  {
   "cell_type": "code",
   "execution_count": 49,
   "metadata": {},
   "outputs": [
    {
     "name": "stdout",
     "output_type": "stream",
     "text": [
      "[6, 9, 0, 2, 4]\n",
      "[7, 6, 4, 3, 2]\n",
      "[6, 9, 0, 2, 4]\n"
     ]
    }
   ],
   "source": [
    "# 난수 상태 설정\n",
    "import random\n",
    "\n",
    "random.seed(0)\n",
    "\n",
    "state = random.getstate()\n",
    "print(random.sample(range(10),k=5))\n",
    "print(random.sample(range(10),k=5))\n",
    "random.setstate(state)\n",
    "print(random.sample(range(10),k=5))"
   ]
  },
  {
   "cell_type": "code",
   "execution_count": 53,
   "metadata": {},
   "outputs": [
    {
     "name": "stdout",
     "output_type": "stream",
     "text": [
      "[('Y', 1, '하나'), ('U', 2, '둘'), ('N', 3, '셋')]\n",
      "{('Y', 1, '하나'), ('N', 3, '셋'), ('U', 2, '둘')}\n",
      "{'Y': 1, 'U': 2, 'N': 3}\n"
     ]
    }
   ],
   "source": [
    "a = \"YUN\"\n",
    "b= [1,2,3]\n",
    "c= ('하나','둘','셋')\n",
    "\n",
    "print(list(zip(a,b,c)))\n",
    "print(set(zip(a,b,c,)))\n",
    "print(dict(zip(a,b)))\n"
   ]
  },
  {
   "cell_type": "code",
   "execution_count": 10,
   "metadata": {},
   "outputs": [
    {
     "name": "stdout",
     "output_type": "stream",
     "text": [
      "51 67 98 합계: 216\n"
     ]
    }
   ],
   "source": [
    "# eval() 함수 사용\n",
    "cr=input('3명의 국어점수(51,67,98)입력:') # 51,67,98 이런식으로 입력해야됨\n",
    "k1,k2,k3=eval(cr)\n",
    "print(k1,k2,k3,'합계:',k1+k2+k3)"
   ]
  },
  {
   "cell_type": "code",
   "execution_count": 12,
   "metadata": {},
   "outputs": [
    {
     "name": "stdout",
     "output_type": "stream",
     "text": [
      "당신의 이름은 서인혁, 나이는 28살, 직업은 데이터 분석가입니다.\n"
     ]
    }
   ],
   "source": [
    "# 포맷팅 연습\n",
    "\n",
    "name = input('당신의 이름을 입력하세요:')\n",
    "age = input('나이를 입력해 주세요')\n",
    "job = input('당신의 직업을 입력해주세요')\n",
    "\n",
    "print('당신의 이름은 {}, 나이는 {}살, 직업은 {}입니다.'.format(name, age, job))"
   ]
  },
  {
   "cell_type": "code",
   "execution_count": null,
   "metadata": {},
   "outputs": [],
   "source": []
  },
  {
   "cell_type": "code",
   "execution_count": null,
   "metadata": {},
   "outputs": [],
   "source": []
  }
 ],
 "metadata": {
  "kernelspec": {
   "display_name": "py3.8",
   "language": "python",
   "name": "py3.8"
  },
  "language_info": {
   "codemirror_mode": {
    "name": "ipython",
    "version": 3
   },
   "file_extension": ".py",
   "mimetype": "text/x-python",
   "name": "python",
   "nbconvert_exporter": "python",
   "pygments_lexer": "ipython3",
   "version": "3.8.0"
  },
  "orig_nbformat": 4
 },
 "nbformat": 4,
 "nbformat_minor": 2
}
