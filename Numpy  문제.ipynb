{
 "cells": [
  {
   "cell_type": "code",
   "execution_count": 61,
   "id": "e2475af5",
   "metadata": {},
   "outputs": [],
   "source": [
    "import numpy as np"
   ]
  },
  {
   "cell_type": "code",
   "execution_count": 3,
   "id": "310697a8",
   "metadata": {},
   "outputs": [
    {
     "name": "stdout",
     "output_type": "stream",
     "text": [
      "[0. 0. 0. 0. 0. 0. 0. 0. 0. 0.]\n"
     ]
    }
   ],
   "source": [
    "a=np.zeros(10)\n",
    "print(a)"
   ]
  },
  {
   "cell_type": "code",
   "execution_count": 5,
   "id": "9106a811",
   "metadata": {},
   "outputs": [
    {
     "name": "stdout",
     "output_type": "stream",
     "text": [
      "[0. 0. 0. 0. 1. 0. 0. 0. 0. 0.]\n"
     ]
    }
   ],
   "source": [
    "a=np.zeros(10)\n",
    "a[4]=1\n",
    "print(a)"
   ]
  },
  {
   "cell_type": "code",
   "execution_count": 9,
   "id": "c8d5b9d7",
   "metadata": {},
   "outputs": [
    {
     "data": {
      "text/plain": [
       "array([10, 11, 12, 13, 14, 15, 16, 17, 18, 19, 20, 21, 22, 23, 24, 25, 26,\n",
       "       27, 28, 29, 30, 31, 32, 33, 34, 35, 36, 37, 38, 39, 40, 41, 42, 43,\n",
       "       44, 45, 46, 47, 48])"
      ]
     },
     "execution_count": 9,
     "metadata": {},
     "output_type": "execute_result"
    }
   ],
   "source": [
    "z=np.arange(10,49)\n",
    "z"
   ]
  },
  {
   "cell_type": "code",
   "execution_count": 14,
   "id": "80734c09",
   "metadata": {},
   "outputs": [
    {
     "name": "stdout",
     "output_type": "stream",
     "text": [
      "[[0 1 2]\n",
      " [3 4 5]\n",
      " [6 7 8]]\n"
     ]
    }
   ],
   "source": [
    "s=np.arange(9).reshape(3,3)\n",
    "print(s)"
   ]
  },
  {
   "cell_type": "code",
   "execution_count": 17,
   "id": "d6475da3",
   "metadata": {},
   "outputs": [
    {
     "name": "stdout",
     "output_type": "stream",
     "text": [
      "[[[0.44758252 0.38308884 0.808728  ]\n",
      "  [0.33752315 0.87081354 0.97841617]\n",
      "  [0.4916028  0.26290097 0.34776723]]\n",
      "\n",
      " [[0.33078762 0.94704885 0.57702506]\n",
      "  [0.13979175 0.37903831 0.60793645]\n",
      "  [0.94406315 0.81920202 0.89883161]]\n",
      "\n",
      " [[0.77592167 0.79761214 0.07170947]\n",
      "  [0.0293565  0.80871043 0.29713517]\n",
      "  [0.09279232 0.99816107 0.5156411 ]]]\n"
     ]
    }
   ],
   "source": [
    "a=np.random.rand(3,3,3)\n",
    "print(a)"
   ]
  },
  {
   "cell_type": "code",
   "execution_count": 26,
   "id": "726bf638",
   "metadata": {},
   "outputs": [
    {
     "data": {
      "text/plain": [
       "array([0.73468682, 0.33800882, 0.18890827, 0.98753963, 0.25856428,\n",
       "       0.58619607, 0.68751125, 0.7542009 , 0.84496485, 0.37360423,\n",
       "       0.46403471, 0.11505232, 0.15377969, 0.30955311, 0.47355555,\n",
       "       0.47776702, 0.35912177, 0.68046879, 0.68439615, 0.36141974,\n",
       "       0.12152471, 0.35364136, 0.87863559, 0.19515653, 0.44994002,\n",
       "       0.96929367, 0.77571242, 0.27156895, 0.77780079, 0.84387766])"
      ]
     },
     "execution_count": 26,
     "metadata": {},
     "output_type": "execute_result"
    }
   ],
   "source": [
    "a=np.random.rand(30)\n",
    "a"
   ]
  },
  {
   "cell_type": "code",
   "execution_count": 27,
   "id": "87ec12df",
   "metadata": {},
   "outputs": [
    {
     "name": "stdout",
     "output_type": "stream",
     "text": [
      "0.5156828566374003\n"
     ]
    }
   ],
   "source": [
    "# 위에 전체의 평균 구하기\n",
    "m=a.mean()\n",
    "print(m)"
   ]
  },
  {
   "cell_type": "code",
   "execution_count": null,
   "id": "dbba8914",
   "metadata": {},
   "outputs": [],
   "source": []
  },
  {
   "cell_type": "code",
   "execution_count": 28,
   "id": "4b736896",
   "metadata": {},
   "outputs": [
    {
     "name": "stdout",
     "output_type": "stream",
     "text": [
      "[10, 20, 30, 70, 80, 90]\n"
     ]
    }
   ],
   "source": [
    "mid_score=[10,20,30]\n",
    "final_score=[70,80,90]\n",
    "total=mid_score+final_score\n",
    "print(total)"
   ]
  },
  {
   "cell_type": "code",
   "execution_count": 29,
   "id": "3026321d",
   "metadata": {},
   "outputs": [],
   "source": [
    "import numpy as np"
   ]
  },
  {
   "cell_type": "code",
   "execution_count": 30,
   "id": "c5513351",
   "metadata": {},
   "outputs": [],
   "source": [
    "mid_score=np.array([10,20,30])\n",
    "final_score=np.array([70,80,90])"
   ]
  },
  {
   "cell_type": "code",
   "execution_count": 31,
   "id": "2212fbe7",
   "metadata": {},
   "outputs": [],
   "source": [
    "total=mid_score+final_score"
   ]
  },
  {
   "cell_type": "code",
   "execution_count": 32,
   "id": "803a113a",
   "metadata": {
    "scrolled": true
   },
   "outputs": [
    {
     "data": {
      "text/plain": [
       "array([ 80, 100, 120])"
      ]
     },
     "execution_count": 32,
     "metadata": {},
     "output_type": "execute_result"
    }
   ],
   "source": [
    "total"
   ]
  },
  {
   "cell_type": "code",
   "execution_count": 34,
   "id": "37160a3e",
   "metadata": {
    "scrolled": true
   },
   "outputs": [
    {
     "name": "stdout",
     "output_type": "stream",
     "text": [
      "시험 성적의 합계: [ 80 100 120]\n"
     ]
    }
   ],
   "source": [
    "print(\"시험 성적의 합계:\",total)\n"
   ]
  },
  {
   "cell_type": "code",
   "execution_count": 38,
   "id": "a88c7742",
   "metadata": {},
   "outputs": [
    {
     "name": "stdout",
     "output_type": "stream",
     "text": [
      "시험 성적의 평균: [40. 50. 60.]\n"
     ]
    }
   ],
   "source": [
    "print(\"시험 성적의 평균:\",total/2)"
   ]
  },
  {
   "cell_type": "code",
   "execution_count": 41,
   "id": "622d760c",
   "metadata": {},
   "outputs": [],
   "source": [
    "array_a=np.arange(0,10)\n",
    "array_b=np.arange(0,10)\n",
    "array_c=np.arange(0,10,2)"
   ]
  },
  {
   "cell_type": "code",
   "execution_count": 44,
   "id": "9a9cf977",
   "metadata": {
    "scrolled": true
   },
   "outputs": [
    {
     "name": "stdout",
     "output_type": "stream",
     "text": [
      "[0 1 2 3 4 5 6 7 8 9]\n"
     ]
    }
   ],
   "source": [
    "array_b=np.array(range(10))\n",
    "print(array_b)"
   ]
  },
  {
   "cell_type": "code",
   "execution_count": 46,
   "id": "2bf36c4f",
   "metadata": {},
   "outputs": [
    {
     "name": "stdout",
     "output_type": "stream",
     "text": [
      "[0 2 4 6 8]\n"
     ]
    }
   ],
   "source": [
    "array_c=np.array(range(0,10,2))\n",
    "print(array_c)"
   ]
  },
  {
   "cell_type": "code",
   "execution_count": 48,
   "id": "78579175",
   "metadata": {},
   "outputs": [
    {
     "data": {
      "text/plain": [
       "dtype('int32')"
      ]
     },
     "execution_count": 48,
     "metadata": {},
     "output_type": "execute_result"
    }
   ],
   "source": [
    "array_c.dtype"
   ]
  },
  {
   "cell_type": "code",
   "execution_count": 52,
   "id": "451a4c3b",
   "metadata": {
    "scrolled": true
   },
   "outputs": [
    {
     "data": {
      "text/plain": [
       "4"
      ]
     },
     "execution_count": 52,
     "metadata": {},
     "output_type": "execute_result"
    }
   ],
   "source": [
    "array_c.itemsize"
   ]
  },
  {
   "cell_type": "code",
   "execution_count": 53,
   "id": "3fc876b6",
   "metadata": {},
   "outputs": [],
   "source": [
    "salary=np.array([220,250,230])\n",
    "salary=salary+100"
   ]
  },
  {
   "cell_type": "code",
   "execution_count": 55,
   "id": "23ec3209",
   "metadata": {},
   "outputs": [
    {
     "data": {
      "text/plain": [
       "array([640, 700, 660])"
      ]
     },
     "execution_count": 55,
     "metadata": {},
     "output_type": "execute_result"
    }
   ],
   "source": [
    "salary*2"
   ]
  },
  {
   "cell_type": "code",
   "execution_count": 74,
   "id": "e62e76cd",
   "metadata": {},
   "outputs": [],
   "source": [
    "players=[[170,76.4],[183,86.2],[171,73.5],[176,80.1]]"
   ]
  },
  {
   "cell_type": "code",
   "execution_count": 75,
   "id": "5e323def",
   "metadata": {},
   "outputs": [],
   "source": [
    "np_players=np.array(players)"
   ]
  },
  {
   "cell_type": "code",
   "execution_count": 79,
   "id": "7a13a258",
   "metadata": {},
   "outputs": [
    {
     "name": "stdout",
     "output_type": "stream",
     "text": [
      "몸무게가 80이이상인 선수의 정보 [[183.   86.2]\n",
      " [176.   80.1]]\n"
     ]
    }
   ],
   "source": [
    "print('몸무게가 80이이상인 선수의 정보',np_players[np_players[:,1]>=80.0])"
   ]
  },
  {
   "cell_type": "code",
   "execution_count": 80,
   "id": "cc311fee",
   "metadata": {},
   "outputs": [
    {
     "data": {
      "text/plain": [
       "array([[170. ,  76.4],\n",
       "       [183. ,  86.2],\n",
       "       [171. ,  73.5],\n",
       "       [176. ,  80.1]])"
      ]
     },
     "execution_count": 80,
     "metadata": {},
     "output_type": "execute_result"
    }
   ],
   "source": [
    "np_players"
   ]
  },
  {
   "cell_type": "code",
   "execution_count": 88,
   "id": "a863aa25",
   "metadata": {
    "scrolled": true
   },
   "outputs": [
    {
     "name": "stdout",
     "output_type": "stream",
     "text": [
      "키가 180이이상인 선수의 정보 [[183.   86.2]]\n"
     ]
    }
   ],
   "source": [
    "print('키가 180이이상인 선수의 정보',np_players[np_players[:,0]>=180.0])"
   ]
  },
  {
   "cell_type": "code",
   "execution_count": 102,
   "id": "fd02f5ad",
   "metadata": {},
   "outputs": [],
   "source": [
    "revenue_in_yen=[320,240,450,450,120,320,240,450,450,120,320,240,450,450,120,320,240,450,450,120,320,240,450,450,120,320,240,450,450,120]"
   ]
  },
  {
   "cell_type": "code",
   "execution_count": 103,
   "id": "db57101b",
   "metadata": {},
   "outputs": [],
   "source": [
    "yen_array=np.array(revenue_in_yen)"
   ]
  },
  {
   "cell_type": "code",
   "execution_count": 104,
   "id": "d0e47302",
   "metadata": {},
   "outputs": [
    {
     "data": {
      "text/plain": [
       "30"
      ]
     },
     "execution_count": 104,
     "metadata": {},
     "output_type": "execute_result"
    }
   ],
   "source": [
    "yen_array.size"
   ]
  },
  {
   "cell_type": "code",
   "execution_count": 105,
   "id": "39dbe02d",
   "metadata": {},
   "outputs": [],
   "source": [
    "won_array=yen_array*9.7\n"
   ]
  },
  {
   "cell_type": "code",
   "execution_count": 106,
   "id": "81223501",
   "metadata": {},
   "outputs": [
    {
     "data": {
      "text/plain": [
       "array([3104., 2328., 4365., 4365., 1164., 3104., 2328., 4365., 4365.,\n",
       "       1164., 3104., 2328., 4365., 4365., 1164., 3104., 2328., 4365.,\n",
       "       4365., 1164., 3104., 2328., 4365., 4365., 1164., 3104., 2328.,\n",
       "       4365., 4365., 1164.])"
      ]
     },
     "execution_count": 106,
     "metadata": {},
     "output_type": "execute_result"
    }
   ],
   "source": [
    "won_array"
   ]
  },
  {
   "cell_type": "code",
   "execution_count": 115,
   "id": "fc931beb",
   "metadata": {},
   "outputs": [],
   "source": [
    "doller_array=yen_array*1391"
   ]
  },
  {
   "cell_type": "code",
   "execution_count": 116,
   "id": "061c0582",
   "metadata": {},
   "outputs": [
    {
     "data": {
      "text/plain": [
       "array([445120, 333840, 625950, 625950, 166920, 445120, 333840, 625950,\n",
       "       625950, 166920, 445120, 333840, 625950, 625950, 166920, 445120,\n",
       "       333840, 625950, 625950, 166920, 445120, 333840, 625950, 625950,\n",
       "       166920, 445120, 333840, 625950, 625950, 166920])"
      ]
     },
     "execution_count": 116,
     "metadata": {},
     "output_type": "execute_result"
    }
   ],
   "source": [
    "doller_array"
   ]
  },
  {
   "cell_type": "code",
   "execution_count": 117,
   "id": "6070d86b",
   "metadata": {},
   "outputs": [
    {
     "data": {
      "text/plain": [
       "array([445564.8, 334173.6, 626575.5, 626575.5, 167086.8, 445564.8,\n",
       "       334173.6, 626575.5, 626575.5, 167086.8, 445564.8, 334173.6,\n",
       "       626575.5, 626575.5, 167086.8, 445564.8, 334173.6, 626575.5,\n",
       "       626575.5, 167086.8, 445564.8, 334173.6, 626575.5, 626575.5,\n",
       "       167086.8, 445564.8, 334173.6, 626575.5, 626575.5, 167086.8])"
      ]
     },
     "execution_count": 117,
     "metadata": {},
     "output_type": "execute_result"
    }
   ],
   "source": [
    "total=won_array+doller_array\n",
    "total"
   ]
  },
  {
   "cell_type": "code",
   "execution_count": 122,
   "id": "3f30a611",
   "metadata": {
    "scrolled": true
   },
   "outputs": [
    {
     "data": {
      "text/plain": [
       "array([44480., 33360., 62550., 62550., 16680., 44480., 33360., 62550.,\n",
       "       62550., 16680., 44480., 33360., 62550., 62550., 16680., 44480.,\n",
       "       33360., 62550., 62550., 16680., 44480., 33360., 62550., 62550.,\n",
       "       16680., 44480., 33360., 62550., 62550., 16680.])"
      ]
     },
     "execution_count": 122,
     "metadata": {},
     "output_type": "execute_result"
    }
   ],
   "source": [
    "new_array=won_array*100\n",
    "new_array"
   ]
  },
  {
   "cell_type": "code",
   "execution_count": 123,
   "id": "443588d0",
   "metadata": {},
   "outputs": [
    {
     "data": {
      "text/plain": [
       "array([444, 333, 625, 625, 166, 444, 333, 625, 625, 166, 444, 333, 625,\n",
       "       625, 166, 444, 333, 625, 625, 166, 444, 333, 625, 625, 166, 444,\n",
       "       333, 625, 625, 166], dtype=int64)"
      ]
     },
     "execution_count": 123,
     "metadata": {},
     "output_type": "execute_result"
    }
   ],
   "source": [
    "won_array.astype(\"int64\")"
   ]
  },
  {
   "cell_type": "code",
   "execution_count": 124,
   "id": "f6791d02",
   "metadata": {},
   "outputs": [
    {
     "name": "stdout",
     "output_type": "stream",
     "text": [
      "[44480. 33360. 62550. 62550. 16680. 44480. 33360. 62550. 62550. 16680.\n",
      " 44480. 33360. 62550. 62550. 16680. 44480. 33360. 62550. 62550. 16680.\n",
      " 44480. 33360. 62550. 62550. 16680. 44480. 33360. 62550. 62550. 16680.]\n"
     ]
    }
   ],
   "source": [
    "print(new_array)"
   ]
  },
  {
   "cell_type": "code",
   "execution_count": 131,
   "id": "cd627f12",
   "metadata": {},
   "outputs": [
    {
     "data": {
      "text/plain": [
       "array([44480., 33360., 16680., 44480., 33360., 16680., 44480., 33360.,\n",
       "       16680., 44480., 33360., 16680., 44480., 33360., 16680., 44480.,\n",
       "       33360., 16680.])"
      ]
     },
     "execution_count": 131,
     "metadata": {},
     "output_type": "execute_result"
    }
   ],
   "source": [
    "sad_days_revenue=new_array[new_array<=50000]\n",
    "sad_days_revenue"
   ]
  },
  {
   "cell_type": "markdown",
   "id": "503aba93",
   "metadata": {},
   "source": [
    "# 연습\n",
    "    #1부터 50까지 짝수만 원소로 갖은 넘파이 배열 생성"
   ]
  },
  {
   "cell_type": "code",
   "execution_count": 7,
   "id": "860a14a5",
   "metadata": {},
   "outputs": [
    {
     "data": {
      "text/plain": [
       "array([ 2,  4,  6,  8, 10, 12, 14, 16, 18, 20, 22, 24, 26, 28, 30, 32, 34,\n",
       "       36, 38, 40, 42, 44, 46, 48, 50])"
      ]
     },
     "execution_count": 7,
     "metadata": {},
     "output_type": "execute_result"
    }
   ],
   "source": [
    "array_r=np.arange(2,51,2)\n",
    "array_r"
   ]
  },
  {
   "cell_type": "markdown",
   "id": "9fa6b673",
   "metadata": {},
   "source": [
    "   - 1번0을 원소로 갖은 4*4배열 생성\n",
    "   - 2번1을 원소로 갖는 10*10베열 생성\n",
    "   - 3번본인이 좋아하는 숫자를 원소로 갖는 7*4배열 생성"
   ]
  },
  {
   "cell_type": "code",
   "execution_count": 9,
   "id": "0c38e185",
   "metadata": {},
   "outputs": [
    {
     "data": {
      "text/plain": [
       "array([[1., 1., 1., 1., 1., 1., 1., 1., 1., 1.],\n",
       "       [1., 1., 1., 1., 1., 1., 1., 1., 1., 1.],\n",
       "       [1., 1., 1., 1., 1., 1., 1., 1., 1., 1.],\n",
       "       [1., 1., 1., 1., 1., 1., 1., 1., 1., 1.],\n",
       "       [1., 1., 1., 1., 1., 1., 1., 1., 1., 1.],\n",
       "       [1., 1., 1., 1., 1., 1., 1., 1., 1., 1.],\n",
       "       [1., 1., 1., 1., 1., 1., 1., 1., 1., 1.],\n",
       "       [1., 1., 1., 1., 1., 1., 1., 1., 1., 1.],\n",
       "       [1., 1., 1., 1., 1., 1., 1., 1., 1., 1.],\n",
       "       [1., 1., 1., 1., 1., 1., 1., 1., 1., 1.]])"
      ]
     },
     "execution_count": 9,
     "metadata": {},
     "output_type": "execute_result"
    }
   ],
   "source": [
    "#1번\n",
    "arr_ex01=np.ones((10,10))\n",
    "arr_ex01"
   ]
  },
  {
   "cell_type": "code",
   "execution_count": 11,
   "id": "c614b7cd",
   "metadata": {
    "scrolled": true
   },
   "outputs": [
    {
     "data": {
      "text/plain": [
       "array([[4, 4, 4, 4],\n",
       "       [4, 4, 4, 4],\n",
       "       [4, 4, 4, 4],\n",
       "       [4, 4, 4, 4],\n",
       "       [4, 4, 4, 4],\n",
       "       [4, 4, 4, 4],\n",
       "       [4, 4, 4, 4]])"
      ]
     },
     "execution_count": 11,
     "metadata": {},
     "output_type": "execute_result"
    }
   ],
   "source": [
    "#2번\n",
    "arr_ex03=np.full((7,4),4)\n",
    "arr_ex03"
   ]
  },
  {
   "cell_type": "code",
   "execution_count": 12,
   "id": "1dd3538c",
   "metadata": {},
   "outputs": [
    {
     "data": {
      "text/plain": [
       "array([ 3,  6,  9, 12, 15, 18, 21, 24, 27, 30, 33, 36, 39, 42, 45, 48, 51,\n",
       "       54, 57, 60, 63, 66, 69, 72, 75, 78, 81, 84, 87, 90, 93, 96, 99])"
      ]
     },
     "execution_count": 12,
     "metadata": {},
     "output_type": "execute_result"
    }
   ],
   "source": [
    "#1부터 100까지 원소중에 3의 배수를 원소로 갖는 넘파이 배열 생성\n",
    "arr_ex04=np.arange(3,101,3)\n",
    "arr_ex04"
   ]
  },
  {
   "cell_type": "markdown",
   "id": "f296dcbc",
   "metadata": {},
   "source": [
    "- 만들어진 3의 배수를 원소로 갖는 넘파이 배열의(원소)개수를 구하고,reshape함수를 이용하여 2차원 배열을 생성하시오\n",
    "- 생성된 2차원 배열의 크기(shape)를 구하시오"
   ]
  },
  {
   "cell_type": "code",
   "execution_count": 13,
   "id": "6e705073",
   "metadata": {},
   "outputs": [
    {
     "data": {
      "text/plain": [
       "33"
      ]
     },
     "execution_count": 13,
     "metadata": {},
     "output_type": "execute_result"
    }
   ],
   "source": [
    "# 개수\n",
    "arr_ex04.size"
   ]
  },
  {
   "cell_type": "code",
   "execution_count": 17,
   "id": "04ffd5bc",
   "metadata": {},
   "outputs": [
    {
     "name": "stdout",
     "output_type": "stream",
     "text": [
      "[[ 3  6  9]\n",
      " [12 15 18]\n",
      " [21 24 27]\n",
      " [30 33 36]\n",
      " [39 42 45]\n",
      " [48 51 54]\n",
      " [57 60 63]\n",
      " [66 69 72]\n",
      " [75 78 81]\n",
      " [84 87 90]\n",
      " [93 96 99]]\n"
     ]
    }
   ],
   "source": [
    "arr_ex05=arr_ex04.reshape((11,3))\n",
    "print(arr_ex05)\n"
   ]
  },
  {
   "cell_type": "code",
   "execution_count": 18,
   "id": "dc255d0a",
   "metadata": {
    "scrolled": true
   },
   "outputs": [
    {
     "data": {
      "text/plain": [
       "(11, 3)"
      ]
     },
     "execution_count": 18,
     "metadata": {},
     "output_type": "execute_result"
    }
   ],
   "source": [
    "#배열 크기 구하기\n",
    "arr_ex05.shape"
   ]
  },
  {
   "cell_type": "code",
   "execution_count": null,
   "id": "66ae9921",
   "metadata": {},
   "outputs": [],
   "source": []
  },
  {
   "cell_type": "code",
   "execution_count": null,
   "id": "d1e8be12",
   "metadata": {},
   "outputs": [],
   "source": [
    "import random"
   ]
  },
  {
   "cell_type": "markdown",
   "id": "90666ff2",
   "metadata": {},
   "source": [
    "# 1.0~1사이에 값을 랜덤하게 가지는 6*4 배열을 생성하시오,\n",
    "# 2.1~100 사이의 값을 랜덤하게 가지는 5*5 배열을 생성하시오\n",
    "# 3.astype을 사용하여 2번의 배열을 실수 형태로의 원소를 가지는 배열로 바꾸시오"
   ]
  },
  {
   "cell_type": "code",
   "execution_count": 28,
   "id": "696d329b",
   "metadata": {},
   "outputs": [
    {
     "data": {
      "text/plain": [
       "array([[0.63557702, 0.1578608 , 0.32511825, 0.91152864],\n",
       "       [0.47089746, 0.40798423, 0.04978622, 0.70969643],\n",
       "       [0.01803126, 0.08277833, 0.34544576, 0.71749724],\n",
       "       [0.05389672, 0.68248928, 0.24089265, 0.72549078],\n",
       "       [0.78834083, 0.96369136, 0.56688466, 0.00901211],\n",
       "       [0.0820371 , 0.22130193, 0.08785787, 0.95213051]])"
      ]
     },
     "execution_count": 28,
     "metadata": {},
     "output_type": "execute_result"
    }
   ],
   "source": [
    "#1번\n",
    "e=np.random.rand(6,4)\n",
    "e"
   ]
  },
  {
   "cell_type": "code",
   "execution_count": 33,
   "id": "6897a64c",
   "metadata": {},
   "outputs": [
    {
     "data": {
      "text/plain": [
       "array([[97, 44,  5,  3, 39],\n",
       "       [43, 48, 39, 56, 23],\n",
       "       [74, 90, 33, 59, 54],\n",
       "       [92, 66,  4, 60, 54],\n",
       "       [49,  6, 91, 92, 46]])"
      ]
     },
     "execution_count": 33,
     "metadata": {},
     "output_type": "execute_result"
    }
   ],
   "source": [
    "#2번\n",
    "randint_arr=np.random.randint(1,100,(5,5))\n",
    "randint_arr"
   ]
  },
  {
   "cell_type": "code",
   "execution_count": 34,
   "id": "c6fd846c",
   "metadata": {},
   "outputs": [
    {
     "data": {
      "text/plain": [
       "array([[97., 44.,  5.,  3., 39.],\n",
       "       [43., 48., 39., 56., 23.],\n",
       "       [74., 90., 33., 59., 54.],\n",
       "       [92., 66.,  4., 60., 54.],\n",
       "       [49.,  6., 91., 92., 46.]])"
      ]
     },
     "execution_count": 34,
     "metadata": {},
     "output_type": "execute_result"
    }
   ],
   "source": [
    "#3번\n",
    "arr_float=randint_arr.astype('float64')\n",
    "arr_float"
   ]
  },
  {
   "cell_type": "markdown",
   "id": "4f8b851e",
   "metadata": {},
   "source": [
    "-  주어진 배열에서 3,4,8,9 원소만 가져오기\n",
    "-  주어진 배열에서 6,7,8 원소만 가져오기"
   ]
  },
  {
   "cell_type": "code",
   "execution_count": 35,
   "id": "03b453f5",
   "metadata": {},
   "outputs": [
    {
     "name": "stdout",
     "output_type": "stream",
     "text": [
      "[[0 1 2 3 4]\n",
      " [5 6 7 8 9]]\n"
     ]
    }
   ],
   "source": [
    "x=np.arange(10).reshape(2,5)\n",
    "print(x)"
   ]
  },
  {
   "cell_type": "code",
   "execution_count": 38,
   "id": "a90493e3",
   "metadata": {},
   "outputs": [
    {
     "data": {
      "text/plain": [
       "array([[3, 4],\n",
       "       [8, 9]])"
      ]
     },
     "execution_count": 38,
     "metadata": {},
     "output_type": "execute_result"
    }
   ],
   "source": [
    "x[:,3:6]"
   ]
  },
  {
   "cell_type": "code",
   "execution_count": 39,
   "id": "ff55af26",
   "metadata": {},
   "outputs": [
    {
     "data": {
      "text/plain": [
       "array([6, 7, 8])"
      ]
     },
     "execution_count": 39,
     "metadata": {},
     "output_type": "execute_result"
    }
   ],
   "source": [
    "x[1,1:4]"
   ]
  },
  {
   "cell_type": "code",
   "execution_count": null,
   "id": "2bc374ee",
   "metadata": {},
   "outputs": [],
   "source": [
    "#1.(3,8,13)원소 가져오기\n",
    "#2.(5,6,7,8,9) 원소 가져오기\n",
    "#3. (1,2,3,4,5,6,7,) 원소 가져오기"
   ]
  },
  {
   "cell_type": "code",
   "execution_count": 49,
   "id": "02474f9d",
   "metadata": {
    "scrolled": true
   },
   "outputs": [
    {
     "name": "stdout",
     "output_type": "stream",
     "text": [
      "[[ 0  1  2  3  4]\n",
      " [ 5  6  7  8  9]\n",
      " [10 11 12 13 14]]\n"
     ]
    }
   ],
   "source": [
    "y=np.arange(15).reshape(3,5)\n",
    "print(y)"
   ]
  },
  {
   "cell_type": "code",
   "execution_count": 53,
   "id": "d4ec238e",
   "metadata": {},
   "outputs": [
    {
     "name": "stdout",
     "output_type": "stream",
     "text": [
      "[[ 3]\n",
      " [ 8]\n",
      " [13]]\n"
     ]
    }
   ],
   "source": [
    "print(y[:,3:4])"
   ]
  },
  {
   "cell_type": "code",
   "execution_count": 55,
   "id": "53f15c9c",
   "metadata": {},
   "outputs": [
    {
     "data": {
      "text/plain": [
       "array([5, 6, 7, 8, 9])"
      ]
     },
     "execution_count": 55,
     "metadata": {},
     "output_type": "execute_result"
    }
   ],
   "source": [
    "y[1,:]"
   ]
  },
  {
   "cell_type": "code",
   "execution_count": 58,
   "id": "c510135d",
   "metadata": {},
   "outputs": [
    {
     "data": {
      "text/plain": [
       "array([[1, 2, 3, 4],\n",
       "       [6, 7, 8, 9]])"
      ]
     },
     "execution_count": 58,
     "metadata": {},
     "output_type": "execute_result"
    }
   ],
   "source": [
    "y[:2,1:4]\n"
   ]
  },
  {
   "cell_type": "code",
   "execution_count": 70,
   "id": "c5196a35",
   "metadata": {},
   "outputs": [
    {
     "data": {
      "text/plain": [
       "array([[ 1,  2,  3,  4],\n",
       "       [ 5,  6,  7,  8],\n",
       "       [ 9, 10, 11, 12]])"
      ]
     },
     "execution_count": 70,
     "metadata": {},
     "output_type": "execute_result"
    }
   ],
   "source": [
    "arr2d=np.arange(1,13).reshape(3,4)\n",
    "arr2d"
   ]
  },
  {
   "cell_type": "code",
   "execution_count": 66,
   "id": "ae0a0aab",
   "metadata": {},
   "outputs": [],
   "source": [
    "# arr2d에서 5보다 작거나 같은 값만 추출하시오"
   ]
  },
  {
   "cell_type": "code",
   "execution_count": 72,
   "id": "5fecab4c",
   "metadata": {},
   "outputs": [
    {
     "data": {
      "text/plain": [
       "array([1, 2, 3, 4, 5])"
      ]
     },
     "execution_count": 72,
     "metadata": {},
     "output_type": "execute_result"
    }
   ],
   "source": [
    "arr2d[arr2d <=5]\n"
   ]
  },
  {
   "cell_type": "markdown",
   "id": "0e1fa8a9",
   "metadata": {},
   "source": [
    "## arr2d에서 3의 배수만 추출하기"
   ]
  },
  {
   "cell_type": "code",
   "execution_count": 75,
   "id": "5f956308",
   "metadata": {
    "scrolled": true
   },
   "outputs": [
    {
     "data": {
      "text/plain": [
       "array([ 3,  6,  9, 12])"
      ]
     },
     "execution_count": 75,
     "metadata": {},
     "output_type": "execute_result"
    }
   ],
   "source": [
    "arr2d[arr2d%3==0]"
   ]
  },
  {
   "cell_type": "markdown",
   "id": "12a78843",
   "metadata": {},
   "source": [
    "## &: AND\n",
    "## I:OR"
   ]
  },
  {
   "cell_type": "code",
   "execution_count": 76,
   "id": "a5256ecb",
   "metadata": {},
   "outputs": [
    {
     "data": {
      "text/plain": [
       "array([ 7, 30, 30, 78, 63, 40, 82,  7, 57, 56])"
      ]
     },
     "execution_count": 76,
     "metadata": {},
     "output_type": "execute_result"
    }
   ],
   "source": [
    "x=np.random.randint(1,100, size=10)\n",
    "x"
   ]
  },
  {
   "cell_type": "code",
   "execution_count": 77,
   "id": "3497bfee",
   "metadata": {},
   "outputs": [
    {
     "data": {
      "text/plain": [
       "array([30, 30, 78, 40, 82, 56])"
      ]
     },
     "execution_count": 77,
     "metadata": {},
     "output_type": "execute_result"
    }
   ],
   "source": [
    "#2의 배수 추출하기\n",
    "x[x%2==0]"
   ]
  },
  {
   "cell_type": "code",
   "execution_count": 78,
   "id": "d315836a",
   "metadata": {},
   "outputs": [
    {
     "data": {
      "text/plain": [
       "array([78, 63, 82])"
      ]
     },
     "execution_count": 78,
     "metadata": {},
     "output_type": "execute_result"
    }
   ],
   "source": [
    "#60이상 배수 추출하기\n",
    "x[x>=60]"
   ]
  },
  {
   "cell_type": "markdown",
   "id": "8f44343d",
   "metadata": {},
   "source": [
    "- x에서 30보다 크고 70보다 작은 수만 추출하기\n",
    "-  x에서 60보다 크거나 홀수인 수를 추출하기"
   ]
  },
  {
   "cell_type": "code",
   "execution_count": 80,
   "id": "94a76167",
   "metadata": {},
   "outputs": [
    {
     "data": {
      "text/plain": [
       "array([63, 40, 57, 56])"
      ]
     },
     "execution_count": 80,
     "metadata": {},
     "output_type": "execute_result"
    }
   ],
   "source": [
    "x[(x<70)&(x>30)]\n"
   ]
  },
  {
   "cell_type": "code",
   "execution_count": 86,
   "id": "bb3ac281",
   "metadata": {},
   "outputs": [
    {
     "data": {
      "text/plain": [
       "array([ 7, 78, 63, 82,  7, 57])"
      ]
     },
     "execution_count": 86,
     "metadata": {},
     "output_type": "execute_result"
    }
   ],
   "source": [
    "x[(x>60)|(x%2!=0)]"
   ]
  },
  {
   "cell_type": "code",
   "execution_count": 84,
   "id": "d56c04ca",
   "metadata": {},
   "outputs": [],
   "source": [
    "temp = np.array(\n",
    "        [23.9, 24.4, 24.1, 25.4, 27.6, 29.7,\n",
    "         26.7, 25.1, 25.0, 22.7, 21.9, 23.6, \n",
    "        24.9, 25.9, 23.8, 24.7, 25.6, 26.9, \n",
    "         28.6, 28.0, 25.1, 26.7, 28.1, 26.5, \n",
    "         26.3, 25.9, 28.4, 26.1, 27.5, 28.1, 25.8])"
   ]
  },
  {
   "cell_type": "code",
   "execution_count": 85,
   "id": "1d7aa938",
   "metadata": {},
   "outputs": [
    {
     "data": {
      "text/plain": [
       "31"
      ]
     },
     "execution_count": 85,
     "metadata": {},
     "output_type": "execute_result"
    }
   ],
   "source": [
    "len(temp)"
   ]
  },
  {
   "cell_type": "markdown",
   "id": "98b8028d",
   "metadata": {},
   "source": [
    "- 예제)2019년 7월 서울 기온 데이터\n",
    " - 기온이 25도를 넘는 날 수?\n",
    " - 기온이 25도를 넘는 날의 평균 기온은?"
   ]
  },
  {
   "cell_type": "code",
   "execution_count": 87,
   "id": "61d10787",
   "metadata": {},
   "outputs": [
    {
     "data": {
      "text/plain": [
       "21"
      ]
     },
     "execution_count": 87,
     "metadata": {},
     "output_type": "execute_result"
    }
   ],
   "source": [
    "len(temp[temp>25.0])"
   ]
  },
  {
   "cell_type": "code",
   "execution_count": 88,
   "id": "25da9b3e",
   "metadata": {},
   "outputs": [
    {
     "data": {
      "text/plain": [
       "array([False, False, False,  True,  True,  True,  True,  True, False,\n",
       "       False, False, False, False,  True, False, False,  True,  True,\n",
       "        True,  True,  True,  True,  True,  True,  True,  True,  True,\n",
       "        True,  True,  True,  True])"
      ]
     },
     "execution_count": 88,
     "metadata": {},
     "output_type": "execute_result"
    }
   ],
   "source": [
    "temp>25.0"
   ]
  },
  {
   "cell_type": "code",
   "execution_count": 89,
   "id": "ccc069e9",
   "metadata": {},
   "outputs": [
    {
     "data": {
      "text/plain": [
       "21"
      ]
     },
     "execution_count": 89,
     "metadata": {},
     "output_type": "execute_result"
    }
   ],
   "source": [
    "np.sum(temp>25.0)"
   ]
  },
  {
   "cell_type": "code",
   "execution_count": 90,
   "id": "89b2e834",
   "metadata": {},
   "outputs": [
    {
     "data": {
      "text/plain": [
       "array([25.4, 27.6, 29.7, 26.7, 25.1, 25.9, 25.6, 26.9, 28.6, 28. , 25.1,\n",
       "       26.7, 28.1, 26.5, 26.3, 25.9, 28.4, 26.1, 27.5, 28.1, 25.8])"
      ]
     },
     "execution_count": 90,
     "metadata": {},
     "output_type": "execute_result"
    }
   ],
   "source": [
    "temp[temp>25.0]"
   ]
  },
  {
   "cell_type": "code",
   "execution_count": null,
   "id": "4d34676b",
   "metadata": {},
   "outputs": [],
   "source": []
  },
  {
   "cell_type": "code",
   "execution_count": 91,
   "id": "c4b2c27c",
   "metadata": {
    "scrolled": true
   },
   "outputs": [
    {
     "data": {
      "text/plain": [
       "26.857142857142858"
      ]
     },
     "execution_count": 91,
     "metadata": {},
     "output_type": "execute_result"
    }
   ],
   "source": [
    "# 평균 기온 구하기\n",
    "np.mean(temp[temp>25.0])"
   ]
  },
  {
   "cell_type": "markdown",
   "id": "5ea6458e",
   "metadata": {},
   "source": [
    "# 정렬:sort  은 저장이 안되뮤ㅠ"
   ]
  },
  {
   "cell_type": "code",
   "execution_count": 93,
   "id": "6ed0cce0",
   "metadata": {},
   "outputs": [
    {
     "data": {
      "text/plain": [
       "array([ 1, 10,  5,  8,  2,  4,  3,  6,  8,  7,  9])"
      ]
     },
     "execution_count": 93,
     "metadata": {},
     "output_type": "execute_result"
    }
   ],
   "source": [
    "#-1차원 정렬은 매우 간단\n",
    "arr= np.array([1,10,5,8,2,4,3,6,8,7,9])\n",
    "arr"
   ]
  },
  {
   "cell_type": "code",
   "execution_count": 94,
   "id": "3b3ac2b7",
   "metadata": {},
   "outputs": [
    {
     "data": {
      "text/plain": [
       "array([ 1,  2,  3,  4,  5,  6,  7,  8,  8,  9, 10])"
      ]
     },
     "execution_count": 94,
     "metadata": {},
     "output_type": "execute_result"
    }
   ],
   "source": [
    "np.sort(arr)"
   ]
  },
  {
   "cell_type": "code",
   "execution_count": 95,
   "id": "e23d78dc",
   "metadata": {},
   "outputs": [
    {
     "data": {
      "text/plain": [
       "array([ 1,  2,  3,  4,  5,  6,  7,  8,  8,  9, 10])"
      ]
     },
     "execution_count": 95,
     "metadata": {},
     "output_type": "execute_result"
    }
   ],
   "source": [
    "np.sort([1,10,5,8,2,4,3,6,8,7,9])"
   ]
  },
  {
   "cell_type": "code",
   "execution_count": 96,
   "id": "3faf4253",
   "metadata": {},
   "outputs": [
    {
     "data": {
      "text/plain": [
       "array([10,  9,  8,  8,  7,  6,  5,  4,  3,  2,  1])"
      ]
     },
     "execution_count": 96,
     "metadata": {},
     "output_type": "execute_result"
    }
   ],
   "source": [
    "np.sort(arr)[::-1] #내림차순 정렬 암기?!"
   ]
  },
  {
   "cell_type": "code",
   "execution_count": 101,
   "id": "83cc209d",
   "metadata": {},
   "outputs": [
    {
     "data": {
      "text/plain": [
       "array([ 1,  2,  3,  4,  5,  6,  7,  8,  8,  9, 10])"
      ]
     },
     "execution_count": 101,
     "metadata": {},
     "output_type": "execute_result"
    }
   ],
   "source": [
    "arr2=np.sort([1,10,5,8,2,4,3,6,8,7,9])\n",
    "arr2"
   ]
  },
  {
   "cell_type": "markdown",
   "id": "83e0875f",
   "metadata": {},
   "source": [
    "## 2.N차원 정렬"
   ]
  },
  {
   "cell_type": "code",
   "execution_count": 102,
   "id": "9ab5866f",
   "metadata": {},
   "outputs": [],
   "source": [
    "\n",
    "arr2d=np.array([[5,6,7,8],\n",
    "                [4,3,2,1],\n",
    "              [10,9,12,11]])"
   ]
  },
  {
   "cell_type": "code",
   "execution_count": 103,
   "id": "c036cc37",
   "metadata": {},
   "outputs": [
    {
     "data": {
      "text/plain": [
       "(3, 4)"
      ]
     },
     "execution_count": 103,
     "metadata": {},
     "output_type": "execute_result"
    }
   ],
   "source": [
    "arr2d.shape"
   ]
  },
  {
   "cell_type": "markdown",
   "id": "97f51d93",
   "metadata": {},
   "source": [
    "## 2-1 열 정렬(왼쪽에서 오른쪽으로)"
   ]
  },
  {
   "cell_type": "code",
   "execution_count": 107,
   "id": "a032b6a7",
   "metadata": {},
   "outputs": [
    {
     "data": {
      "text/plain": [
       "array([[ 5,  6,  7,  8],\n",
       "       [ 1,  2,  3,  4],\n",
       "       [ 9, 10, 11, 12]])"
      ]
     },
     "execution_count": 107,
     "metadata": {},
     "output_type": "execute_result"
    }
   ],
   "source": [
    "\n",
    "np.sort(arr2d,axis=1)"
   ]
  },
  {
   "cell_type": "markdown",
   "id": "9056a661",
   "metadata": {},
   "source": [
    "## 2-2, 행 정렬(위에서 아래로)"
   ]
  },
  {
   "cell_type": "code",
   "execution_count": 108,
   "id": "aeb5dbfa",
   "metadata": {},
   "outputs": [
    {
     "data": {
      "text/plain": [
       "array([[ 4,  3,  2,  1],\n",
       "       [ 5,  6,  7,  8],\n",
       "       [10,  9, 12, 11]])"
      ]
     },
     "execution_count": 108,
     "metadata": {},
     "output_type": "execute_result"
    }
   ],
   "source": [
    "np.sort(arr2d,axis=0)"
   ]
  },
  {
   "cell_type": "code",
   "execution_count": 109,
   "id": "53033367",
   "metadata": {},
   "outputs": [
    {
     "name": "stdout",
     "output_type": "stream",
     "text": [
      "[[82 75 88 69 40]\n",
      " [57 98 78 80 54]\n",
      " [81 36 39 79 10]]\n"
     ]
    }
   ],
   "source": [
    "y=np.random.randint(100,size=(3,5))\n",
    "print(y)"
   ]
  },
  {
   "cell_type": "markdown",
   "id": "690ab22b",
   "metadata": {},
   "source": [
    "-  y 원소들의 평균, 합 ,최대값,분산,표준편차를 구해봅시다."
   ]
  },
  {
   "cell_type": "code",
   "execution_count": 111,
   "id": "08de88c2",
   "metadata": {
    "scrolled": true
   },
   "outputs": [
    {
     "data": {
      "text/plain": [
       "64.4"
      ]
     },
     "execution_count": 111,
     "metadata": {},
     "output_type": "execute_result"
    }
   ],
   "source": [
    "np.mean(y)"
   ]
  },
  {
   "cell_type": "code",
   "execution_count": 112,
   "id": "d74c10cd",
   "metadata": {},
   "outputs": [
    {
     "data": {
      "text/plain": [
       "64.4"
      ]
     },
     "execution_count": 112,
     "metadata": {},
     "output_type": "execute_result"
    }
   ],
   "source": [
    "y.mean()"
   ]
  },
  {
   "cell_type": "code",
   "execution_count": 114,
   "id": "94b037a4",
   "metadata": {},
   "outputs": [
    {
     "data": {
      "text/plain": [
       "98"
      ]
     },
     "execution_count": 114,
     "metadata": {},
     "output_type": "execute_result"
    }
   ],
   "source": [
    "y.max()"
   ]
  },
  {
   "cell_type": "code",
   "execution_count": 115,
   "id": "6a568ef8",
   "metadata": {},
   "outputs": [
    {
     "data": {
      "text/plain": [
       "966"
      ]
     },
     "execution_count": 115,
     "metadata": {},
     "output_type": "execute_result"
    }
   ],
   "source": [
    "y.sum()"
   ]
  },
  {
   "cell_type": "code",
   "execution_count": 116,
   "id": "ee357380",
   "metadata": {},
   "outputs": [
    {
     "data": {
      "text/plain": [
       "10"
      ]
     },
     "execution_count": 116,
     "metadata": {},
     "output_type": "execute_result"
    }
   ],
   "source": [
    "y.min()"
   ]
  },
  {
   "cell_type": "code",
   "execution_count": 117,
   "id": "426fb529",
   "metadata": {},
   "outputs": [
    {
     "data": {
      "text/plain": [
       "547.7066666666667"
      ]
     },
     "execution_count": 117,
     "metadata": {},
     "output_type": "execute_result"
    }
   ],
   "source": [
    "#분산\n",
    "y.var()"
   ]
  },
  {
   "cell_type": "code",
   "execution_count": 119,
   "id": "33d29418",
   "metadata": {},
   "outputs": [
    {
     "data": {
      "text/plain": [
       "75.0"
      ]
     },
     "execution_count": 119,
     "metadata": {},
     "output_type": "execute_result"
    }
   ],
   "source": [
    "#중앙값\n",
    "np.median(y)"
   ]
  },
  {
   "cell_type": "code",
   "execution_count": 121,
   "id": "a0b87052",
   "metadata": {},
   "outputs": [
    {
     "data": {
      "text/plain": [
       "23.403133693304124"
      ]
     },
     "execution_count": 121,
     "metadata": {},
     "output_type": "execute_result"
    }
   ],
   "source": [
    "#표준 편차\n",
    "np.std(y)"
   ]
  },
  {
   "cell_type": "code",
   "execution_count": null,
   "id": "0504a000",
   "metadata": {},
   "outputs": [],
   "source": []
  }
 ],
 "metadata": {
  "kernelspec": {
   "display_name": "Python 3 (ipykernel)",
   "language": "python",
   "name": "python3"
  },
  "language_info": {
   "codemirror_mode": {
    "name": "ipython",
    "version": 3
   },
   "file_extension": ".py",
   "mimetype": "text/x-python",
   "name": "python",
   "nbconvert_exporter": "python",
   "pygments_lexer": "ipython3",
   "version": "3.9.12"
  }
 },
 "nbformat": 4,
 "nbformat_minor": 5
}
