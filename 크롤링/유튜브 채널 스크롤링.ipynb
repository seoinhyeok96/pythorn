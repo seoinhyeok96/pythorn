{
 "cells": [
  {
   "cell_type": "code",
   "execution_count": 6,
   "id": "09f3b268",
   "metadata": {},
   "outputs": [
    {
     "name": "stderr",
     "output_type": "stream",
     "text": [
      "/var/folders/v_/3qkt68cd4xg0dz3cm9j8tlhw0000gn/T/ipykernel_62106/1406907876.py:3: DeprecationWarning: executable_path has been deprecated, please pass in a Service object\n",
      "  driver= webdriver.Chrome(r'C:\\Users\\user\\chromedriver.exe')\n"
     ]
    }
   ],
   "source": [
    "from selenium.webdriver.common.action_chains import ActionChains\n",
    "from selenium import webdriver\n",
    "driver= webdriver.Chrome(r'C:\\Users\\user\\chromedriver.exe')\n",
    "import pandas as pd\n",
    "import time\n",
    "from selenium.webdriver.common.by import By"
   ]
  },
  {
   "cell_type": "code",
   "execution_count": 7,
   "id": "343656d2",
   "metadata": {},
   "outputs": [],
   "source": [
    "from selenium.webdriver.common.keys import Keys"
   ]
  },
  {
   "cell_type": "code",
   "execution_count": 8,
   "id": "92d4b9fa",
   "metadata": {},
   "outputs": [],
   "source": [
    "driver.get('https://www.youtube.com/c/%EB%84%88%EC%9D%B4%EA%B3%A1%EC%95%84%EB%8B%88/videos')\n"
   ]
  },
  {
   "cell_type": "markdown",
   "id": "38c68a04",
   "metadata": {},
   "source": [
    "## 타이틀 가져오기"
   ]
  },
  {
   "cell_type": "code",
   "execution_count": 10,
   "id": "49779037",
   "metadata": {},
   "outputs": [
    {
     "ename": "AttributeError",
     "evalue": "'WebDriver' object has no attribute 'find_elements_By'",
     "output_type": "error",
     "traceback": [
      "\u001b[0;31m---------------------------------------------------------------------------\u001b[0m",
      "\u001b[0;31mAttributeError\u001b[0m                            Traceback (most recent call last)",
      "Cell \u001b[0;32mIn[10], line 1\u001b[0m\n\u001b[0;32m----> 1\u001b[0m img\u001b[38;5;241m=\u001b[39m\u001b[43mdriver\u001b[49m\u001b[38;5;241;43m.\u001b[39;49m\u001b[43mfind_elements_By\u001b[49m\u001b[38;5;241m.\u001b[39mCSS_SELECTOR(\u001b[38;5;124m'\u001b[39m\u001b[38;5;124mh3.style-scope.ytd-grid-video-renderer>a\u001b[39m\u001b[38;5;124m'\u001b[39m)\n",
      "\u001b[0;31mAttributeError\u001b[0m: 'WebDriver' object has no attribute 'find_elements_By'"
     ]
    }
   ],
   "source": [
    "img=driver.find_elements_by_css_selector('h3.style-scope.ytd-grid-video-renderer>a')"
   ]
  },
  {
   "cell_type": "code",
   "execution_count": null,
   "id": "1a264d1f",
   "metadata": {},
   "outputs": [],
   "source": [
    "title=driver.find_elements_by_css_selector(\"#video-title\")"
   ]
  },
  {
   "cell_type": "code",
   "execution_count": null,
   "id": "a89598ec",
   "metadata": {
    "scrolled": true
   },
   "outputs": [],
   "source": [
    "for i in title:\n",
    "    print(i.text)"
   ]
  },
  {
   "cell_type": "code",
   "execution_count": null,
   "id": "089be840",
   "metadata": {},
   "outputs": [],
   "source": [
    "count=driver.find_elements_by_css_selector('#metadata-line > span:nth-child(1)')"
   ]
  },
  {
   "cell_type": "code",
   "execution_count": null,
   "id": "3c456f76",
   "metadata": {
    "scrolled": false
   },
   "outputs": [],
   "source": [
    "for e in count:\n",
    "    print(e.text)"
   ]
  },
  {
   "cell_type": "code",
   "execution_count": null,
   "id": "edc96d00",
   "metadata": {
    "scrolled": true
   },
   "outputs": [],
   "source": [
    "len(title),len(count)"
   ]
  },
  {
   "cell_type": "markdown",
   "id": "3d936546",
   "metadata": {},
   "source": [
    "## 스크롤링"
   ]
  },
  {
   "cell_type": "code",
   "execution_count": null,
   "id": "232b7044",
   "metadata": {},
   "outputs": [],
   "source": [
    "from selenium.webdriver.common.keys import Keys"
   ]
  },
  {
   "cell_type": "code",
   "execution_count": null,
   "id": "b8aa82b6",
   "metadata": {},
   "outputs": [],
   "source": [
    "from bs4 import BeautifulSoup as bs"
   ]
  },
  {
   "cell_type": "code",
   "execution_count": null,
   "id": "9ed758b4",
   "metadata": {},
   "outputs": [],
   "source": [
    "driver.get('https://www.youtube.com/c/%EB%84%88%EC%9D%B4%EA%B3%A1%EC%95%84%EB%8B%88/videos')"
   ]
  },
  {
   "cell_type": "code",
   "execution_count": null,
   "id": "370ec61d",
   "metadata": {},
   "outputs": [],
   "source": [
    "body= driver.find_element_by_css_selector('body')"
   ]
  },
  {
   "cell_type": "code",
   "execution_count": null,
   "id": "e8f0a717",
   "metadata": {},
   "outputs": [],
   "source": [
    "title_list=[]\n",
    "count_list=[]\n",
    "\n",
    "while True:\n",
    "    last=bs(driver.page_source,\"html.parser\")\n",
    "    for i in range(5):\n",
    "        body.send_keys(Keys.END)\n",
    "    new=bs(driver.page_source,'html.parser')\n",
    "    if last==new:\n",
    "        break\n",
    "    else:\n",
    "        pass\n",
    "time.sleep(2)\n",
    "title=driver.find_elements_by_css_selector(\"#video-title\")\n",
    "for e in title:\n",
    "    title_list.append(e.text)\n",
    "count=driver.find_elements_by_css_selector('#metadata-line > span:nth-child(1)')\n",
    "for e in count:\n",
    "    count_list.append(e.text)"
   ]
  },
  {
   "cell_type": "code",
   "execution_count": null,
   "id": "5c02e475",
   "metadata": {},
   "outputs": [],
   "source": [
    "len(title_list),len(count_list)"
   ]
  },
  {
   "cell_type": "code",
   "execution_count": null,
   "id": "a167c521",
   "metadata": {},
   "outputs": [],
   "source": [
    "body.send_keys(Keys.END)"
   ]
  },
  {
   "cell_type": "code",
   "execution_count": null,
   "id": "0b55b370",
   "metadata": {},
   "outputs": [],
   "source": []
  },
  {
   "cell_type": "code",
   "execution_count": null,
   "id": "a7170b42",
   "metadata": {},
   "outputs": [],
   "source": [
    "time.sleep(2)\n",
    "title=driver.find_elements_by_css_selector(\"#video-title\")\n",
    "for e in title:\n",
    "    title_list.append(e.text)\n",
    "count=driver.find_elements_by_css_selector('#metadata-line > span:nth-child(1)')\n",
    "for e in count:\n",
    "    count_list.append(e.text)"
   ]
  },
  {
   "cell_type": "code",
   "execution_count": null,
   "id": "b06149d2",
   "metadata": {},
   "outputs": [],
   "source": [
    "len(title_list),len(count_list)"
   ]
  },
  {
   "cell_type": "code",
   "execution_count": null,
   "id": "0040c56e",
   "metadata": {},
   "outputs": [],
   "source": [
    "data={'제목':title_list,'조회수':count_list}"
   ]
  },
  {
   "cell_type": "code",
   "execution_count": null,
   "id": "a021a092",
   "metadata": {},
   "outputs": [],
   "source": [
    "count_list=[]\n",
    "for r in count:\n",
    "    string=r.text\n",
    "    string=string.replace('회','')\n",
    "    string=string.replace('조회수 ','')\n",
    "    string=string.replace('천','000')\n",
    "    string=string.replace('만','0000')\n",
    "    print(r.text)"
   ]
  },
  {
   "cell_type": "code",
   "execution_count": null,
   "id": "a1adc0de",
   "metadata": {},
   "outputs": [],
   "source": [
    "df=pd.DataFrame(data)"
   ]
  },
  {
   "cell_type": "code",
   "execution_count": null,
   "id": "0ca53ff9",
   "metadata": {
    "scrolled": true
   },
   "outputs": [],
   "source": [
    "df.sort_values(by=['조회수'],ascending=False)"
   ]
  },
  {
   "cell_type": "code",
   "execution_count": null,
   "id": "f710473d",
   "metadata": {},
   "outputs": [],
   "source": [
    "df.reset_index(drop=True)"
   ]
  },
  {
   "cell_type": "code",
   "execution_count": null,
   "id": "2051023d",
   "metadata": {},
   "outputs": [],
   "source": []
  },
  {
   "cell_type": "code",
   "execution_count": null,
   "id": "a310c28a",
   "metadata": {},
   "outputs": [],
   "source": [
    "mychnnel=pd.DataFrame(data)\n",
    "mychnnel"
   ]
  },
  {
   "cell_type": "code",
   "execution_count": null,
   "id": "a14acefa",
   "metadata": {},
   "outputs": [],
   "source": []
  },
  {
   "cell_type": "code",
   "execution_count": null,
   "id": "307dde65",
   "metadata": {},
   "outputs": [],
   "source": []
  }
 ],
 "metadata": {
  "kernelspec": {
   "display_name": "Python 3 (ipykernel)",
   "language": "python",
   "name": "python3"
  },
  "language_info": {
   "codemirror_mode": {
    "name": "ipython",
    "version": 3
   },
   "file_extension": ".py",
   "mimetype": "text/x-python",
   "name": "python",
   "nbconvert_exporter": "python",
   "pygments_lexer": "ipython3",
   "version": "3.9.13"
  }
 },
 "nbformat": 4,
 "nbformat_minor": 5
}
