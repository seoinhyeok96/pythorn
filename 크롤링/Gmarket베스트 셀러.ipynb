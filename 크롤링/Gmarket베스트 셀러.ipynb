{
 "cells": [
  {
   "cell_type": "code",
   "execution_count": 82,
   "id": "4117a1a5",
   "metadata": {},
   "outputs": [],
   "source": [
    "from selenium.webdriver.common.action_chains import ActionChains\n",
    "from selenium import webdriver\n",
    "driver= webdriver.Chrome(r'C:\\Users\\user\\chromedriver.exe')\n",
    "import pandas as pd\n",
    "import time"
   ]
  },
  {
   "cell_type": "code",
   "execution_count": 83,
   "id": "03fe7871",
   "metadata": {},
   "outputs": [],
   "source": [
    "driver.get(\"https://corners.gmarket.co.kr/Bestsellers\")\n",
    "driver.maximize_window()"
   ]
  },
  {
   "cell_type": "code",
   "execution_count": 21,
   "id": "4eac8ec9",
   "metadata": {},
   "outputs": [],
   "source": [
    "from selenium.webdriver.common.action_chains import ActionChains"
   ]
  },
  {
   "cell_type": "markdown",
   "id": "d194fb2c",
   "metadata": {},
   "source": [
    "### css 주소및 뒤로가기"
   ]
  },
  {
   "cell_type": "code",
   "execution_count": 39,
   "id": "0d39c1c6",
   "metadata": {},
   "outputs": [
    {
     "data": {
      "text/plain": [
       "200"
      ]
     },
     "execution_count": 39,
     "metadata": {},
     "output_type": "execute_result"
    }
   ],
   "source": [
    "len(img)"
   ]
  },
  {
   "cell_type": "code",
   "execution_count": null,
   "id": "999a7e16",
   "metadata": {},
   "outputs": [],
   "source": [
    "#gBestWrap > div > div:nth-child(5) > div > ul > li:nth-child(1) > div.thumb > a > img"
   ]
  },
  {
   "cell_type": "code",
   "execution_count": 86,
   "id": "a0e92ae2",
   "metadata": {
    "scrolled": false
   },
   "outputs": [],
   "source": [
    "img=driver.find_elements_by_css_selector('img.lazy')"
   ]
  },
  {
   "cell_type": "code",
   "execution_count": 54,
   "id": "b94f4175",
   "metadata": {},
   "outputs": [],
   "source": [
    "from tqdm import tqdm_notebook as tqdm"
   ]
  },
  {
   "cell_type": "code",
   "execution_count": 87,
   "id": "c8fbc2d2",
   "metadata": {
    "scrolled": true
   },
   "outputs": [
    {
     "name": "stderr",
     "output_type": "stream",
     "text": [
      "C:\\Users\\user\\AppData\\Local\\Temp\\ipykernel_4172\\1446226201.py:4: TqdmDeprecationWarning: This function will be removed in tqdm==5.0.0\n",
      "Please use `tqdm.notebook.tqdm` instead of `tqdm.tqdm_notebook`\n",
      "  for i in tqdm(range(len(img))):\n"
     ]
    },
    {
     "data": {
      "application/vnd.jupyter.widget-view+json": {
       "model_id": "a594fa0e36534712959355386c2ac9df",
       "version_major": 2,
       "version_minor": 0
      },
      "text/plain": [
       "  0%|          | 0/200 [00:00<?, ?it/s]"
      ]
     },
     "metadata": {},
     "output_type": "display_data"
    }
   ],
   "source": [
    "cate_list=[]\n",
    "price_list=[]\n",
    "title_list=[]\n",
    "for i in tqdm(range(len(img))):\n",
    "    img=driver.find_elements_by_css_selector('img.lazy')\n",
    "    img[i].click()\n",
    "    #상세페이지\n",
    "    driver.implicitly_wait(5)\n",
    "    cate = driver.find_element_by_css_selector('li.on>a')\n",
    "    cate_list.append(cate.text)\n",
    "    price=driver.find_element_by_css_selector('strong.price_real')\n",
    "    price_list.append(price.text)\n",
    "    title=driver.find_element_by_css_selector('h1.itemtit')\n",
    "    title_list.append(title.text)\n",
    "    driver.back()\n",
    "    time.sleep(0.4)\n",
    "    \n",
    "    "
   ]
  },
  {
   "cell_type": "code",
   "execution_count": 88,
   "id": "f49a42c7",
   "metadata": {},
   "outputs": [
    {
     "data": {
      "text/plain": [
       "(200, 200, 200)"
      ]
     },
     "execution_count": 88,
     "metadata": {},
     "output_type": "execute_result"
    }
   ],
   "source": [
    "len(cate_list),len(price_list),len(title_list)"
   ]
  },
  {
   "cell_type": "code",
   "execution_count": 90,
   "id": "20c8c81e",
   "metadata": {},
   "outputs": [],
   "source": [
    "data={'카테고리':cate_list,'가격':price_list,'상품이름':title_list}"
   ]
  },
  {
   "cell_type": "code",
   "execution_count": 91,
   "id": "dda40798",
   "metadata": {},
   "outputs": [
    {
     "data": {
      "text/html": [
       "<div>\n",
       "<style scoped>\n",
       "    .dataframe tbody tr th:only-of-type {\n",
       "        vertical-align: middle;\n",
       "    }\n",
       "\n",
       "    .dataframe tbody tr th {\n",
       "        vertical-align: top;\n",
       "    }\n",
       "\n",
       "    .dataframe thead th {\n",
       "        text-align: right;\n",
       "    }\n",
       "</style>\n",
       "<table border=\"1\" class=\"dataframe\">\n",
       "  <thead>\n",
       "    <tr style=\"text-align: right;\">\n",
       "      <th></th>\n",
       "      <th>카테고리</th>\n",
       "      <th>가격</th>\n",
       "      <th>상품이름</th>\n",
       "    </tr>\n",
       "  </thead>\n",
       "  <tbody>\n",
       "    <tr>\n",
       "      <th>0</th>\n",
       "      <td>메가박스</td>\n",
       "      <td>8,500원</td>\n",
       "      <td>(스마일클럽)일반예매권2D-주중/주말</td>\n",
       "    </tr>\n",
       "    <tr>\n",
       "      <th>1</th>\n",
       "      <td>생수</td>\n",
       "      <td>15,900원</td>\n",
       "      <td>스파클생수 2L 30병</td>\n",
       "    </tr>\n",
       "    <tr>\n",
       "      <th>2</th>\n",
       "      <td>새우</td>\n",
       "      <td>21,900원</td>\n",
       "      <td>생물 새우 1kg 35-45미/14900원(중복할인20%+스마일12% 쿠폰가)/국내산</td>\n",
       "    </tr>\n",
       "    <tr>\n",
       "      <th>3</th>\n",
       "      <td>브이넥니트</td>\n",
       "      <td>8,900원</td>\n",
       "      <td>너의지금 20%쿠폰 신상니트 가디건/롱/세트/가을신상/크롭/박스/루즈핏/긴팔</td>\n",
       "    </tr>\n",
       "    <tr>\n",
       "      <th>4</th>\n",
       "      <td>전집/세트</td>\n",
       "      <td>42,300원</td>\n",
       "      <td>(타임주니어) Around the World / Magic of mirror 선택구매</td>\n",
       "    </tr>\n",
       "    <tr>\n",
       "      <th>...</th>\n",
       "      <td>...</td>\n",
       "      <td>...</td>\n",
       "      <td>...</td>\n",
       "    </tr>\n",
       "    <tr>\n",
       "      <th>195</th>\n",
       "      <td>포도</td>\n",
       "      <td>39,500원</td>\n",
       "      <td>고당도 산지직송 15브릭스이상 샤인머스켓 2kg 3~4입 쿠폰가 31600원</td>\n",
       "    </tr>\n",
       "    <tr>\n",
       "      <th>196</th>\n",
       "      <td>복사용지</td>\n",
       "      <td>48,110원</td>\n",
       "      <td>더블에이 A4 복사용지 80g 4000매 2BOX/A4용지</td>\n",
       "    </tr>\n",
       "    <tr>\n",
       "      <th>197</th>\n",
       "      <td>수건/타월</td>\n",
       "      <td>37,680원</td>\n",
       "      <td>호텔수건 초고중량 타올 220g 수건 10장 수건세트 두툼한 호텔타올</td>\n",
       "    </tr>\n",
       "    <tr>\n",
       "      <th>198</th>\n",
       "      <td>커피믹스</td>\n",
       "      <td>29,800원</td>\n",
       "      <td>맥심 카누 미니 마일드로스트 아메리카노150T</td>\n",
       "    </tr>\n",
       "    <tr>\n",
       "      <th>199</th>\n",
       "      <td>학습교구</td>\n",
       "      <td>58,000원</td>\n",
       "      <td>LEGO 사이언스 스타트 2종(판타스틱 머신 + 기어 봇)</td>\n",
       "    </tr>\n",
       "  </tbody>\n",
       "</table>\n",
       "<p>200 rows × 3 columns</p>\n",
       "</div>"
      ],
      "text/plain": [
       "      카테고리       가격                                             상품이름\n",
       "0     메가박스   8,500원                             (스마일클럽)일반예매권2D-주중/주말\n",
       "1       생수  15,900원                                     스파클생수 2L 30병\n",
       "2       새우  21,900원  생물 새우 1kg 35-45미/14900원(중복할인20%+스마일12% 쿠폰가)/국내산\n",
       "3    브이넥니트   8,900원       너의지금 20%쿠폰 신상니트 가디건/롱/세트/가을신상/크롭/박스/루즈핏/긴팔\n",
       "4    전집/세트  42,300원  (타임주니어) Around the World / Magic of mirror 선택구매\n",
       "..     ...      ...                                              ...\n",
       "195     포도  39,500원       고당도 산지직송 15브릭스이상 샤인머스켓 2kg 3~4입 쿠폰가 31600원\n",
       "196   복사용지  48,110원                 더블에이 A4 복사용지 80g 4000매 2BOX/A4용지\n",
       "197  수건/타월  37,680원           호텔수건 초고중량 타올 220g 수건 10장 수건세트 두툼한 호텔타올\n",
       "198   커피믹스  29,800원                        맥심 카누 미니 마일드로스트 아메리카노150T\n",
       "199   학습교구  58,000원                 LEGO 사이언스 스타트 2종(판타스틱 머신 + 기어 봇)\n",
       "\n",
       "[200 rows x 3 columns]"
      ]
     },
     "execution_count": 91,
     "metadata": {},
     "output_type": "execute_result"
    }
   ],
   "source": [
    "product=pd.DataFrame(data)\n",
    "product"
   ]
  },
  {
   "cell_type": "markdown",
   "id": "708ae988",
   "metadata": {},
   "source": [
    "## 제품명 카테고리 가져오기"
   ]
  },
  {
   "cell_type": "code",
   "execution_count": 65,
   "id": "2607df99",
   "metadata": {},
   "outputs": [],
   "source": [
    "cate = driver.find_element_by_css_selector('li.on>a')"
   ]
  },
  {
   "cell_type": "code",
   "execution_count": 66,
   "id": "1163f118",
   "metadata": {},
   "outputs": [
    {
     "data": {
      "text/plain": [
       "'메가박스'"
      ]
     },
     "execution_count": 66,
     "metadata": {},
     "output_type": "execute_result"
    }
   ],
   "source": [
    "cate.text"
   ]
  },
  {
   "cell_type": "code",
   "execution_count": 68,
   "id": "5e1d7ac3",
   "metadata": {},
   "outputs": [],
   "source": [
    "price=driver.find_element_by_css_selector('strong.price_real')"
   ]
  },
  {
   "cell_type": "code",
   "execution_count": 70,
   "id": "80ec9fe3",
   "metadata": {},
   "outputs": [
    {
     "data": {
      "text/plain": [
       "'8,500원'"
      ]
     },
     "execution_count": 70,
     "metadata": {},
     "output_type": "execute_result"
    }
   ],
   "source": [
    "price.text"
   ]
  },
  {
   "cell_type": "code",
   "execution_count": 71,
   "id": "805b9e44",
   "metadata": {},
   "outputs": [],
   "source": [
    "title=driver.find_element_by_css_selector('h1.itemtit')"
   ]
  },
  {
   "cell_type": "code",
   "execution_count": 73,
   "id": "00f2041f",
   "metadata": {},
   "outputs": [
    {
     "data": {
      "text/plain": [
       "'(스마일클럽)일반예매권2D-주중/주말'"
      ]
     },
     "execution_count": 73,
     "metadata": {},
     "output_type": "execute_result"
    }
   ],
   "source": [
    "title.text"
   ]
  },
  {
   "cell_type": "code",
   "execution_count": null,
   "id": "cbdc6285",
   "metadata": {},
   "outputs": [],
   "source": [
    "#itemcase_basic > div > h1"
   ]
  }
 ],
 "metadata": {
  "kernelspec": {
   "display_name": "Python 3 (ipykernel)",
   "language": "python",
   "name": "python3"
  },
  "language_info": {
   "codemirror_mode": {
    "name": "ipython",
    "version": 3
   },
   "file_extension": ".py",
   "mimetype": "text/x-python",
   "name": "python",
   "nbconvert_exporter": "python",
   "pygments_lexer": "ipython3",
   "version": "3.9.12"
  }
 },
 "nbformat": 4,
 "nbformat_minor": 5
}
