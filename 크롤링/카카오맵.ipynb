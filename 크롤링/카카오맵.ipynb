{
 "cells": [
  {
   "cell_type": "code",
   "execution_count": 142,
   "id": "fc5b9ead",
   "metadata": {},
   "outputs": [],
   "source": [
    "from selenium.webdriver.common.action_chains import ActionChains\n",
    "from selenium import webdriver\n",
    "driver= webdriver.Chrome(r'C:\\Users\\user\\chromedriver.exe')\n",
    "import pandas as pd\n",
    "import time\n",
    "from bs4 import BeautifulSoup as bs"
   ]
  },
  {
   "cell_type": "code",
   "execution_count": 108,
   "id": "82955485",
   "metadata": {},
   "outputs": [],
   "source": [
    "from selenium.webdriver.common.keys import Keys"
   ]
  },
  {
   "cell_type": "code",
   "execution_count": null,
   "id": "bcc99cc5",
   "metadata": {},
   "outputs": [],
   "source": []
  },
  {
   "cell_type": "code",
   "execution_count": 143,
   "id": "8820c90a",
   "metadata": {},
   "outputs": [],
   "source": [
    "driver.get(\"https://map.kakao.com/\")"
   ]
  },
  {
   "cell_type": "code",
   "execution_count": 144,
   "id": "e295d0c7",
   "metadata": {},
   "outputs": [],
   "source": [
    "driver.maximize_window()"
   ]
  },
  {
   "cell_type": "code",
   "execution_count": 145,
   "id": "c08dc3bf",
   "metadata": {},
   "outputs": [],
   "source": [
    "click_blue=driver.find_element_by_css_selector(\"body > div.coach_layer.coach_layer_type1 > div > div > div > span\")\n",
    "click_blue.click()"
   ]
  },
  {
   "cell_type": "code",
   "execution_count": 146,
   "id": "b6c09b1f",
   "metadata": {},
   "outputs": [],
   "source": [
    "## 검색창에 맛집 검색\n",
    "search=driver.find_element_by_css_selector('#search\\.keyword\\.query')\n",
    "search.send_keys('맛집')\n",
    "search.send_keys(Keys.ENTER)"
   ]
  },
  {
   "cell_type": "markdown",
   "id": "04614a91",
   "metadata": {},
   "source": [
    "## 더보기 클릭"
   ]
  },
  {
   "cell_type": "code",
   "execution_count": 147,
   "id": "56f4642c",
   "metadata": {},
   "outputs": [],
   "source": [
    "#더보기 클릭\n",
    "btn= driver.find_element_by_xpath('//*[@id=\"info.search.place.more\"]')\n",
    "btn.click()\n",
    "time.sleep(2)"
   ]
  },
  {
   "cell_type": "code",
   "execution_count": 67,
   "id": "75bdcfde",
   "metadata": {},
   "outputs": [],
   "source": []
  },
  {
   "cell_type": "code",
   "execution_count": 55,
   "id": "b3511144",
   "metadata": {},
   "outputs": [],
   "source": [
    "from tqdm import tqdm_notebook as tqdm\n"
   ]
  },
  {
   "cell_type": "code",
   "execution_count": 148,
   "id": "2b5e1d81",
   "metadata": {},
   "outputs": [
    {
     "ename": "IndentationError",
     "evalue": "unexpected indent (2719257741.py, line 2)",
     "output_type": "error",
     "traceback": [
      "\u001b[1;36m  Input \u001b[1;32mIn [148]\u001b[1;36m\u001b[0m\n\u001b[1;33m    for i in range(1,6):\u001b[0m\n\u001b[1;37m    ^\u001b[0m\n\u001b[1;31mIndentationError\u001b[0m\u001b[1;31m:\u001b[0m unexpected indent\n"
     ]
    }
   ],
   "source": [
    "#다음장으로 넘어가기\n",
    "    for i in range(1,6):\n",
    "        page = driver.find_element_by_css_selector('#info\\.search\\.page\\.no{}'.format(i))\n",
    "        page.click()\n",
    "        time.sleep(2)\n",
    "    "
   ]
  },
  {
   "cell_type": "code",
   "execution_count": 149,
   "id": "d9c8c4ab",
   "metadata": {},
   "outputs": [],
   "source": [
    "more=driver.find_element_by_css_selector('#info\\.search\\.page\\.next')\n",
    "more.click()\n"
   ]
  },
  {
   "cell_type": "code",
   "execution_count": null,
   "id": "35f6ead8",
   "metadata": {},
   "outputs": [],
   "source": [
    "#info\\.search\\.page\\.no2\n",
    "#info\\.search\\.page\\.no3\n"
   ]
  },
  {
   "cell_type": "code",
   "execution_count": 33,
   "id": "031d29f3",
   "metadata": {},
   "outputs": [],
   "source": [
    "company=driver.find_elements_by_css_selector('strong.tit_name>a.link_name')"
   ]
  },
  {
   "cell_type": "code",
   "execution_count": 116,
   "id": "6e433631",
   "metadata": {
    "scrolled": true
   },
   "outputs": [
    {
     "ename": "WebDriverException",
     "evalue": "Message: chrome not reachable\n  (Session info: chrome=105.0.5195.102)\n",
     "output_type": "error",
     "traceback": [
      "\u001b[1;31m---------------------------------------------------------------------------\u001b[0m",
      "\u001b[1;31mWebDriverException\u001b[0m                        Traceback (most recent call last)",
      "Input \u001b[1;32mIn [116]\u001b[0m, in \u001b[0;36m<cell line: 2>\u001b[1;34m()\u001b[0m\n\u001b[0;32m      1\u001b[0m \u001b[38;5;66;03m# 맛집이름\u001b[39;00m\n\u001b[0;32m      2\u001b[0m \u001b[38;5;28;01mfor\u001b[39;00m i \u001b[38;5;129;01min\u001b[39;00m company:\n\u001b[1;32m----> 3\u001b[0m     \u001b[38;5;28mprint\u001b[39m(\u001b[43mi\u001b[49m\u001b[38;5;241;43m.\u001b[39;49m\u001b[43mtext\u001b[49m)\n",
      "File \u001b[1;32m~\\anaconda3\\lib\\site-packages\\selenium\\webdriver\\remote\\webelement.py:76\u001b[0m, in \u001b[0;36mWebElement.text\u001b[1;34m(self)\u001b[0m\n\u001b[0;32m     73\u001b[0m \u001b[38;5;129m@property\u001b[39m\n\u001b[0;32m     74\u001b[0m \u001b[38;5;28;01mdef\u001b[39;00m \u001b[38;5;21mtext\u001b[39m(\u001b[38;5;28mself\u001b[39m):\n\u001b[0;32m     75\u001b[0m     \u001b[38;5;124;03m\"\"\"The text of the element.\"\"\"\u001b[39;00m\n\u001b[1;32m---> 76\u001b[0m     \u001b[38;5;28;01mreturn\u001b[39;00m \u001b[38;5;28;43mself\u001b[39;49m\u001b[38;5;241;43m.\u001b[39;49m\u001b[43m_execute\u001b[49m\u001b[43m(\u001b[49m\u001b[43mCommand\u001b[49m\u001b[38;5;241;43m.\u001b[39;49m\u001b[43mGET_ELEMENT_TEXT\u001b[49m\u001b[43m)\u001b[49m[\u001b[38;5;124m'\u001b[39m\u001b[38;5;124mvalue\u001b[39m\u001b[38;5;124m'\u001b[39m]\n",
      "File \u001b[1;32m~\\anaconda3\\lib\\site-packages\\selenium\\webdriver\\remote\\webelement.py:633\u001b[0m, in \u001b[0;36mWebElement._execute\u001b[1;34m(self, command, params)\u001b[0m\n\u001b[0;32m    631\u001b[0m     params \u001b[38;5;241m=\u001b[39m {}\n\u001b[0;32m    632\u001b[0m params[\u001b[38;5;124m'\u001b[39m\u001b[38;5;124mid\u001b[39m\u001b[38;5;124m'\u001b[39m] \u001b[38;5;241m=\u001b[39m \u001b[38;5;28mself\u001b[39m\u001b[38;5;241m.\u001b[39m_id\n\u001b[1;32m--> 633\u001b[0m \u001b[38;5;28;01mreturn\u001b[39;00m \u001b[38;5;28;43mself\u001b[39;49m\u001b[38;5;241;43m.\u001b[39;49m\u001b[43m_parent\u001b[49m\u001b[38;5;241;43m.\u001b[39;49m\u001b[43mexecute\u001b[49m\u001b[43m(\u001b[49m\u001b[43mcommand\u001b[49m\u001b[43m,\u001b[49m\u001b[43m \u001b[49m\u001b[43mparams\u001b[49m\u001b[43m)\u001b[49m\n",
      "File \u001b[1;32m~\\anaconda3\\lib\\site-packages\\selenium\\webdriver\\remote\\webdriver.py:321\u001b[0m, in \u001b[0;36mWebDriver.execute\u001b[1;34m(self, driver_command, params)\u001b[0m\n\u001b[0;32m    319\u001b[0m response \u001b[38;5;241m=\u001b[39m \u001b[38;5;28mself\u001b[39m\u001b[38;5;241m.\u001b[39mcommand_executor\u001b[38;5;241m.\u001b[39mexecute(driver_command, params)\n\u001b[0;32m    320\u001b[0m \u001b[38;5;28;01mif\u001b[39;00m response:\n\u001b[1;32m--> 321\u001b[0m     \u001b[38;5;28;43mself\u001b[39;49m\u001b[38;5;241;43m.\u001b[39;49m\u001b[43merror_handler\u001b[49m\u001b[38;5;241;43m.\u001b[39;49m\u001b[43mcheck_response\u001b[49m\u001b[43m(\u001b[49m\u001b[43mresponse\u001b[49m\u001b[43m)\u001b[49m\n\u001b[0;32m    322\u001b[0m     response[\u001b[38;5;124m'\u001b[39m\u001b[38;5;124mvalue\u001b[39m\u001b[38;5;124m'\u001b[39m] \u001b[38;5;241m=\u001b[39m \u001b[38;5;28mself\u001b[39m\u001b[38;5;241m.\u001b[39m_unwrap_value(\n\u001b[0;32m    323\u001b[0m         response\u001b[38;5;241m.\u001b[39mget(\u001b[38;5;124m'\u001b[39m\u001b[38;5;124mvalue\u001b[39m\u001b[38;5;124m'\u001b[39m, \u001b[38;5;28;01mNone\u001b[39;00m))\n\u001b[0;32m    324\u001b[0m     \u001b[38;5;28;01mreturn\u001b[39;00m response\n",
      "File \u001b[1;32m~\\anaconda3\\lib\\site-packages\\selenium\\webdriver\\remote\\errorhandler.py:242\u001b[0m, in \u001b[0;36mErrorHandler.check_response\u001b[1;34m(self, response)\u001b[0m\n\u001b[0;32m    240\u001b[0m         alert_text \u001b[38;5;241m=\u001b[39m value[\u001b[38;5;124m'\u001b[39m\u001b[38;5;124malert\u001b[39m\u001b[38;5;124m'\u001b[39m]\u001b[38;5;241m.\u001b[39mget(\u001b[38;5;124m'\u001b[39m\u001b[38;5;124mtext\u001b[39m\u001b[38;5;124m'\u001b[39m)\n\u001b[0;32m    241\u001b[0m     \u001b[38;5;28;01mraise\u001b[39;00m exception_class(message, screen, stacktrace, alert_text)\n\u001b[1;32m--> 242\u001b[0m \u001b[38;5;28;01mraise\u001b[39;00m exception_class(message, screen, stacktrace)\n",
      "\u001b[1;31mWebDriverException\u001b[0m: Message: chrome not reachable\n  (Session info: chrome=105.0.5195.102)\n"
     ]
    }
   ],
   "source": [
    "# 맛집이름\n",
    "for i in company:\n",
    "    print(i.text)"
   ]
  },
  {
   "cell_type": "code",
   "execution_count": 150,
   "id": "7478e80c",
   "metadata": {},
   "outputs": [],
   "source": [
    "socore=driver.find_elements_by_css_selector('span.score > em')"
   ]
  },
  {
   "cell_type": "code",
   "execution_count": 121,
   "id": "7103896d",
   "metadata": {
    "scrolled": true
   },
   "outputs": [
    {
     "name": "stdout",
     "output_type": "stream",
     "text": [
      "2.7\n",
      "4.5\n",
      "4.4\n",
      "4.6\n",
      "2.9\n",
      "3.9\n",
      "3.0\n",
      "1.5\n",
      "2.8\n",
      "4.0\n",
      "2.8\n",
      "4.2\n",
      "2.2\n",
      "3.6\n",
      "1.4\n"
     ]
    }
   ],
   "source": [
    "#점수(별점)\n",
    "for a in socore:\n",
    "    print(a.text)"
   ]
  },
  {
   "cell_type": "code",
   "execution_count": 151,
   "id": "8231ec1c",
   "metadata": {},
   "outputs": [],
   "source": [
    "from selenium.webdriver.common.keys import Keys"
   ]
  },
  {
   "cell_type": "code",
   "execution_count": 162,
   "id": "56625de9",
   "metadata": {},
   "outputs": [],
   "source": [
    "more = driver.find_element_by_css_selector('#info\\.search\\.page\\.next')\n",
    "more.click()\n",
    "time.sleep(2)#<- 더보기나 다른행동을 할때 무조건 타임슬림을 줘야됨\n",
    "company_list=[]\n",
    "socore_list=[]\n",
    "\n",
    "while True:\n",
    "    try:\n",
    "        for i in range(1,6):\n",
    "            page = driver.find_element_by_css_selector('#info\\.search\\.page\\.no{}'.format(i))\n",
    "            page.click()\n",
    "            time.sleep(2)\n",
    "            company=driver.find_elements_by_css_selector('strong.tit_name>a.link_name')\n",
    "            socore=driver.find_elements_by_css_selector('span.score > em')\n",
    "            for i in company:\n",
    "                company_list.append(i.text)\n",
    "            for i in socore:\n",
    "                socore_list.append(i.text)\n",
    "        \n",
    "        more=driver.find_element_by_css_selector('#info\\.search\\.page\\.next')\n",
    "        more.click()\n",
    "        time.sleep(2)#<- 더보기나 다른행동을 할때 무조건 타임슬림을 줘야됨\n",
    "    except:\n",
    "        break\n",
    "        \n",
    "        \n",
    "    \n",
    "        \n",
    "        \n",
    "    \n",
    "        "
   ]
  },
  {
   "cell_type": "code",
   "execution_count": 163,
   "id": "e24d5b3c",
   "metadata": {},
   "outputs": [
    {
     "data": {
      "text/plain": [
       "(45, 45)"
      ]
     },
     "execution_count": 163,
     "metadata": {},
     "output_type": "execute_result"
    }
   ],
   "source": [
    "len(company_list),len(socore_list)"
   ]
  },
  {
   "cell_type": "code",
   "execution_count": 134,
   "id": "2b169fab",
   "metadata": {},
   "outputs": [],
   "source": [
    "more = driver.find_element_by_css_selector('#info\\.search\\.page\\.next')\n",
    "more.click()\n",
    "\n",
    "company_list=[]\n",
    "socore_list=[]\n",
    "\n",
    "while True:\n",
    "    try:\n",
    "        for i in range(1, 6):\n",
    "            pages = driver.find_element_by_css_selector('#info\\.search\\.page\\.no{}'.format(i))\n",
    "            pages.click()\n",
    "            time.sleep(0.5) # 중요...\n",
    "\n",
    "            # 장소\n",
    "            company = driver.find_elements_by_css_selector('strong.tit_name > a.link_name')\n",
    "            # 별점\n",
    "            socore = driver.find_elements_by_css_selector('span.score > em')        \n",
    "\n",
    "            for i in company:\n",
    "                company_list.append(i.text)\n",
    "            for i in socore:\n",
    "                socore_list.append(i.text)\n",
    "\n",
    "            time.sleep(0.5) # 중요...\n",
    "        \n",
    "        more = driver.find_element_by_css_selector('#info\\.search\\.page\\.next')\n",
    "        more.click()\n",
    "    except:\n",
    "        break"
   ]
  },
  {
   "cell_type": "code",
   "execution_count": 135,
   "id": "4b64143b",
   "metadata": {},
   "outputs": [
    {
     "data": {
      "text/plain": [
       "(50, 50)"
      ]
     },
     "execution_count": 135,
     "metadata": {},
     "output_type": "execute_result"
    }
   ],
   "source": [
    "len(company_list),len(socore_list)"
   ]
  }
 ],
 "metadata": {
  "kernelspec": {
   "display_name": "Python 3 (ipykernel)",
   "language": "python",
   "name": "python3"
  },
  "language_info": {
   "codemirror_mode": {
    "name": "ipython",
    "version": 3
   },
   "file_extension": ".py",
   "mimetype": "text/x-python",
   "name": "python",
   "nbconvert_exporter": "python",
   "pygments_lexer": "ipython3",
   "version": "3.9.13"
  }
 },
 "nbformat": 4,
 "nbformat_minor": 5
}
