{
 "cells": [
  {
   "cell_type": "code",
   "execution_count": 4,
   "id": "cb420705",
   "metadata": {},
   "outputs": [],
   "source": [
    "from konlpy.tag import Okt"
   ]
  },
  {
   "cell_type": "code",
   "execution_count": 5,
   "id": "4989f56c",
   "metadata": {
    "scrolled": true
   },
   "outputs": [],
   "source": [
    "okt = Okt()"
   ]
  },
  {
   "cell_type": "code",
   "execution_count": 34,
   "id": "5fb39f0d",
   "metadata": {},
   "outputs": [],
   "source": [
    "text=\"하얗게 피어난 얼음꽃 하나가 달가운 바람에 얼굴을 내밀어 아무 말 못했던 이름도 몰랐던 지나간 날들에 눈물이 흘러\""
   ]
  },
  {
   "cell_type": "code",
   "execution_count": 21,
   "id": "78e8634d",
   "metadata": {},
   "outputs": [
    {
     "data": {
      "text/plain": [
       "[('하얗게', 'Adjective'),\n",
       " ('피어', 'Noun'),\n",
       " ('난', 'Josa'),\n",
       " ('얼음꽃', 'Noun'),\n",
       " ('하나', 'Noun'),\n",
       " ('가', 'Josa'),\n",
       " ('달', 'Noun'),\n",
       " ('가운', 'Noun'),\n",
       " ('바람', 'Noun'),\n",
       " ('에', 'Josa'),\n",
       " ('얼굴', 'Noun'),\n",
       " ('을', 'Josa'),\n",
       " ('내밀어', 'Verb'),\n",
       " ('아무', 'Noun'),\n",
       " ('말', 'Noun'),\n",
       " ('못', 'VerbPrefix'),\n",
       " ('했던', 'Verb'),\n",
       " ('이름', 'Noun'),\n",
       " ('도', 'Josa'),\n",
       " ('몰랐던', 'Verb'),\n",
       " ('지나간', 'Verb'),\n",
       " ('날', 'Noun'),\n",
       " ('들', 'Suffix'),\n",
       " ('에', 'Josa'),\n",
       " ('눈물', 'Noun'),\n",
       " ('이', 'Josa'),\n",
       " ('흘러', 'Verb')]"
      ]
     },
     "execution_count": 21,
     "metadata": {},
     "output_type": "execute_result"
    }
   ],
   "source": [
    "okt.pos(text)"
   ]
  },
  {
   "cell_type": "code",
   "execution_count": 22,
   "id": "a4369b1a",
   "metadata": {},
   "outputs": [
    {
     "data": {
      "text/plain": [
       "['피어', '얼음꽃', '하나', '달', '가운', '바람', '얼굴', '아무', '말', '이름', '날', '눈물']"
      ]
     },
     "execution_count": 22,
     "metadata": {},
     "output_type": "execute_result"
    }
   ],
   "source": [
    "okt.nouns(text)"
   ]
  },
  {
   "cell_type": "code",
   "execution_count": 6,
   "id": "f1552d06",
   "metadata": {
    "scrolled": true
   },
   "outputs": [
    {
     "data": {
      "text/plain": [
       "['나', '는', '집', '에', '갑니다', '.']"
      ]
     },
     "execution_count": 6,
     "metadata": {},
     "output_type": "execute_result"
    }
   ],
   "source": [
    "okt.morphs('나는 집에 갑니다.')"
   ]
  },
  {
   "cell_type": "code",
   "execution_count": 27,
   "id": "b48b48e9",
   "metadata": {},
   "outputs": [],
   "source": [
    "text2=\"김보성은 의리남이얔ㅋㅋㅋㅋㅋㅋㅋㅋ\""
   ]
  },
  {
   "cell_type": "code",
   "execution_count": 30,
   "id": "8f52e37a",
   "metadata": {
    "scrolled": true
   },
   "outputs": [
    {
     "data": {
      "text/plain": [
       "['김보성', '은', '의리', '남', '이야', 'ㅋㅋㅋ']"
      ]
     },
     "execution_count": 30,
     "metadata": {},
     "output_type": "execute_result"
    }
   ],
   "source": [
    "okt.morphs(text2,stem=True,norm=True)"
   ]
  },
  {
   "cell_type": "code",
   "execution_count": 9,
   "id": "fe73d9ab",
   "metadata": {},
   "outputs": [
    {
     "data": {
      "text/plain": [
       "['i', 'miss', 'you', '.']"
      ]
     },
     "execution_count": 9,
     "metadata": {},
     "output_type": "execute_result"
    }
   ],
   "source": [
    "okt.morphs('i miss you.')"
   ]
  },
  {
   "cell_type": "code",
   "execution_count": 18,
   "id": "8fbd60f8",
   "metadata": {},
   "outputs": [
    {
     "data": {
      "text/plain": [
       "['피어', '얼음꽃', '하나', '달', '가운', '바람', '얼굴', '아무', '말', '이름', '날', '눈물']"
      ]
     },
     "execution_count": 18,
     "metadata": {},
     "output_type": "execute_result"
    }
   ],
   "source": [
    "okt.nouns(\"하얗게 피어난 얼음꽃 하나가 달가운 바람에 얼굴을 내밀어 아무 말 못했던 이름도 몰랐던 지나간 날들에 눈물이 흘러\")"
   ]
  },
  {
   "cell_type": "code",
   "execution_count": 17,
   "id": "c8a47a56",
   "metadata": {
    "scrolled": true
   },
   "outputs": [
    {
     "data": {
      "text/plain": [
       "[('내', 'Noun'),\n",
       " ('맘', 'Noun'),\n",
       " ('들킬까봐', 'Verb'),\n",
       " ('훤히', 'Noun'),\n",
       " ('보일까', 'Verb'),\n",
       " ('봐서', 'Verb'),\n",
       " ('애써', 'Verb'),\n",
       " ('관심', 'Noun'),\n",
       " ('도', 'Josa'),\n",
       " ('없는', 'Adjective'),\n",
       " ('척', 'Noun'),\n",
       " ('해', 'Verb'),\n",
       " ('그저', 'Adverb'),\n",
       " ('장난', 'Noun'),\n",
       " ('처럼', 'Josa'),\n",
       " ('괜히', 'Adverb'),\n",
       " ('던지는', 'Verb'),\n",
       " ('말', 'Noun'),\n",
       " (',', 'Punctuation'),\n",
       " ('난', 'Noun'),\n",
       " ('너', 'Noun'),\n",
       " ('여자', 'Noun'),\n",
       " ('로', 'Josa'),\n",
       " ('안', 'Noun'),\n",
       " ('보여', 'Verb')]"
      ]
     },
     "execution_count": 17,
     "metadata": {},
     "output_type": "execute_result"
    }
   ],
   "source": [
    "okt.pos(\"내 맘 들킬까봐 훤히 보일까 봐서애써 관심도 없는 척해그저 장난처럼 괜히 던지는 말,난 너 여자로 안 보여\")"
   ]
  },
  {
   "cell_type": "code",
   "execution_count": 36,
   "id": "5b850f22",
   "metadata": {},
   "outputs": [],
   "source": [
    "def extract_nouns(string):\n",
    "    nouns=okt.nouns(string)\n",
    "    return nouns"
   ]
  },
  {
   "cell_type": "code",
   "execution_count": 37,
   "id": "5e140c7c",
   "metadata": {},
   "outputs": [
    {
     "data": {
      "text/plain": [
       "['피어', '얼음꽃', '하나', '달', '가운', '바람', '얼굴', '아무', '말', '이름', '날', '눈물']"
      ]
     },
     "execution_count": 37,
     "metadata": {},
     "output_type": "execute_result"
    }
   ],
   "source": [
    "extract_nouns(text)"
   ]
  },
  {
   "cell_type": "code",
   "execution_count": 54,
   "id": "17b3c077",
   "metadata": {},
   "outputs": [],
   "source": [
    "stopwords=['있다.','하다','되다']"
   ]
  },
  {
   "cell_type": "code",
   "execution_count": 73,
   "id": "15d5d35b",
   "metadata": {
    "scrolled": true
   },
   "outputs": [],
   "source": [
    "def extract_tag(string):\n",
    "    result_words=[]\n",
    "    result = okt.pos(string, stem=True, norm=True)\n",
    "    for word, tag in result:\n",
    "        if tag in['Verb', 'Noun', 'Adjective']:\n",
    "            if word not in stopwords:\n",
    "                result_words.append(word)\n",
    "    return result_words"
   ]
  },
  {
   "cell_type": "code",
   "execution_count": 74,
   "id": "2eb83e1b",
   "metadata": {},
   "outputs": [
    {
     "data": {
      "text/plain": [
       "['하얗다',\n",
       " '피어',\n",
       " '얼음꽃',\n",
       " '하나',\n",
       " '달',\n",
       " '가운',\n",
       " '바람',\n",
       " '얼굴',\n",
       " '내미다',\n",
       " '아무',\n",
       " '말',\n",
       " '이름',\n",
       " '모르다',\n",
       " '지나가다',\n",
       " '날',\n",
       " '눈물',\n",
       " '흐르다']"
      ]
     },
     "execution_count": 74,
     "metadata": {},
     "output_type": "execute_result"
    }
   ],
   "source": [
    "extract_tag(text)"
   ]
  },
  {
   "cell_type": "code",
   "execution_count": 42,
   "id": "414fbc31",
   "metadata": {
    "scrolled": true
   },
   "outputs": [
    {
     "data": {
      "text/plain": [
       "'Adjective'"
      ]
     },
     "execution_count": 42,
     "metadata": {},
     "output_type": "execute_result"
    }
   ],
   "source": [
    "result=okt.pos(text)\n",
    "result[0][1]"
   ]
  },
  {
   "cell_type": "markdown",
   "id": "0abecc87",
   "metadata": {},
   "source": [
    "## nltk"
   ]
  },
  {
   "cell_type": "code",
   "execution_count": 66,
   "id": "29ff5db4",
   "metadata": {},
   "outputs": [
    {
     "name": "stdout",
     "output_type": "stream",
     "text": [
      "Requirement already satisfied: nltk in c:\\users\\user\\anaconda3\\lib\\site-packages (3.7)\n",
      "Requirement already satisfied: click in c:\\users\\user\\anaconda3\\lib\\site-packages (from nltk) (8.0.4)\n",
      "Requirement already satisfied: tqdm in c:\\users\\user\\anaconda3\\lib\\site-packages (from nltk) (4.64.0)\n",
      "Requirement already satisfied: joblib in c:\\users\\user\\anaconda3\\lib\\site-packages (from nltk) (1.1.0)\n",
      "Requirement already satisfied: regex>=2021.8.3 in c:\\users\\user\\anaconda3\\lib\\site-packages (from nltk) (2022.3.15)\n",
      "Requirement already satisfied: colorama in c:\\users\\user\\anaconda3\\lib\\site-packages (from click->nltk) (0.4.4)\n"
     ]
    }
   ],
   "source": [
    "!pip install nltk"
   ]
  },
  {
   "cell_type": "code",
   "execution_count": 70,
   "id": "9e75137a",
   "metadata": {},
   "outputs": [],
   "source": [
    "import nltk\n",
    "from nltk import pos_tag"
   ]
  },
  {
   "cell_type": "code",
   "execution_count": 76,
   "id": "dc622864",
   "metadata": {},
   "outputs": [
    {
     "name": "stderr",
     "output_type": "stream",
     "text": [
      "[nltk_data] Downloading package averaged_perceptron_tagger to\n",
      "[nltk_data]     C:\\Users\\user\\AppData\\Roaming\\nltk_data...\n",
      "[nltk_data]   Unzipping taggers\\averaged_perceptron_tagger.zip.\n"
     ]
    },
    {
     "data": {
      "text/plain": [
       "True"
      ]
     },
     "execution_count": 76,
     "metadata": {},
     "output_type": "execute_result"
    }
   ],
   "source": [
    "nltk.download('averaged_perceptron_tagger')"
   ]
  },
  {
   "cell_type": "code",
   "execution_count": 75,
   "id": "70c04a2b",
   "metadata": {},
   "outputs": [],
   "source": [
    "text=\"Mamaaa,Just killed a man,Put a gun against his head, pulled my trigger,Now he's dead\"\n"
   ]
  },
  {
   "cell_type": "code",
   "execution_count": 81,
   "id": "1417ecb7",
   "metadata": {
    "scrolled": true
   },
   "outputs": [
    {
     "data": {
      "text/plain": [
       "['Mamaaa',\n",
       " ',',\n",
       " 'Just',\n",
       " 'killed',\n",
       " 'a',\n",
       " 'man',\n",
       " ',',\n",
       " 'Put',\n",
       " 'a',\n",
       " 'gun',\n",
       " 'against',\n",
       " 'his',\n",
       " 'head',\n",
       " ',',\n",
       " 'pulled',\n",
       " 'my',\n",
       " 'trigger',\n",
       " ',',\n",
       " 'Now',\n",
       " 'he',\n",
       " \"'s\",\n",
       " 'dead']"
      ]
     },
     "execution_count": 81,
     "metadata": {},
     "output_type": "execute_result"
    }
   ],
   "source": [
    "split_text=nltk.word_tokenize(text)\n",
    "split_text"
   ]
  },
  {
   "cell_type": "code",
   "execution_count": 80,
   "id": "eddc29fa",
   "metadata": {},
   "outputs": [
    {
     "name": "stderr",
     "output_type": "stream",
     "text": [
      "[nltk_data] Downloading package punkt to\n",
      "[nltk_data]     C:\\Users\\user\\AppData\\Roaming\\nltk_data...\n",
      "[nltk_data]   Unzipping tokenizers\\punkt.zip.\n"
     ]
    },
    {
     "data": {
      "text/plain": [
       "True"
      ]
     },
     "execution_count": 80,
     "metadata": {},
     "output_type": "execute_result"
    }
   ],
   "source": [
    "nltk.download('punkt')"
   ]
  },
  {
   "cell_type": "code",
   "execution_count": 82,
   "id": "bb7c9143",
   "metadata": {},
   "outputs": [
    {
     "data": {
      "text/plain": [
       "[('Mamaaa', 'NNP'),\n",
       " (',', ','),\n",
       " ('Just', 'NNP'),\n",
       " ('killed', 'VBD'),\n",
       " ('a', 'DT'),\n",
       " ('man', 'NN'),\n",
       " (',', ','),\n",
       " ('Put', 'VBD'),\n",
       " ('a', 'DT'),\n",
       " ('gun', 'NN'),\n",
       " ('against', 'IN'),\n",
       " ('his', 'PRP$'),\n",
       " ('head', 'NN'),\n",
       " (',', ','),\n",
       " ('pulled', 'VBD'),\n",
       " ('my', 'PRP$'),\n",
       " ('trigger', 'NN'),\n",
       " (',', ','),\n",
       " ('Now', 'RB'),\n",
       " ('he', 'PRP'),\n",
       " (\"'s\", 'VBZ'),\n",
       " ('dead', 'JJ')]"
      ]
     },
     "execution_count": 82,
     "metadata": {},
     "output_type": "execute_result"
    }
   ],
   "source": [
    "#포스태깅\n",
    "split_text = nltk.word_tokenize(text)\n",
    "pos_result = nltk.pos_tag(split_text)\n",
    "pos_result"
   ]
  },
  {
   "cell_type": "code",
   "execution_count": 83,
   "id": "dce9ec6b",
   "metadata": {},
   "outputs": [
    {
     "name": "stderr",
     "output_type": "stream",
     "text": [
      "[nltk_data] Downloading package stopwords to\n",
      "[nltk_data]     C:\\Users\\user\\AppData\\Roaming\\nltk_data...\n",
      "[nltk_data]   Unzipping corpora\\stopwords.zip.\n"
     ]
    }
   ],
   "source": [
    "pos_result\n",
    "#불용어 다운 \n",
    "nltk.download('stopwords')\n",
    "stopwords = nltk.corpus.stopwords.words('english')\n"
   ]
  },
  {
   "cell_type": "code",
   "execution_count": 84,
   "id": "a8bb9188",
   "metadata": {},
   "outputs": [
    {
     "data": {
      "text/plain": [
       "\"Mamaaa,Just killed a man,Put a gun against his head, pulled my trigger,Now he's dead\""
      ]
     },
     "execution_count": 84,
     "metadata": {},
     "output_type": "execute_result"
    }
   ],
   "source": [
    "text"
   ]
  },
  {
   "cell_type": "code",
   "execution_count": 85,
   "id": "0e1949a2",
   "metadata": {},
   "outputs": [
    {
     "data": {
      "text/plain": [
       "\"mamaaa,just killed a man,put a gun against his head, pulled my trigger,now he's dead\""
      ]
     },
     "execution_count": 85,
     "metadata": {},
     "output_type": "execute_result"
    }
   ],
   "source": [
    "text.lower()"
   ]
  },
  {
   "cell_type": "code",
   "execution_count": null,
   "id": "e5bec4f9",
   "metadata": {},
   "outputs": [],
   "source": [
    "# 불용어 사전이 있다고  가정하였을때 불용어를 제거하는 defind 함수를 만들어보자\n",
    "# 불용어가 제거 되고, 형용사만 추출할수 있는 define 함수를 만들어 보자"
   ]
  },
  {
   "cell_type": "code",
   "execution_count": 107,
   "id": "53465fb3",
   "metadata": {},
   "outputs": [
    {
     "name": "stderr",
     "output_type": "stream",
     "text": [
      "[nltk_data] Downloading package stopwords to\n",
      "[nltk_data]     C:\\Users\\user\\AppData\\Roaming\\nltk_data...\n",
      "[nltk_data]   Package stopwords is already up-to-date!\n"
     ]
    }
   ],
   "source": [
    "nltk.download('stopwords')\n",
    "stopwords = nltk.corpus.stopwords.words('english')\n"
   ]
  },
  {
   "cell_type": "code",
   "execution_count": 146,
   "id": "c509ff24",
   "metadata": {},
   "outputs": [],
   "source": [
    "text=\"If I am not back again this time tomorrow\""
   ]
  },
  {
   "cell_type": "code",
   "execution_count": 115,
   "id": "87d8c1a6",
   "metadata": {},
   "outputs": [],
   "source": [
    "def extract_tags_english(string):\n",
    "    word_list =[]\n",
    "    string = nltk.word_tokenize(string)\n",
    "    string = nltk.pos_tag(string)\n",
    "    \n",
    "    for word, tag in string:\n",
    "        if tag in ['NN', 'NNS', 'NNP', 'NNPS', 'JJ', 'JJR', 'JJS',\n",
    "                  'VB', 'VBD', 'VBG', 'VBN', 'VBP', 'VBZ']:\n",
    "            if word.lower() not in stopwords:\n",
    "                word_list.append(word)\n",
    "    \n",
    "    return word_list\n",
    "\n",
    "    "
   ]
  },
  {
   "cell_type": "code",
   "execution_count": 147,
   "id": "8a311c7d",
   "metadata": {},
   "outputs": [],
   "source": [
    "def extract_tags_english(string):\n",
    "    word_list =[]\n",
    "    string=string.lower()\n",
    "    string = nltk.word_tokenize(string)\n",
    "    string = nltk.pos_tag(string)\n",
    "    \n",
    "    for word, tag in string:\n",
    "        if tag in ['NN', 'NNS', 'NNP', 'NNPS', 'JJ', 'JJR', 'JJS',\n",
    "                  'VB', 'VBD', 'VBG', 'VBN', 'VBP', 'VBZ']:\n",
    "            if word not in stopwords:\n",
    "             \n",
    "                word_list.append(word)\n",
    "    \n",
    "    return word_list\n"
   ]
  },
  {
   "cell_type": "code",
   "execution_count": 148,
   "id": "a994be99",
   "metadata": {
    "scrolled": true
   },
   "outputs": [
    {
     "data": {
      "text/plain": [
       "['time', 'tomorrow']"
      ]
     },
     "execution_count": 148,
     "metadata": {},
     "output_type": "execute_result"
    }
   ],
   "source": [
    "extract_tags_english(text)"
   ]
  },
  {
   "cell_type": "code",
   "execution_count": 111,
   "id": "ecd13bfa",
   "metadata": {},
   "outputs": [
    {
     "data": {
      "text/plain": [
       "['i',\n",
       " 'me',\n",
       " 'my',\n",
       " 'myself',\n",
       " 'we',\n",
       " 'our',\n",
       " 'ours',\n",
       " 'ourselves',\n",
       " 'you',\n",
       " \"you're\",\n",
       " \"you've\",\n",
       " \"you'll\",\n",
       " \"you'd\",\n",
       " 'your',\n",
       " 'yours',\n",
       " 'yourself',\n",
       " 'yourselves',\n",
       " 'he',\n",
       " 'him',\n",
       " 'his',\n",
       " 'himself',\n",
       " 'she',\n",
       " \"she's\",\n",
       " 'her',\n",
       " 'hers',\n",
       " 'herself',\n",
       " 'it',\n",
       " \"it's\",\n",
       " 'its',\n",
       " 'itself',\n",
       " 'they',\n",
       " 'them',\n",
       " 'their',\n",
       " 'theirs',\n",
       " 'themselves',\n",
       " 'what',\n",
       " 'which',\n",
       " 'who',\n",
       " 'whom',\n",
       " 'this',\n",
       " 'that',\n",
       " \"that'll\",\n",
       " 'these',\n",
       " 'those',\n",
       " 'am',\n",
       " 'is',\n",
       " 'are',\n",
       " 'was',\n",
       " 'were',\n",
       " 'be',\n",
       " 'been',\n",
       " 'being',\n",
       " 'have',\n",
       " 'has',\n",
       " 'had',\n",
       " 'having',\n",
       " 'do',\n",
       " 'does',\n",
       " 'did',\n",
       " 'doing',\n",
       " 'a',\n",
       " 'an',\n",
       " 'the',\n",
       " 'and',\n",
       " 'but',\n",
       " 'if',\n",
       " 'or',\n",
       " 'because',\n",
       " 'as',\n",
       " 'until',\n",
       " 'while',\n",
       " 'of',\n",
       " 'at',\n",
       " 'by',\n",
       " 'for',\n",
       " 'with',\n",
       " 'about',\n",
       " 'against',\n",
       " 'between',\n",
       " 'into',\n",
       " 'through',\n",
       " 'during',\n",
       " 'before',\n",
       " 'after',\n",
       " 'above',\n",
       " 'below',\n",
       " 'to',\n",
       " 'from',\n",
       " 'up',\n",
       " 'down',\n",
       " 'in',\n",
       " 'out',\n",
       " 'on',\n",
       " 'off',\n",
       " 'over',\n",
       " 'under',\n",
       " 'again',\n",
       " 'further',\n",
       " 'then',\n",
       " 'once',\n",
       " 'here',\n",
       " 'there',\n",
       " 'when',\n",
       " 'where',\n",
       " 'why',\n",
       " 'how',\n",
       " 'all',\n",
       " 'any',\n",
       " 'both',\n",
       " 'each',\n",
       " 'few',\n",
       " 'more',\n",
       " 'most',\n",
       " 'other',\n",
       " 'some',\n",
       " 'such',\n",
       " 'no',\n",
       " 'nor',\n",
       " 'not',\n",
       " 'only',\n",
       " 'own',\n",
       " 'same',\n",
       " 'so',\n",
       " 'than',\n",
       " 'too',\n",
       " 'very',\n",
       " 's',\n",
       " 't',\n",
       " 'can',\n",
       " 'will',\n",
       " 'just',\n",
       " 'don',\n",
       " \"don't\",\n",
       " 'should',\n",
       " \"should've\",\n",
       " 'now',\n",
       " 'd',\n",
       " 'll',\n",
       " 'm',\n",
       " 'o',\n",
       " 're',\n",
       " 've',\n",
       " 'y',\n",
       " 'ain',\n",
       " 'aren',\n",
       " \"aren't\",\n",
       " 'couldn',\n",
       " \"couldn't\",\n",
       " 'didn',\n",
       " \"didn't\",\n",
       " 'doesn',\n",
       " \"doesn't\",\n",
       " 'hadn',\n",
       " \"hadn't\",\n",
       " 'hasn',\n",
       " \"hasn't\",\n",
       " 'haven',\n",
       " \"haven't\",\n",
       " 'isn',\n",
       " \"isn't\",\n",
       " 'ma',\n",
       " 'mightn',\n",
       " \"mightn't\",\n",
       " 'mustn',\n",
       " \"mustn't\",\n",
       " 'needn',\n",
       " \"needn't\",\n",
       " 'shan',\n",
       " \"shan't\",\n",
       " 'shouldn',\n",
       " \"shouldn't\",\n",
       " 'wasn',\n",
       " \"wasn't\",\n",
       " 'weren',\n",
       " \"weren't\",\n",
       " 'won',\n",
       " \"won't\",\n",
       " 'wouldn',\n",
       " \"wouldn't\"]"
      ]
     },
     "execution_count": 111,
     "metadata": {},
     "output_type": "execute_result"
    }
   ],
   "source": [
    "stopwords"
   ]
  },
  {
   "cell_type": "markdown",
   "id": "1cfc36c5",
   "metadata": {},
   "source": [
    "### pickle"
   ]
  },
  {
   "cell_type": "code",
   "execution_count": 96,
   "id": "d9be0d84",
   "metadata": {},
   "outputs": [],
   "source": [
    "import pickle"
   ]
  },
  {
   "cell_type": "code",
   "execution_count": 103,
   "id": "59eb556d",
   "metadata": {},
   "outputs": [],
   "source": [
    "with open('save_data,pkl','wb') as f:\n",
    "    pickle.dump(result,f)"
   ]
  },
  {
   "cell_type": "code",
   "execution_count": 104,
   "id": "13d2f5ec",
   "metadata": {},
   "outputs": [],
   "source": [
    "with open('save_data,pkl','rb') as f:\n",
    "    data=pickle.load(f)"
   ]
  }
 ],
 "metadata": {
  "kernelspec": {
   "display_name": "Python 3 (ipykernel)",
   "language": "python",
   "name": "python3"
  },
  "language_info": {
   "codemirror_mode": {
    "name": "ipython",
    "version": 3
   },
   "file_extension": ".py",
   "mimetype": "text/x-python",
   "name": "python",
   "nbconvert_exporter": "python",
   "pygments_lexer": "ipython3",
   "version": "3.9.12"
  }
 },
 "nbformat": 4,
 "nbformat_minor": 5
}
