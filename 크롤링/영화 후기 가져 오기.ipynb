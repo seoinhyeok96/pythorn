{
 "cells": [
  {
   "cell_type": "code",
   "execution_count": 32,
   "id": "6219cd05",
   "metadata": {},
   "outputs": [],
   "source": [
    "import requests as req"
   ]
  },
  {
   "cell_type": "code",
   "execution_count": 65,
   "id": "3ffe77f3",
   "metadata": {},
   "outputs": [],
   "source": [
    "res =req.get('https://movie.naver.com/movie/point/af/list.naver')"
   ]
  },
  {
   "cell_type": "code",
   "execution_count": 34,
   "id": "43033cf3",
   "metadata": {},
   "outputs": [
    {
     "data": {
      "text/plain": [
       "<Response [200]>"
      ]
     },
     "execution_count": 34,
     "metadata": {},
     "output_type": "execute_result"
    }
   ],
   "source": [
    "res"
   ]
  },
  {
   "cell_type": "markdown",
   "id": "9468a594",
   "metadata": {},
   "source": [
    "### <네이버 영화>별점 가져오기"
   ]
  },
  {
   "cell_type": "code",
   "execution_count": 35,
   "id": "23eb20ed",
   "metadata": {},
   "outputs": [],
   "source": [
    "from bs4 import BeautifulSoup as bs"
   ]
  },
  {
   "cell_type": "code",
   "execution_count": 36,
   "id": "57ca03b6",
   "metadata": {},
   "outputs": [],
   "source": [
    "soup=bs(res.text,'html.parser')"
   ]
  },
  {
   "cell_type": "code",
   "execution_count": 37,
   "id": "120666c4",
   "metadata": {
    "scrolled": true
   },
   "outputs": [],
   "source": [
    "socore=soup.select(\"div.list_netizen_score > em\")"
   ]
  },
  {
   "cell_type": "code",
   "execution_count": 41,
   "id": "7d6d13d5",
   "metadata": {},
   "outputs": [],
   "source": [
    "socore_list= []\n",
    "for i in socore:\n",
    "    socore_list.append(i.text)"
   ]
  },
  {
   "cell_type": "markdown",
   "id": "761742de",
   "metadata": {},
   "source": [
    "### 타이틀"
   ]
  },
  {
   "cell_type": "code",
   "execution_count": 73,
   "id": "c888449a",
   "metadata": {},
   "outputs": [],
   "source": [
    "title=soup.select(\"td.title > a.movie.color_b\")"
   ]
  },
  {
   "cell_type": "code",
   "execution_count": 74,
   "id": "7fbfc0d6",
   "metadata": {
    "scrolled": true
   },
   "outputs": [
    {
     "data": {
      "text/plain": [
       "[<a class=\"movie color_b\" href=\"?st=mcode&amp;sword=201641&amp;target=after\">공조2: 인터내셔날</a>,\n",
       " <a class=\"movie color_b\" href=\"?st=mcode&amp;sword=204159&amp;target=after\">성적표의 김민영</a>,\n",
       " <a class=\"movie color_b\" href=\"?st=mcode&amp;sword=201641&amp;target=after\">공조2: 인터내셔날</a>,\n",
       " <a class=\"movie color_b\" href=\"?st=mcode&amp;sword=204640&amp;target=after\">육사오(6/45)</a>,\n",
       " <a class=\"movie color_b\" href=\"?st=mcode&amp;sword=184518&amp;target=after\">라야와 마지막 드래곤</a>,\n",
       " <a class=\"movie color_b\" href=\"?st=mcode&amp;sword=201641&amp;target=after\">공조2: 인터내셔날</a>,\n",
       " <a class=\"movie color_b\" href=\"?st=mcode&amp;sword=201641&amp;target=after\">공조2: 인터내셔날</a>,\n",
       " <a class=\"movie color_b\" href=\"?st=mcode&amp;sword=201641&amp;target=after\">공조2: 인터내셔날</a>,\n",
       " <a class=\"movie color_b\" href=\"?st=mcode&amp;sword=204640&amp;target=after\">육사오(6/45)</a>,\n",
       " <a class=\"movie color_b\" href=\"?st=mcode&amp;sword=201701&amp;target=after\">불도저에 탄 소녀</a>]"
      ]
     },
     "execution_count": 74,
     "metadata": {},
     "output_type": "execute_result"
    }
   ],
   "source": [
    "title"
   ]
  },
  {
   "cell_type": "code",
   "execution_count": 66,
   "id": "fb477c8a",
   "metadata": {},
   "outputs": [],
   "source": [
    "soup=bs(res.text,'html.parser')"
   ]
  },
  {
   "cell_type": "code",
   "execution_count": 76,
   "id": "6a4097fe",
   "metadata": {},
   "outputs": [
    {
     "name": "stdout",
     "output_type": "stream",
     "text": [
      "공조2: 인터내셔날\n",
      "성적표의 김민영\n",
      "공조2: 인터내셔날\n",
      "육사오(6/45)\n",
      "라야와 마지막 드래곤\n",
      "공조2: 인터내셔날\n",
      "공조2: 인터내셔날\n",
      "공조2: 인터내셔날\n",
      "육사오(6/45)\n",
      "불도저에 탄 소녀\n"
     ]
    }
   ],
   "source": [
    "title_list=[]\n",
    "for r  in title:\n",
    "    print(r.text)\n",
    "    title_list.append(r.text)"
   ]
  },
  {
   "cell_type": "markdown",
   "id": "389b650d",
   "metadata": {},
   "source": [
    "## 리뷰"
   ]
  },
  {
   "cell_type": "code",
   "execution_count": null,
   "id": "a6838bd3",
   "metadata": {},
   "outputs": [],
   "source": [
    "view= soup.select(\"td.title\")"
   ]
  },
  {
   "cell_type": "code",
   "execution_count": null,
   "id": "2eefa395",
   "metadata": {},
   "outputs": [],
   "source": []
  },
  {
   "cell_type": "code",
   "execution_count": null,
   "id": "9479c178",
   "metadata": {},
   "outputs": [],
   "source": []
  },
  {
   "cell_type": "code",
   "execution_count": 95,
   "id": "889cb55f",
   "metadata": {},
   "outputs": [],
   "source": [
    "view_list=[]\n",
    "for v in view:\n",
    "    view_list.append(v.text)"
   ]
  },
  {
   "cell_type": "code",
   "execution_count": 97,
   "id": "37937f7d",
   "metadata": {},
   "outputs": [
    {
     "data": {
      "text/plain": [
       "'중간에 잠...자다가 총질에 씨끄러워서 깸...더 놀란건 평점이 너무 높음.왜?ㅅㅂ \\n\\t\\t\\t\\n\\t\\t\\t\\n\\t\\t\\t\\n\\t\\t\\t\\t\\n\\t\\t\\t\\t\\n\\t\\t\\t\\t\\n\\t\\t\\t\\t신고\\n'"
      ]
     },
     "execution_count": 97,
     "metadata": {},
     "output_type": "execute_result"
    }
   ],
   "source": [
    "test=view_list[0].split(\"\\n\\n\")[2]\n",
    "test"
   ]
  },
  {
   "cell_type": "code",
   "execution_count": 98,
   "id": "1a4967b9",
   "metadata": {},
   "outputs": [],
   "source": [
    "test= test.replace(\"\\n\",\"\")\n",
    "test= test.replace(\"\\t\",\"\")\n",
    "test= test.replace(\"신고\",\"\")"
   ]
  },
  {
   "cell_type": "code",
   "execution_count": 99,
   "id": "bcff382c",
   "metadata": {},
   "outputs": [
    {
     "data": {
      "text/plain": [
       "'중간에 잠...자다가 총질에 씨끄러워서 깸...더 놀란건 평점이 너무 높음.왜?ㅅㅂ '"
      ]
     },
     "execution_count": 99,
     "metadata": {},
     "output_type": "execute_result"
    }
   ],
   "source": [
    "test"
   ]
  },
  {
   "cell_type": "code",
   "execution_count": 133,
   "id": "232b2c5f",
   "metadata": {},
   "outputs": [],
   "source": [
    "view= soup.select(\"td.title\")\n",
    "view_list=[]\n",
    "for c in view:\n",
    "        review = c.text \n",
    "        review = review.split('\\n\\n')[2]\n",
    "        review = review.replace('\\n','')\n",
    "        review = review.replace('신고','')\n",
    "        review =review.replace('\\t','')\n",
    "        view_list.append(review)"
   ]
  },
  {
   "cell_type": "code",
   "execution_count": 102,
   "id": "09350d45",
   "metadata": {},
   "outputs": [
    {
     "data": {
      "text/plain": [
       "10"
      ]
     },
     "execution_count": 102,
     "metadata": {},
     "output_type": "execute_result"
    }
   ],
   "source": [
    "len(view_list)"
   ]
  },
  {
   "cell_type": "markdown",
   "id": "2da61398",
   "metadata": {},
   "source": [
    "## 페이지 10쪽 까지"
   ]
  },
  {
   "cell_type": "code",
   "execution_count": 106,
   "id": "a11dcddb",
   "metadata": {},
   "outputs": [],
   "source": [
    "page = range(1,11)"
   ]
  },
  {
   "cell_type": "code",
   "execution_count": 147,
   "id": "49ec97ae",
   "metadata": {},
   "outputs": [],
   "source": [
    "from tqdm import tqdm_notebook as tqdm"
   ]
  },
  {
   "cell_type": "code",
   "execution_count": 162,
   "id": "8d38f12e",
   "metadata": {
    "scrolled": true
   },
   "outputs": [
    {
     "name": "stderr",
     "output_type": "stream",
     "text": [
      "C:\\Users\\user\\AppData\\Local\\Temp\\ipykernel_2852\\3084863588.py:5: TqdmDeprecationWarning: This function will be removed in tqdm==5.0.0\n",
      "Please use `tqdm.notebook.tqdm` instead of `tqdm.tqdm_notebook`\n",
      "  for i in tqdm(page):\n"
     ]
    },
    {
     "data": {
      "application/vnd.jupyter.widget-view+json": {
       "model_id": "7f0eee236efd4c15bcdbfece23cc8c9f",
       "version_major": 2,
       "version_minor": 0
      },
      "text/plain": [
       "  0%|          | 0/10 [00:00<?, ?it/s]"
      ]
     },
     "metadata": {},
     "output_type": "display_data"
    }
   ],
   "source": [
    "total_title_list = []\n",
    "total_review_list = []\n",
    "total_socore_list = []\n",
    "\n",
    "for i in tqdm(page):\n",
    "    url= \"https://movie.naver.com/movie/point/af/list.naver?&page={}\".format(i)\n",
    "    res= req.get(url)\n",
    "    soup=bs(res.text,'html.parser')\n",
    "    #평점\n",
    "    socore=soup.select(\"div.list_netizen_score > em\")\n",
    "    for i in socore:\n",
    "        total_socore_list.append(i.text)\n",
    "    #제목\n",
    "    title=soup.select(\"td.title > a.movie.color_b\")\n",
    "    for r  in title:\n",
    "        total_title_list.append(r.text)\n",
    "    #리뷰\n",
    "    view= soup.select(\"td.title\")\n",
    "    for c in view:\n",
    "        review = c.text \n",
    "        review = review.split('\\n\\n')[2]\n",
    "        review = review.replace('\\n','')\n",
    "        review = review.replace('신고','')\n",
    "        review = review.replace('\\t','')\n",
    "        total_review_list .append(review)\n"
   ]
  },
  {
   "cell_type": "code",
   "execution_count": null,
   "id": "6e955b72",
   "metadata": {},
   "outputs": [],
   "source": []
  },
  {
   "cell_type": "code",
   "execution_count": 120,
   "id": "43690c19",
   "metadata": {},
   "outputs": [],
   "source": []
  },
  {
   "cell_type": "markdown",
   "id": "bd450252",
   "metadata": {},
   "source": [
    "### 데이터 프레임화  하기"
   ]
  },
  {
   "cell_type": "code",
   "execution_count": 159,
   "id": "c71e38d3",
   "metadata": {},
   "outputs": [],
   "source": [
    "movie={'영화제목':total_title_list,'리뷰 내용':total_review_list, '영화점수':total_socore_list}\n"
   ]
  },
  {
   "cell_type": "code",
   "execution_count": 157,
   "id": "c6a875f4",
   "metadata": {},
   "outputs": [
    {
     "data": {
      "text/plain": [
       "(100, 100, 100)"
      ]
     },
     "execution_count": 157,
     "metadata": {},
     "output_type": "execute_result"
    }
   ],
   "source": [
    "len(total_title_list),len(total_review_list),len(total_socore_list)"
   ]
  },
  {
   "cell_type": "code",
   "execution_count": 161,
   "id": "dd08b365",
   "metadata": {},
   "outputs": [
    {
     "data": {
      "text/html": [
       "<div>\n",
       "<style scoped>\n",
       "    .dataframe tbody tr th:only-of-type {\n",
       "        vertical-align: middle;\n",
       "    }\n",
       "\n",
       "    .dataframe tbody tr th {\n",
       "        vertical-align: top;\n",
       "    }\n",
       "\n",
       "    .dataframe thead th {\n",
       "        text-align: right;\n",
       "    }\n",
       "</style>\n",
       "<table border=\"1\" class=\"dataframe\">\n",
       "  <thead>\n",
       "    <tr style=\"text-align: right;\">\n",
       "      <th></th>\n",
       "      <th>영화제목</th>\n",
       "      <th>리뷰 내용</th>\n",
       "      <th>영화점수</th>\n",
       "    </tr>\n",
       "  </thead>\n",
       "  <tbody>\n",
       "    <tr>\n",
       "      <th>0</th>\n",
       "      <td>서울대작전</td>\n",
       "      <td>실망스럽네요. 다들 연기 너무 못해요. 억지스러움</td>\n",
       "      <td>1</td>\n",
       "    </tr>\n",
       "    <tr>\n",
       "      <th>1</th>\n",
       "      <td>인생은 뷰티풀: 비타돌체</td>\n",
       "      <td>천재 아티스트  김호중의 음악에 대한 고뇌와 열정과 사랑을 보게해주는 영화였어요 노...</td>\n",
       "      <td>10</td>\n",
       "    </tr>\n",
       "    <tr>\n",
       "      <th>2</th>\n",
       "      <td>썬다운</td>\n",
       "      <td>그냥 이런 삶도 있구나</td>\n",
       "      <td>8</td>\n",
       "    </tr>\n",
       "    <tr>\n",
       "      <th>3</th>\n",
       "      <td>육사오(6/45)</td>\n",
       "      <td>나의 웃음코드와 너무 통하고한번 꼰 풍자 너무 재미있음</td>\n",
       "      <td>10</td>\n",
       "    </tr>\n",
       "    <tr>\n",
       "      <th>4</th>\n",
       "      <td>비커밍 제인</td>\n",
       "      <td>이 가을 제인 오스틴 소설과 함께하고 싶어지네요</td>\n",
       "      <td>8</td>\n",
       "    </tr>\n",
       "    <tr>\n",
       "      <th>...</th>\n",
       "      <td>...</td>\n",
       "      <td>...</td>\n",
       "      <td>...</td>\n",
       "    </tr>\n",
       "    <tr>\n",
       "      <th>95</th>\n",
       "      <td>비상선언</td>\n",
       "      <td>영화는 모르겠고 전도연의 한마디가 참 좋네요그게 책임없는 소리인지 모르겠지만그만 둿...</td>\n",
       "      <td>10</td>\n",
       "    </tr>\n",
       "    <tr>\n",
       "      <th>96</th>\n",
       "      <td>놉</td>\n",
       "      <td>기묘한 인생이다. 신발 세워진 거 보고 신발처럼 웃는 짤 생각함 덜 무서울려고</td>\n",
       "      <td>8</td>\n",
       "    </tr>\n",
       "    <tr>\n",
       "      <th>97</th>\n",
       "      <td>카터</td>\n",
       "      <td>액션 볼만하던데? 연기도 좋았는데?</td>\n",
       "      <td>10</td>\n",
       "    </tr>\n",
       "    <tr>\n",
       "      <th>98</th>\n",
       "      <td>공조2: 인터내셔날</td>\n",
       "      <td>현빈 왜케 멋있는거예요~~. 다니엘 헤니 와우 정말 보는내내. 눈을 호강시켜주네요 ...</td>\n",
       "      <td>10</td>\n",
       "    </tr>\n",
       "    <tr>\n",
       "      <th>99</th>\n",
       "      <td>공조2: 인터내셔날</td>\n",
       "      <td>1편보다 더 코믹과 액션이 업되서 돌아온 영화라서 영화관에서 엄청웃고왔음 이번엔 진...</td>\n",
       "      <td>10</td>\n",
       "    </tr>\n",
       "  </tbody>\n",
       "</table>\n",
       "<p>100 rows × 3 columns</p>\n",
       "</div>"
      ],
      "text/plain": [
       "             영화제목                                              리뷰 내용 영화점수\n",
       "0           서울대작전                       실망스럽네요. 다들 연기 너무 못해요. 억지스러움     1\n",
       "1   인생은 뷰티풀: 비타돌체  천재 아티스트  김호중의 음악에 대한 고뇌와 열정과 사랑을 보게해주는 영화였어요 노...   10\n",
       "2             썬다운                                      그냥 이런 삶도 있구나     8\n",
       "3       육사오(6/45)                    나의 웃음코드와 너무 통하고한번 꼰 풍자 너무 재미있음    10\n",
       "4          비커밍 제인                        이 가을 제인 오스틴 소설과 함께하고 싶어지네요     8\n",
       "..            ...                                                ...  ...\n",
       "95           비상선언  영화는 모르겠고 전도연의 한마디가 참 좋네요그게 책임없는 소리인지 모르겠지만그만 둿...   10\n",
       "96              놉       기묘한 인생이다. 신발 세워진 거 보고 신발처럼 웃는 짤 생각함 덜 무서울려고     8\n",
       "97             카터                               액션 볼만하던데? 연기도 좋았는데?    10\n",
       "98     공조2: 인터내셔날  현빈 왜케 멋있는거예요~~. 다니엘 헤니 와우 정말 보는내내. 눈을 호강시켜주네요 ...   10\n",
       "99     공조2: 인터내셔날  1편보다 더 코믹과 액션이 업되서 돌아온 영화라서 영화관에서 엄청웃고왔음 이번엔 진...   10\n",
       "\n",
       "[100 rows x 3 columns]"
      ]
     },
     "execution_count": 161,
     "metadata": {},
     "output_type": "execute_result"
    }
   ],
   "source": [
    "movieone= pd.DataFrame(movie)\n",
    "movieone"
   ]
  },
  {
   "cell_type": "code",
   "execution_count": 141,
   "id": "24776b0c",
   "metadata": {},
   "outputs": [],
   "source": []
  },
  {
   "cell_type": "code",
   "execution_count": null,
   "id": "a5d71aa4",
   "metadata": {},
   "outputs": [],
   "source": []
  }
 ],
 "metadata": {
  "kernelspec": {
   "display_name": "Python 3 (ipykernel)",
   "language": "python",
   "name": "python3"
  },
  "language_info": {
   "codemirror_mode": {
    "name": "ipython",
    "version": 3
   },
   "file_extension": ".py",
   "mimetype": "text/x-python",
   "name": "python",
   "nbconvert_exporter": "python",
   "pygments_lexer": "ipython3",
   "version": "3.9.12"
  }
 },
 "nbformat": 4,
 "nbformat_minor": 5
}
