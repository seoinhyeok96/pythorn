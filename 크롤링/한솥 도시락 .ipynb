{
 "cells": [
  {
   "cell_type": "code",
   "execution_count": 1,
   "id": "037b538d",
   "metadata": {},
   "outputs": [],
   "source": [
    "import requests as req"
   ]
  },
  {
   "cell_type": "code",
   "execution_count": 2,
   "id": "154fd731",
   "metadata": {},
   "outputs": [],
   "source": [
    "res =req.get('https://www.hsd.co.kr/')"
   ]
  },
  {
   "cell_type": "code",
   "execution_count": 3,
   "id": "c7ed765b",
   "metadata": {},
   "outputs": [
    {
     "data": {
      "text/plain": [
       "<Response [200]>"
      ]
     },
     "execution_count": 3,
     "metadata": {},
     "output_type": "execute_result"
    }
   ],
   "source": [
    "res"
   ]
  },
  {
   "cell_type": "code",
   "execution_count": 4,
   "id": "54bea5da",
   "metadata": {
    "scrolled": true
   },
   "outputs": [
    {
     "data": {
      "text/plain": [
       "'<!DOCTYPE html>\\r\\n<html lang=\"ko\">\\r\\n<head>\\r\\n    <meta http-equiv=\"Content-Type\" content=\"text/html; charset=utf-8\">\\r\\n    <meta http-equiv=\"X-UA-Compatible\" content=\"IE=edge\" />\\r\\n    <meta name=\"viewport\" content=\"width=device-width,initial-scale=1.0,minimum-scale=1.0,maximum-scale=1.0,user-scalable=no\" />\\r\\n\\r\\n    <!-- SNS LINK -->\\r\\n    <meta property=\"og:type\" content=\"website\" />\\r\\n    <meta property=\"og:title\" content=\"\" />\\r\\n    <meta property=\"og:url\" content=\"\" />\\r\\n    <meta property=\"og:image\" content=\"\" />\\r\\n    <meta property=\"og:description\" content=\"\" />\\r\\n    <!--// SNS LINK -->\\r\\n\\r\\n    <meta name=\"_csrf_parameter\" content=\"_csrf\" /><meta name=\"_csrf_header\" content=\"X-CSRF-TOKEN\" /><meta name=\"_csrf\" content=\"246a7701-be3c-4159-a5de-b40082d3b2bc\" /><title>한솥도시락</title>\\r\\n\\r\\n    <link rel=\"icon\" href=\"/assets/images/common/favicon.ico\" type=\"image/x-icon\" />\\r\\n\\r\\n<link rel=\"stylesheet\" type=\"text/css\" href=\"/assets/css/ui.common.css\" />\\r\\n<link rel=\"stylesheet\" type=\"text/css\" href=\"/assets/css/swiper.min.css\" />\\r\\n<!--[if gte IE 9 ]><link rel=\"stylesheet\" href=\"/assets/css/ui.ie9.css\" type=\"text/css\" /><![endif]-->\\r\\n\\r\\n<style>\\r\\n    .file_input {\\r\\n        font-size:45px;\\r\\n        position:absolute;\\r\\n        top:0;\\r\\n        right:0;\\r\\n        bottom:0;\\r\\n        left:0;\\r\\n        margin:0;\\r\\n        padding:0;\\r\\n        border:0;\\r\\n        z-index:-1;\\r\\n        opacity: 0;\\r\\n        filter: alpha(opacity=0);\\r\\n        -ms-filter: \"alpha(opacity=0)\";\\r\\n        -khtml-opacity:0;\\r\\n        -moz-opacity:0;\\r\\n    }\\r\\n</style>\\r\\n\\r\\n<script type=\"text/javascript\" src=\"/assets/js/jquery-1.12.4.min.js\"></script>\\r\\n<script type=\"text/javascript\" src=\"/assets/js/jquery-ui-1.12.1.min.js\"></script>\\r\\n<script type=\"text/javascript\" src=\"/assets/js/jquery.easing.1.3.js\"></script>\\r\\n<script type=\"text/javascript\" src=\"/assets/js/jquery.cookie.js\"></script>\\r\\n<script type=\"text/javascript\" src=\"/assets/js/ui.common.js\"></script>\\r\\n<script type=\"text/javascript\" src=\"/assets/js/swiper.jquery.min.js\"></script>\\r\\n<script type=\"text/javascript\" src=\"/assets/js/TweenMax.min.js\"></script>\\r\\n\\r\\n<script type=\"text/javascript\" src=\"/assets/js/tss.js\"></script>\\r\\n<script type=\"text/javascript\" src=\"/assets/js/tss.util.js\"></script>\\r\\n\\r\\n<!-- validatation check -->\\r\\n<script type=\"text/javascript\" src=\"/assets/js/validation/jquery.validate.min.js\"></script>\\r\\n<script type=\"text/javascript\" src=\"/assets/js/validation/messages_ko.min.js\"></script>\\r\\n<script type=\"text/javascript\" src=\"/assets/js/validate.js\"></script>\\r\\n\\r\\n<!-- fileupload -->\\r\\n<script type=\"text/javascript\" src=\"/assets/js/fileupload/jquery.iframe-transport.js\"></script>\\r\\n<script type=\"text/javascript\" src=\"/assets/js/fileupload/jquery.fileupload.js\"></script>\\r\\n\\r\\n<script type=\"text/javascript\" src=\"/assets/js/hansot.common.js\"></script>\\r\\n\\r\\n<!-- naver map api\\r\\n<script type=\"text/javascript\" src=\"https://openapi.map.naver.com/openapi/v3/maps.js?clientId=1MATn4mHBIsSKNHepOXg&submodules=geocoder\"></script>\\r\\n-->\\r\\n<script type=\"text/javascript\" src=\"https://openapi.map.naver.com/openapi/v3/maps.js?ncpClientId=azbg6j3r3x\"></script>\\r\\n\\r\\n\\r\\n<!-- moment js api -->\\r\\n<script type=\"text/javascript\" src=\"/assets/js/moment.js\"></script>\\r\\n<!-- lodash js api -->\\r\\n<script type=\"text/javascript\" src=\"https://cdn.jsdelivr.net/npm/lodash@4.17.4/lodash.min.js\"></script>\\r\\n\\r\\n<script>\\r\\n    $(function () {\\r\\n        var token = $(\"meta[name=\\'_csrf\\']\").attr(\\'content\\');\\r\\n        var header = \"X-CSRF-TOKEN\";\\r\\n        $(document).ajaxSend(function(event, xhr, options) {\\r\\n            xhr.setRequestHeader(header, token);\\r\\n        });\\r\\n        $(document).ajaxError(function(event, xhr, options) {\\r\\n            if(xhr.status === 401) {\\r\\n                console.log(xhr);\\r\\n                if(tss.util.confirm(\\'로그인이 필요합니다.\\')) {\\r\\n                    tss.util.auth();\\r\\n                }\\r\\n            }\\r\\n            if(xhr.status === 500 || xhr.status === 400) {\\r\\n                console.log(\"오류가 발생했습니다.\");\\r\\n            }\\r\\n        });\\r\\n    });\\r\\n</script>\\r\\n<script type=\"text/javascript\">\\r\\n    </script>\\r\\n\\r\\n    \\r\\n\\r\\n    <link rel=\"stylesheet\" type=\"text/css\" href=\"/assets/css/ui.main.css\" />\\r\\n    <link rel=\"stylesheet\" type=\"text/css\" href=\"/assets/css/ui.pop.css\" />\\r\\n\\r\\n    <script type=\"text/javascript\" src=\"/assets/js/ui.main.js\"></script>\\r\\n\\r\\n    <script>\\r\\n    $(function(){\\r\\n        visualBackground();\\r\\n    });\\r\\n    $(window).resize(function() {\\r\\n        visualBackground();\\r\\n    });\\r\\n\\r\\n    function visualBackground(){\\r\\n        if(window.innerWidth <= 768){\\r\\n            $(\".visual_bg.vi_01\").each(function(){\\r\\n                var url = $(this).data(\"mobile-url\");\\r\\n               $(this).css(\\'backgroundImage\\', \"url(\" + url + \")\");\\r\\n            });\\r\\n        }else{\\r\\n            $(\".visual_bg.vi_01\").each(function(){\\r\\n                var url = $(this).data(\"web-url\");\\r\\n                $(this).css(\\'backgroundImage\\', \"url(\" + url + \")\");\\r\\n            });\\r\\n        }\\r\\n    }\\r\\n    </script>\\r\\n\\r\\n    <!-- Global site tag (gtag.js) - Google Analytics -->\\r\\n    <script async src=\"https://www.googletagmanager.com/gtag/js?id=UA-43326926-1\"></script>\\r\\n    <script>\\r\\n      window.dataLayer = window.dataLayer || [];\\r\\n      function gtag(){dataLayer.push(arguments);}\\r\\n      gtag(\\'js\\', new Date());\\r\\n\\r\\n      gtag(\\'config\\', \\'UA-43326926-1\\');\\r\\n    </script>\\r\\n\\r\\n    <!-- Global site tag (gtag.js) - AdWords: 864658366 -->\\r\\n    <script async src=\"https://www.googletagmanager.com/gtag/js?id=AW-864658366\"></script>\\r\\n    <script>\\r\\n      window.dataLayer = window.dataLayer || [];\\r\\n      function gtag(){dataLayer.push(arguments);}\\r\\n      gtag(\\'js\\', new Date());\\r\\n\\r\\n      gtag(\\'config\\', \\'AW-864658366\\');\\r\\n    </script>\\r\\n\\r\\n    <!-- kakao pixcel -->\\r\\n    <script type=\"text/javascript\" charset=\"UTF-8\" src=\"//t1.daumcdn.net/adfit/static/kp.js\"></script>\\r\\n    <script type=\"text/javascript\">\\r\\n        kakaoPixel(\\'5575357302971415199\\').pageView();\\r\\n    </script>\\r\\n\\r\\n    <!-- Facebook Pixel Code -->\\r\\n    <script>\\r\\n        !function(f,b,e,v,n,t,s)\\r\\n        {if(f.fbq)return;n=f.fbq=function(){n.callMethod?\\r\\n            n.callMethod.apply(n,arguments):n.queue.push(arguments)};\\r\\n            if(!f._fbq)f._fbq=n;n.push=n;n.loaded=!0;n.version=\\'2.0\\';\\r\\n            n.queue=[];t=b.createElement(e);t.async=!0;\\r\\n            t.src=v;s=b.getElementsByTagName(e)[0];\\r\\n            s.parentNode.insertBefore(t,s)}(window,document,\\'script\\',\\r\\n            \\'https://connect.facebook.net/en_US/fbevents.js\\');\\r\\n        fbq(\\'init\\', \\'241666853119648\\');\\r\\n        fbq(\\'track\\', \\'PageView\\');\\r\\n    </script>\\r\\n    <noscript>\\r\\n        <img height=\"1\" width=\"1\" src=\"https://www.facebook.com/tr?id=241666853119648&ev=PageView&noscript=1\"/>\\r\\n    </noscript>\\r\\n    <!-- End Facebook Pixel Code -->\\r\\n\\r\\n</head>\\r\\n<body ontouchstart>\\r\\n<!-- wrap s -->\\r\\n<div id=\"wrap\" class=\"bg_w\">\\r\\n    <!-- inc header s -->\\r\\n    <!-- header -->\\r\\n<header id=\"header\">\\r\\n    <!-- header flex-->\\r\\n    <div class=\"hd_flex\">\\r\\n        <div class=\"area_flex\">\\r\\n            <ul>\\r\\n                <li>\\r\\n                    <a href=\"/login\">로그인</a>\\r\\n                    </li>\\r\\n                <li>\\r\\n                    <a href=\"/join/join_step1\">회원가입</a>\\r\\n                    </li>\\r\\n                <li class=\"sns_insta\">\\r\\n                    <a href=\"https://www.instagram.com/hansot_official/\" target=\"_blank\" title=\"새 창 열림\" ><span class=\"blind\">instagram</span></a>\\r\\n                </li>\\r\\n                <li class=\"sns_face\">\\r\\n                    <a href=\"https://www.facebook.com/hansotOfficial/?ref=ts&fref=ts\" target=\"_blank\" title=\"새 창 열림\" ><span class=\"blind\">facebook</span></a>\\r\\n                </li>\\r\\n            </ul>\\r\\n        </div>\\r\\n    </div>\\r\\n    <!-- //header flex -->\\r\\n\\r\\n    <!-- header content -->\\r\\n    <div class=\"hd_fixed\">\\r\\n        <div class=\"hd_content\">\\r\\n            <div class=\"logo\">\\r\\n                <h1><a href=\"/\"><span class=\"blind\">한솥</span></a></h1>\\r\\n            </div>\\r\\n            <!-- gnb -->\\r\\n            <section id=\"gnb\" class=\"area_gnb mo_version\">\\r\\n                <!-- 모바일 로그인/회원가입 -->\\r\\n                <div class=\"m_area_flex\">\\r\\n                    <ul>\\r\\n                        <li>\\r\\n                            <a href=\"/login\">로그인</a>\\r\\n                            </li>\\r\\n                        <li>\\r\\n                            <a href=\"/join/join_step1\">회원가입</a>\\r\\n                            </li>\\r\\n                    </ul>\\r\\n                </div>\\r\\n                <!-- //모바일 로그인/회원가입 -->\\r\\n\\r\\n                <div class=\"gnb_menu\">\\r\\n                    <ul>\\r\\n                        <li class=\"dp1\">\\r\\n                            <p class=\"dp1_tit\"><a href=\"#none\">BRAND</a></p>\\r\\n                            <div class=\"dp2\">\\r\\n                                <ul>\\r\\n                                    <li class=\"active\"><a href=\"/brand/story\">브랜드 스토리</a></li>\\r\\n                                    <li><a href=\"/brand/philosophy\">브랜드 철학</a></li>\\r\\n                                    <li><a href=\"/brand/legacy\">브랜드 유산</a></li>\\r\\n                                    </ul>\\r\\n                            </div>\\r\\n                        </li>\\r\\n                        <li class=\"dp1\">\\r\\n                            <p class=\"dp1_tit\"><a href=\"#none\">ESG</a></p>\\r\\n                            <div class=\"dp2\">\\r\\n                                <ul>\\r\\n                                    <li class=\"active\"><a href=\"/esg/management\">ESG경영이란?</a></li>\\r\\n                                    <li><a href=\"/esg/environment\">환경보호(Environment)</a></li>\\r\\n                                    <li><a href=\"/hansot/social\">사회공헌(Social)</a></li>\\r\\n                                    <li><a href=\"/esg/management\">윤리경영(Governance)</a></li>\\r\\n                                    <li><a href=\"/esg/sdgs\">세계 40대 브랜드 선정</a></li>\\r\\n\\r\\n                                    </ul>\\r\\n                            </div>\\r\\n                        </li>\\r\\n                        <li class=\"dp1\">\\r\\n                            <p class=\"dp1_tit\"><a href=\"#none\">MENU</a></p>\\r\\n                            <div class=\"dp2\">\\r\\n                                <ul>\\r\\n                                    <li><a href=\"/menu/menu_list\">전체메뉴</a></li>\\r\\n                                    <li><a href=\"/menu/material\">식재료 이야기</a></li>\\r\\n                                    <li><a href=\"/menu/chancha\">페루찬차마요커피</a></li>\\r\\n                                    <li><a href=\"/menu/menu_order\">단체 주문</a></li>\\r\\n                                </ul>\\r\\n                            </div>\\r\\n                        </li>\\r\\n                        <li class=\"dp1\">\\r\\n                            <p class=\"dp1_tit\"><a href=\"#none\">STORE</a></p>\\r\\n                            <div class=\"dp2\">\\r\\n                                <ul>\\r\\n                                    <li><a href=\"/store/store_find\">주변점포찾기</a></li>\\r\\n                                </ul>\\r\\n                            </div>\\r\\n                        </li>\\r\\n                        <li class=\"dp1\">\\r\\n                            <p class=\"dp1_tit\"><a href=\"#none\">EVENT</a></p>\\r\\n                            <div class=\"dp2\">\\r\\n                                <ul>\\r\\n                                    <li><a href=\"/event/event_list\">이 달의 이벤트</a></li>\\r\\n                                    <li><a href=\"/event/store_event_list\">신규점 오픈이벤트</a></li>\\r\\n                                </ul>\\r\\n                            </div>\\r\\n                        </li>\\r\\n                        <li class=\"dp1\">\\r\\n                            <p class=\"dp1_tit\"><a href=\"#none\">FRANCHISE</a></p>\\r\\n                            <div class=\"dp2\">\\r\\n                                <ul>\\r\\n                                    <li><a href=\"/franchise/hansot_store\">Why 한솥 가맹점</a></li>\\r\\n                                    <li><a href=\"/franchise/success\">성공수기</a></li>\\r\\n                                    <li><a href=\"/franchise/process\">창업개설절차</a></li>\\r\\n                                    <li><a href=\"/franchise/calc\">예상 창업 비용</a></li>\\r\\n                                    <li><a href=\"/franchise/qna\">창업문의</a></li>\\r\\n                                    <li><a href=\"/franchise/briefing\">창업설명회 일정·신청</a></li>\\r\\n                                </ul>\\r\\n                            </div>\\r\\n                        </li>\\r\\n                        <li class=\"dp1\">\\r\\n                            <p class=\"dp1_tit\"><a href=\"#none\">HANSOT</a></p>\\r\\n                            <div class=\"dp2\">\\r\\n                                <ul>\\r\\n                                    <li><a href=\"/hansot/promise\">한솥의 약속</a></li>\\r\\n                                    <li><a href=\"/hansot/vision\">한솥의 비전</a></li>\\r\\n                                    <li><a href=\"/hansot/history\">연혁&amp;수상</a></li>\\r\\n                                    <li><a href=\"/hansot/news_list\">한솥 NEWS</a></li>\\r\\n                                    <li><a href=\"/hansot/location\">오시는 길</a></li>\\r\\n                                    <li><a href=\"/footer/faq_list\">고객센터</a></li>\\r\\n                                    <li class=\"h_last\"><a href=\"/footer/incruit\">인재채용</a></li>\\r\\n                                </ul>\\r\\n                            </div>\\r\\n                        </li>\\r\\n                    </ul>\\r\\n                </div>\\r\\n            </section>\\r\\n            <!--// gnb -->\\r\\n            <!-- pc:bg -->\\r\\n            <div class=\"bg_layer\"></div>\\r\\n            <!-- //pc:bg -->\\r\\n            <!-- mobile_btn -->\\r\\n            <div class=\"mobile_menu_btn\">\\r\\n                <div class=\"hamburger\" id=\"hamburger-6\">\\r\\n                    <span class=\"line\"></span>\\r\\n                    <span class=\"line\"></span>\\r\\n                    <span class=\"line\"></span>\\r\\n                </div>\\r\\n            </div>\\r\\n            <!-- //mobile_btn -->\\r\\n        </div>\\r\\n        <!--// header content -->\\r\\n    </div>\\r\\n</header>\\r\\n<!--// header -->\\r\\n\\r\\n<!--// inc header e -->\\r\\n\\r\\n    <!-- popup -->\\r\\n<!-- container s -->\\r\\n    <div id=\"container\" class=\"main_page\">\\r\\n        \\r\\n<div class=\"content main\">\\r\\n    <!-- group_order -->\\r\\n    <section class=\"main_wrap\">\\r\\n        <!-- main_visual -->\\r\\n        <div class=\"main_visual_wrap mo_tr swiper-container\">\\r\\n            <div class=\"swiper-wrapper\">\\r\\n                <!-- visual01 -->\\r\\n                <div class=\"visual_bg vi_01 swiper-slide\"\\r\\n                     data-mobile-url=\"https://www.hsd.co.kr/images/0ed8386796f440bf87d5ee3b136514b620220831041926.jpg\" data-web-url=\"https://www.hsd.co.kr/images/4767c069fb8a423292fb7aaf4c1e474120220831041921.jpg\"\\r\\n                >\\r\\n                    <a href=\"https://www.hsd.co.kr/event/event_view/737?pageSize=12&pageNo=1&cate=&_csrf=fa7ca412-0217-419c-8d82-31a08ed3f50e\" class=\"view_blind\"><span class=\"blind\">자세히보기</span></a>\\r\\n                    </div>\\r\\n                <div class=\"visual_bg vi_01 swiper-slide\"\\r\\n                     data-mobile-url=\"https://www.hsd.co.kr/images/981712ad25954ded92f5a1c27d7cfafe20220908091945.jpg\" data-web-url=\"https://www.hsd.co.kr/images/52284635b9ec4cfe961ea2e53f5515f920220908091942.jpg\"\\r\\n                >\\r\\n                    <a href=\"https://www.hsd.co.kr/event/event_view/736?pageSize=12&pageNo=1&cate=&_csrf=2fc8b735-4d22-4295-9815-5b1ea2ef61fe\" class=\"view_blind\"><span class=\"blind\">자세히보기</span></a>\\r\\n                    </div>\\r\\n                <div class=\"visual_bg vi_01 swiper-slide\"\\r\\n                     data-mobile-url=\"https://www.hsd.co.kr/images/6f2e53e7388e4ec384e809e8bd3fce8020220908091836.jpg\" data-web-url=\"https://www.hsd.co.kr/images/fc371d4d36724307966f9469c522453520220908091833.jpg\"\\r\\n                >\\r\\n                    <a href=\"https://www.hsd.co.kr/event/event_view/739?pageSize=12&pageNo=1&cate=&_csrf=2fc8b735-4d22-4295-9815-5b1ea2ef61fe\" class=\"view_blind\"><span class=\"blind\">자세히보기</span></a>\\r\\n                    </div>\\r\\n                <div class=\"visual_bg vi_01 swiper-slide\"\\r\\n                     data-mobile-url=\"https://www.hsd.co.kr/images/28fb6de20d694d249ad3648c1a12f9a320220608063440.jpg\" data-web-url=\"https://www.hsd.co.kr/images/2162bc8e12d6483cb1b02a72477996a420220608063435.jpg\"\\r\\n                >\\r\\n                    <a href=\"https://www.hsd.co.kr/event/event_view/716?pageSize=12&pageNo=1&cate=&_csrf=5ee35556-36c5-4a29-85e6-0674bbcc488b\" class=\"view_blind\"><span class=\"blind\">자세히보기</span></a>\\r\\n                    </div>\\r\\n                <div class=\"visual_bg vi_01 swiper-slide\"\\r\\n                     data-mobile-url=\"https://www.hsd.co.kr/images/52b84c361ded4dc8afb163e7313a507520220913065537.jpg\" data-web-url=\"https://www.hsd.co.kr/images/278c447364f24b6886cf2ca3c6630ae120220913065533.jpg\"\\r\\n                >\\r\\n                    <a href=\"https://www.hsd.co.kr/menu/menu_order\" class=\"view_blind\"><span class=\"blind\">자세히보기</span></a>\\r\\n                    </div>\\r\\n                <div class=\"visual_bg vi_01 swiper-slide\"\\r\\n                     data-mobile-url=\"https://www.hsd.co.kr/images/5b67113ecf6f4b1cb0331ff162469b8720220630051804.jpg\" data-web-url=\"https://www.hsd.co.kr/images/6144674e33ff440baa29449a61c57f5820220831042116.jpg\"\\r\\n                >\\r\\n                    <a href=\"https://www.hsd.co.kr/event/event_view/702?pageSize=12&pageNo=1&cate=&_csrf=3964c806-0b7b-43a7-b5f8-992209e14ec5\" class=\"view_blind\"><span class=\"blind\">자세히보기</span></a>\\r\\n                    </div>\\r\\n                <div class=\"visual_bg vi_01 swiper-slide\"\\r\\n                     data-mobile-url=\"https://www.hsd.co.kr/images/fdb6af1f62914f1c8ba4aed49feacfe120220430112830.jpg\" data-web-url=\"https://www.hsd.co.kr/images/5e82ed65ade14006a56c28871629128920220430112828.jpg\"\\r\\n                >\\r\\n                    <a href=\"https://www.hsd.co.kr/event/event_view/694?pageSize=12&pageNo=1&cate=&_csrf=3964c806-0b7b-43a7-b5f8-992209e14ec5\" class=\"view_blind\"><span class=\"blind\">자세히보기</span></a>\\r\\n                    </div>\\r\\n                <div class=\"visual_bg vi_01 swiper-slide\"\\r\\n                     data-mobile-url=\"https://www.hsd.co.kr/images/ba22f59399ea4af7b4decf532551003720220831042145.jpg\" data-web-url=\"https://www.hsd.co.kr/images/84da6dc781de4239a66df7c11b55677720220831042141.jpg\"\\r\\n                >\\r\\n                    <a href=\"https://www.hsd.co.kr/franchise/briefing\" class=\"view_blind\"><span class=\"blind\">자세히보기</span></a>\\r\\n                    </div>\\r\\n                <!-- //visual01 -->\\r\\n            </div>\\r\\n            <!-- Pagination -->\\r\\n            <div class=\"pagi_wrap\">\\r\\n                <div class=\"pagi_cont\">\\r\\n                    <div class=\"swiper-pagination\"></div>\\r\\n                    <!-- play,stop -->\\r\\n                    <div class=\"btn_ps\">\\r\\n                        <a href=\"javascript:toggleSwiperAutoplay();\"><span class=\"blind\">swiper start/stop</span></a>\\r\\n                    </div>\\r\\n                    <!-- //play,stop -->\\r\\n                </div>\\r\\n            </div>\\r\\n            <!-- //Pagination -->\\r\\n        </div>\\r\\n        <!-- //main_visual -->\\r\\n        <!-- content01 -->\\r\\n        <div class=\"main_cont_01\">\\r\\n            <div class=\"main_cont_wrap mo_tr\">\\r\\n                <!-- 전체메뉴 -->\\r\\n                <div class=\"area_sc first\">\\r\\n                    <a href=\"/menu/menu_list\" class=\"sc_link\"></a>\\r\\n                    <figure class=\"sc_wrap\">\\r\\n                        <span class=\"sc_img\">\\r\\n                            <img src=\"/assets/images/main/main_img_01.jpg\" alt=\"전체메뉴 이미지\">\\r\\n                        </span>\\r\\n                        <figcaption>\\r\\n                            <p class=\"sc_tit fz_02\">\\r\\n                                <span class=\"s_block\">가격 이상의 가치가 담긴</span>\\r\\n                                <span class=\"s_block\">다양한 메뉴를 확인해 보세요</span>\\r\\n                            </p>\\r\\n                            <span class=\"sc_txt\">한솥 메뉴</span>\\r\\n                        </figcaption>\\r\\n                    </figure>\\r\\n                </div>\\r\\n                <!-- //전체메뉴 -->\\r\\n                <!-- 주변점포찾기 -->\\r\\n                <div class=\"area_sc\">\\r\\n                    <a href=\"/store/store_find\" class=\"sc_link\"></a>\\r\\n                    <figure class=\"sc_wrap\">\\r\\n                        <span class=\"sc_img\">\\r\\n                            <img src=\"/assets/images/main/main_img_02.jpg\" alt=\"주변점포찾기 이미지\">\\r\\n                        </span>\\r\\n                        <figcaption>\\r\\n                            <p class=\"sc_tit fz_02\">\\r\\n                                <span class=\"s_block\">갓 지은 한끼가 기다리고 있는</span>\\r\\n                                <span class=\"s_block\">가까운 한솥 매장을 찾아보세요</span>\\r\\n                            </p>\\r\\n                            <span class=\"sc_txt\">주변점포찾기</span>\\r\\n                        </figcaption>\\r\\n                    </figure>\\r\\n                </div>\\r\\n                <!-- //주변점포찾기 -->\\r\\n            </div>\\r\\n        </div>\\r\\n        <!-- //content01 -->\\r\\n        <!-- content02 -->\\r\\n        <div class=\"main_cont_02\">\\r\\n            <div class=\"main_cont_wrap mo_tr\">\\r\\n                <!-- 한솥 intro -->\\r\\n                <div class=\"main_intro\">\\r\\n                    <h2 class=\"h2_int fz_01\">\\r\\n                        <span class=\"s_block\">가맹점주에게도</span>\\r\\n                        <span class=\"s_block\">든든한 한솥입니다</span>\\r\\n                    </h2>\\r\\n                    <p class=\"int_tit\">\\r\\n                        <span class=\"s_block\">점주님들의 꿈을 실현시켜 드리기 위해</span>\\r\\n                        <span class=\"s_block\">가맹점주와 성공까지 동행하는 한솥!</span>\\r\\n                        <span class=\"s_block\">상담부터 개업까지 모든 희로애락을 함께 합니다.</span>\\r\\n                    </p>\\r\\n                </div>\\r\\n                <!-- //한솥 intro -->\\r\\n                <div class=\"to_wrap\">\\r\\n                    <!-- why한솥 가맹점 -->\\r\\n                    <div class=\"area_sc first\">\\r\\n                        <a href=\"/franchise/hansot_store\" class=\"sc_link\"></a>\\r\\n                        <figure class=\"sc_wrap\">\\r\\n                            <span class=\"sc_img\">\\r\\n                                <img src=\"/assets/images/main/main_img_03.jpg\" alt=\"why한솥 가맹점 이미지\">\\r\\n                            </span>\\r\\n                            <figcaption>\\r\\n                                <p class=\"sc_tit fz_02\">\\r\\n                                    <span class=\"s_block\">한솥은 언제나 고객과 점주님들의</span>\\r\\n                                    <span class=\"s_block\">이익을 먼저 생각합니다</span>\\r\\n                                </p>\\r\\n                                <span class=\"sc_txt\">Why 한솥 가맹점</span>\\r\\n                            </figcaption>\\r\\n                        </figure>\\r\\n                    </div>\\r\\n                    <!-- //why한솥 가맹점 -->\\r\\n                    <!-- 성공수기 -->\\r\\n                    <div class=\"area_sc\">\\r\\n                        <a href=\"/franchise/success\" class=\"sc_link\"></a>\\r\\n                        <figure class=\"sc_wrap\">\\r\\n                            <span class=\"sc_img\">\\r\\n                                <img src=\"/assets/images/main/main_img_04.jpg\" alt=\"성공수기 이미지\">\\r\\n                            </span>\\r\\n                            <figcaption>\\r\\n                                <p class=\"sc_tit fz_02\">\\r\\n                                    <span class=\"s_block\">한솥과 함께하는 가맹점주들의</span>\\r\\n                                    <span class=\"s_block\">성공 스토리입니다</span>\\r\\n                                </p>\\r\\n                                <span class=\"sc_txt\">성공수기</span>\\r\\n                            </figcaption>\\r\\n                        </figure>\\r\\n                    </div>\\r\\n                    <!-- //성공수기 -->\\r\\n                </div>\\r\\n            </div>\\r\\n        </div>\\r\\n        <!-- //content02 -->\\r\\n        <!-- content03 -->\\r\\n        <div class=\"main_cont_03\">\\r\\n            <!-- full bg -->\\r\\n            <div class=\"main_hansot\">\\r\\n                <div class=\"main_hansot_bg\">\\r\\n                </div>\\r\\n                <!-- content -->\\r\\n                <div class=\"main_cont_wrap\">\\r\\n                    <!-- text -->\\r\\n                    <div class=\"main_info mo_version\">\\r\\n                        <h2 class=\"h2_info fz_01\">\\r\\n                            <span class=\"s_block\">든든한 솥밥을 위해</span>\\r\\n                            <span class=\"s_block\">한솥이 지키고,</span>\\r\\n                            <span class=\"s_block\">키워가는 것들</span>\\r\\n                        </h2>\\r\\n                        <p class=\"info_tit\">\\r\\n                            <span class=\"s_block\">한솥은 \\'따끈한 도시락으로 지역사회에 공헌한다\\' 라는</span>\\r\\n                            <span class=\"s_block\">기업이념 아래, 고객 이익을 최우선으로 하며 엄선된</span>\\r\\n                            <span class=\"s_block\">좋은 식재료만 사용하는 대한민국 외식종합기업 시장을</span>\\r\\n                            <span class=\"s_block\">리드하는 글로벌 종합외식기업 입니다.</span>\\r\\n                        </p>\\r\\n                        <!-- btn -->\\r\\n                        <div class=\"btn_wrap btn_info\">\\r\\n                            <span class=\"btn btn_st04\"><a href=\"/brand/philosophy\" class=\"c_06\">브랜드 철학</a></span>\\r\\n                        </div>\\r\\n                        <!-- //btn -->\\r\\n                    </div>\\r\\n                    <!-- //text -->\\r\\n                </div>\\r\\n                <!-- content -->\\r\\n            </div>\\r\\n            <!-- //full bg -->\\r\\n        </div>\\r\\n        <!-- //content03 -->\\r\\n        <!-- content04 -->\\r\\n        <div class=\"main_cont_04\">\\r\\n            <div class=\"main_cont_wrap\">\\r\\n                <div class=\"area_sc\">\\r\\n                    <a href=\"/menu/material\" class=\"sc_link\"></a>\\r\\n                    <figure class=\"sc_wrap\">\\r\\n                        <span class=\"sc_img\">\\r\\n                            <img src=\"/assets/images/main/main_img_05.jpg\" alt=\"식재료 이미지\">\\r\\n                        </span>\\r\\n                        <figcaption>\\r\\n                            <h2 class=\"h2_mt fz_01\">\\r\\n                                <span class=\"s_block\">식재료 앞에서는</span>\\r\\n                                <span class=\"s_block\">한없이</span>\\r\\n                                <span class=\"s_block\">까탈스럽습니다</span>\\r\\n                            </h2>\\r\\n                            <p class=\"sc_tit\">\\r\\n                                <span class=\"s_block\">맑고 깨끗한 자연 환경속에서 재배된 식재료가</span>\\r\\n                                <span class=\"s_block\">아니면 한솥이 될 수 없습니다.</span>\\r\\n                                <span class=\"s_block\">모든 식재료는 고객분들이 안심하고 드실 수 있도록</span>\\r\\n                                <span class=\"s_block\">엄격한 기준 아래 선별됩니다.</span>\\r\\n                            </p>\\r\\n                            <span class=\"sc_txt\">식재료이야기</span>\\r\\n                        </figcaption>\\r\\n                    </figure>\\r\\n                </div>\\r\\n            </div>\\r\\n        </div>\\r\\n        <!-- //content04 -->\\r\\n    </section>\\r\\n    <!-- //group_order -->\\r\\n</div>\\r\\n\\r\\n<!-- more_cont -->\\r\\n<div class=\"conts_more\">\\r\\n    <h2 class=\"more_tit\">더 많은 이야기</h2>\\r\\n    <ul>\\r\\n        <li>\\r\\n            <a href=\"/hansot/promise\" class=\"more_link\"></a>\\r\\n            <figure>\\r\\n                <span class=\"more_img\">\\r\\n                    <img src=\"/assets/images/common/more_hansot.jpg\" alt=\"한솥의 약속\" />\\r\\n                </span>\\r\\n                <figcaption>\\r\\n                    <h3 class=\"h3_tit\">한솥의 약속</h3>\\r\\n                    <h3 class=\"h3_tit_o\">한솥의 약속</h3>\\r\\n                </figcaption>\\r\\n            </figure>\\r\\n        </li>\\r\\n        <li>\\r\\n            <a href=\"/event/event_list\" class=\"more_link\"></a>\\r\\n            <figure>\\r\\n                <span class=\"more_img\">\\r\\n                    <img src=\"/assets/images/common/more_event.jpg\" alt=\"온라인 이벤트\" />\\r\\n                </span>\\r\\n                <figcaption>\\r\\n                    <h3 class=\"h3_tit\">온라인 이벤트</h3>\\r\\n                    <h3 class=\"h3_tit_o\">온라인 이벤트</h3>\\r\\n                </figcaption>\\r\\n            </figure>\\r\\n        </li>\\r\\n        <li>\\r\\n            <a href=\"/hansot/news_list\" class=\"more_link\"></a>\\r\\n            <figure>\\r\\n                <span class=\"more_img\">\\r\\n                    <img src=\"/assets/images/common/more_news.jpg\" alt=\"한솥 NEWS\" />\\r\\n                </span>\\r\\n                <figcaption>\\r\\n                    <h3 class=\"h3_tit\">한솥 NEWS</h3>\\r\\n                    <h3 class=\"h3_tit_o\">한솥 NEWS</h3>\\r\\n                </figcaption>\\r\\n            </figure>\\r\\n        </li>\\r\\n    </ul>\\r\\n</div>\\r\\n<!--// more_cont-->\\r\\n<script type=\"text/javascript\">\\r\\n    //mainSwiper\\r\\n    var mainSwiper = new Swiper(\\'.main_visual_wrap.swiper-container\\', {\\r\\n        simulateTouch: false,\\r\\n        pagination: \\'.swiper-pagination\\',\\r\\n        paginationClickable: true,\\r\\n        loop: true,\\r\\n        autoplay: 5000,\\r\\n        autoplayDisableOnInteraction: false\\r\\n    });\\r\\n\\r\\n    // Toggle mainSwiper Autoplay\\r\\n    function toggleSwiperAutoplay() {\\r\\n        if(mainSwiper.autoplaying) {\\r\\n            // 중단\\r\\n            mainSwiper.stopAutoplay();\\r\\n            $(\\'.btn_ps\\').addClass(\\'on\\');\\r\\n        } else {\\r\\n            // 시작\\r\\n            mainSwiper.startAutoplay();\\r\\n            $(\\'.btn_ps\\').removeClass(\\'on\\');\\r\\n        }\\r\\n    }\\r\\n</script>\\r\\n\\r\\n    </div>\\r\\n    <!--// container e -->\\r\\n\\r\\n    <!-- inc footer s -->\\r\\n    <!-- footer -->\\r\\n<footer id=\"footer\">\\r\\n    <div class=\"ft_content mo_version\">\\r\\n\\r\\n        <!-- family goods -->\\r\\n        <div class=\"ft_menu\">\\r\\n            <ul>\\r\\n                <li class=\"first_be off\"><a href=\"/footer/incruit\">인재채용</a></li>\\r\\n                <li class=\"off\"><a href=\"/footer/partners\">협력업체등록</a></li>\\r\\n                <li class=\"mo_bl\"><a href=\"/footer/notice_list\">공지사항</a></li>\\r\\n                <li><a href=\"/footer/faq_list\">고객 센터</a></li>\\r\\n                <li class=\"mo_bl\"><a href=\"/footer/policy\"><strong>개인정보처리방침</strong></a></li>\\r\\n                <li><a href=\"/footer/agreement\">이용약관</a></li>\\r\\n            </ul>\\r\\n        </div>\\r\\n        <!--// family goods -->\\r\\n\\t\\t<div class=\"mark_webaward\"><p><span class=\"blind\">web award korea 2017 프랜차이즈분야 대상2017</span></p></div><!-- 2018-01-11웹어워드마크 -->\\r\\n        <!-- info -->\\r\\n        <div class=\"ft_info_wrap\">\\r\\n            <!-- pc -->\\r\\n            <div class=\"ft_info pc_info\">\\r\\n                <span class=\"first_be\">대표이사  이영덕, 이하림</span>\\r\\n                <span>사업자등록번호  214-81-96569</span>\\r\\n                <span>서울시 강남구 강남대로 318(역삼동) 타워837빌딩 8,9층</span>\\r\\n                <span>T.  02-585-1114</span>\\r\\n                <span>F.  02-598-1116</span>\\r\\n                <span class=\"first_be\">E.  webmaster@hsd.co.kr</span>\\r\\n                <span>한솥 도시락 고객센터  02-585-1114</span>\\r\\n                <span>전국창업설명회  02-585-1114</span>\\r\\n                <span>단체주문  1644-3288</span>\\r\\n            </div>\\r\\n            <!-- //pc -->\\r\\n            <!-- mobile -->\\r\\n            <div class=\"ft_info mo_info\">\\r\\n                <div class=\"mo_info_list\">\\r\\n                    <p class=\"btn_toggle\">\\r\\n                        <a href=\"#none\">한솥 사업자 정보</a>\\r\\n                    </p>\\r\\n                    <div class=\"mo_info_on\">\\r\\n                        <span class=\"mo_bl\">대표이사  이영덕, 이하림</span>\\r\\n                        <span>사업자등록번호  214-81-96569</span>\\r\\n                        <br/>\\r\\n                        <span class=\"mo_bl\">서울시 강남구 강남대로 318(역삼동) 타워837빌딩 8,9층</span>\\r\\n                        <br/>\\r\\n                        <span class=\"mo_bl\">T.  02-585-1114</span>\\r\\n                        <span>F.  02-598-1116</span>\\r\\n                        <br/>\\r\\n                        <span class=\"mo_bl\">E.  webmaster@hsd.co.kr</span>\\r\\n                        <div class=\"mo_info_call\">\\r\\n                            <dl>\\r\\n                                <dt>한솥 고객센터</dt>\\r\\n                                <dd>02-585-1114</dd>\\r\\n                            </dl>\\r\\n                            <dl>\\r\\n                                <dt>전국창업설명회</dt>\\r\\n                                <dd>02-585-1114</dd>\\r\\n                            </dl>\\r\\n                            <dl>\\r\\n                                <dt>단체주문</dt>\\r\\n                                <dd>1644-3288</dd>\\r\\n                            </dl>\\r\\n                        </div>\\r\\n                    </div>\\r\\n                </div>\\r\\n            </div>\\r\\n            <!-- //mobile -->\\r\\n\\r\\n            <p class=\"copyright\">COPYRIGHT<span>&copy;</span>㈜한솥. ALL RIGHTS RESERVED.</p>\\r\\n\\r\\n            <div class=\"ft_sns\">\\r\\n                <a href=\"https://www.instagram.com/hansot_official/\" target=\"_blank\" title=\"새 창 열림\" class=\"sns_insta_02\" target=\"_blank\" title=\"새 창 열림\" ><span class=\"blind\">instagram</span></a>\\r\\n                <a href=\"https://www.facebook.com/hansotOfficial/?ref=ts&fref=ts\" target=\"_blank\" class=\"sns_face_02\" target=\"_blank\" title=\"새 창 열림\" ><span class=\"blind\">facebook</span></a>\\r\\n            </div>\\r\\n        </div>\\r\\n        <!--// info -->\\r\\n    </div>\\r\\n</footer>\\r\\n<!--// footer -->\\r\\n\\r\\n<script async src=\"https://www.googletagmanager.com/gtag/js?id=UA-109125197-1\"></script>\\r\\n        <script>\\r\\n            window.dataLayer = window.dataLayer || [];\\r\\n            function gtag(){dataLayer.push(arguments);}\\r\\n            gtag(\\'js\\', new Date());\\r\\n\\r\\n            gtag(\\'config\\', \\'UA-109125197-1\\');\\r\\n        </script>\\r\\n    <!--// inc footer e -->\\r\\n\\r\\n</div>\\r\\n<!--// wrap e -->\\r\\n</body>\\r\\n</html>'"
      ]
     },
     "execution_count": 4,
     "metadata": {},
     "output_type": "execute_result"
    }
   ],
   "source": [
    "res.text"
   ]
  },
  {
   "cell_type": "code",
   "execution_count": 5,
   "id": "deee7045",
   "metadata": {},
   "outputs": [
    {
     "name": "stdout",
     "output_type": "stream",
     "text": [
      "Requirement already satisfied: bs4 in c:\\users\\user\\anaconda3\\lib\\site-packages (0.0.1)\n",
      "Requirement already satisfied: beautifulsoup4 in c:\\users\\user\\anaconda3\\lib\\site-packages (from bs4) (4.11.1)\n",
      "Requirement already satisfied: soupsieve>1.2 in c:\\users\\user\\anaconda3\\lib\\site-packages (from beautifulsoup4->bs4) (2.3.1)\n"
     ]
    }
   ],
   "source": [
    "!pip install bs4"
   ]
  },
  {
   "cell_type": "code",
   "execution_count": 6,
   "id": "d751c92e",
   "metadata": {},
   "outputs": [],
   "source": [
    "from bs4 import BeautifulSoup as bs"
   ]
  },
  {
   "cell_type": "code",
   "execution_count": 7,
   "id": "4f87935a",
   "metadata": {},
   "outputs": [],
   "source": [
    "soup=bs(res.text,'html.parser')"
   ]
  },
  {
   "cell_type": "code",
   "execution_count": null,
   "id": "36e17395",
   "metadata": {},
   "outputs": [],
   "source": [
    "hansot=soup.select(\"a.nav\")"
   ]
  },
  {
   "cell_type": "code",
   "execution_count": 8,
   "id": "5f3c4330",
   "metadata": {},
   "outputs": [
    {
     "name": "stdout",
     "output_type": "stream",
     "text": [
      "Requirement already satisfied: selenium==3.141.0 in c:\\users\\user\\anaconda3\\lib\\site-packages (3.141.0)\n",
      "Requirement already satisfied: urllib3 in c:\\users\\user\\anaconda3\\lib\\site-packages (from selenium==3.141.0) (1.26.9)\n"
     ]
    }
   ],
   "source": [
    "! pip install selenium==3.141.0"
   ]
  },
  {
   "cell_type": "code",
   "execution_count": 9,
   "id": "0775e268",
   "metadata": {},
   "outputs": [],
   "source": [
    "from selenium import webdriver"
   ]
  },
  {
   "cell_type": "code",
   "execution_count": 10,
   "id": "2fa3cdfe",
   "metadata": {},
   "outputs": [],
   "source": [
    "driver= webdriver.Chrome(r'C:\\Users\\user\\chromedriver.exe')"
   ]
  },
  {
   "cell_type": "code",
   "execution_count": 35,
   "id": "309de868",
   "metadata": {},
   "outputs": [],
   "source": [
    "driver.get(\"https://www.hsd.co.kr/\")"
   ]
  },
  {
   "cell_type": "code",
   "execution_count": 36,
   "id": "f9203ae2",
   "metadata": {},
   "outputs": [
    {
     "ename": "WebDriverException",
     "evalue": "Message: unknown error: failed to change window state to 'normal', current state is 'maximized'\n  (Session info: chrome=105.0.5195.102)\n",
     "output_type": "error",
     "traceback": [
      "\u001b[1;31m---------------------------------------------------------------------------\u001b[0m",
      "\u001b[1;31mWebDriverException\u001b[0m                        Traceback (most recent call last)",
      "Input \u001b[1;32mIn [36]\u001b[0m, in \u001b[0;36m<cell line: 1>\u001b[1;34m()\u001b[0m\n\u001b[1;32m----> 1\u001b[0m \u001b[43mdriver\u001b[49m\u001b[38;5;241;43m.\u001b[39;49m\u001b[43mmaximize_window\u001b[49m\u001b[43m(\u001b[49m\u001b[43m)\u001b[49m\n",
      "File \u001b[1;32m~\\anaconda3\\lib\\site-packages\\selenium\\webdriver\\remote\\webdriver.py:737\u001b[0m, in \u001b[0;36mWebDriver.maximize_window\u001b[1;34m(self)\u001b[0m\n\u001b[0;32m    735\u001b[0m     command \u001b[38;5;241m=\u001b[39m Command\u001b[38;5;241m.\u001b[39mMAXIMIZE_WINDOW\n\u001b[0;32m    736\u001b[0m     params \u001b[38;5;241m=\u001b[39m {\u001b[38;5;124m'\u001b[39m\u001b[38;5;124mwindowHandle\u001b[39m\u001b[38;5;124m'\u001b[39m: \u001b[38;5;124m'\u001b[39m\u001b[38;5;124mcurrent\u001b[39m\u001b[38;5;124m'\u001b[39m}\n\u001b[1;32m--> 737\u001b[0m \u001b[38;5;28;43mself\u001b[39;49m\u001b[38;5;241;43m.\u001b[39;49m\u001b[43mexecute\u001b[49m\u001b[43m(\u001b[49m\u001b[43mcommand\u001b[49m\u001b[43m,\u001b[49m\u001b[43m \u001b[49m\u001b[43mparams\u001b[49m\u001b[43m)\u001b[49m\n",
      "File \u001b[1;32m~\\anaconda3\\lib\\site-packages\\selenium\\webdriver\\remote\\webdriver.py:321\u001b[0m, in \u001b[0;36mWebDriver.execute\u001b[1;34m(self, driver_command, params)\u001b[0m\n\u001b[0;32m    319\u001b[0m response \u001b[38;5;241m=\u001b[39m \u001b[38;5;28mself\u001b[39m\u001b[38;5;241m.\u001b[39mcommand_executor\u001b[38;5;241m.\u001b[39mexecute(driver_command, params)\n\u001b[0;32m    320\u001b[0m \u001b[38;5;28;01mif\u001b[39;00m response:\n\u001b[1;32m--> 321\u001b[0m     \u001b[38;5;28;43mself\u001b[39;49m\u001b[38;5;241;43m.\u001b[39;49m\u001b[43merror_handler\u001b[49m\u001b[38;5;241;43m.\u001b[39;49m\u001b[43mcheck_response\u001b[49m\u001b[43m(\u001b[49m\u001b[43mresponse\u001b[49m\u001b[43m)\u001b[49m\n\u001b[0;32m    322\u001b[0m     response[\u001b[38;5;124m'\u001b[39m\u001b[38;5;124mvalue\u001b[39m\u001b[38;5;124m'\u001b[39m] \u001b[38;5;241m=\u001b[39m \u001b[38;5;28mself\u001b[39m\u001b[38;5;241m.\u001b[39m_unwrap_value(\n\u001b[0;32m    323\u001b[0m         response\u001b[38;5;241m.\u001b[39mget(\u001b[38;5;124m'\u001b[39m\u001b[38;5;124mvalue\u001b[39m\u001b[38;5;124m'\u001b[39m, \u001b[38;5;28;01mNone\u001b[39;00m))\n\u001b[0;32m    324\u001b[0m     \u001b[38;5;28;01mreturn\u001b[39;00m response\n",
      "File \u001b[1;32m~\\anaconda3\\lib\\site-packages\\selenium\\webdriver\\remote\\errorhandler.py:242\u001b[0m, in \u001b[0;36mErrorHandler.check_response\u001b[1;34m(self, response)\u001b[0m\n\u001b[0;32m    240\u001b[0m         alert_text \u001b[38;5;241m=\u001b[39m value[\u001b[38;5;124m'\u001b[39m\u001b[38;5;124malert\u001b[39m\u001b[38;5;124m'\u001b[39m]\u001b[38;5;241m.\u001b[39mget(\u001b[38;5;124m'\u001b[39m\u001b[38;5;124mtext\u001b[39m\u001b[38;5;124m'\u001b[39m)\n\u001b[0;32m    241\u001b[0m     \u001b[38;5;28;01mraise\u001b[39;00m exception_class(message, screen, stacktrace, alert_text)\n\u001b[1;32m--> 242\u001b[0m \u001b[38;5;28;01mraise\u001b[39;00m exception_class(message, screen, stacktrace)\n",
      "\u001b[1;31mWebDriverException\u001b[0m: Message: unknown error: failed to change window state to 'normal', current state is 'maximized'\n  (Session info: chrome=105.0.5195.102)\n"
     ]
    }
   ],
   "source": [
    "driver.maximize_window()"
   ]
  },
  {
   "cell_type": "markdown",
   "id": "309405c1",
   "metadata": {},
   "source": [
    "### xpath 주소"
   ]
  },
  {
   "cell_type": "code",
   "execution_count": 54,
   "id": "0fc4e759",
   "metadata": {},
   "outputs": [],
   "source": [
    "menu=driver.find_element_by_xpath('//*[@id=\"gnb\"]/div[2]/ul/li[3]/p/a')\n",
    "all_menu=driver.find_element_by_xpath('//*[@id=\"gnb\"]/div[2]/ul/li[3]/div/ul/li[1]/a')"
   ]
  },
  {
   "cell_type": "code",
   "execution_count": 17,
   "id": "6c06e88a",
   "metadata": {},
   "outputs": [],
   "source": [
    "### 액션 체인 설치\n",
    "from selenium.webdriver.common.action_chains import ActionChains"
   ]
  },
  {
   "cell_type": "code",
   "execution_count": null,
   "id": "9cc1ddab",
   "metadata": {},
   "outputs": [],
   "source": [
    "##액션만들기"
   ]
  },
  {
   "cell_type": "code",
   "execution_count": 55,
   "id": "f49d3be4",
   "metadata": {},
   "outputs": [],
   "source": [
    "##액션만들기\n",
    "actions=ActionChains(driver)\n",
    "##메뉴 버튼\n",
    "actions.move_to_element(menu)\n",
    "#전체메뉴클릭하기\n",
    "actions.click(all_menu)\n",
    "actions.perform()"
   ]
  },
  {
   "cell_type": "code",
   "execution_count": 51,
   "id": "0157b5d0",
   "metadata": {},
   "outputs": [],
   "source": [
    "import requests as req"
   ]
  },
  {
   "cell_type": "code",
   "execution_count": 71,
   "id": "d81b5131",
   "metadata": {},
   "outputs": [],
   "source": [
    "res =req.get('https://www.hsd.co.kr/menu/menu_list')"
   ]
  },
  {
   "cell_type": "code",
   "execution_count": 72,
   "id": "3de5ff0c",
   "metadata": {
    "scrolled": true
   },
   "outputs": [
    {
     "data": {
      "text/plain": [
       "'<!DOCTYPE html>\\r\\n<html lang=\"ko\">\\r\\n<head>\\r\\n    <meta http-equiv=\"Content-Type\" content=\"text/html; charset=utf-8\">\\r\\n    <meta http-equiv=\"X-UA-Compatible\" content=\"IE=edge\" />\\r\\n    <meta name=\"viewport\" content=\"width=device-width,initial-scale=1.0,minimum-scale=1.0,maximum-scale=1.0,user-scalable=no\" />\\r\\n\\r\\n    <!-- SNS LINK -->\\r\\n    <meta property=\"og:type\" content=\"website\" />\\r\\n    <meta property=\"og:title\" content=\"\" />\\r\\n    <meta property=\"og:url\" content=\"\" />\\r\\n    <meta property=\"og:image\" content=\"\" />\\r\\n    <meta property=\"og:description\" content=\"\" />\\r\\n    <!--// SNS LINK -->\\r\\n\\r\\n    <meta name=\"_csrf_parameter\" content=\"_csrf\" /><meta name=\"_csrf_header\" content=\"X-CSRF-TOKEN\" /><meta name=\"_csrf\" content=\"0b5f8f33-5e8e-4316-99db-f5696ac7b8db\" /><title>전체메뉴 > 한솥 메뉴</title>\\r\\n\\r\\n    <link rel=\"icon\" href=\"/assets/images/common/favicon.ico\" type=\"image/x-icon\" />\\r\\n\\r\\n<link rel=\"stylesheet\" type=\"text/css\" href=\"/assets/css/ui.common.css\" />\\r\\n<link rel=\"stylesheet\" type=\"text/css\" href=\"/assets/css/swiper.min.css\" />\\r\\n<!--[if gte IE 9 ]><link rel=\"stylesheet\" href=\"/assets/css/ui.ie9.css\" type=\"text/css\" /><![endif]-->\\r\\n\\r\\n<style>\\r\\n    .file_input {\\r\\n        font-size:45px;\\r\\n        position:absolute;\\r\\n        top:0;\\r\\n        right:0;\\r\\n        bottom:0;\\r\\n        left:0;\\r\\n        margin:0;\\r\\n        padding:0;\\r\\n        border:0;\\r\\n        z-index:-1;\\r\\n        opacity: 0;\\r\\n        filter: alpha(opacity=0);\\r\\n        -ms-filter: \"alpha(opacity=0)\";\\r\\n        -khtml-opacity:0;\\r\\n        -moz-opacity:0;\\r\\n    }\\r\\n</style>\\r\\n\\r\\n<script type=\"text/javascript\" src=\"/assets/js/jquery-1.12.4.min.js\"></script>\\r\\n<script type=\"text/javascript\" src=\"/assets/js/jquery-ui-1.12.1.min.js\"></script>\\r\\n<script type=\"text/javascript\" src=\"/assets/js/jquery.easing.1.3.js\"></script>\\r\\n<script type=\"text/javascript\" src=\"/assets/js/jquery.cookie.js\"></script>\\r\\n<script type=\"text/javascript\" src=\"/assets/js/ui.common.js\"></script>\\r\\n<script type=\"text/javascript\" src=\"/assets/js/swiper.jquery.min.js\"></script>\\r\\n<script type=\"text/javascript\" src=\"/assets/js/TweenMax.min.js\"></script>\\r\\n\\r\\n<script type=\"text/javascript\" src=\"/assets/js/tss.js\"></script>\\r\\n<script type=\"text/javascript\" src=\"/assets/js/tss.util.js\"></script>\\r\\n\\r\\n<!-- validatation check -->\\r\\n<script type=\"text/javascript\" src=\"/assets/js/validation/jquery.validate.min.js\"></script>\\r\\n<script type=\"text/javascript\" src=\"/assets/js/validation/messages_ko.min.js\"></script>\\r\\n<script type=\"text/javascript\" src=\"/assets/js/validate.js\"></script>\\r\\n\\r\\n<!-- fileupload -->\\r\\n<script type=\"text/javascript\" src=\"/assets/js/fileupload/jquery.iframe-transport.js\"></script>\\r\\n<script type=\"text/javascript\" src=\"/assets/js/fileupload/jquery.fileupload.js\"></script>\\r\\n\\r\\n<script type=\"text/javascript\" src=\"/assets/js/hansot.common.js\"></script>\\r\\n\\r\\n<!-- naver map api\\r\\n<script type=\"text/javascript\" src=\"https://openapi.map.naver.com/openapi/v3/maps.js?clientId=1MATn4mHBIsSKNHepOXg&submodules=geocoder\"></script>\\r\\n-->\\r\\n<script type=\"text/javascript\" src=\"https://openapi.map.naver.com/openapi/v3/maps.js?ncpClientId=azbg6j3r3x\"></script>\\r\\n\\r\\n\\r\\n<!-- moment js api -->\\r\\n<script type=\"text/javascript\" src=\"/assets/js/moment.js\"></script>\\r\\n<!-- lodash js api -->\\r\\n<script type=\"text/javascript\" src=\"https://cdn.jsdelivr.net/npm/lodash@4.17.4/lodash.min.js\"></script>\\r\\n\\r\\n<script>\\r\\n    $(function () {\\r\\n        var token = $(\"meta[name=\\'_csrf\\']\").attr(\\'content\\');\\r\\n        var header = \"X-CSRF-TOKEN\";\\r\\n        $(document).ajaxSend(function(event, xhr, options) {\\r\\n            xhr.setRequestHeader(header, token);\\r\\n        });\\r\\n        $(document).ajaxError(function(event, xhr, options) {\\r\\n            if(xhr.status === 401) {\\r\\n                console.log(xhr);\\r\\n                if(tss.util.confirm(\\'로그인이 필요합니다.\\')) {\\r\\n                    tss.util.auth();\\r\\n                }\\r\\n            }\\r\\n            if(xhr.status === 500 || xhr.status === 400) {\\r\\n                console.log(\"오류가 발생했습니다.\");\\r\\n            }\\r\\n        });\\r\\n    });\\r\\n</script>\\r\\n<script type=\"text/javascript\">\\r\\n    </script>\\r\\n\\r\\n    \\r\\n\\r\\n    <link rel=\"stylesheet\" type=\"text/css\" href=\"/assets/css/ui.menu.css\" />\\r\\n    <link rel=\"stylesheet\" type=\"text/css\" href=\"/assets/css/jquery.mCustomScrollbar.min.css\"/>\\r\\n    <script type=\"text/javascript\" src=\"/assets/js/jquery.mCustomScrollbar.concat.min.js\"></script>\\r\\n\\r\\n    <!-- Global site tag (gtag.js) - Google Analytics -->\\r\\n    <script async src=\"https://www.googletagmanager.com/gtag/js?id=UA-43326926-1\"></script>\\r\\n    <script>\\r\\n      window.dataLayer = window.dataLayer || [];\\r\\n      function gtag(){dataLayer.push(arguments);}\\r\\n      gtag(\\'js\\', new Date());\\r\\n\\r\\n      gtag(\\'config\\', \\'UA-43326926-1\\');\\r\\n\\r\\n\\t  gtag(\\'event\\', \\'view_item_list\\', {\\'event_category\\' : \\'engagement\\',});\\r\\n    </script>\\r\\n\\r\\n    <!-- Global site tag (gtag.js) - AdWords: 864658366 -->\\r\\n    <script async src=\"https://www.googletagmanager.com/gtag/js?id=AW-864658366\"></script>\\r\\n    <script>\\r\\n      window.dataLayer = window.dataLayer || [];\\r\\n      function gtag(){dataLayer.push(arguments);}\\r\\n      gtag(\\'js\\', new Date());\\r\\n\\r\\n      gtag(\\'config\\', \\'AW-864658366\\');\\r\\n    </script>\\r\\n\\r\\n    <!-- kakao pixcel -->\\r\\n    <script type=\"text/javascript\" charset=\"UTF-8\" src=\"//t1.daumcdn.net/adfit/static/kp.js\"></script>\\r\\n    <script type=\"text/javascript\">\\r\\n    kakaoPixel(\\'5575357302971415199\\').pageView();\\r\\n    </script>\\r\\n\\r\\n    <!-- Facebook Pixel Code -->\\r\\n    <script>\\r\\n    !function(f,b,e,v,n,t,s)\\r\\n    {if(f.fbq)return;n=f.fbq=function(){n.callMethod?\\r\\n    n.callMethod.apply(n,arguments):n.queue.push(arguments)};\\r\\n    if(!f._fbq)f._fbq=n;n.push=n;n.loaded=!0;n.version=\\'2.0\\';\\r\\n    n.queue=[];t=b.createElement(e);t.async=!0;\\r\\n    t.src=v;s=b.getElementsByTagName(e)[0];\\r\\n    s.parentNode.insertBefore(t,s)}(window,document,\\'script\\',\\r\\n    \\'https://connect.facebook.net/en_US/fbevents.js\\');\\r\\n    fbq(\\'init\\', \\'241666853119648\\');\\r\\n    fbq(\\'track\\', \\'PageView\\');\\r\\n    </script>\\r\\n    <noscript>\\r\\n    <img height=\"1\" width=\"1\" src=\"https://www.facebook.com/tr?id=241666853119648&ev=PageView&noscript=1\"/>\\r\\n    </noscript>\\r\\n    <!-- End Facebook Pixel Code -->\\r\\n\\r\\n\\r\\n</head>\\r\\n<body ontouchstart>\\r\\n<!-- wrap s -->\\r\\n<div id=\"wrap\" class=\"\">\\r\\n    <!-- inc header s -->\\r\\n    <!-- header -->\\r\\n<header id=\"header\">\\r\\n    <!-- header flex-->\\r\\n    <div class=\"hd_flex\">\\r\\n        <div class=\"area_flex\">\\r\\n            <ul>\\r\\n                <li>\\r\\n                    <a href=\"/login\">로그인</a>\\r\\n                    </li>\\r\\n                <li>\\r\\n                    <a href=\"/join/join_step1\">회원가입</a>\\r\\n                    </li>\\r\\n                <li class=\"sns_insta\">\\r\\n                    <a href=\"https://www.instagram.com/hansot_official/\" target=\"_blank\" title=\"새 창 열림\" ><span class=\"blind\">instagram</span></a>\\r\\n                </li>\\r\\n                <li class=\"sns_face\">\\r\\n                    <a href=\"https://www.facebook.com/hansotOfficial/?ref=ts&fref=ts\" target=\"_blank\" title=\"새 창 열림\" ><span class=\"blind\">facebook</span></a>\\r\\n                </li>\\r\\n            </ul>\\r\\n        </div>\\r\\n    </div>\\r\\n    <!-- //header flex -->\\r\\n\\r\\n    <!-- header content -->\\r\\n    <div class=\"hd_fixed\">\\r\\n        <div class=\"hd_content\">\\r\\n            <div class=\"logo\">\\r\\n                <h1><a href=\"/\"><span class=\"blind\">한솥</span></a></h1>\\r\\n            </div>\\r\\n            <!-- gnb -->\\r\\n            <section id=\"gnb\" class=\"area_gnb mo_version\">\\r\\n                <!-- 모바일 로그인/회원가입 -->\\r\\n                <div class=\"m_area_flex\">\\r\\n                    <ul>\\r\\n                        <li>\\r\\n                            <a href=\"/login\">로그인</a>\\r\\n                            </li>\\r\\n                        <li>\\r\\n                            <a href=\"/join/join_step1\">회원가입</a>\\r\\n                            </li>\\r\\n                    </ul>\\r\\n                </div>\\r\\n                <!-- //모바일 로그인/회원가입 -->\\r\\n\\r\\n                <div class=\"gnb_menu\">\\r\\n                    <ul>\\r\\n                        <li class=\"dp1\">\\r\\n                            <p class=\"dp1_tit\"><a href=\"#none\">BRAND</a></p>\\r\\n                            <div class=\"dp2\">\\r\\n                                <ul>\\r\\n                                    <li class=\"active\"><a href=\"/brand/story\">브랜드 스토리</a></li>\\r\\n                                    <li><a href=\"/brand/philosophy\">브랜드 철학</a></li>\\r\\n                                    <li><a href=\"/brand/legacy\">브랜드 유산</a></li>\\r\\n                                    </ul>\\r\\n                            </div>\\r\\n                        </li>\\r\\n                        <li class=\"dp1\">\\r\\n                            <p class=\"dp1_tit\"><a href=\"#none\">ESG</a></p>\\r\\n                            <div class=\"dp2\">\\r\\n                                <ul>\\r\\n                                    <li class=\"active\"><a href=\"/esg/management\">ESG경영이란?</a></li>\\r\\n                                    <li><a href=\"/esg/environment\">환경보호(Environment)</a></li>\\r\\n                                    <li><a href=\"/hansot/social\">사회공헌(Social)</a></li>\\r\\n                                    <li><a href=\"/esg/management\">윤리경영(Governance)</a></li>\\r\\n                                    <li><a href=\"/esg/sdgs\">세계 40대 브랜드 선정</a></li>\\r\\n\\r\\n                                    </ul>\\r\\n                            </div>\\r\\n                        </li>\\r\\n                        <li class=\"dp1\">\\r\\n                            <p class=\"dp1_tit\"><a href=\"#none\">MENU</a></p>\\r\\n                            <div class=\"dp2\">\\r\\n                                <ul>\\r\\n                                    <li><a href=\"/menu/menu_list\">전체메뉴</a></li>\\r\\n                                    <li><a href=\"/menu/material\">식재료 이야기</a></li>\\r\\n                                    <li><a href=\"/menu/chancha\">페루찬차마요커피</a></li>\\r\\n                                    <li><a href=\"/menu/menu_order\">단체 주문</a></li>\\r\\n                                </ul>\\r\\n                            </div>\\r\\n                        </li>\\r\\n                        <li class=\"dp1\">\\r\\n                            <p class=\"dp1_tit\"><a href=\"#none\">STORE</a></p>\\r\\n                            <div class=\"dp2\">\\r\\n                                <ul>\\r\\n                                    <li><a href=\"/store/store_find\">주변점포찾기</a></li>\\r\\n                                </ul>\\r\\n                            </div>\\r\\n                        </li>\\r\\n                        <li class=\"dp1\">\\r\\n                            <p class=\"dp1_tit\"><a href=\"#none\">EVENT</a></p>\\r\\n                            <div class=\"dp2\">\\r\\n                                <ul>\\r\\n                                    <li><a href=\"/event/event_list\">이 달의 이벤트</a></li>\\r\\n                                    <li><a href=\"/event/store_event_list\">신규점 오픈이벤트</a></li>\\r\\n                                </ul>\\r\\n                            </div>\\r\\n                        </li>\\r\\n                        <li class=\"dp1\">\\r\\n                            <p class=\"dp1_tit\"><a href=\"#none\">FRANCHISE</a></p>\\r\\n                            <div class=\"dp2\">\\r\\n                                <ul>\\r\\n                                    <li><a href=\"/franchise/hansot_store\">Why 한솥 가맹점</a></li>\\r\\n                                    <li><a href=\"/franchise/success\">성공수기</a></li>\\r\\n                                    <li><a href=\"/franchise/process\">창업개설절차</a></li>\\r\\n                                    <li><a href=\"/franchise/calc\">예상 창업 비용</a></li>\\r\\n                                    <li><a href=\"/franchise/qna\">창업문의</a></li>\\r\\n                                    <li><a href=\"/franchise/briefing\">창업설명회 일정·신청</a></li>\\r\\n                                </ul>\\r\\n                            </div>\\r\\n                        </li>\\r\\n                        <li class=\"dp1\">\\r\\n                            <p class=\"dp1_tit\"><a href=\"#none\">HANSOT</a></p>\\r\\n                            <div class=\"dp2\">\\r\\n                                <ul>\\r\\n                                    <li><a href=\"/hansot/promise\">한솥의 약속</a></li>\\r\\n                                    <li><a href=\"/hansot/vision\">한솥의 비전</a></li>\\r\\n                                    <li><a href=\"/hansot/history\">연혁&amp;수상</a></li>\\r\\n                                    <li><a href=\"/hansot/news_list\">한솥 NEWS</a></li>\\r\\n                                    <li><a href=\"/hansot/location\">오시는 길</a></li>\\r\\n                                    <li><a href=\"/footer/faq_list\">고객센터</a></li>\\r\\n                                    <li class=\"h_last\"><a href=\"/footer/incruit\">인재채용</a></li>\\r\\n                                </ul>\\r\\n                            </div>\\r\\n                        </li>\\r\\n                    </ul>\\r\\n                </div>\\r\\n            </section>\\r\\n            <!--// gnb -->\\r\\n            <!-- pc:bg -->\\r\\n            <div class=\"bg_layer\"></div>\\r\\n            <!-- //pc:bg -->\\r\\n            <!-- mobile_btn -->\\r\\n            <div class=\"mobile_menu_btn\">\\r\\n                <div class=\"hamburger\" id=\"hamburger-6\">\\r\\n                    <span class=\"line\"></span>\\r\\n                    <span class=\"line\"></span>\\r\\n                    <span class=\"line\"></span>\\r\\n                </div>\\r\\n            </div>\\r\\n            <!-- //mobile_btn -->\\r\\n        </div>\\r\\n        <!--// header content -->\\r\\n    </div>\\r\\n</header>\\r\\n<!--// header -->\\r\\n\\r\\n<!--// inc header e -->\\r\\n\\r\\n    <!-- popup -->\\r\\n<!-- container s -->\\r\\n    <div id=\"container\" class=\"sub_page\">\\r\\n        \\r\\n<div class=\"content menu\">\\r\\n    <section class=\"menu_all\">\\r\\n        <!-- 한솥 메뉴 -->\\r\\n        <div class=\"menu_all_wrap tab_st01\">\\r\\n            <!-- title -->\\r\\n            <div class=\"title\">\\r\\n                <h2 class=\"h2_tit h2_02\">한솥 메뉴</h2>\\r\\n                <div class=\"tab_wrap\">\\r\\n                    <ul class=\"tab_menu col_02\">\\r\\n                        <li class=\"active\"><a href=\"#none\">전체메뉴</a></li>\\r\\n                        <li><a href=\"/menu/menu_keyword\">추천 키워드</a></li>\\r\\n                    </ul>\\r\\n                </div>\\r\\n            </div>\\r\\n            <!-- //title -->\\r\\n            <!-- 메뉴 cont-->\\r\\n            <div class=\"hansot_menu\">\\r\\n                <!-- pc:left -->\\r\\n                <div class=\"left_wrap\">\\r\\n                    <!-- lnb -->\\r\\n                    <div class=\"lnb\">\\r\\n                        <div class=\"lnb_inner\">\\r\\n                            <ul>\\r\\n                                <!-- 전체보기 -->\\r\\n                                <li class=\"dp1 dp_all active\">\\r\\n                                    <p class=\"dp1_tit\"><a href=\"#none\" onclick=\"allMenu();return false;\">전체보기</a></p>\\r\\n                                </li>\\r\\n                                <!-- //전체보기 -->\\r\\n                                <li class=\"dp1 \" id=\"cate_1\" idx=\"1\">\\r\\n                                    <p class=\"dp1_tit\"><a href=\"#none\" onclick=\"return false;\">신메뉴/행사 </a></p>\\r\\n                                    <div class=\"dp2\">\\r\\n                                        <ul>\\r\\n                                            <li id=\"child_49\"><a href=\"#none\" onclick=\"showMenuList(\\'1\\', \\'49\\');return false;\">신메뉴</a></li>\\r\\n                                            </ul>\\r\\n                                    </div>\\r\\n                                    </li>\\r\\n                                <li class=\"dp1 \" id=\"cate_2\" idx=\"2\">\\r\\n                                    <p class=\"dp1_tit\"><a href=\"#none\" onclick=\"return false;\">프리미엄·고메이</a></p>\\r\\n                                    <div class=\"dp2\">\\r\\n                                        <ul>\\r\\n                                            <li id=\"child_24\"><a href=\"#none\" onclick=\"showMenuList(\\'2\\', \\'24\\');return false;\">프리미엄</a></li>\\r\\n                                            </ul>\\r\\n                                    </div>\\r\\n                                    </li>\\r\\n                                <li class=\"dp1 \" id=\"cate_3\" idx=\"3\">\\r\\n                                    <p class=\"dp1_tit\"><a href=\"#none\" onclick=\"return false;\">사각도시락</a></p>\\r\\n                                    <div class=\"dp2\">\\r\\n                                        <ul>\\r\\n                                            <li id=\"child_9\"><a href=\"#none\" onclick=\"showMenuList(\\'3\\', \\'9\\');return false;\">고기고기시리즈</a></li>\\r\\n                                            <li id=\"child_10\"><a href=\"#none\" onclick=\"showMenuList(\\'3\\', \\'10\\');return false;\">모둠시리즈</a></li>\\r\\n                                            <li id=\"child_46\"><a href=\"#none\" onclick=\"showMenuList(\\'3\\', \\'46\\');return false;\">정식시리즈</a></li>\\r\\n                                            </ul>\\r\\n                                    </div>\\r\\n                                    </li>\\r\\n                                <li class=\"dp1 \" id=\"cate_4\" idx=\"4\">\\r\\n                                    <p class=\"dp1_tit\"><a href=\"#none\" onclick=\"return false;\">보울도시락</a></p>\\r\\n                                    <div class=\"dp2\">\\r\\n                                        <ul>\\r\\n                                            <li id=\"child_12\"><a href=\"#none\" onclick=\"showMenuList(\\'4\\', \\'12\\');return false;\">마요</a></li>\\r\\n                                            <li id=\"child_13\"><a href=\"#none\" onclick=\"showMenuList(\\'4\\', \\'13\\');return false;\">카레</a></li>\\r\\n                                            <li id=\"child_14\"><a href=\"#none\" onclick=\"showMenuList(\\'4\\', \\'14\\');return false;\">볶음밥</a></li>\\r\\n                                            <li id=\"child_15\"><a href=\"#none\" onclick=\"showMenuList(\\'4\\', \\'15\\');return false;\">프리미엄 찌개/탕</a></li>\\r\\n                                            <li id=\"child_16\"><a href=\"#none\" onclick=\"showMenuList(\\'4\\', \\'16\\');return false;\">덮밥</a></li>\\r\\n                                            <li id=\"child_17\"><a href=\"#none\" onclick=\"showMenuList(\\'4\\', \\'17\\');return false;\">비빔밥</a></li>\\r\\n                                            <li id=\"child_32\"><a href=\"#none\" onclick=\"showMenuList(\\'4\\', \\'32\\');return false;\">어린이도시락</a></li>\\r\\n                                            <li id=\"child_51\"><a href=\"#none\" onclick=\"showMenuList(\\'4\\', \\'51\\');return false;\">파스타</a></li>\\r\\n                                            </ul>\\r\\n                                    </div>\\r\\n                                    </li>\\r\\n                                <li class=\"dp1 \" id=\"cate_5\" idx=\"5\">\\r\\n                                    <p class=\"dp1_tit\"><a href=\"#none\" onclick=\"return false;\">실속반찬/사이드</a></p>\\r\\n                                    <div class=\"dp2\">\\r\\n                                        <ul>\\r\\n                                            <li id=\"child_18\"><a href=\"#none\" onclick=\"showMenuList(\\'5\\', \\'18\\');return false;\">실속반찬</a></li>\\r\\n                                            <li id=\"child_19\"><a href=\"#none\" onclick=\"showMenuList(\\'5\\', \\'19\\');return false;\">스낵 시리즈</a></li>\\r\\n                                            <li id=\"child_21\"><a href=\"#none\" onclick=\"showMenuList(\\'5\\', \\'21\\');return false;\">간식안주 시리즈</a></li>\\r\\n                                            <li id=\"child_22\"><a href=\"#none\" onclick=\"showMenuList(\\'5\\', \\'22\\');return false;\">미니반찬</a></li>\\r\\n                                            <li id=\"child_47\"><a href=\"#none\" onclick=\"showMenuList(\\'5\\', \\'47\\');return false;\">밥</a></li>\\r\\n                                            <li id=\"child_50\"><a href=\"#none\" onclick=\"showMenuList(\\'5\\', \\'50\\');return false;\">디저트</a></li>\\r\\n                                            </ul>\\r\\n                                    </div>\\r\\n                                    </li>\\r\\n                                </ul>\\r\\n                        </div>\\r\\n                        <!-- mobile_close -->\\r\\n                        <div class=\"lnb_btn_close\">\\r\\n                            <a href=\"#none\"><span class=\"blind\">close</span></a>\\r\\n                        </div>\\r\\n                        <!-- ///mobile_close -->\\r\\n                    </div>\\r\\n                    <!-- //lnb -->\\r\\n                    <!-- mobile dim -->\\r\\n                    <div class=\"dim\"></div>\\r\\n                    <!-- mobile dim -->\\r\\n                    <!-- mobile -->\\r\\n                    <div class=\"mo_title mo_version\">\\r\\n                        <h3 class=\"h3_tit\"><span>전체보기</span></h3>\\r\\n                        <div class=\"lnb_btn\">\\r\\n                            <a href=\"#none\"><span>목록</span></a>\\r\\n                        </div>\\r\\n                    </div>\\r\\n                    <!-- mobile -->\\r\\n                    <!-- banner -->\\r\\n                    <div class=\"mo_banner mo_version\">\\r\\n                        <a href=\"https://www.hsd.co.kr/event/event_view/694?pageSize=12&pageNo=1&cate=&_csrf=a22eed05-69aa-426f-8fb0-3fb62f541f22\"><img src=\"https://www.hsd.co.kr/images/27c2e4785906426aa94633e0ea20e98320220411090317.jpg\" alt=\"banner\" /></a>\\r\\n                        </div>\\r\\n                    <!-- //banner -->\\r\\n                    <!-- 키워드 -->\\r\\n                    <div class=\"keyword mo_version\">\\r\\n                        <h3 class=\"h3_tit\">\\r\\n                            당신을 위한 <em class=\"emphasis\">#추천 키워드</em>\\r\\n                        </h3>\\r\\n                        <ul>\\r\\n                            <li><a href=\"/menu/menu_keyword?keyword=1\">#한솥의 베스트 셀러</a></li>\\r\\n                            <li><a href=\"/menu/menu_keyword?keyword=11\">#따끈한 집밥이 생각날 때</a></li>\\r\\n                            <li><a href=\"/menu/menu_keyword?keyword=12\">#화끈하게 스트레스 날리기</a></li>\\r\\n                            <li><a href=\"/menu/menu_keyword?keyword=13\">#건강을 위해</a></li>\\r\\n                            <li><a href=\"/menu/menu_keyword?keyword=15\">#반찬만 필요할 때</a></li>\\r\\n                            <li><a href=\"/menu/menu_keyword?keyword=16\">#추천 단체도시락</a></li>\\r\\n                            </ul>\\r\\n                    </div>\\r\\n                    <!-- //키워드 -->\\r\\n                </div>\\r\\n                <!-- //pc:left -->\\r\\n                <!-- menu_list -->\\r\\n                <div class=\"menu_list_wrap\">\\r\\n                    <div id=\"menu_cont\">\\r\\n\\r\\n                    </div>\\r\\n\\r\\n                    <!-- 더보기 btn -->\\r\\n                    <div class=\"btn_wrap btn_more\" style=\"display:none;\" id=\"btn_more\">\\r\\n                        <span class=\"btn btn_st04\">\\r\\n                        <!--     <a href=\"#none\" class=\"c_05\" onclick=\"more();return false;\">더 보기</a> -->\\r\\n\\t\\t\\t\\t\\t\\t\\t<a href=\"#none\" class=\"c_05\" onclick=\"more();return false;\">더 보기</a>\\r\\n                        </span>\\r\\n                    </div>\\r\\n                    <!-- //더보기 btn -->\\r\\n                    <!-- 안내문구 -->\\r\\n                    <div class=\"menu_guidance fz_03\">\\r\\n                        <p>한솥의 모든 메뉴는 1시간 이내에 드시는 것이 가장 맛있습니다.</p>\\r\\n                    </div>\\r\\n                    <!-- //안내문구 -->\\r\\n                </div>\\r\\n                <!-- //menu_list -->\\r\\n            </div>\\r\\n            <!-- //메뉴 cont -->\\r\\n        </div>\\r\\n        <!-- //한솥 메뉴 -->\\r\\n    </section>\\r\\n</div>\\r\\n\\r\\n<!-- more_cont -->\\r\\n<div class=\"conts_more\">\\r\\n    <h2 class=\"more_tit\">더 많은 이야기</h2>\\r\\n    <ul>\\r\\n        <li>\\r\\n            <a href=\"/store/store_find\" class=\"more_link\"></a>\\r\\n            <figure>\\r\\n                <span class=\"more_img\">\\r\\n                    <img src=\"/assets/images/common/more_store.jpg\" alt=\"한솥 STORE\" />\\r\\n                </span>\\r\\n                <figcaption>\\r\\n                    <h3 class=\"h3_tit\">한솥 STORE</h3>\\r\\n                    <h3 class=\"h3_tit_o\">한솥 STORE</h3>\\r\\n                </figcaption>\\r\\n            </figure>\\r\\n        </li>\\r\\n        <li>\\r\\n            <a href=\"/event/event_list\" class=\"more_link\"></a>\\r\\n            <figure>\\r\\n                <span class=\"more_img\">\\r\\n                    <img src=\"/assets/images/common/more_event.jpg\" alt=\"이 달의 이벤트\" />\\r\\n                </span>\\r\\n                <figcaption>\\r\\n                    <h3 class=\"h3_tit\">이 달의 이벤트</h3>\\r\\n                    <h3 class=\"h3_tit_o\">이 달의 이벤트</h3>\\r\\n                </figcaption>\\r\\n            </figure>\\r\\n        </li>\\r\\n        <li>\\r\\n            <a href=\"/event/store_event_list\" class=\"more_link\"></a>\\r\\n            <figure>\\r\\n                <span class=\"more_img\">\\r\\n                    <img src=\"/assets/images/common/more_event_store.jpg\" alt=\"신규점 오픈 이벤트\" />\\r\\n                </span>\\r\\n                <figcaption>\\r\\n                    <h3 class=\"h3_tit\">신규점 오픈 이벤트</h3>\\r\\n                    <h3 class=\"h3_tit_o\">신규점 오픈 이벤트</h3>\\r\\n                </figcaption>\\r\\n            </figure>\\r\\n        </li>\\r\\n    </ul>\\r\\n</div>\\r\\n<!--// more_cont-->\\r\\n<script>\\r\\n    var currentCate1 = parseInt(\\'\\');\\r\\n    if(isNaN(currentCate1)) currentCate1 = 0;\\r\\n    var currentCate2 = parseInt(\\'\\');\\r\\n    if(isNaN(currentCate2)) currentCate2 = 0;\\r\\n    var nextCate = 0;\\r\\n    var page = parseInt(\\'\\');\\r\\n    if(isNaN(page)) page = 0;\\r\\n    var idx = parseInt(\\'\\');\\r\\n    if(isNaN(idx)) idx = 0;\\r\\n\\tvar fullidx = 0;\\r\\n\\r\\n    $(function(){\\r\\n        if(currentCate1 > 0 && currentCate2 > 0){\\r\\n            $(\".lnb .dp1.active\").removeClass(\"active\");\\r\\n            $(\".lnb .dp2 li.active\").removeClass(\"on\");\\r\\n\\r\\n            $(\"#cate_\"+currentCate1).addClass(\"active\");\\r\\n            $(\"#child_\"+currentCate2).addClass(\"on\");\\r\\n\\r\\n            showMenuList(currentCate1, currentCate2);\\r\\n        }else {\\r\\n            allMenu();\\r\\n        }\\r\\n    });\\r\\n\\r\\n    // 전체메뉴 보기\\r\\n    function allMenu() {\\r\\n        fullidx = 1;\\r\\n\\t\\tcurrentCate1 = parseInt($(\".lnb .dp1:eq(1)\").attr(\"idx\"));\\r\\n        if(isNaN(currentCate1)) currentCate1 = 0;\\r\\n        currentCate2 = 0;\\r\\n\\r\\n        $(\"#menu_cont\").html(\"\");\\r\\n        showMenuList(currentCate1, 0);\\r\\n    }\\r\\n\\t\\r\\n    // 메뉴 리스트 가져오기\\r\\n    function showMenuList(cate1, cate2) {\\r\\n        \\r\\n\\t\\tcate1 = parseInt($.trim(cate1));\\r\\n        cate2 = parseInt($.trim(cate2));\\r\\n        if(isNaN(cate1)) cate1 = 0;\\r\\n        if(isNaN(cate2)) cate2 = 0;\\r\\n\\r\\n        $(\".lnb .dp2 li\").removeClass(\"on\");\\r\\n        $(\"#child_\" + cate2).addClass(\"on\");\\r\\n        $.ajax({\\r\\n            type: \\'POST\\',\\r\\n            url: \"/api/menu/menu_list/\" + cate1 + \"/\" + cate2,\\r\\n            headers: {\\r\\n                Accept : \"application/json; charset=utf-8\",\\r\\n                \"Content-Type\": \"application/json; charset=utf-8\"\\r\\n            },\\r\\n            dataType : \"json\"\\r\\n        }).done(function(data) {\\r\\n\\r\\n            if(data.cate1Info == null) return;\\r\\n\\r\\n            var cate1Info = data.cate1Info;\\r\\n            var cate2Info = \"\";\\r\\n            var list = \"\";\\r\\n            var tails = \"\";\\r\\n\\r\\n            $.each(data.subdata, function(key, row){\\r\\n                cate2Info = row.cate2Info;\\r\\n\\r\\n                list += \\'<div class=\"list_wrap\" id=\"catelist_\\' + cate2Info.idx + \\'\">\\';\\r\\n                list += \\'    <p class=\"dp\">\\' + cate1Info.name + \\'</p>\\';\\r\\n                list += \\'    <h3 class=\"h3_tit fz_01\">\\' + cate2Info.name + \\'</h3>\\';\\r\\n                list += \\'    <ul class=\"menu_cont\">\\';\\r\\n\\r\\n                $.each(row.goodsList, function(key2, row2) {\\r\\n\\r\\n                    tails = \\'?cate1=\\' + cate1Info.idx + \\'&cate2=\\' + cate2Info.idx;\\r\\n                    if(page > 0) tails += \\'&page=\\' + page;\\r\\n\\r\\n\\r\\n                    list += \\'        <li class=\"item\" id=\"menuList_\\' + row2[\"idx\"] + \\'\">\\';\\r\\n                    list += \\'            <div class=\"item-spacer\">\\';\\r\\n                    list += \\'                <a href=\"javascript:;\" onclick=\"goDetail(\\\\\\'\\' + cate1Info.idx + \\'\\\\\\', \\\\\\'\\' + cate2Info.idx + \\'\\\\\\', \\\\\\'\\' + row2[\"idx\"] + \\'\\\\\\')\" class=\"item-cont\"></a>\\';\\r\\n                    list += \\'                <div class=\"item-img\">\\';\\r\\n                    list += \\'                    <img src=\"\\' + row2[\"imagePath\"] + \\'\" alt=\"\\' + row2[\"title\"] + \\'\">\\';\\r\\n                    list += \\'                </div>\\';\\r\\n\\r\\n                    if(row2[\"newYn\"] == \\'Y\\') {\\r\\n                        list += \\'                <div class=\"item-icon\">\\';\\r\\n                        list += \\'                    <div class=\"icon icon-new\">\\';\\r\\n                        list += \\'                        <span>NEW</span>\\';\\r\\n                        list += \\'                    </div>\\';\\r\\n                        list += \\'                </div>\\';\\r\\n                    }\\r\\n\\r\\n                    list += \\'                <div class=\"item-text\">\\';\\r\\n                    list += \\'                    <h4 class=\"h fz_03\">\\' + row2[\"title\"] + \\'</h4>\\';\\r\\n                    list += \\'                    <div class=\"item-price\">\\';\\r\\n                    list += \\'                        <span class=\"blind\">가격: </span><strong>\\' + tss.util.comma(row2[\"price\"]) + \\'</strong>원\\';\\r\\n                    list += \\'                    </div>\\';\\r\\n                    list += \\'                </div>\\';\\r\\n                    list += \\'            </div>\\';\\r\\n                    list += \\'        </li>\\';\\r\\n                });\\r\\n\\r\\n                list += \\'    </ul>\\';\\r\\n                list += \\'</div>\\';\\r\\n            });\\r\\n\\r\\n            // 다음\\r\\n            if($(\".lnb .dp_all\").hasClass(\"active\")) {  // 전체보기\\r\\n                $(\"#menu_cont\").append(list);\\r\\n\\r\\n                nextCate = $(\".lnb li#cate_\" + cate1).next().attr(\"idx\");\\r\\n                if (nextCate === undefined) {\\r\\n                    $(\"#btn_more\").hide();\\r\\n                } else {\\r\\n                    $(\"#btn_more\").show();\\r\\n                }\\r\\n\\r\\n            }else{  // 카테고리 단독보기\\r\\n                $(\"#menu_cont\").html(list);\\r\\n                $(\"#btn_more\").hide();\\r\\n            }\\r\\n\\r\\n            // 모바일에서 gnb 닫기\\r\\n            if($(\\'.dim\\').hasClass(\\'on\\')) {\\r\\n                $(\".lnb_btn_close\").trigger(\\'click\\');\\r\\n                $(\"#menu_cont\").scrollToMe();\\r\\n            }\\r\\n\\r\\n            // 해당메뉴로 이동\\r\\n            if(idx > 0) {\\r\\n                $(\"#menuList_\" + idx).scrollToMe();\\r\\n                idx = 0;\\r\\n            }\\r\\n\\t\\t\\t\\r\\n\\t\\t\\tif(fullidx > 0){\\r\\n\\t\\t\\t\\tfullidx = fullidx + 1;\\r\\n\\t\\t\\t\\tif(fullidx == 4){\\r\\n\\t\\t\\t\\t\\tfullidx = 0;\\r\\n\\t\\t\\t\\t}\\r\\n\\t\\t\\t\\tmore();\\r\\n\\t\\t\\t}\\r\\n\\r\\n        }).fail(function(data) {\\r\\n            console.log(data);\\r\\n            tss.util.alert(\"일시적인 오류가 발생했습니다.\\\\n화면을 새로고침 한 이후에 다시 시도해 주세요.\");\\r\\n        });\\r\\n    }\\r\\n\\r\\n    // 더보기\\r\\n    function more() {\\r\\n\\t\\tpage = page + 1;\\r\\n        showMenuList(nextCate, 0);\\r\\n    }\\r\\n\\r\\n    // 상세이동\\r\\n    function goDetail(cate1, cate2, idx) {\\r\\n\\r\\n        var tails = \"?cate1=\" + cate1 + \"&cate2=\" + cate2;\\r\\n        location.href = \"/menu/menu_view/\" + idx + tails;\\r\\n\\r\\n        // url 변경\\r\\n        if(typeof(history.pushState) == \\'function\\') {\\r\\n            var renewURL = location.pathname;\\r\\n            history.pushState(null, null, renewURL + tails);\\r\\n        }\\r\\n    }\\r\\n</script>\\r\\n\\r\\n    </div>\\r\\n    <!--// container e -->\\r\\n\\r\\n    <!-- inc footer s -->\\r\\n    <!-- footer -->\\r\\n<footer id=\"footer\">\\r\\n    <div class=\"ft_content mo_version\">\\r\\n\\r\\n        <!-- family goods -->\\r\\n        <div class=\"ft_menu\">\\r\\n            <ul>\\r\\n                <li class=\"first_be off\"><a href=\"/footer/incruit\">인재채용</a></li>\\r\\n                <li class=\"off\"><a href=\"/footer/partners\">협력업체등록</a></li>\\r\\n                <li class=\"mo_bl\"><a href=\"/footer/notice_list\">공지사항</a></li>\\r\\n                <li><a href=\"/footer/faq_list\">고객 센터</a></li>\\r\\n                <li class=\"mo_bl\"><a href=\"/footer/policy\"><strong>개인정보처리방침</strong></a></li>\\r\\n                <li><a href=\"/footer/agreement\">이용약관</a></li>\\r\\n            </ul>\\r\\n        </div>\\r\\n        <!--// family goods -->\\r\\n\\t\\t<div class=\"mark_webaward\"><p><span class=\"blind\">web award korea 2017 프랜차이즈분야 대상2017</span></p></div><!-- 2018-01-11웹어워드마크 -->\\r\\n        <!-- info -->\\r\\n        <div class=\"ft_info_wrap\">\\r\\n            <!-- pc -->\\r\\n            <div class=\"ft_info pc_info\">\\r\\n                <span class=\"first_be\">대표이사  이영덕, 이하림</span>\\r\\n                <span>사업자등록번호  214-81-96569</span>\\r\\n                <span>서울시 강남구 강남대로 318(역삼동) 타워837빌딩 8,9층</span>\\r\\n                <span>T.  02-585-1114</span>\\r\\n                <span>F.  02-598-1116</span>\\r\\n                <span class=\"first_be\">E.  webmaster@hsd.co.kr</span>\\r\\n                <span>한솥 도시락 고객센터  02-585-1114</span>\\r\\n                <span>전국창업설명회  02-585-1114</span>\\r\\n                <span>단체주문  1644-3288</span>\\r\\n            </div>\\r\\n            <!-- //pc -->\\r\\n            <!-- mobile -->\\r\\n            <div class=\"ft_info mo_info\">\\r\\n                <div class=\"mo_info_list\">\\r\\n                    <p class=\"btn_toggle\">\\r\\n                        <a href=\"#none\">한솥 사업자 정보</a>\\r\\n                    </p>\\r\\n                    <div class=\"mo_info_on\">\\r\\n                        <span class=\"mo_bl\">대표이사  이영덕, 이하림</span>\\r\\n                        <span>사업자등록번호  214-81-96569</span>\\r\\n                        <br/>\\r\\n                        <span class=\"mo_bl\">서울시 강남구 강남대로 318(역삼동) 타워837빌딩 8,9층</span>\\r\\n                        <br/>\\r\\n                        <span class=\"mo_bl\">T.  02-585-1114</span>\\r\\n                        <span>F.  02-598-1116</span>\\r\\n                        <br/>\\r\\n                        <span class=\"mo_bl\">E.  webmaster@hsd.co.kr</span>\\r\\n                        <div class=\"mo_info_call\">\\r\\n                            <dl>\\r\\n                                <dt>한솥 고객센터</dt>\\r\\n                                <dd>02-585-1114</dd>\\r\\n                            </dl>\\r\\n                            <dl>\\r\\n                                <dt>전국창업설명회</dt>\\r\\n                                <dd>02-585-1114</dd>\\r\\n                            </dl>\\r\\n                            <dl>\\r\\n                                <dt>단체주문</dt>\\r\\n                                <dd>1644-3288</dd>\\r\\n                            </dl>\\r\\n                        </div>\\r\\n                    </div>\\r\\n                </div>\\r\\n            </div>\\r\\n            <!-- //mobile -->\\r\\n\\r\\n            <p class=\"copyright\">COPYRIGHT<span>&copy;</span>㈜한솥. ALL RIGHTS RESERVED.</p>\\r\\n\\r\\n            <div class=\"ft_sns\">\\r\\n                <a href=\"https://www.instagram.com/hansot_official/\" target=\"_blank\" title=\"새 창 열림\" class=\"sns_insta_02\" target=\"_blank\" title=\"새 창 열림\" ><span class=\"blind\">instagram</span></a>\\r\\n                <a href=\"https://www.facebook.com/hansotOfficial/?ref=ts&fref=ts\" target=\"_blank\" class=\"sns_face_02\" target=\"_blank\" title=\"새 창 열림\" ><span class=\"blind\">facebook</span></a>\\r\\n            </div>\\r\\n        </div>\\r\\n        <!--// info -->\\r\\n    </div>\\r\\n</footer>\\r\\n<!--// footer -->\\r\\n\\r\\n<script async src=\"https://www.googletagmanager.com/gtag/js?id=UA-109125197-1\"></script>\\r\\n        <script>\\r\\n            window.dataLayer = window.dataLayer || [];\\r\\n            function gtag(){dataLayer.push(arguments);}\\r\\n            gtag(\\'js\\', new Date());\\r\\n\\r\\n            gtag(\\'config\\', \\'UA-109125197-1\\');\\r\\n        </script>\\r\\n    <!--// inc footer e -->\\r\\n\\r\\n</div>\\r\\n<!--// wrap e -->\\r\\n</body>\\r\\n</html>'"
      ]
     },
     "execution_count": 72,
     "metadata": {},
     "output_type": "execute_result"
    }
   ],
   "source": [
    "res.text"
   ]
  },
  {
   "cell_type": "code",
   "execution_count": 58,
   "id": "8a885bb4",
   "metadata": {},
   "outputs": [],
   "source": [
    "from bs4 import BeautifulSoup as bs"
   ]
  },
  {
   "cell_type": "code",
   "execution_count": 66,
   "id": "8eb26572",
   "metadata": {},
   "outputs": [
    {
     "name": "stdout",
     "output_type": "stream",
     "text": [
      "Requirement already satisfied: bs4 in c:\\users\\user\\anaconda3\\lib\\site-packages (0.0.1)\n",
      "Requirement already satisfied: beautifulsoup4 in c:\\users\\user\\anaconda3\\lib\\site-packages (from bs4) (4.11.1)\n",
      "Requirement already satisfied: soupsieve>1.2 in c:\\users\\user\\anaconda3\\lib\\site-packages (from beautifulsoup4->bs4) (2.3.1)\n"
     ]
    }
   ],
   "source": [
    "!pip install bs4"
   ]
  },
  {
   "cell_type": "code",
   "execution_count": 59,
   "id": "4b8530db",
   "metadata": {},
   "outputs": [],
   "source": [
    "soup=bs(res.text,'html.parser')"
   ]
  },
  {
   "cell_type": "code",
   "execution_count": 75,
   "id": "c414ad92",
   "metadata": {},
   "outputs": [],
   "source": [
    "hansot=soup.select(\"div.item-text>h fz_03\")"
   ]
  },
  {
   "cell_type": "code",
   "execution_count": 76,
   "id": "e4f217ba",
   "metadata": {
    "scrolled": true
   },
   "outputs": [
    {
     "data": {
      "text/plain": [
       "[]"
      ]
     },
     "execution_count": 76,
     "metadata": {},
     "output_type": "execute_result"
    }
   ],
   "source": [
    "hansot"
   ]
  },
  {
   "cell_type": "markdown",
   "id": "922c6599",
   "metadata": {},
   "source": [
    "## 메뉴이름/가격+더보기 버튼(while문 사용)"
   ]
  },
  {
   "cell_type": "code",
   "execution_count": 77,
   "id": "2c53b2a3",
   "metadata": {},
   "outputs": [],
   "source": [
    "##더보기 버튼\n",
    "while True:\n",
    "    try:\n",
    "        btn= driver.find_elements_by_css_selector('#btn_more > span > a')\n",
    "        btn.click()\n",
    "    except:\n",
    "        break"
   ]
  },
  {
   "cell_type": "code",
   "execution_count": 85,
   "id": "08c91fdb",
   "metadata": {},
   "outputs": [],
   "source": [
    "#메뉴\n",
    "title=driver.find_elements_by_css_selector('h4.h.fz_03')"
   ]
  },
  {
   "cell_type": "code",
   "execution_count": 86,
   "id": "08a46253",
   "metadata": {
    "collapsed": true
   },
   "outputs": [
    {
     "name": "stdout",
     "output_type": "stream",
     "text": [
      "데미햄버그 불고기 파스타\n",
      "데미햄버그 불고기 덮밥\n",
      "아보카도 게맛살 명란비빔밥\n",
      "아보카도 소고기 명란비빔밥\n",
      "핫 치즈 닭갈비덮밥\n",
      "오리지널 치즈 닭갈비덮밥\n",
      "매화(순살 고등어 간장구이)\n",
      "진달래\n",
      "개나리(순살 고등어 간장구이)\n",
      "매화(순살 고등어 간장구이)\n",
      "진달래\n",
      "개나리(순살 고등어 간장구이)\n",
      "돈까스도련님고기고기\n",
      "탕수육도련님고기고기\n",
      "새치 고기고기\n",
      "돈치 고기고기\n",
      "오븐구이 오리도시락\n",
      "숯불직화구이\n",
      "소불고기\n",
      "메가치킨제육\n",
      "칠리 찹쌀탕수육도련님\n",
      "동백\n",
      "치킨제육\n",
      "돈까스도련님\n",
      "제육볶음\n",
      "돈치스팸 도시락\n",
      "제육 김치찌개 정식\n",
      "제육 김치 부대찌개 정식\n",
      "돈치스팸 김치 부대찌개 정식\n",
      "빅치킨마요 김치 부대찌개 정식\n",
      "치킨마요 김치 부대찌개 정식\n",
      "빅치킨마요 김치찌개 정식\n",
      "치킨마요 김치찌개 정식\n",
      "메가스팸마요\n",
      "스팸마요\n",
      "메가치킨마요\n",
      "왕치킨마요\n",
      "빅치킨마요\n",
      "치킨마요\n",
      "참치마요\n",
      "돈치마요\n",
      "돈까스 카레\n",
      "스팸 김치볶음밥\n",
      "김치볶음밥\n",
      "스팸철판볶음밥\n",
      "소불고기 철판볶음밥\n",
      "나시고랭\n",
      "묵은지 김치찌개\n",
      "김치 부대찌개\n",
      "숯불직화구이 덮밥\n",
      "마파두부 덮밥\n",
      "왕카레돈까스덮밥\n",
      "새우돈까스 덮밥\n",
      "돈까스 덮밥\n",
      "열무 감초고추장 비빔밥\n",
      "열무 두부강된장 비빔밥\n",
      "소불고기 감초고추장 비빔밥\n",
      "시골제육 두부강된장 비빔밥\n",
      "참치야채 감초고추장\n",
      "튼튼도시락\n",
      "토네이도 소세지 파스타\n",
      "트리플 치즈 파스타\n",
      "토마토 미트 파스타\n",
      "메가스팸마요\n",
      "스팸마요\n",
      "메가치킨마요\n",
      "왕치킨마요\n",
      "빅치킨마요\n",
      "치킨마요\n",
      "참치마요\n",
      "돈치마요\n",
      "돈까스 카레\n",
      "스팸 김치볶음밥\n",
      "김치볶음밥\n",
      "스팸철판볶음밥\n",
      "소불고기 철판볶음밥\n",
      "나시고랭\n",
      "묵은지 김치찌개\n",
      "김치 부대찌개\n",
      "숯불직화구이 덮밥\n",
      "마파두부 덮밥\n",
      "왕카레돈까스덮밥\n",
      "새우돈까스 덮밥\n",
      "돈까스 덮밥\n",
      "열무 감초고추장 비빔밥\n",
      "열무 두부강된장 비빔밥\n",
      "소불고기 감초고추장 비빔밥\n",
      "시골제육 두부강된장 비빔밥\n",
      "참치야채 감초고추장\n",
      "튼튼도시락\n",
      "토네이도 소세지 파스타\n",
      "트리플 치즈 파스타\n",
      "토마토 미트 파스타\n",
      "반찬 계란말이\n",
      "반찬 묵은지김치찌개\n",
      "반찬 카레\n",
      "반찬 순살 고등어데리야끼\n",
      "반찬 김치 부대찌개\n",
      "반찬 치킨\n",
      "반찬 고기고기\n",
      "반찬 돈까스 도련님\n",
      "반찬 제육볶음\n",
      "반찬 토네이도 소세지\n",
      "반찬 반달돈까스\n",
      "뉴 감자고로케\n",
      "미니 찹쌀핫도그\n",
      "미니 찹쌀탕수육\n",
      "케이준후라이\n",
      "고메이 크림 고로케\n",
      "후라이드 순살(소)_스리라차마요소스\n",
      "후라이드 순살(중)\n",
      "후라이드 순살(소)_양념치킨소스\n",
      "후라이드 순살(소)_케이준소스\n",
      "오리지널 닭강정(중)\n",
      "오리지널 닭강정(소)\n",
      "무생채\n",
      "열무김치\n",
      "오징어젓갈\n",
      "한솥 두부강된장소스\n",
      "한솥 감초볶음고추장소스\n",
      "볶음김치\n",
      "김치\n",
      "무말랭이 무침\n",
      "한솥밥\n",
      "현미밥\n",
      "리얼 티라미수 찰떡\n",
      "리얼꿀 미니호떡\n",
      "반찬 계란말이\n",
      "반찬 묵은지김치찌개\n",
      "반찬 카레\n",
      "반찬 순살 고등어데리야끼\n",
      "반찬 김치 부대찌개\n",
      "반찬 치킨\n",
      "반찬 고기고기\n",
      "반찬 돈까스 도련님\n",
      "반찬 제육볶음\n",
      "반찬 토네이도 소세지\n",
      "반찬 반달돈까스\n",
      "뉴 감자고로케\n",
      "미니 찹쌀핫도그\n",
      "미니 찹쌀탕수육\n",
      "케이준후라이\n",
      "고메이 크림 고로케\n",
      "후라이드 순살(소)_스리라차마요소스\n",
      "후라이드 순살(중)\n",
      "후라이드 순살(소)_양념치킨소스\n",
      "후라이드 순살(소)_케이준소스\n",
      "오리지널 닭강정(중)\n",
      "오리지널 닭강정(소)\n",
      "무생채\n",
      "열무김치\n",
      "오징어젓갈\n",
      "한솥 두부강된장소스\n",
      "한솥 감초볶음고추장소스\n",
      "볶음김치\n",
      "김치\n",
      "무말랭이 무침\n",
      "한솥밥\n",
      "현미밥\n",
      "리얼 티라미수 찰떡\n",
      "리얼꿀 미니호떡\n"
     ]
    }
   ],
   "source": [
    "for i in title:\n",
    "    print(i.text)"
   ]
  },
  {
   "cell_type": "code",
   "execution_count": null,
   "id": "d070c527",
   "metadata": {},
   "outputs": [],
   "source": []
  },
  {
   "cell_type": "code",
   "execution_count": 101,
   "id": "45948f0e",
   "metadata": {},
   "outputs": [],
   "source": [
    "##가격\n",
    "price=driver.find_elements_by_css_selector('div.item-price>strong')"
   ]
  },
  {
   "cell_type": "code",
   "execution_count": 100,
   "id": "f54b1ef7",
   "metadata": {},
   "outputs": [],
   "source": [
    "import time"
   ]
  },
  {
   "cell_type": "code",
   "execution_count": 102,
   "id": "cdfbfcab",
   "metadata": {},
   "outputs": [],
   "source": [
    "time.sleep(2)"
   ]
  },
  {
   "cell_type": "code",
   "execution_count": 103,
   "id": "67e23b1a",
   "metadata": {
    "scrolled": true
   },
   "outputs": [
    {
     "name": "stdout",
     "output_type": "stream",
     "text": [
      "5,200\n",
      "4,800\n",
      "6,500\n",
      "6,500\n",
      "5,900\n",
      "5,900\n",
      "10,000\n",
      "7,500\n",
      "8,000\n",
      "10,000\n",
      "7,500\n",
      "8,000\n",
      "6,000\n",
      "5,800\n",
      "6,700\n",
      "5,800\n",
      "6,900\n",
      "6,500\n",
      "5,400\n",
      "7,000\n",
      "4,200\n",
      "5,800\n",
      "4,700\n",
      "4,500\n",
      "4,200\n",
      "4,900\n",
      "8,200\n",
      "8,500\n",
      "8,500\n",
      "7,500\n",
      "6,900\n",
      "7,000\n",
      "6,500\n",
      "5,600\n",
      "3,700\n",
      "5,800\n",
      "4,800\n",
      "4,100\n",
      "3,500\n",
      "3,200\n",
      "3,800\n",
      "4,500\n",
      "4,700\n",
      "3,900\n",
      "4,500\n",
      "4,700\n",
      "6,000\n",
      "4,500\n",
      "5,800\n",
      "5,900\n",
      "5,000\n",
      "5,900\n",
      "4,100\n",
      "4,000\n",
      "4,500\n",
      "4,900\n",
      "5,200\n",
      "5,000\n",
      "3,300\n",
      "5,000\n",
      "5,500\n",
      "5,500\n",
      "4,500\n",
      "5,600\n",
      "3,700\n",
      "5,800\n",
      "4,800\n",
      "4,100\n",
      "3,500\n",
      "3,200\n",
      "3,800\n",
      "4,500\n",
      "4,700\n",
      "3,900\n",
      "4,500\n",
      "4,700\n",
      "6,000\n",
      "4,500\n",
      "5,800\n",
      "5,900\n",
      "5,000\n",
      "5,900\n",
      "4,100\n",
      "4,000\n",
      "4,500\n",
      "4,900\n",
      "5,200\n",
      "5,000\n",
      "3,300\n",
      "5,000\n",
      "5,500\n",
      "5,500\n",
      "4,500\n",
      "2,500\n",
      "4,000\n",
      "2,800\n",
      "3,600\n",
      "4,500\n",
      "3,600\n",
      "3,400\n",
      "3,800\n",
      "3,200\n",
      "2,600\n",
      "2,800\n",
      "2,700\n",
      "2,500\n",
      "2,200\n",
      "1,700\n",
      "3,500\n",
      "4,000\n",
      "7,500\n",
      "4,000\n",
      "4,000\n",
      "8,000\n",
      "3,400\n",
      "400\n",
      "500\n",
      "500\n",
      "1,800\n",
      "500\n",
      "500\n",
      "400\n",
      "400\n",
      "1,000\n",
      "1,700\n",
      "1,500\n",
      "2,200\n",
      "2,500\n",
      "4,000\n",
      "2,800\n",
      "3,600\n",
      "4,500\n",
      "3,600\n",
      "3,400\n",
      "3,800\n",
      "3,200\n",
      "2,600\n",
      "2,800\n",
      "2,700\n",
      "2,500\n",
      "2,200\n",
      "1,700\n",
      "3,500\n",
      "4,000\n",
      "7,500\n",
      "4,000\n",
      "4,000\n",
      "8,000\n",
      "3,400\n",
      "400\n",
      "500\n",
      "500\n",
      "1,800\n",
      "500\n",
      "500\n",
      "400\n",
      "400\n",
      "1,000\n",
      "1,700\n",
      "1,500\n",
      "2,200\n"
     ]
    }
   ],
   "source": [
    "for e in price:\n",
    "    print(e.text)"
   ]
  },
  {
   "cell_type": "code",
   "execution_count": 104,
   "id": "4b3aee1b",
   "metadata": {},
   "outputs": [],
   "source": [
    "### 전체 정리\n",
    "#더보기 누르기\n",
    "while True:\n",
    "    try:\n",
    "        btn= driver.find_element_by_css_selector('#btn_more > span > a')\n",
    "        btn.click()\n",
    "        time.sleep(1)\n",
    "    except:\n",
    "        break\n",
    "        \n",
    "        \n",
    "#메뉴\n",
    "title=driver.find_elements_by_css_selector('h4.h.fz_03')\n",
    "#가격\n",
    "price=driver.find_elements_by_css_selector('div.item-price>strong')"
   ]
  },
  {
   "cell_type": "code",
   "execution_count": 107,
   "id": "aabbc63f",
   "metadata": {},
   "outputs": [],
   "source": [
    "title_list=[]\n",
    "for a in title:\n",
    "    title_list.append(a.text)\n",
    "\n",
    "price_list=[]\n",
    "for i in price:\n",
    "    price_list.append(i.text)"
   ]
  },
  {
   "cell_type": "code",
   "execution_count": 109,
   "id": "7f7decc7",
   "metadata": {},
   "outputs": [],
   "source": [
    "import pandas as pd"
   ]
  },
  {
   "cell_type": "code",
   "execution_count": 108,
   "id": "c9385867",
   "metadata": {},
   "outputs": [],
   "source": [
    "data={'메뉴명':title_list,'가격':price_list}"
   ]
  },
  {
   "cell_type": "code",
   "execution_count": 111,
   "id": "753b4502",
   "metadata": {},
   "outputs": [
    {
     "data": {
      "text/html": [
       "<div>\n",
       "<style scoped>\n",
       "    .dataframe tbody tr th:only-of-type {\n",
       "        vertical-align: middle;\n",
       "    }\n",
       "\n",
       "    .dataframe tbody tr th {\n",
       "        vertical-align: top;\n",
       "    }\n",
       "\n",
       "    .dataframe thead th {\n",
       "        text-align: right;\n",
       "    }\n",
       "</style>\n",
       "<table border=\"1\" class=\"dataframe\">\n",
       "  <thead>\n",
       "    <tr style=\"text-align: right;\">\n",
       "      <th></th>\n",
       "      <th>메뉴명</th>\n",
       "      <th>가격</th>\n",
       "    </tr>\n",
       "  </thead>\n",
       "  <tbody>\n",
       "    <tr>\n",
       "      <th>0</th>\n",
       "      <td>데미햄버그 불고기 파스타</td>\n",
       "      <td>5,200</td>\n",
       "    </tr>\n",
       "    <tr>\n",
       "      <th>1</th>\n",
       "      <td>데미햄버그 불고기 덮밥</td>\n",
       "      <td>4,800</td>\n",
       "    </tr>\n",
       "    <tr>\n",
       "      <th>2</th>\n",
       "      <td>아보카도 게맛살 명란비빔밥</td>\n",
       "      <td>6,500</td>\n",
       "    </tr>\n",
       "    <tr>\n",
       "      <th>3</th>\n",
       "      <td>아보카도 소고기 명란비빔밥</td>\n",
       "      <td>6,500</td>\n",
       "    </tr>\n",
       "    <tr>\n",
       "      <th>4</th>\n",
       "      <td>핫 치즈 닭갈비덮밥</td>\n",
       "      <td>5,900</td>\n",
       "    </tr>\n",
       "    <tr>\n",
       "      <th>...</th>\n",
       "      <td>...</td>\n",
       "      <td>...</td>\n",
       "    </tr>\n",
       "    <tr>\n",
       "      <th>156</th>\n",
       "      <td>무말랭이 무침</td>\n",
       "      <td>400</td>\n",
       "    </tr>\n",
       "    <tr>\n",
       "      <th>157</th>\n",
       "      <td>한솥밥</td>\n",
       "      <td>1,000</td>\n",
       "    </tr>\n",
       "    <tr>\n",
       "      <th>158</th>\n",
       "      <td>현미밥</td>\n",
       "      <td>1,700</td>\n",
       "    </tr>\n",
       "    <tr>\n",
       "      <th>159</th>\n",
       "      <td>리얼 티라미수 찰떡</td>\n",
       "      <td>1,500</td>\n",
       "    </tr>\n",
       "    <tr>\n",
       "      <th>160</th>\n",
       "      <td>리얼꿀 미니호떡</td>\n",
       "      <td>2,200</td>\n",
       "    </tr>\n",
       "  </tbody>\n",
       "</table>\n",
       "<p>161 rows × 2 columns</p>\n",
       "</div>"
      ],
      "text/plain": [
       "                메뉴명     가격\n",
       "0     데미햄버그 불고기 파스타  5,200\n",
       "1      데미햄버그 불고기 덮밥  4,800\n",
       "2    아보카도 게맛살 명란비빔밥  6,500\n",
       "3    아보카도 소고기 명란비빔밥  6,500\n",
       "4        핫 치즈 닭갈비덮밥  5,900\n",
       "..              ...    ...\n",
       "156         무말랭이 무침    400\n",
       "157             한솥밥  1,000\n",
       "158             현미밥  1,700\n",
       "159      리얼 티라미수 찰떡  1,500\n",
       "160        리얼꿀 미니호떡  2,200\n",
       "\n",
       "[161 rows x 2 columns]"
      ]
     },
     "execution_count": 111,
     "metadata": {},
     "output_type": "execute_result"
    }
   ],
   "source": [
    "food=pd.DataFrame(data)\n",
    "food"
   ]
  },
  {
   "cell_type": "code",
   "execution_count": null,
   "id": "7d974f93",
   "metadata": {},
   "outputs": [],
   "source": []
  },
  {
   "cell_type": "code",
   "execution_count": null,
   "id": "91316491",
   "metadata": {},
   "outputs": [],
   "source": [
    "#menuList_457 > div > div.item-text > h4"
   ]
  },
  {
   "cell_type": "markdown",
   "id": "10524a0b",
   "metadata": {},
   "source": [
    "## 뷰티풀숲으로 "
   ]
  },
  {
   "cell_type": "code",
   "execution_count": null,
   "id": "b7d5aec7",
   "metadata": {},
   "outputs": [],
   "source": [
    "##액션만들기\n",
    "actions=ActionChains(driver)\n",
    "##메뉴 버튼\n",
    "actions.move_to_element(menu)\n",
    "#전체메뉴클릭하기\n",
    "actions.click(all_menu)\n",
    "actions.perform()"
   ]
  },
  {
   "cell_type": "code",
   "execution_count": 117,
   "id": "3daea5d3",
   "metadata": {},
   "outputs": [],
   "source": [
    "#더보기 누르기\n",
    "while True:\n",
    "    try:\n",
    "        btn= driver.find_element_by_css_selector('#btn_more > span > a')\n",
    "        btn.click()\n",
    "        time.sleep(1)\n",
    "    except:\n",
    "        break"
   ]
  },
  {
   "cell_type": "code",
   "execution_count": 118,
   "id": "f5d9009b",
   "metadata": {},
   "outputs": [],
   "source": [
    "soup = bs(driver.page_source,\"html.parser\")"
   ]
  },
  {
   "cell_type": "code",
   "execution_count": 119,
   "id": "7a878f72",
   "metadata": {},
   "outputs": [],
   "source": [
    "title_bs=soup.select('h4.h.fz_03')"
   ]
  },
  {
   "cell_type": "code",
   "execution_count": 120,
   "id": "9a21ef45",
   "metadata": {},
   "outputs": [],
   "source": [
    "price_bs=soup.select('div.item-price>strong')"
   ]
  },
  {
   "cell_type": "code",
   "execution_count": 121,
   "id": "37222c69",
   "metadata": {},
   "outputs": [],
   "source": [
    "title_bs_list=[]\n",
    "for a in title_bs:\n",
    "    title_bs_list.append(a.text)\n",
    "    \n",
    "price_bs_list=[]\n",
    "for i in price_bs:\n",
    "    price_bs_list.append(i.text)"
   ]
  },
  {
   "cell_type": "code",
   "execution_count": 124,
   "id": "3af31a27",
   "metadata": {},
   "outputs": [
    {
     "data": {
      "text/plain": [
       "(161, 161)"
      ]
     },
     "execution_count": 124,
     "metadata": {},
     "output_type": "execute_result"
    }
   ],
   "source": [
    "len(title_bs_list),len(price_bs_list)"
   ]
  },
  {
   "cell_type": "code",
   "execution_count": 125,
   "id": "753aefdb",
   "metadata": {},
   "outputs": [],
   "source": [
    "data2={'메뉴명2':title_bs_list,'가격2':price_bs_list}"
   ]
  },
  {
   "cell_type": "code",
   "execution_count": 126,
   "id": "453cc1cf",
   "metadata": {
    "scrolled": true
   },
   "outputs": [
    {
     "data": {
      "text/html": [
       "<div>\n",
       "<style scoped>\n",
       "    .dataframe tbody tr th:only-of-type {\n",
       "        vertical-align: middle;\n",
       "    }\n",
       "\n",
       "    .dataframe tbody tr th {\n",
       "        vertical-align: top;\n",
       "    }\n",
       "\n",
       "    .dataframe thead th {\n",
       "        text-align: right;\n",
       "    }\n",
       "</style>\n",
       "<table border=\"1\" class=\"dataframe\">\n",
       "  <thead>\n",
       "    <tr style=\"text-align: right;\">\n",
       "      <th></th>\n",
       "      <th>메뉴명2</th>\n",
       "      <th>가격2</th>\n",
       "    </tr>\n",
       "  </thead>\n",
       "  <tbody>\n",
       "    <tr>\n",
       "      <th>0</th>\n",
       "      <td>데미햄버그 불고기 파스타</td>\n",
       "      <td>5,200</td>\n",
       "    </tr>\n",
       "    <tr>\n",
       "      <th>1</th>\n",
       "      <td>데미햄버그 불고기 덮밥</td>\n",
       "      <td>4,800</td>\n",
       "    </tr>\n",
       "    <tr>\n",
       "      <th>2</th>\n",
       "      <td>아보카도 게맛살 명란비빔밥</td>\n",
       "      <td>6,500</td>\n",
       "    </tr>\n",
       "    <tr>\n",
       "      <th>3</th>\n",
       "      <td>아보카도 소고기 명란비빔밥</td>\n",
       "      <td>6,500</td>\n",
       "    </tr>\n",
       "    <tr>\n",
       "      <th>4</th>\n",
       "      <td>핫 치즈 닭갈비덮밥</td>\n",
       "      <td>5,900</td>\n",
       "    </tr>\n",
       "    <tr>\n",
       "      <th>...</th>\n",
       "      <td>...</td>\n",
       "      <td>...</td>\n",
       "    </tr>\n",
       "    <tr>\n",
       "      <th>156</th>\n",
       "      <td>무말랭이 무침</td>\n",
       "      <td>400</td>\n",
       "    </tr>\n",
       "    <tr>\n",
       "      <th>157</th>\n",
       "      <td>한솥밥</td>\n",
       "      <td>1,000</td>\n",
       "    </tr>\n",
       "    <tr>\n",
       "      <th>158</th>\n",
       "      <td>현미밥</td>\n",
       "      <td>1,700</td>\n",
       "    </tr>\n",
       "    <tr>\n",
       "      <th>159</th>\n",
       "      <td>리얼 티라미수 찰떡</td>\n",
       "      <td>1,500</td>\n",
       "    </tr>\n",
       "    <tr>\n",
       "      <th>160</th>\n",
       "      <td>리얼꿀 미니호떡</td>\n",
       "      <td>2,200</td>\n",
       "    </tr>\n",
       "  </tbody>\n",
       "</table>\n",
       "<p>161 rows × 2 columns</p>\n",
       "</div>"
      ],
      "text/plain": [
       "               메뉴명2    가격2\n",
       "0     데미햄버그 불고기 파스타  5,200\n",
       "1      데미햄버그 불고기 덮밥  4,800\n",
       "2    아보카도 게맛살 명란비빔밥  6,500\n",
       "3    아보카도 소고기 명란비빔밥  6,500\n",
       "4        핫 치즈 닭갈비덮밥  5,900\n",
       "..              ...    ...\n",
       "156         무말랭이 무침    400\n",
       "157             한솥밥  1,000\n",
       "158             현미밥  1,700\n",
       "159      리얼 티라미수 찰떡  1,500\n",
       "160        리얼꿀 미니호떡  2,200\n",
       "\n",
       "[161 rows x 2 columns]"
      ]
     },
     "execution_count": 126,
     "metadata": {},
     "output_type": "execute_result"
    }
   ],
   "source": [
    "food2=pd.DataFrame(data2)\n",
    "food2"
   ]
  },
  {
   "cell_type": "code",
   "execution_count": null,
   "id": "a9993127",
   "metadata": {},
   "outputs": [],
   "source": []
  },
  {
   "cell_type": "code",
   "execution_count": null,
   "id": "fba1eda1",
   "metadata": {},
   "outputs": [],
   "source": []
  },
  {
   "cell_type": "code",
   "execution_count": null,
   "id": "8d516272",
   "metadata": {},
   "outputs": [],
   "source": []
  },
  {
   "cell_type": "code",
   "execution_count": null,
   "id": "554abb77",
   "metadata": {},
   "outputs": [],
   "source": []
  },
  {
   "cell_type": "code",
   "execution_count": null,
   "id": "d3b68c05",
   "metadata": {},
   "outputs": [],
   "source": []
  },
  {
   "cell_type": "code",
   "execution_count": null,
   "id": "da103b57",
   "metadata": {},
   "outputs": [],
   "source": []
  },
  {
   "cell_type": "code",
   "execution_count": null,
   "id": "736231fe",
   "metadata": {},
   "outputs": [],
   "source": []
  },
  {
   "cell_type": "code",
   "execution_count": null,
   "id": "fe797a7d",
   "metadata": {},
   "outputs": [],
   "source": []
  },
  {
   "cell_type": "code",
   "execution_count": null,
   "id": "1f3e9a02",
   "metadata": {},
   "outputs": [],
   "source": []
  },
  {
   "cell_type": "code",
   "execution_count": null,
   "id": "3eaff9bb",
   "metadata": {},
   "outputs": [],
   "source": []
  },
  {
   "cell_type": "code",
   "execution_count": null,
   "id": "3be48b03",
   "metadata": {},
   "outputs": [],
   "source": []
  },
  {
   "cell_type": "code",
   "execution_count": null,
   "id": "a97ecca4",
   "metadata": {},
   "outputs": [],
   "source": []
  },
  {
   "cell_type": "code",
   "execution_count": null,
   "id": "4317987c",
   "metadata": {},
   "outputs": [],
   "source": []
  }
 ],
 "metadata": {
  "kernelspec": {
   "display_name": "Python 3 (ipykernel)",
   "language": "python",
   "name": "python3"
  },
  "language_info": {
   "codemirror_mode": {
    "name": "ipython",
    "version": 3
   },
   "file_extension": ".py",
   "mimetype": "text/x-python",
   "name": "python",
   "nbconvert_exporter": "python",
   "pygments_lexer": "ipython3",
   "version": "3.9.12"
  }
 },
 "nbformat": 4,
 "nbformat_minor": 5
}
