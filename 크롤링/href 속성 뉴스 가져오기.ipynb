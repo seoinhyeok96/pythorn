{
 "cells": [
  {
   "cell_type": "code",
   "execution_count": 15,
   "id": "03a89f6d",
   "metadata": {},
   "outputs": [
    {
     "name": "stdout",
     "output_type": "stream",
     "text": [
      "Requirement already satisfied: bs4 in c:\\users\\user\\anaconda3\\lib\\site-packages (0.0.1)\n",
      "Requirement already satisfied: beautifulsoup4 in c:\\users\\user\\anaconda3\\lib\\site-packages (from bs4) (4.11.1)\n",
      "Requirement already satisfied: soupsieve>1.2 in c:\\users\\user\\anaconda3\\lib\\site-packages (from beautifulsoup4->bs4) (2.3.1)\n"
     ]
    }
   ],
   "source": [
    "import requests as req\n",
    "!pip install bs4\n",
    "from bs4 import BeautifulSoup as bs\n",
    "from selenium.webdriver.common.action_chains import ActionChains\n",
    "from selenium import webdriver\n",
    "driver= webdriver.Chrome(r'C:\\Users\\user\\chromedriver.exe')\n",
    "import pandas as pd\n",
    "import time"
   ]
  },
  {
   "cell_type": "code",
   "execution_count": 16,
   "id": "ab210716",
   "metadata": {},
   "outputs": [],
   "source": [
    "driver.get(\"https://news.sbs.co.kr/news/newsflash.do?plink=GNB&cooper=SBSNEWS\")"
   ]
  },
  {
   "cell_type": "code",
   "execution_count": 4,
   "id": "c67e341f",
   "metadata": {},
   "outputs": [],
   "source": [
    "from bs4 import BeautifulSoup as bs"
   ]
  },
  {
   "cell_type": "code",
   "execution_count": 5,
   "id": "81569f9c",
   "metadata": {},
   "outputs": [],
   "source": [
    "soup=bs(driver.page_source,\"html.parser\")"
   ]
  },
  {
   "cell_type": "code",
   "execution_count": 6,
   "id": "d264494a",
   "metadata": {
    "scrolled": true
   },
   "outputs": [],
   "source": [
    "serach=soup.select('a.news')"
   ]
  },
  {
   "cell_type": "markdown",
   "id": "44e325de",
   "metadata": {},
   "source": [
    "## findall 사용"
   ]
  },
  {
   "cell_type": "code",
   "execution_count": 91,
   "id": "4267f99d",
   "metadata": {
    "scrolled": false
   },
   "outputs": [
    {
     "name": "stdout",
     "output_type": "stream",
     "text": [
      "https://news.sbs.co.kr//news/endPage.do?news_id=N1006897043\n",
      "https://news.sbs.co.kr//news/endPage.do?news_id=N1006897044\n",
      "https://news.sbs.co.kr//news/endPage.do?news_id=N1006896949\n",
      "https://news.sbs.co.kr//news/endPage.do?news_id=N1006896893\n",
      "https://news.sbs.co.kr//news/endPage.do?news_id=N1006896370\n",
      "https://news.sbs.co.kr//news/endPage.do?news_id=N1006896934\n",
      "https://news.sbs.co.kr//news/endPage.do?news_id=N1006896910\n",
      "https://news.sbs.co.kr//news/endPage.do?news_id=N1006896317\n",
      "https://news.sbs.co.kr//news/endPage.do?news_id=N1006896854\n",
      "https://news.sbs.co.kr//news/endPage.do?news_id=N1006896870\n"
     ]
    }
   ],
   "source": [
    "for i  in serach:\n",
    "    print(\"https://news.sbs.co.kr/\"+i['href'])"
   ]
  },
  {
   "cell_type": "code",
   "execution_count": 10,
   "id": "4253a422",
   "metadata": {},
   "outputs": [],
   "source": [
    "page = range(1,10)"
   ]
  },
  {
   "cell_type": "markdown",
   "id": "1796eb63",
   "metadata": {},
   "source": [
    "## 페이지를 넘기며 제목과 밑에 내용 크롤링 하기"
   ]
  },
  {
   "cell_type": "code",
   "execution_count": 19,
   "id": "c988c4b7",
   "metadata": {
    "scrolled": true
   },
   "outputs": [],
   "source": [
    "title_list=[]\n",
    "read_list=[]\n",
    "url_list=[]\n",
    "for i in page:\n",
    "    url= \"https://news.sbs.co.kr/news/newsflash.do?plink=GNB&cooper=SBSNEWS&pageIdx={}\".format(i)\n",
    "    driver.get(url)\n",
    "    time.sleep(2)\n",
    "    soup=bs(driver.page_source,'html.parser')\n",
    "    search=soup.select('a.news')\n",
    "    title=driver.find_elements_by_css_selector('a.news > p > strong')\n",
    "    read=driver.find_elements_by_css_selector('p > span.read')\n",
    "    time.sleep(2)\n",
    "    for i in title:\n",
    "        title_list.append(i.text)\n",
    "    for i in read:\n",
    "        read_list.append(i.text)\n",
    "    for i in search:\n",
    "        url_list.append(\"https://news.sbs.co.kr/\"+i['href'])"
   ]
  },
  {
   "cell_type": "code",
   "execution_count": 1,
   "id": "51e4efa7",
   "metadata": {},
   "outputs": [
    {
     "ename": "NameError",
     "evalue": "name 'total' is not defined",
     "output_type": "error",
     "traceback": [
      "\u001b[1;31m---------------------------------------------------------------------------\u001b[0m",
      "\u001b[1;31mNameError\u001b[0m                                 Traceback (most recent call last)",
      "Input \u001b[1;32mIn [1]\u001b[0m, in \u001b[0;36m<cell line: 1>\u001b[1;34m()\u001b[0m\n\u001b[1;32m----> 1\u001b[0m \u001b[43mtotal\u001b[49m\n",
      "\u001b[1;31mNameError\u001b[0m: name 'total' is not defined"
     ]
    }
   ],
   "source": []
  },
  {
   "cell_type": "code",
   "execution_count": 94,
   "id": "e315ce7e",
   "metadata": {},
   "outputs": [
    {
     "data": {
      "text/plain": [
       "(90, 90, 90)"
      ]
     },
     "execution_count": 94,
     "metadata": {},
     "output_type": "execute_result"
    }
   ],
   "source": [
    "# 갯수 확인\n",
    "len(title_list),len(read_list),len(url_list)"
   ]
  },
  {
   "cell_type": "markdown",
   "id": "0fbbdb44",
   "metadata": {},
   "source": [
    "## 뉴스 타이틀 가져오기"
   ]
  },
  {
   "cell_type": "code",
   "execution_count": 47,
   "id": "4aa3139c",
   "metadata": {},
   "outputs": [],
   "source": [
    "title=driver.find_elements_by_css_selector('a.news > p > strong')"
   ]
  },
  {
   "cell_type": "code",
   "execution_count": 48,
   "id": "41285740",
   "metadata": {},
   "outputs": [
    {
     "data": {
      "text/plain": [
       "10"
      ]
     },
     "execution_count": 48,
     "metadata": {},
     "output_type": "execute_result"
    }
   ],
   "source": [
    "len(title)"
   ]
  },
  {
   "cell_type": "code",
   "execution_count": 49,
   "id": "f74e55c8",
   "metadata": {
    "collapsed": true
   },
   "outputs": [
    {
     "name": "stdout",
     "output_type": "stream",
     "text": [
      "[Pick] 시각장애인이 산 그 우유, 유통기한 점자 표시도 없었다\n",
      "윤 대통령 \"태양광, 이권 카르텔 비리에 혈세 사용돼 개탄…사법 처리\"\n",
      "미 \"EU와 전기차 세액공제안 계속 논의\"…한미도 곧 실무협의\n",
      "[취재파일] '음주운전' 김민석, 밀라노올림픽 출전 불투명\n",
      "인천공항, 세계 유일 '5성급' 공인…고객경험인증 최고등급\n",
      "인천상륙작전 72주년 전승 행사 개최…\"자유 · 평화 지킨 승리\"\n",
      "조응천 \"'탄핵' 입에 올릴 단어 아냐…언급할 가치도 없어\"\n",
      "친정팀 울린 홀란의 결승골…맨시티, 도르트문트에 2대 1 역전승\n",
      "국방차관, 미 국방 연구차관과 국방 · 방산 협력 논의\n",
      "[친절한 경제] 네이버 · 쿠팡서 면세품 살 수 있다…입국 수령도 가능\n"
     ]
    }
   ],
   "source": [
    "for e in title:\n",
    "    print(e.text)"
   ]
  },
  {
   "cell_type": "markdown",
   "id": "90a8d493",
   "metadata": {},
   "source": [
    "## 내용 가져오기 "
   ]
  },
  {
   "cell_type": "code",
   "execution_count": 61,
   "id": "ad7c2a66",
   "metadata": {},
   "outputs": [],
   "source": [
    "read=driver.find_elements_by_css_selector('p > span.read')"
   ]
  },
  {
   "cell_type": "code",
   "execution_count": 65,
   "id": "1f755c90",
   "metadata": {
    "scrolled": true
   },
   "outputs": [
    {
     "data": {
      "text/plain": [
       "6"
      ]
     },
     "execution_count": 65,
     "metadata": {},
     "output_type": "execute_result"
    }
   ],
   "source": [
    "len(read)"
   ]
  },
  {
   "cell_type": "code",
   "execution_count": 52,
   "id": "388601d5",
   "metadata": {
    "scrolled": true
   },
   "outputs": [
    {
     "name": "stdout",
     "output_type": "stream",
     "text": [
      "음료와 컵라면, 우유 제품 10개 중 6개는 유통기한 등에 관한 점자 표시가 없어 시각장애인들이 불편을 겪고 있는 것으로 조사됐습니다. 14일 한국소비자원은 국내 14개 식품업체에서 생산하는 음료·컵라면·우유 제품 321개를 대상으로 조사한 결과, 9개 업체의 121개 제품에만 점자 표시가 돼있다고 밝혔습니다.\n",
      "윤석열 대통령이 문재인 정부 시절 태양광 사업 비리와 관련해 \"참 개탄스럽다\"고 밝혔습니다. 윤 대통령은 오늘 오전 용산 대통령실 출근길에 기자들과 만나 \"국민들의 혈세가 어려운 분들을 위한 복지, 또 그분들을 지원하는 데 쓰여야 하는데 이런 이권 카르텔의 비리에 사용됐다\"며 이같이 말했습니다.\n",
      "북미에서 생산된 전기차에 대해서만 세액공제 혜택을 주는 미국의 인플레이션 감축법에 대해 한국을 포함한 동맹국들이 대미 외교전에 나선 가운데 미국과 유럽연합 통상담당 대표가 회동했다고 로이터 통신이 14일 보도했습니다.\n",
      "음주운전 사고를 내 징계를 당했던 전 스피드스케이팅 남자 국가대표 김민석 선수의 2026년 동계올림픽 출전 여부가 경찰 조사에 달린 것으로 알려졌습니다.\n",
      "인천국제공항이 세계 최초이자 유일한 '5성급' 공항으로 이름을 올렸습니다. 인천국제공항공사는 14일 폴란드 크라쿠프 항공박물관에서 국제공항협의회 주관으로 열린 고객경험 글로벌 서밋에서 'ACI 고객경험인증' 프로그램 중 최고단계인 5단계를 수상했습니다.\n",
      "해군은 인천시와 공동으로 14∼15일 인천 일대에서 제72주년 인천상륙작전 전승 행사를 개최한다고 오늘 밝혔습니다. 어제에는 '팔미도 등대 탈환·점등행사'가 있었습니다.\n",
      "더불어민주당 조응천 의원은 오늘 당 일각에서 윤석열 대통령의 탄핵을 시사하는 발언이 나온 데 대해 \"말도 안 되는 얘기고 언급할 가치가 없다\"고 비판했습니다.\n",
      "유럽축구 챔피언스리그에서 맨체스터 시티의 '괴물 공격수' 엘링 홀란이 친정팀 보루시아 도르트문트에 비수를 꽂았습니다. 홀란은 영국 맨체스터의 에티하드 스타디움에서 열린 도르트문트와 2022-2023시즌 유럽축구연맹 조별리그 G조 2차전 홈 경기에서 1대 1로 맞선 후반 39분 결승골을 터트려 맨시티의 2대1 역전승을 이끌었습니다.\n",
      "고위급 확장억제전략협의체 회의 참석차 미국 워싱턴DC를 방문 중인 신범철 국방부 차관이 미국 국방부 차관들을 만나 국방·방산 협력을 논의했습니다.\n",
      "친절한 경제 시간입니다. 한지연 기자 나와 있습니다. 앞으로 온라인에서 면세품을 조금 더 이렇게 쉽게 살 수 있다면서요? 네, 시점은 12월부터고요.\n"
     ]
    }
   ],
   "source": [
    "for a in read:\n",
    "    print(a.text)"
   ]
  },
  {
   "cell_type": "markdown",
   "id": "f917eccb",
   "metadata": {},
   "source": [
    "##  기사 하나씩 제목과 내용 크롤링하기"
   ]
  },
  {
   "cell_type": "code",
   "execution_count": 24,
   "id": "d163e47a",
   "metadata": {},
   "outputs": [
    {
     "ename": "KeyboardInterrupt",
     "evalue": "",
     "output_type": "error",
     "traceback": [
      "\u001b[1;31m---------------------------------------------------------------------------\u001b[0m",
      "\u001b[1;31mKeyboardInterrupt\u001b[0m                         Traceback (most recent call last)",
      "Input \u001b[1;32mIn [24]\u001b[0m, in \u001b[0;36m<cell line: 4>\u001b[1;34m()\u001b[0m\n\u001b[0;32m      4\u001b[0m \u001b[38;5;28;01mfor\u001b[39;00m url \u001b[38;5;129;01min\u001b[39;00m url_list:\n\u001b[0;32m      5\u001b[0m     driver\u001b[38;5;241m.\u001b[39mget(url)\n\u001b[1;32m----> 6\u001b[0m     \u001b[43mtime\u001b[49m\u001b[38;5;241;43m.\u001b[39;49m\u001b[43msleep\u001b[49m\u001b[43m(\u001b[49m\u001b[38;5;241;43m1\u001b[39;49m\u001b[43m)\u001b[49m\n\u001b[0;32m      7\u001b[0m     soup \u001b[38;5;241m=\u001b[39m bs(driver\u001b[38;5;241m.\u001b[39mpage_source, \u001b[38;5;124m'\u001b[39m\u001b[38;5;124mhtml.parser\u001b[39m\u001b[38;5;124m'\u001b[39m)\n\u001b[0;32m      8\u001b[0m     \u001b[38;5;66;03m#제목\u001b[39;00m\n",
      "\u001b[1;31mKeyboardInterrupt\u001b[0m: "
     ]
    }
   ],
   "source": [
    "title_list=[]\n",
    "contents_list=[]\n",
    "\n",
    "for url in url_list:\n",
    "    driver.get(url)\n",
    "    time.sleep(1)\n",
    "    soup = bs(driver.page_source, 'html.parser')\n",
    "    #제목\n",
    "    title = soup.select('h2.blind.ir')\n",
    "#     for i in title:\n",
    "#         title_list.append(i.text)\n",
    "    title_list.append(title[0].text)\n",
    "    \n",
    "    #내용\n",
    "    content = soup.select('div.text_area')\n",
    "#     for i in content:\n",
    "#         contents_list.append(i.text)\n",
    "    contents_list.append(content[0].text)\n",
    "\n",
    "    "
   ]
  },
  {
   "cell_type": "code",
   "execution_count": 104,
   "id": "e15837f0",
   "metadata": {},
   "outputs": [
    {
     "data": {
      "text/plain": [
       "(0, 31)"
      ]
     },
     "execution_count": 104,
     "metadata": {},
     "output_type": "execute_result"
    }
   ],
   "source": [
    "len(title_list),len(contents_list)"
   ]
  },
  {
   "cell_type": "code",
   "execution_count": null,
   "id": "9054ffd1",
   "metadata": {},
   "outputs": [],
   "source": [
    "#vmNewsTitle"
   ]
  },
  {
   "cell_type": "code",
   "execution_count": null,
   "id": "853338cc",
   "metadata": {},
   "outputs": [],
   "source": []
  },
  {
   "cell_type": "code",
   "execution_count": 102,
   "id": "b5e337ad",
   "metadata": {},
   "outputs": [],
   "source": [
    "title2 =soup.select('h2.blind.ir')\n",
    "    "
   ]
  },
  {
   "cell_type": "code",
   "execution_count": null,
   "id": "75f1d543",
   "metadata": {},
   "outputs": [],
   "source": [
    "## 피클로 저장하기"
   ]
  },
  {
   "cell_type": "code",
   "execution_count": 20,
   "id": "6f0e9579",
   "metadata": {},
   "outputs": [],
   "source": [
    "import pickle"
   ]
  },
  {
   "cell_type": "code",
   "execution_count": 25,
   "id": "76b66520",
   "metadata": {},
   "outputs": [],
   "source": [
    "with open('news_artcle','wb') as e:\n",
    "    pickle.dump(contents_list,e)"
   ]
  },
  {
   "cell_type": "code",
   "execution_count": null,
   "id": "b455c646",
   "metadata": {},
   "outputs": [],
   "source": []
  },
  {
   "cell_type": "code",
   "execution_count": null,
   "id": "731021d0",
   "metadata": {},
   "outputs": [],
   "source": []
  },
  {
   "cell_type": "code",
   "execution_count": 13,
   "id": "c9c20a56",
   "metadata": {},
   "outputs": [
    {
     "ename": "NameError",
     "evalue": "name 'ChromeDriverManager' is not defined",
     "output_type": "error",
     "traceback": [
      "\u001b[1;31m---------------------------------------------------------------------------\u001b[0m",
      "\u001b[1;31mNameError\u001b[0m                                 Traceback (most recent call last)",
      "Input \u001b[1;32mIn [13]\u001b[0m, in \u001b[0;36m<cell line: 2>\u001b[1;34m()\u001b[0m\n\u001b[0;32m      1\u001b[0m \u001b[38;5;66;03m# url 첫페이지 추출\u001b[39;00m\n\u001b[1;32m----> 2\u001b[0m driver \u001b[38;5;241m=\u001b[39m webdriver\u001b[38;5;241m.\u001b[39mChrome(\u001b[43mChromeDriverManager\u001b[49m()\u001b[38;5;241m.\u001b[39minstall()) \n\u001b[0;32m      3\u001b[0m driver\u001b[38;5;241m.\u001b[39mget(\u001b[38;5;124m\"\u001b[39m\u001b[38;5;124mhttps://news.sbs.co.kr/news/newsflash.do?plink=NEW&cooper=SBSNEWSMAIN\u001b[39m\u001b[38;5;124m\"\u001b[39m)\n\u001b[0;32m      5\u001b[0m \u001b[38;5;66;03m#select 사용\u001b[39;00m\n",
      "\u001b[1;31mNameError\u001b[0m: name 'ChromeDriverManager' is not defined"
     ]
    }
   ],
   "source": [
    "# url 첫페이지 추출\n",
    "driver = webdriver.Chrome(ChromeDriverManager().install()) \n",
    "driver.get(\"https://news.sbs.co.kr/news/newsflash.do?plink=NEW&cooper=SBSNEWSMAIN\")\n",
    "\n",
    "#select 사용\n",
    "soup = bs(driver.page_source, 'html.parser')\n",
    "serach = soup.select('a.news')\n",
    "for i in serach:\n",
    "    print('https://news.sbs.co.kr/'+i['href'])\n",
    "\n",
    "#findall 사용\n",
    "search2 = soup.find_all('a', class_='news')\n",
    "for i in search2:\n",
    "    print('https://news.sbs.co.kr/'+i['href'])\n"
   ]
  },
  {
   "cell_type": "code",
   "execution_count": 1,
   "id": "79c44028",
   "metadata": {},
   "outputs": [
    {
     "ename": "NameError",
     "evalue": "name 'driver' is not defined",
     "output_type": "error",
     "traceback": [
      "\u001b[1;31m---------------------------------------------------------------------------\u001b[0m",
      "\u001b[1;31mNameError\u001b[0m                                 Traceback (most recent call last)",
      "Input \u001b[1;32mIn [1]\u001b[0m, in \u001b[0;36m<cell line: 3>\u001b[1;34m()\u001b[0m\n\u001b[0;32m      3\u001b[0m \u001b[38;5;28;01mfor\u001b[39;00m i \u001b[38;5;129;01min\u001b[39;00m \u001b[38;5;28mrange\u001b[39m(\u001b[38;5;241m1\u001b[39m,\u001b[38;5;241m6\u001b[39m):\n\u001b[0;32m      4\u001b[0m     page_url \u001b[38;5;241m=\u001b[39m \u001b[38;5;124m'\u001b[39m\u001b[38;5;124mhttps://news.sbs.co.kr/news/newsflash.do?plink=NEW&cooper=SBSNEWSMAIN&pageIdx=\u001b[39m\u001b[38;5;132;01m{}\u001b[39;00m\u001b[38;5;124m'\u001b[39m\u001b[38;5;241m.\u001b[39mformat(i)\n\u001b[1;32m----> 5\u001b[0m     \u001b[43mdriver\u001b[49m\u001b[38;5;241m.\u001b[39mget(page_url)\n\u001b[0;32m      6\u001b[0m     time\u001b[38;5;241m.\u001b[39msleep(\u001b[38;5;241m1\u001b[39m)\n\u001b[0;32m      7\u001b[0m     soup \u001b[38;5;241m=\u001b[39m bs(driver\u001b[38;5;241m.\u001b[39mpage_source, \u001b[38;5;124m'\u001b[39m\u001b[38;5;124mhtml.parser\u001b[39m\u001b[38;5;124m'\u001b[39m)\n",
      "\u001b[1;31mNameError\u001b[0m: name 'driver' is not defined"
     ]
    }
   ],
   "source": [
    "#1~5페이지의 뉴스 상세 url 수집\n",
    "url_list = []\n",
    "for i in range(1,6):\n",
    "    page_url = 'https://news.sbs.co.kr/news/newsflash.do?plink=NEW&cooper=SBSNEWSMAIN&pageIdx={}'.format(i)\n",
    "    driver.get(page_url)\n",
    "    time.sleep(1)\n",
    "    soup = bs(driver.page_source, 'html.parser')\n",
    "    search = soup.select('a.news')\n",
    "    for i in search:\n",
    "        url_list.append('https://news.sbs.co.kr/'+i['href'])\n"
   ]
  }
 ],
 "metadata": {
  "kernelspec": {
   "display_name": "Python 3 (ipykernel)",
   "language": "python",
   "name": "python3"
  },
  "language_info": {
   "codemirror_mode": {
    "name": "ipython",
    "version": 3
   },
   "file_extension": ".py",
   "mimetype": "text/x-python",
   "name": "python",
   "nbconvert_exporter": "python",
   "pygments_lexer": "ipython3",
   "version": "3.9.12"
  }
 },
 "nbformat": 4,
 "nbformat_minor": 5
}
