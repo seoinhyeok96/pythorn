{
 "cells": [
  {
   "cell_type": "code",
   "execution_count": 2,
   "id": "e890fd6e",
   "metadata": {},
   "outputs": [],
   "source": [
    "import re"
   ]
  },
  {
   "cell_type": "code",
   "execution_count": 3,
   "id": "aeb13aa0",
   "metadata": {},
   "outputs": [
    {
     "data": {
      "text/plain": [
       "re.compile(r'배고파', re.UNICODE)"
      ]
     },
     "execution_count": 3,
     "metadata": {},
     "output_type": "execute_result"
    }
   ],
   "source": [
    "a= re.compile(\"배고파\")\n",
    "a"
   ]
  },
  {
   "cell_type": "code",
   "execution_count": 4,
   "id": "b9993b86",
   "metadata": {
    "scrolled": false
   },
   "outputs": [
    {
     "data": {
      "text/plain": [
       "<re.Match object; span=(0, 3), match='배고파'>"
      ]
     },
     "execution_count": 4,
     "metadata": {},
     "output_type": "execute_result"
    }
   ],
   "source": [
    "a.match(\"배고파\")"
   ]
  },
  {
   "cell_type": "code",
   "execution_count": 5,
   "id": "a6343eec",
   "metadata": {},
   "outputs": [
    {
     "data": {
      "text/plain": [
       "['배고파', '배고파', '배고파']"
      ]
     },
     "execution_count": 5,
     "metadata": {},
     "output_type": "execute_result"
    }
   ],
   "source": [
    "a.findall(\"배고파서 아 배고파 배고파 노래를 불렀다\")"
   ]
  },
  {
   "cell_type": "code",
   "execution_count": 8,
   "id": "3b6bc014",
   "metadata": {
    "scrolled": true
   },
   "outputs": [
    {
     "data": {
      "text/plain": [
       "<re.Match object; span=(0, 3), match='배고파'>"
      ]
     },
     "execution_count": 8,
     "metadata": {},
     "output_type": "execute_result"
    }
   ],
   "source": [
    "a.search(\"배고파서 아 배고파 백고파 노래를 불렀다.\")"
   ]
  },
  {
   "cell_type": "markdown",
   "id": "c26f0080",
   "metadata": {},
   "source": [
    "## 정규 표현식 기본 문법1"
   ]
  },
  {
   "cell_type": "markdown",
   "id": "a7e89ab8",
   "metadata": {},
   "source": [
    "1.:모든 것\n",
    "2.* 0번 이상 반복\n",
    "3.+ 1번 이상 반복\n",
    "4.{m}:m번 반복\n",
    "5.{m,n}m번 반복\n",
    "6.? 있어도 되고 없어도 됨"
   ]
  },
  {
   "cell_type": "code",
   "execution_count": 10,
   "id": "210c23dc",
   "metadata": {
    "scrolled": true
   },
   "outputs": [
    {
     "name": "stdout",
     "output_type": "stream",
     "text": [
      "None\n",
      "None\n",
      "None\n"
     ]
    }
   ],
   "source": [
    "b= re.compile(\"배,파\")\n",
    "print(b.match(\"배고파\"))\n",
    "print(b.match(\"배아파\"))\n",
    "print(b.match(\"배흙파\"))\n"
   ]
  },
  {
   "cell_type": "code",
   "execution_count": 11,
   "id": "9b8842b7",
   "metadata": {},
   "outputs": [
    {
     "name": "stdout",
     "output_type": "stream",
     "text": [
      "None\n"
     ]
    }
   ],
   "source": [
    "b= re.compile(\"배고..파\")\n",
    "print(b.match(\"배고파\"))"
   ]
  },
  {
   "cell_type": "code",
   "execution_count": 18,
   "id": "c3903f90",
   "metadata": {},
   "outputs": [
    {
     "name": "stdout",
     "output_type": "stream",
     "text": [
      "None\n",
      "<re.Match object; span=(0, 3), match='배고파'>\n",
      "<re.Match object; span=(0, 4), match='배고고파'>\n",
      "<re.Match object; span=(0, 5), match='배고고고파'>\n"
     ]
    }
   ],
   "source": [
    "b= re.compile(\"배고+파\")\n",
    "print(b.match(\"배파\"))\n",
    "print(b.match(\"배고파\"))\n",
    "print(b.match(\"배고고파\"))\n",
    "print(b.match(\"배고고고파\"))"
   ]
  },
  {
   "cell_type": "code",
   "execution_count": 22,
   "id": "1aac002a",
   "metadata": {},
   "outputs": [
    {
     "name": "stdout",
     "output_type": "stream",
     "text": [
      "<re.Match object; span=(0, 10), match='나는 밥을 먹었다.'>\n",
      "None\n"
     ]
    }
   ],
   "source": [
    "b= re.compile(\"나는 밥을 먹었다\\.\")\n",
    "print(b.match(\"나는 밥을 먹었다.\"))\n",
    "print(b.match(\"나는 밥을 먹었다ㅋ\"))"
   ]
  },
  {
   "cell_type": "markdown",
   "id": "aa9a2a2e",
   "metadata": {},
   "source": [
    "### 괄호의 활용"
   ]
  },
  {
   "cell_type": "code",
   "execution_count": 29,
   "id": "5bb0fd06",
   "metadata": {},
   "outputs": [
    {
     "name": "stdout",
     "output_type": "stream",
     "text": [
      "None\n",
      "<re.Match object; span=(0, 3), match='배고파'>\n",
      "<re.Match object; span=(0, 5), match='배고파고파'>\n",
      "None\n"
     ]
    }
   ],
   "source": [
    "c= re.compile(\"배(고파)+\")\n",
    "print(c.match(\"배\"))\n",
    "print(c.match(\"배고파\"))\n",
    "print(c.match(\"배고파고파\"))\n",
    "print(c.match(\"배고고파\"))"
   ]
  },
  {
   "cell_type": "code",
   "execution_count": 28,
   "id": "588cd675",
   "metadata": {},
   "outputs": [
    {
     "name": "stdout",
     "output_type": "stream",
     "text": [
      "None\n",
      "<re.Match object; span=(0, 2), match='배고'>\n",
      "<re.Match object; span=(0, 2), match='배파'>\n",
      "<re.Match object; span=(0, 3), match='배고파'>\n"
     ]
    }
   ],
   "source": [
    "c= re.compile(\"배[고파]+\")\n",
    "print(c.match(\"배\"))\n",
    "print(c.match(\"배고\"))\n",
    "print(c.match(\"배파\"))\n",
    "print(c.match(\"배고파\"))"
   ]
  },
  {
   "cell_type": "code",
   "execution_count": 30,
   "id": "07d67b39",
   "metadata": {},
   "outputs": [
    {
     "name": "stdout",
     "output_type": "stream",
     "text": [
      "None\n"
     ]
    }
   ],
   "source": [
    "c= re.compile(\"[여남공외]고\")\n",
    "print(c.match(\"남공고\"))"
   ]
  },
  {
   "cell_type": "code",
   "execution_count": 34,
   "id": "75b61857",
   "metadata": {},
   "outputs": [
    {
     "name": "stdout",
     "output_type": "stream",
     "text": [
      "<re.Match object; span=(0, 7), match='외국어고등학교'>\n"
     ]
    }
   ],
   "source": [
    "c= re.compile(\"[여자|외국어|공업|남자]+고등학교\")\n",
    "print(c.match(\"외국어고등학교\"))"
   ]
  },
  {
   "cell_type": "code",
   "execution_count": 35,
   "id": "cddf160b",
   "metadata": {},
   "outputs": [
    {
     "name": "stdout",
     "output_type": "stream",
     "text": [
      "<re.Match object; span=(0, 1), match='K'>\n"
     ]
    }
   ],
   "source": [
    "c= re.compile(\"[A-Z]\")\n",
    "print(c.match(\"K\"))"
   ]
  },
  {
   "cell_type": "code",
   "execution_count": 44,
   "id": "30adea4c",
   "metadata": {},
   "outputs": [
    {
     "name": "stdout",
     "output_type": "stream",
     "text": [
      "<re.Match object; span=(0, 1), match='이'>\n"
     ]
    }
   ],
   "source": [
    "c= re.compile(\"[가-하]\")\n",
    "print(c.match(\"이\"))"
   ]
  },
  {
   "cell_type": "code",
   "execution_count": 45,
   "id": "8127f05e",
   "metadata": {
    "scrolled": true
   },
   "outputs": [
    {
     "name": "stdout",
     "output_type": "stream",
     "text": [
      "<re.Match object; span=(0, 1), match='가'>\n"
     ]
    }
   ],
   "source": [
    "c= re.compile(\"[^0-9]\")\n",
    "print(c.match(\"가\"))"
   ]
  },
  {
   "cell_type": "markdown",
   "id": "5c35615a",
   "metadata": {},
   "source": [
    "### 정규표현식 특수문법"
   ]
  },
  {
   "cell_type": "code",
   "execution_count": 46,
   "id": "1bb5b4e1",
   "metadata": {},
   "outputs": [
    {
     "name": "stdout",
     "output_type": "stream",
     "text": [
      "<re.Match object; span=(0, 1), match='가'>\n"
     ]
    }
   ],
   "source": [
    "d= re.compile(\"(\\D)\")\n",
    "print(d.match(\"가\"))"
   ]
  },
  {
   "cell_type": "code",
   "execution_count": 48,
   "id": "16a1c776",
   "metadata": {},
   "outputs": [
    {
     "name": "stdout",
     "output_type": "stream",
     "text": [
      "<re.Match object; span=(0, 1), match='가'>\n"
     ]
    }
   ],
   "source": [
    "re.compile(\"(\\s)\")\n",
    "print(d.match(\"가\"))\n"
   ]
  },
  {
   "cell_type": "code",
   "execution_count": null,
   "id": "b594a7ca",
   "metadata": {},
   "outputs": [],
   "source": [
    "d = re.compile(\"(\\W)\")\n",
    "print(d.match(\"가\"))\n",
    "print(d.match(\"a\"))\n",
    "print(d.match(\"1\"))\n",
    "print(d.match(\"_\"))\n",
    "print(d.match(\" \"))\n",
    "print(d.match(\"?\"))"
   ]
  },
  {
   "cell_type": "markdown",
   "id": "cab82766",
   "metadata": {},
   "source": [
    "### 이메일 지칭하기\n",
    "- abcedefg1121@gmail.com\n",
    "- abcedefg1121@daum.net\n",
    "- abcedefg1121@yahoo.co.kr\n"
   ]
  },
  {
   "cell_type": "code",
   "execution_count": 68,
   "id": "7d0f6a32",
   "metadata": {},
   "outputs": [
    {
     "name": "stdout",
     "output_type": "stream",
     "text": [
      "<re.Match object; span=(0, 22), match='abcedefg1121@gmail.com'>\n",
      "<re.Match object; span=(0, 21), match='abcedefg1121@daum.net'>\n",
      "<re.Match object; span=(0, 24), match='abcedefg1121@yahoo.co.kr'>\n"
     ]
    }
   ],
   "source": [
    "d= re.compile(\".*@.*\")\n",
    "print(d.match(\"abcedefg1121@gmail.com\"))\n",
    "print(d.match(\"abcedefg1121@daum.net\"))\n",
    "print(d.match(\"abcedefg1121@yahoo.co.kr\"))"
   ]
  },
  {
   "cell_type": "code",
   "execution_count": 74,
   "id": "db23dbac",
   "metadata": {},
   "outputs": [
    {
     "name": "stdout",
     "output_type": "stream",
     "text": [
      "<re.Match object; span=(0, 21), match='abcedefg1121@daum.net'>\n"
     ]
    }
   ],
   "source": [
    "d=re.compile(\"\\S+@[a-zA-Z0-9]+\\.[a-zA-Z0-9]+\\.?[a-zA-Z0-9]*\")\n",
    "print(d.match(\"abcedefg1121@daum.net\"))"
   ]
  },
  {
   "cell_type": "markdown",
   "id": "08ff9537",
   "metadata": {},
   "source": [
    "### 전화번호 지칭하기\n",
    "- 010-1234-5678\n",
    "- 02-123-4567\n",
    "- 032)1234567\n",
    "- 1588-5588\n",
    "- 112\n"
   ]
  },
  {
   "cell_type": "code",
   "execution_count": 103,
   "id": "9dde5d95",
   "metadata": {},
   "outputs": [
    {
     "name": "stdout",
     "output_type": "stream",
     "text": [
      "<re.Match object; span=(0, 13), match='010-1234-5678'>\n",
      "<re.Match object; span=(0, 11), match='02-123-4567'>\n",
      "<re.Match object; span=(0, 11), match='032)1234567'>\n",
      "<re.Match object; span=(0, 3), match='112'>\n",
      "<re.Match object; span=(0, 9), match='1588-5588'>\n"
     ]
    }
   ],
   "source": [
    "d= re.compile(\"[0-9]+\\W?[0-9]+\\W?[0-9]+\")\n",
    "print(d.match(\"010-1234-5678\"))\n",
    "print(d.match(\"02-123-4567\"))\n",
    "print(d.match(\"032)1234567\"))\n",
    "print(d.match(\"112\"))\n",
    "print(d.match(\"1588-5588\"))"
   ]
  },
  {
   "cell_type": "code",
   "execution_count": 104,
   "id": "476741f7",
   "metadata": {
    "scrolled": true
   },
   "outputs": [
    {
     "name": "stdout",
     "output_type": "stream",
     "text": [
      "<re.Match object; span=(0, 13), match='010-1234-5678'>\n"
     ]
    }
   ],
   "source": [
    "d= re.compile(\"[0-9]+\\D?[0-9]+-?[0-9]+\")\n",
    "print(d.match(\"010-1234-5678\"))"
   ]
  },
  {
   "cell_type": "code",
   "execution_count": null,
   "id": "ae5deae3",
   "metadata": {},
   "outputs": [],
   "source": []
  }
 ],
 "metadata": {
  "kernelspec": {
   "display_name": "Python 3 (ipykernel)",
   "language": "python",
   "name": "python3"
  },
  "language_info": {
   "codemirror_mode": {
    "name": "ipython",
    "version": 3
   },
   "file_extension": ".py",
   "mimetype": "text/x-python",
   "name": "python",
   "nbconvert_exporter": "python",
   "pygments_lexer": "ipython3",
   "version": "3.9.12"
  }
 },
 "nbformat": 4,
 "nbformat_minor": 5
}
