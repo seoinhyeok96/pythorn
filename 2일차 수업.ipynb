{
 "cells": [
  {
   "cell_type": "code",
   "execution_count": 1,
   "id": "537f4480",
   "metadata": {},
   "outputs": [],
   "source": [
    "sentecnce = \"my name is seoinhyeok\""
   ]
  },
  {
   "cell_type": "code",
   "execution_count": 4,
   "id": "2b0507de",
   "metadata": {},
   "outputs": [
    {
     "data": {
      "text/plain": [
       "'nm'"
      ]
     },
     "execution_count": 4,
     "metadata": {},
     "output_type": "execute_result"
    }
   ],
   "source": [
    "sentecnce[3:7:2]"
   ]
  },
  {
   "cell_type": "markdown",
   "id": "5f2920c0",
   "metadata": {},
   "source": [
    "2일차 시작"
   ]
  },
  {
   "cell_type": "markdown",
   "id": "3f704d58",
   "metadata": {},
   "source": [
    "남성시장 곱창 볶음  1일분에 100g ??  \n",
    "포매팅 2가지 방식  \n",
    "퍼센트s는 문자열만 가능  \n",
    "퍼센트d는 숫자  \n",
    "포맷 함수  "
   ]
  },
  {
   "cell_type": "code",
   "execution_count": 22,
   "id": "3999418d",
   "metadata": {
    "scrolled": false
   },
   "outputs": [
    {
     "name": "stdout",
     "output_type": "stream",
     "text": [
      "오늘의 메뉴는 곱창 볶음와 꽈배기입니다.\n"
     ]
    }
   ],
   "source": [
    "lunch_menu1 = \"곱창 볶음\"\n",
    "lunch_menu2 = \"꽈배기\"\n",
    "print(f\"오늘의 메뉴는 {lunch_menu1}와 {lunch_menu2}입니다.\")"
   ]
  },
  {
   "cell_type": "markdown",
   "id": "22ff6774",
   "metadata": {},
   "source": [
    "### 변수 x에 100을 대입하고 변수 Y이에 200을 대입한뒤 변수 add에  x와Y에 합을 대입합니다.\n",
    "### 그후 대입한 변수를 바탕으로 아래 문자를 출력합니다."
   ]
  },
  {
   "cell_type": "code",
   "execution_count": 38,
   "id": "9f0045f6",
   "metadata": {},
   "outputs": [
    {
     "name": "stdout",
     "output_type": "stream",
     "text": [
      "100과 200 합은300입니다.\n"
     ]
    }
   ],
   "source": [
    "x=100\n",
    "y=200\n",
    "add=x+y\n",
    "print(\"{}과 {} 합은{}입니다.\".format(x,y,add))\n"
   ]
  },
  {
   "cell_type": "code",
   "execution_count": 39,
   "id": "761a7b70",
   "metadata": {},
   "outputs": [],
   "source": [
    "song= \"tell me tell me tetetetet tell me\""
   ]
  },
  {
   "cell_type": "code",
   "execution_count": 40,
   "id": "f980e412",
   "metadata": {},
   "outputs": [
    {
     "data": {
      "text/plain": [
       "3"
      ]
     },
     "execution_count": 40,
     "metadata": {},
     "output_type": "execute_result"
    }
   ],
   "source": [
    "song.count(\"tell me\")"
   ]
  },
  {
   "cell_type": "code",
   "execution_count": 41,
   "id": "3030c098",
   "metadata": {},
   "outputs": [
    {
     "data": {
      "text/plain": [
       "16"
      ]
     },
     "execution_count": 41,
     "metadata": {},
     "output_type": "execute_result"
    }
   ],
   "source": [
    "song.find(\"tetete\")"
   ]
  },
  {
   "cell_type": "code",
   "execution_count": 42,
   "id": "419dac6c",
   "metadata": {},
   "outputs": [
    {
     "data": {
      "text/plain": [
       "'TELL ME TELL ME TETETETET TELL ME'"
      ]
     },
     "execution_count": 42,
     "metadata": {},
     "output_type": "execute_result"
    }
   ],
   "source": [
    "song.upper()"
   ]
  },
  {
   "cell_type": "code",
   "execution_count": 46,
   "id": "0f96a49d",
   "metadata": {},
   "outputs": [
    {
     "data": {
      "text/plain": [
       "'TELL ME TELL ME TETETETET TELL ME'"
      ]
     },
     "execution_count": 46,
     "metadata": {},
     "output_type": "execute_result"
    }
   ],
   "source": [
    "song=song.upper()\n",
    "song"
   ]
  },
  {
   "cell_type": "code",
   "execution_count": 48,
   "id": "b3a81b9a",
   "metadata": {},
   "outputs": [
    {
     "data": {
      "text/plain": [
       "'Tell Me Tell Me Tetetetet Tell Me'"
      ]
     },
     "execution_count": 48,
     "metadata": {},
     "output_type": "execute_result"
    }
   ],
   "source": [
    "song.title()\n",
    "#앞글자만 대문자 "
   ]
  },
  {
   "cell_type": "code",
   "execution_count": 78,
   "id": "1b9725fe",
   "metadata": {},
   "outputs": [
    {
     "data": {
      "text/plain": [
       "'YELL ME YELL ME YEYEYEYEY YELL ME'"
      ]
     },
     "execution_count": 78,
     "metadata": {},
     "output_type": "execute_result"
    }
   ],
   "source": [
    "#인플레이스\n",
    "song.replace(\"T\",\"Y\")"
   ]
  },
  {
   "cell_type": "code",
   "execution_count": 51,
   "id": "5021a0f8",
   "metadata": {},
   "outputs": [
    {
     "data": {
      "text/plain": [
       "'TELL ME TELL ME TETETETET TELL ME'"
      ]
     },
     "execution_count": 51,
     "metadata": {},
     "output_type": "execute_result"
    }
   ],
   "source": [
    "song"
   ]
  },
  {
   "cell_type": "code",
   "execution_count": 53,
   "id": "d498a506",
   "metadata": {},
   "outputs": [
    {
     "data": {
      "text/plain": [
       "['TELL ME TELL ME TETETETET TELL ME']"
      ]
     },
     "execution_count": 53,
     "metadata": {},
     "output_type": "execute_result"
    }
   ],
   "source": [
    "#스플릿\n",
    "song.split(\"  \")"
   ]
  },
  {
   "cell_type": "code",
   "execution_count": 55,
   "id": "f089fd94",
   "metadata": {},
   "outputs": [
    {
     "data": {
      "text/plain": [
       "['TELL', 'ME', 'TELL', 'ME', 'TETETETET', 'TELL', 'ME']"
      ]
     },
     "execution_count": 55,
     "metadata": {},
     "output_type": "execute_result"
    }
   ],
   "source": [
    "song.split(\" \")"
   ]
  },
  {
   "cell_type": "code",
   "execution_count": 58,
   "id": "ca38336f",
   "metadata": {},
   "outputs": [
    {
     "data": {
      "text/plain": [
       "['나는 밥을 먹었다. 아주 맛이 있었다.']"
      ]
     },
     "execution_count": 58,
     "metadata": {},
     "output_type": "execute_result"
    }
   ],
   "source": [
    "sentence = \"나는 밥을 먹었다. 아주 맛이 있었다.\"\n",
    "sentence.split(\" .\")"
   ]
  },
  {
   "cell_type": "code",
   "execution_count": 60,
   "id": "616007b2",
   "metadata": {},
   "outputs": [
    {
     "data": {
      "text/plain": [
       "'tell'"
      ]
     },
     "execution_count": 60,
     "metadata": {},
     "output_type": "execute_result"
    }
   ],
   "source": [
    "ah_ryeon = \"     tell     \"\n",
    "ah_ryeon.strip()\n"
   ]
  },
  {
   "cell_type": "code",
   "execution_count": 61,
   "id": "1a653dd9",
   "metadata": {},
   "outputs": [
    {
     "data": {
      "text/plain": [
       "'tell     '"
      ]
     },
     "execution_count": 61,
     "metadata": {},
     "output_type": "execute_result"
    }
   ],
   "source": [
    "ah_ryeon = \"     tell     \"\n",
    "ah_ryeon.lstrip()\n"
   ]
  },
  {
   "cell_type": "code",
   "execution_count": 62,
   "id": "bc18becb",
   "metadata": {},
   "outputs": [
    {
     "data": {
      "text/plain": [
       "'     tell'"
      ]
     },
     "execution_count": 62,
     "metadata": {},
     "output_type": "execute_result"
    }
   ],
   "source": [
    "ah_ryeon = \"     tell     \"\n",
    "ah_ryeon.rstrip()\n"
   ]
  },
  {
   "cell_type": "code",
   "execution_count": 64,
   "id": "90138db2",
   "metadata": {},
   "outputs": [
    {
     "data": {
      "text/plain": [
       "' . .   tell . . .  '"
      ]
     },
     "execution_count": 64,
     "metadata": {},
     "output_type": "execute_result"
    }
   ],
   "source": [
    "ah_ryeon = \". . .   tell . . .  \"\n",
    "ah_ryeon.strip(\".\")\n"
   ]
  },
  {
   "cell_type": "raw",
   "id": "0378e963",
   "metadata": {},
   "source": [
    "## 연산자"
   ]
  },
  {
   "cell_type": "code",
   "execution_count": 65,
   "id": "70d1bd01",
   "metadata": {},
   "outputs": [
    {
     "data": {
      "text/plain": [
       "2"
      ]
     },
     "execution_count": 65,
     "metadata": {},
     "output_type": "execute_result"
    }
   ],
   "source": [
    "1+1"
   ]
  },
  {
   "cell_type": "code",
   "execution_count": 66,
   "id": "b9bd8b09",
   "metadata": {},
   "outputs": [
    {
     "data": {
      "text/plain": [
       "0"
      ]
     },
     "execution_count": 66,
     "metadata": {},
     "output_type": "execute_result"
    }
   ],
   "source": [
    "2-2"
   ]
  },
  {
   "cell_type": "code",
   "execution_count": 70,
   "id": "0ad4b48b",
   "metadata": {},
   "outputs": [
    {
     "data": {
      "text/plain": [
       "1"
      ]
     },
     "execution_count": 70,
     "metadata": {},
     "output_type": "execute_result"
    }
   ],
   "source": [
    "int (2/2)"
   ]
  },
  {
   "cell_type": "code",
   "execution_count": 81,
   "id": "0fd875b2",
   "metadata": {},
   "outputs": [
    {
     "data": {
      "text/plain": [
       "1.0"
      ]
     },
     "execution_count": 81,
     "metadata": {},
     "output_type": "execute_result"
    }
   ],
   "source": [
    "2/2"
   ]
  },
  {
   "cell_type": "code",
   "execution_count": 68,
   "id": "df5cb3c4",
   "metadata": {},
   "outputs": [
    {
     "data": {
      "text/plain": [
       "4"
      ]
     },
     "execution_count": 68,
     "metadata": {},
     "output_type": "execute_result"
    }
   ],
   "source": [
    "2*2"
   ]
  },
  {
   "cell_type": "markdown",
   "id": "9acd67d7",
   "metadata": {},
   "source": [
    "**지수 연산** "
   ]
  },
  {
   "cell_type": "code",
   "execution_count": 72,
   "id": "6769fb53",
   "metadata": {
    "scrolled": true
   },
   "outputs": [
    {
     "data": {
      "text/plain": [
       "27"
      ]
     },
     "execution_count": 72,
     "metadata": {},
     "output_type": "execute_result"
    }
   ],
   "source": [
    "3**3"
   ]
  },
  {
   "cell_type": "markdown",
   "id": "0176e4c0",
   "metadata": {},
   "source": [
    "###몫 연산, 나머지 연산"
   ]
  },
  {
   "cell_type": "code",
   "execution_count": 75,
   "id": "3e499925",
   "metadata": {},
   "outputs": [
    {
     "data": {
      "text/plain": [
       "2"
      ]
     },
     "execution_count": 75,
     "metadata": {},
     "output_type": "execute_result"
    }
   ],
   "source": [
    "7//3"
   ]
  },
  {
   "cell_type": "code",
   "execution_count": 76,
   "id": "1e2e8af4",
   "metadata": {},
   "outputs": [
    {
     "data": {
      "text/plain": [
       "1"
      ]
     },
     "execution_count": 76,
     "metadata": {},
     "output_type": "execute_result"
    }
   ],
   "source": [
    "7%3"
   ]
  },
  {
   "cell_type": "code",
   "execution_count": 79,
   "id": "fa377df2",
   "metadata": {},
   "outputs": [
    {
     "data": {
      "text/plain": [
       "6.0"
      ]
     },
     "execution_count": 79,
     "metadata": {},
     "output_type": "execute_result"
    }
   ],
   "source": [
    "3+3.0"
   ]
  },
  {
   "cell_type": "code",
   "execution_count": 80,
   "id": "f5ab00bb",
   "metadata": {},
   "outputs": [
    {
     "data": {
      "text/plain": [
       "3.0"
      ]
     },
     "execution_count": 80,
     "metadata": {},
     "output_type": "execute_result"
    }
   ],
   "source": [
    "2.7+0.3"
   ]
  },
  {
   "cell_type": "code",
   "execution_count": 82,
   "id": "7eff2cb1",
   "metadata": {},
   "outputs": [
    {
     "data": {
      "text/plain": [
       "'안녕하세요'"
      ]
     },
     "execution_count": 82,
     "metadata": {},
     "output_type": "execute_result"
    }
   ],
   "source": [
    "\"안녕\"+\"하세요\"\n",
    "#오직 문자열은 +만 됨!"
   ]
  },
  {
   "cell_type": "code",
   "execution_count": 83,
   "id": "246cf6a8",
   "metadata": {},
   "outputs": [
    {
     "ename": "TypeError",
     "evalue": "can't multiply sequence by non-int of type 'str'",
     "output_type": "error",
     "traceback": [
      "\u001b[1;31m---------------------------------------------------------------------------\u001b[0m",
      "\u001b[1;31mTypeError\u001b[0m                                 Traceback (most recent call last)",
      "Input \u001b[1;32mIn [83]\u001b[0m, in \u001b[0;36m<cell line: 1>\u001b[1;34m()\u001b[0m\n\u001b[1;32m----> 1\u001b[0m \u001b[38;5;124;43m\"\u001b[39;49m\u001b[38;5;124;43m안녕\u001b[39;49m\u001b[38;5;124;43m\"\u001b[39;49m\u001b[38;5;241;43m*\u001b[39;49m\u001b[38;5;124;43m\"\u001b[39;49m\u001b[38;5;124;43m하세요\u001b[39;49m\u001b[38;5;124;43m\"\u001b[39;49m\n",
      "\u001b[1;31mTypeError\u001b[0m: can't multiply sequence by non-int of type 'str'"
     ]
    }
   ],
   "source": [
    "\"안녕\"*\"하세요\""
   ]
  },
  {
   "cell_type": "code",
   "execution_count": 84,
   "id": "cb6c8721",
   "metadata": {},
   "outputs": [
    {
     "ename": "TypeError",
     "evalue": "unsupported operand type(s) for -: 'str' and 'str'",
     "output_type": "error",
     "traceback": [
      "\u001b[1;31m---------------------------------------------------------------------------\u001b[0m",
      "\u001b[1;31mTypeError\u001b[0m                                 Traceback (most recent call last)",
      "Input \u001b[1;32mIn [84]\u001b[0m, in \u001b[0;36m<cell line: 1>\u001b[1;34m()\u001b[0m\n\u001b[1;32m----> 1\u001b[0m \u001b[38;5;124;43m\"\u001b[39;49m\u001b[38;5;124;43m안녕\u001b[39;49m\u001b[38;5;124;43m\"\u001b[39;49m\u001b[38;5;241;43m-\u001b[39;49m\u001b[38;5;124;43m\"\u001b[39;49m\u001b[38;5;124;43m하세요\u001b[39;49m\u001b[38;5;124;43m\"\u001b[39;49m\n",
      "\u001b[1;31mTypeError\u001b[0m: unsupported operand type(s) for -: 'str' and 'str'"
     ]
    }
   ],
   "source": [
    "\"안녕\"-\"하세요\""
   ]
  },
  {
   "cell_type": "code",
   "execution_count": 85,
   "id": "91c5a264",
   "metadata": {},
   "outputs": [
    {
     "ename": "TypeError",
     "evalue": "unsupported operand type(s) for -: 'str' and 'str'",
     "output_type": "error",
     "traceback": [
      "\u001b[1;31m---------------------------------------------------------------------------\u001b[0m",
      "\u001b[1;31mTypeError\u001b[0m                                 Traceback (most recent call last)",
      "Input \u001b[1;32mIn [85]\u001b[0m, in \u001b[0;36m<cell line: 1>\u001b[1;34m()\u001b[0m\n\u001b[1;32m----> 1\u001b[0m \u001b[38;5;124;43m\"\u001b[39;49m\u001b[38;5;124;43m안녕\u001b[39;49m\u001b[38;5;124;43m\"\u001b[39;49m\u001b[38;5;241;43m-\u001b[39;49m\u001b[38;5;124;43m\"\u001b[39;49m\u001b[38;5;124;43m안녕\u001b[39;49m\u001b[38;5;124;43m\"\u001b[39;49m\n",
      "\u001b[1;31mTypeError\u001b[0m: unsupported operand type(s) for -: 'str' and 'str'"
     ]
    }
   ],
   "source": [
    "\"안녕\"-\"안녕\""
   ]
  },
  {
   "cell_type": "code",
   "execution_count": 86,
   "id": "a562053a",
   "metadata": {},
   "outputs": [
    {
     "ename": "TypeError",
     "evalue": "can only concatenate str (not \"int\") to str",
     "output_type": "error",
     "traceback": [
      "\u001b[1;31m---------------------------------------------------------------------------\u001b[0m",
      "\u001b[1;31mTypeError\u001b[0m                                 Traceback (most recent call last)",
      "Input \u001b[1;32mIn [86]\u001b[0m, in \u001b[0;36m<cell line: 1>\u001b[1;34m()\u001b[0m\n\u001b[1;32m----> 1\u001b[0m \u001b[38;5;124;43m\"\u001b[39;49m\u001b[38;5;124;43m안녕\u001b[39;49m\u001b[38;5;124;43m\"\u001b[39;49m\u001b[38;5;241;43m+\u001b[39;49m\u001b[38;5;241;43m3\u001b[39;49m\n",
      "\u001b[1;31mTypeError\u001b[0m: can only concatenate str (not \"int\") to str"
     ]
    }
   ],
   "source": [
    "\"안녕\"+3"
   ]
  },
  {
   "cell_type": "code",
   "execution_count": 87,
   "id": "f05020d5",
   "metadata": {},
   "outputs": [
    {
     "data": {
      "text/plain": [
       "'안녕안녕안녕'"
      ]
     },
     "execution_count": 87,
     "metadata": {},
     "output_type": "execute_result"
    }
   ],
   "source": [
    "\"안녕\"*3"
   ]
  },
  {
   "cell_type": "code",
   "execution_count": 88,
   "id": "dac8f882",
   "metadata": {},
   "outputs": [
    {
     "data": {
      "text/plain": [
       "'2107'"
      ]
     },
     "execution_count": 88,
     "metadata": {},
     "output_type": "execute_result"
    }
   ],
   "source": [
    "str(2)+str(\"10\") +str(7)"
   ]
  },
  {
   "cell_type": "code",
   "execution_count": 89,
   "id": "e4f33601",
   "metadata": {},
   "outputs": [
    {
     "data": {
      "text/plain": [
       "19"
      ]
     },
     "execution_count": 89,
     "metadata": {},
     "output_type": "execute_result"
    }
   ],
   "source": [
    "int(2)+int(\"10\")+int(7)"
   ]
  },
  {
   "cell_type": "code",
   "execution_count": 99,
   "id": "b4500673",
   "metadata": {},
   "outputs": [
    {
     "name": "stdout",
     "output_type": "stream",
     "text": [
      "아이디를 입력하세요: hbbyiy\n"
     ]
    }
   ],
   "source": [
    "#input 함수\n",
    "\n",
    "a=input(\"아이디를 입력하세요: \")"
   ]
  },
  {
   "cell_type": "code",
   "execution_count": 100,
   "id": "1fc2e383",
   "metadata": {},
   "outputs": [
    {
     "data": {
      "text/plain": [
       "'hbbyiy'"
      ]
     },
     "execution_count": 100,
     "metadata": {},
     "output_type": "execute_result"
    }
   ],
   "source": [
    "a"
   ]
  },
  {
   "cell_type": "code",
   "execution_count": 101,
   "id": "ca704f60",
   "metadata": {},
   "outputs": [
    {
     "name": "stdout",
     "output_type": "stream",
     "text": [
      "아이디를 입력하세요: 324\n"
     ]
    }
   ],
   "source": [
    "a=int(input(\"아이디를 입력하세요: \"))"
   ]
  },
  {
   "cell_type": "code",
   "execution_count": 102,
   "id": "1ea9cbfd",
   "metadata": {},
   "outputs": [
    {
     "data": {
      "text/plain": [
       "324"
      ]
     },
     "execution_count": 102,
     "metadata": {},
     "output_type": "execute_result"
    }
   ],
   "source": [
    "a"
   ]
  },
  {
   "cell_type": "markdown",
   "id": "28d5c090",
   "metadata": {},
   "source": [
    "### 시간 파싱하기\n",
    "- \"2022년 8월10일 14시 32분 10초\""
   ]
  },
  {
   "cell_type": "code",
   "execution_count": 108,
   "id": "c328feab",
   "metadata": {},
   "outputs": [
    {
     "data": {
      "text/plain": [
       "'2022년-08월-10일 14시:32분:10초'"
      ]
     },
     "execution_count": 108,
     "metadata": {},
     "output_type": "execute_result"
    }
   ],
   "source": [
    "import datetime\n",
    "datetime.datetime.now().strftime(\"2022년-08월-10일 14시:32분:10초\")"
   ]
  },
  {
   "cell_type": "code",
   "execution_count": 105,
   "id": "7f4baf1d",
   "metadata": {},
   "outputs": [
    {
     "data": {
      "text/plain": [
       "'2022-08-10 14:33:35'"
      ]
     },
     "execution_count": 105,
     "metadata": {},
     "output_type": "execute_result"
    }
   ],
   "source": [
    "import datetime\n",
    "datetime.datetime.now().strftime(\"%Y-%m-%d %H:%M:%S\")"
   ]
  },
  {
   "cell_type": "code",
   "execution_count": 117,
   "id": "f5578d6e",
   "metadata": {},
   "outputs": [
    {
     "name": "stdout",
     "output_type": "stream",
     "text": [
      "2022년 08월 10일 14시 47분 45초\n"
     ]
    }
   ],
   "source": [
    "now=datetime.datetime.now().strftime(\"%Y-%m-%d %H:%M:%S\")\n",
    "year= now[:4]\n",
    "month = now [5:7]\n",
    "day= now[8:10]\n",
    "hour= now[11:13]\n",
    "minute=now[14:16]\n",
    "\n",
    "second = now [17:]\n",
    "\n",
    "print(f\"{year}년 {month}월 {day}일 {hour}시 {minute}분 {second}초\")"
   ]
  },
  {
   "cell_type": "code",
   "execution_count": 116,
   "id": "246c1216",
   "metadata": {},
   "outputs": [
    {
     "data": {
      "text/plain": [
       "'2022-08-10 14:42:43'"
      ]
     },
     "execution_count": 116,
     "metadata": {},
     "output_type": "execute_result"
    }
   ],
   "source": [
    "now"
   ]
  },
  {
   "cell_type": "markdown",
   "id": "18e63a92",
   "metadata": {},
   "source": [
    "- input 함수로 초 단위 시간을 받습니다.\n",
    "- 그시간을 시간 분 초로 나누어서 출력합니다.\n",
    "- 예시)3653을 받으면 1시간 0분 53초를 출력"
   ]
  },
  {
   "cell_type": "code",
   "execution_count": 2,
   "id": "8f21a8b9",
   "metadata": {},
   "outputs": [
    {
     "name": "stdout",
     "output_type": "stream",
     "text": [
      "초 단위의 시간을 입력해 주세요3653\n",
      "1시 0분 53초\n"
     ]
    }
   ],
   "source": [
    "time=int(input(\"초 단위의 시간을 입력해 주세요\"))\n",
    "hour=time//3600\n",
    "minute=time%3600//60\n",
    "second= time%60\n",
    "\n",
    "print(f\"{hour}시 {minute}분 {second}초\")"
   ]
  },
  {
   "cell_type": "code",
   "execution_count": 7,
   "id": "5957fa8e",
   "metadata": {},
   "outputs": [
    {
     "data": {
      "text/plain": [
       "27"
      ]
     },
     "execution_count": 7,
     "metadata": {},
     "output_type": "execute_result"
    }
   ],
   "source": [
    "num=3\n",
    "num**=3\n",
    "num"
   ]
  },
  {
   "cell_type": "code",
   "execution_count": 13,
   "id": "12e85b9a",
   "metadata": {},
   "outputs": [
    {
     "data": {
      "text/plain": [
       "True"
      ]
     },
     "execution_count": 13,
     "metadata": {},
     "output_type": "execute_result"
    }
   ],
   "source": [
    "#논리형\n",
    "1<=2"
   ]
  },
  {
   "cell_type": "code",
   "execution_count": 16,
   "id": "36285c27",
   "metadata": {},
   "outputs": [
    {
     "data": {
      "text/plain": [
       "bool"
      ]
     },
     "execution_count": 16,
     "metadata": {},
     "output_type": "execute_result"
    }
   ],
   "source": [
    "type(1!=2)"
   ]
  },
  {
   "cell_type": "code",
   "execution_count": 15,
   "id": "b0dbdca1",
   "metadata": {},
   "outputs": [
    {
     "data": {
      "text/plain": [
       "False"
      ]
     },
     "execution_count": 15,
     "metadata": {},
     "output_type": "execute_result"
    }
   ],
   "source": [
    "1==2"
   ]
  },
  {
   "cell_type": "code",
   "execution_count": 17,
   "id": "6a473a1e",
   "metadata": {},
   "outputs": [
    {
     "data": {
      "text/plain": [
       "2"
      ]
     },
     "execution_count": 17,
     "metadata": {},
     "output_type": "execute_result"
    }
   ],
   "source": [
    "True+1"
   ]
  },
  {
   "cell_type": "code",
   "execution_count": 18,
   "id": "929539b1",
   "metadata": {},
   "outputs": [
    {
     "data": {
      "text/plain": [
       "False"
      ]
     },
     "execution_count": 18,
     "metadata": {},
     "output_type": "execute_result"
    }
   ],
   "source": [
    "\"1\" == 1"
   ]
  },
  {
   "cell_type": "code",
   "execution_count": 20,
   "id": "4ddd521b",
   "metadata": {},
   "outputs": [
    {
     "name": "stdout",
     "output_type": "stream",
     "text": [
      "정수를 입력하세요: 1\n"
     ]
    },
    {
     "data": {
      "text/plain": [
       "True"
      ]
     },
     "execution_count": 20,
     "metadata": {},
     "output_type": "execute_result"
    }
   ],
   "source": [
    "cmdu= int(input(\"정수를 입력하세요: \"))\n",
    "cmdu ==0 or cmdu== 1\n",
    "#둘중에 하나만 참이여도 참"
   ]
  },
  {
   "cell_type": "code",
   "execution_count": 22,
   "id": "69889f32",
   "metadata": {},
   "outputs": [
    {
     "name": "stdout",
     "output_type": "stream",
     "text": [
      "정수를 입력하세요: 1\n"
     ]
    },
    {
     "data": {
      "text/plain": [
       "False"
      ]
     },
     "execution_count": 22,
     "metadata": {},
     "output_type": "execute_result"
    }
   ],
   "source": [
    "cmdu= int(input(\"정수를 입력하세요: \"))\n",
    "cmdu ==0 and cmdu== 1\n",
    "#둘중에 하나만 거짓이어도 거짓"
   ]
  },
  {
   "cell_type": "markdown",
   "id": "699dfb58",
   "metadata": {},
   "source": [
    "-Input 함수로 num에 임의 정수를 입력받습니다.\n",
    "- 입력된 수가 2의 배수 이거나 3의 배수 이면 True,그렇지 않으면 FALSE를 출력합니다."
   ]
  },
  {
   "cell_type": "code",
   "execution_count": 27,
   "id": "d804e2d0",
   "metadata": {},
   "outputs": [
    {
     "name": "stdout",
     "output_type": "stream",
     "text": [
      "2\n"
     ]
    },
    {
     "data": {
      "text/plain": [
       "False"
      ]
     },
     "execution_count": 27,
     "metadata": {},
     "output_type": "execute_result"
    }
   ],
   "source": [
    "num=int(input())\n",
    "num %2==0 and num %3== 0"
   ]
  },
  {
   "cell_type": "markdown",
   "id": "f822c3fc",
   "metadata": {},
   "source": [
    "#조건문 \n",
    "- 조건에 따라 실행 흐름을 다르게 하는 문법\n",
    "if \n",
    "if 조건식:\n",
    "   실행문장\n",
    "   실행문장\n",
    "   "
   ]
  },
  {
   "cell_type": "code",
   "execution_count": 31,
   "id": "438b5274",
   "metadata": {},
   "outputs": [
    {
     "ename": "SyntaxError",
     "evalue": "invalid syntax (2304176341.py, line 1)",
     "output_type": "error",
     "traceback": [
      "\u001b[1;36m  Input \u001b[1;32mIn [31]\u001b[1;36m\u001b[0m\n\u001b[1;33m    if 나는 부자다:\u001b[0m\n\u001b[1;37m          ^\u001b[0m\n\u001b[1;31mSyntaxError\u001b[0m\u001b[1;31m:\u001b[0m invalid syntax\n"
     ]
    }
   ],
   "source": [
    "if 나는 부자다:\n",
    "    택시를 타고 가자\n",
    "else:\n",
    "    버스를 타고 가자\n",
    "\n",
    "와 집에 도착했다.    "
   ]
  },
  {
   "cell_type": "code",
   "execution_count": 34,
   "id": "95e7c24e",
   "metadata": {},
   "outputs": [
    {
     "name": "stdout",
     "output_type": "stream",
     "text": [
      "내가 가진 돈 :3000\n",
      "버스를 타고 가자\n",
      "우와 우리집이다!\n"
     ]
    }
   ],
   "source": [
    "money= int(input(\"내가 가진 돈 :\"))\n",
    "if money >= 4000 :\n",
    "    print('택시를 타고 가자.')\n",
    "else :\n",
    "    print(\"버스를 타고 가자\")\n",
    "    \n",
    "    print('우와 우리집이다!')"
   ]
  },
  {
   "cell_type": "markdown",
   "id": "6fe22968",
   "metadata": {},
   "source": [
    "- input 함수로 정수를 받습니다.\n",
    "- 만약 주어진 수가 3의 배수라면 \"3의 배수입니다.\"를 출력합니다.\n",
    "- 만약 주어진 수가 3의 배수가 아니라면 \"3의 배수가 아닙니다.\"를 출력합니다.\n"
   ]
  },
  {
   "cell_type": "code",
   "execution_count": 38,
   "id": "2517fe6c",
   "metadata": {},
   "outputs": [
    {
     "name": "stdout",
     "output_type": "stream",
     "text": [
      "1\n",
      "3의 배수가 아닙니다.\n"
     ]
    }
   ],
   "source": [
    "djwurkmdl=int(input())\n",
    "if djwurkmdl %3 ==0 :\n",
    "    print(\"3의 배수입니다.\")\n",
    "else :\n",
    "    print( \"3의 배수가 아닙니다.\")\n",
    "    \n",
    "    \n",
    "    #이둘은 둘다 흑백 논리\n",
    "    "
   ]
  },
  {
   "cell_type": "code",
   "execution_count": 39,
   "id": "786d9b97",
   "metadata": {},
   "outputs": [
    {
     "data": {
      "text/plain": [
       "0"
      ]
     },
     "execution_count": 39,
     "metadata": {},
     "output_type": "execute_result"
    }
   ],
   "source": [
    "#elif문 eilf 문 eles 문 셋다 중복되는게 없어야 한다."
   ]
  },
  {
   "cell_type": "markdown",
   "id": "a48ee739",
   "metadata": {},
   "source": [
    "#### 추석 선물 세트 구매\n",
    "- 추석 선물 세트 1개에 1만원입니다.\n",
    "- 추석 선물 세트를 11개 사면 , 11개째 부터 10% 할인이 됩니다.\n",
    "- 추석 선물 세트를 몇개 샀는지 input 함수로 받아 , 총 얼마인지 출력해 주세요"
   ]
  },
  {
   "cell_type": "code",
   "execution_count": 49,
   "id": "17a0b64c",
   "metadata": {},
   "outputs": [
    {
     "ename": "IndentationError",
     "evalue": "expected an indented block (3873958121.py, line 4)",
     "output_type": "error",
     "traceback": [
      "\u001b[1;36m  Input \u001b[1;32mIn [49]\u001b[1;36m\u001b[0m\n\u001b[1;33m    print [gift*price]\u001b[0m\n\u001b[1;37m    ^\u001b[0m\n\u001b[1;31mIndentationError\u001b[0m\u001b[1;31m:\u001b[0m expected an indented block\n"
     ]
    }
   ],
   "source": [
    "gift=int(input(\"개수를 입력하세요\"))\n",
    "price=10000\n",
    "if  gift<=10 : \n",
    "print [gift*price]\n",
    "else :\n",
    "    얼 = gift*price-((gift-10)*price*0.1)\n",
    "print(int(price))"
   ]
  },
  {
   "cell_type": "code",
   "execution_count": 50,
   "id": "dc23bc22",
   "metadata": {},
   "outputs": [
    {
     "data": {
      "text/plain": [
       "list"
      ]
     },
     "execution_count": 50,
     "metadata": {},
     "output_type": "execute_result"
    }
   ],
   "source": [
    "a=[1,2,3,4]\n",
    "a\n",
    "type(a)"
   ]
  },
  {
   "cell_type": "code",
   "execution_count": 10,
   "id": "e0405444",
   "metadata": {},
   "outputs": [
    {
     "data": {
      "text/plain": [
       "7"
      ]
     },
     "execution_count": 10,
     "metadata": {},
     "output_type": "execute_result"
    }
   ],
   "source": [
    "f=[7,8,9,10]\n",
    "f[-1]\n",
    "f[0]"
   ]
  },
  {
   "cell_type": "code",
   "execution_count": 13,
   "id": "1128c91d",
   "metadata": {},
   "outputs": [],
   "source": [
    "d=[1,2,[\"a\",\"b\"]]\n",
    "d=[2][0]"
   ]
  },
  {
   "cell_type": "code",
   "execution_count": 15,
   "id": "e0c0e010",
   "metadata": {},
   "outputs": [],
   "source": [
    "#튜블안에 있는 \n",
    "#익데싱이랑 슬라이스는 가능합니다. 원소를 넣어나 뻬거나 가능하거나\n",
    "#리스트 끼리 덧셈이 가능함"
   ]
  },
  {
   "cell_type": "code",
   "execution_count": 16,
   "id": "6a289a3c",
   "metadata": {},
   "outputs": [
    {
     "data": {
      "text/plain": [
       "[1, 2, 3, 4, 5, 6, 7, 8, 9]"
      ]
     },
     "execution_count": 16,
     "metadata": {},
     "output_type": "execute_result"
    }
   ],
   "source": [
    "a=[1,2,3,4]\n",
    "b=[5,6,7,8,9]\n",
    "a+b"
   ]
  },
  {
   "cell_type": "code",
   "execution_count": 17,
   "id": "3ef89a9d",
   "metadata": {},
   "outputs": [
    {
     "data": {
      "text/plain": [
       "[1, 2, 3, 4, 5]"
      ]
     },
     "execution_count": 17,
     "metadata": {},
     "output_type": "execute_result"
    }
   ],
   "source": [
    "a.append(5)\n",
    "a"
   ]
  },
  {
   "cell_type": "code",
   "execution_count": 24,
   "id": "258fa91b",
   "metadata": {},
   "outputs": [
    {
     "data": {
      "text/plain": [
       "[8, 8, 1, 2, 3, 4, 5, 20, 20]"
      ]
     },
     "execution_count": 24,
     "metadata": {},
     "output_type": "execute_result"
    }
   ],
   "source": [
    "a.insert(0,8)\n",
    "a\n",
    "#값을 어디에다가 넣읗건지"
   ]
  },
  {
   "cell_type": "code",
   "execution_count": 21,
   "id": "9ff84190",
   "metadata": {},
   "outputs": [],
   "source": [
    "a.append(20)\n",
    "a.insert(-1,20)"
   ]
  },
  {
   "cell_type": "code",
   "execution_count": 23,
   "id": "e90063d9",
   "metadata": {},
   "outputs": [
    {
     "data": {
      "text/plain": [
       "[8, 1, 2, 3, 4, 5, 20, 20]"
      ]
     },
     "execution_count": 23,
     "metadata": {},
     "output_type": "execute_result"
    }
   ],
   "source": [
    "# 원소를 지우는 방법\n",
    "del a[0]\n",
    "a"
   ]
  },
  {
   "cell_type": "code",
   "execution_count": 30,
   "id": "d801aec4",
   "metadata": {},
   "outputs": [
    {
     "data": {
      "text/plain": [
       "[8, 8, 3, 5, 20, 20]"
      ]
     },
     "execution_count": 30,
     "metadata": {},
     "output_type": "execute_result"
    }
   ],
   "source": [
    "del a[2]\n",
    "a"
   ]
  },
  {
   "cell_type": "code",
   "execution_count": 31,
   "id": "36faadc2",
   "metadata": {},
   "outputs": [
    {
     "data": {
      "text/plain": [
       "[8, 8, 3, 20, 20]"
      ]
     },
     "execution_count": 31,
     "metadata": {},
     "output_type": "execute_result"
    }
   ],
   "source": [
    "a.remove(5)\n",
    "a"
   ]
  },
  {
   "cell_type": "code",
   "execution_count": 37,
   "id": "499789ff",
   "metadata": {},
   "outputs": [
    {
     "data": {
      "text/plain": [
       "[5, 8, 8, 20, 20]"
      ]
     },
     "execution_count": 37,
     "metadata": {},
     "output_type": "execute_result"
    }
   ],
   "source": [
    "#순서 바꾸기\n",
    "#오름차순\n",
    "a.sort()\n",
    "a"
   ]
  },
  {
   "cell_type": "code",
   "execution_count": 38,
   "id": "c71d7c74",
   "metadata": {},
   "outputs": [
    {
     "data": {
      "text/plain": [
       "[20, 20, 8, 8, 5]"
      ]
     },
     "execution_count": 38,
     "metadata": {},
     "output_type": "execute_result"
    }
   ],
   "source": [
    "#내림 차순\n",
    "a.sort(reverse = True)\n",
    "a"
   ]
  },
  {
   "cell_type": "code",
   "execution_count": 41,
   "id": "039cfa43",
   "metadata": {},
   "outputs": [
    {
     "data": {
      "text/plain": [
       "5"
      ]
     },
     "execution_count": 41,
     "metadata": {},
     "output_type": "execute_result"
    }
   ],
   "source": [
    "len(a)"
   ]
  },
  {
   "cell_type": "code",
   "execution_count": 42,
   "id": "2b8547a6",
   "metadata": {},
   "outputs": [
    {
     "data": {
      "text/plain": [
       "int"
      ]
     },
     "execution_count": 42,
     "metadata": {},
     "output_type": "execute_result"
    }
   ],
   "source": [
    "type(1)"
   ]
  },
  {
   "cell_type": "code",
   "execution_count": 43,
   "id": "75a404f0",
   "metadata": {},
   "outputs": [
    {
     "data": {
      "text/plain": [
       "'TELL ME'"
      ]
     },
     "execution_count": 43,
     "metadata": {},
     "output_type": "execute_result"
    }
   ],
   "source": [
    "\"tell me\" .upper()"
   ]
  },
  {
   "cell_type": "code",
   "execution_count": 48,
   "id": "86b0e052",
   "metadata": {},
   "outputs": [
    {
     "data": {
      "text/plain": [
       "True"
      ]
     },
     "execution_count": 48,
     "metadata": {},
     "output_type": "execute_result"
    }
   ],
   "source": [
    "cs=[\"사이다\", \"콜라\", \"주스\"]\n",
    "\"카프리썬\" not in cs"
   ]
  },
  {
   "cell_type": "code",
   "execution_count": 51,
   "id": "ec65901f",
   "metadata": {},
   "outputs": [
    {
     "data": {
      "text/plain": [
       "True"
      ]
     },
     "execution_count": 51,
     "metadata": {},
     "output_type": "execute_result"
    }
   ],
   "source": [
    "like = \"나는 콜라가 좋아\"\n",
    "\"콜라\" in like"
   ]
  },
  {
   "cell_type": "code",
   "execution_count": 55,
   "id": "7518d56c",
   "metadata": {},
   "outputs": [],
   "source": [
    "import random"
   ]
  },
  {
   "cell_type": "code",
   "execution_count": 56,
   "id": "c0a7f59e",
   "metadata": {},
   "outputs": [
    {
     "data": {
      "text/plain": [
       "0.2419225429023899"
      ]
     },
     "execution_count": 56,
     "metadata": {},
     "output_type": "execute_result"
    }
   ],
   "source": [
    "random.random()"
   ]
  },
  {
   "cell_type": "code",
   "execution_count": 58,
   "id": "77b7a9e5",
   "metadata": {},
   "outputs": [
    {
     "data": {
      "text/plain": [
       "5"
      ]
     },
     "execution_count": 58,
     "metadata": {},
     "output_type": "execute_result"
    }
   ],
   "source": [
    "l = [1,2,3,4,5]\n",
    "random. choice(l)"
   ]
  },
  {
   "cell_type": "markdown",
   "id": "700efd1b",
   "metadata": {},
   "source": [
    "##가위바위보 게임 만들기\n",
    "- 플레이어에게 가위,바위,보 중 하나를 입력하게 합니다.\n",
    "- 컴퓨터는 동일한 확율로 가위,바위 보 중 하나를 냅니다.\n",
    "- 플레이어의 입력과 컴퓨터의 입력을 비교하여 승부를 결정합니다. \n",
    "- 출력문은\"당신은 가위를 냈고, 컴퓨터는 보를 냈습니다. 당신이 이겼습니다.\" 와 같은 형식으로 합니다.\n"
   ]
  },
  {
   "cell_type": "code",
   "execution_count": 77,
   "id": "440a003a",
   "metadata": {},
   "outputs": [
    {
     "name": "stdout",
     "output_type": "stream",
     "text": [
      "가위, 바위, 보 중 하나 선택하세요: 보\n",
      "당신은 보를 냈고, 컴퓨터는 가위를 냈습니다. 졌습니다\n",
      "가위\n"
     ]
    }
   ],
   "source": [
    "rsp = [\"가위\",\"바위\",\"보\"]\n",
    "mo = input(\"가위, 바위, 보 중 하나 선택하세요: \")\n",
    "a = random.choice(rsp)\n",
    "if a == mo :\n",
    "    print(f\"당신은 {mo}를 냈고, 컴퓨터는 {a}를 냈습니다. 비겼습니다\")\n",
    "elif (a == \"가위\" and mo == \"바위\") or (a == \"바위\" and mo == \"보\") or (a == \"보\" and mo == \"가위\"):\n",
    "    print(f\"당신은 {mo}를 냈고, 컴퓨터는 {a}를 냈습니다. 이겼습니다\")\n",
    "elif (a == \"가위\" and mo == \"보\") or (a == \"바위\" and mo == \"가위\") or (a == \"보\" and mo == \"바위\"):\n",
    "    print(f\"당신은 {mo}를 냈고, 컴퓨터는 {a}를 냈습니다. 졌습니다\")\n",
    "else:\n",
    "    print(\"잘못된 입력입니다\")\n",
    "print(a)\n",
    "    \n",
    "    "
   ]
  },
  {
   "cell_type": "code",
   "execution_count": null,
   "id": "694fd552",
   "metadata": {},
   "outputs": [],
   "source": []
  },
  {
   "cell_type": "code",
   "execution_count": null,
   "id": "deae5d27",
   "metadata": {},
   "outputs": [],
   "source": []
  }
 ],
 "metadata": {
  "kernelspec": {
   "display_name": "Python 3 (ipykernel)",
   "language": "python",
   "name": "python3"
  },
  "language_info": {
   "codemirror_mode": {
    "name": "ipython",
    "version": 3
   },
   "file_extension": ".py",
   "mimetype": "text/x-python",
   "name": "python",
   "nbconvert_exporter": "python",
   "pygments_lexer": "ipython3",
   "version": "3.9.12"
  }
 },
 "nbformat": 4,
 "nbformat_minor": 5
}
