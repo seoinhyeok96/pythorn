{
 "cells": [
  {
   "cell_type": "code",
   "execution_count": 13,
   "id": "3a118ec5",
   "metadata": {},
   "outputs": [],
   "source": [
    "csb = {\"이름\" : \"홍길동\",\"나이\" :50 ,\"키\":168}\n",
    "\n",
    "class1_4 = {\"이름\" :['홍길동', '김철수', '최영희'],\n",
    "          \"나이\" : [20,21,22],\n",
    "          \"키\"  :[168,177,204]}"
   ]
  },
  {
   "cell_type": "code",
   "execution_count": 14,
   "id": "9e2aaf1a",
   "metadata": {},
   "outputs": [
    {
     "data": {
      "text/plain": [
       "{'이름': ['홍길동', '김철수', '최영희'],\n",
       " '나이': [20, 21, 22],\n",
       " '키': [168, 177, 204],\n",
       " '발 사이즈': [290, 275, 240]}"
      ]
     },
     "execution_count": 14,
     "metadata": {},
     "output_type": "execute_result"
    }
   ],
   "source": [
    "class1_4[\"발 사이즈\"] = [290,275,240]\n",
    "class1_4"
   ]
  },
  {
   "cell_type": "code",
   "execution_count": 15,
   "id": "1de5cc99",
   "metadata": {},
   "outputs": [
    {
     "data": {
      "text/plain": [
       "dict_keys(['이름', '나이', '키', '발 사이즈'])"
      ]
     },
     "execution_count": 15,
     "metadata": {},
     "output_type": "execute_result"
    }
   ],
   "source": [
    "class1_4.keys()"
   ]
  },
  {
   "cell_type": "code",
   "execution_count": 16,
   "id": "1bade7ce",
   "metadata": {},
   "outputs": [
    {
     "data": {
      "text/plain": [
       "True"
      ]
     },
     "execution_count": 16,
     "metadata": {},
     "output_type": "execute_result"
    }
   ],
   "source": [
    "1 in [1,2,3,4]"
   ]
  },
  {
   "cell_type": "code",
   "execution_count": 17,
   "id": "9cc3c566",
   "metadata": {},
   "outputs": [
    {
     "data": {
      "text/plain": [
       "False"
      ]
     },
     "execution_count": 17,
     "metadata": {},
     "output_type": "execute_result"
    }
   ],
   "source": [
    "\"홍길동\" in class1_4"
   ]
  },
  {
   "cell_type": "code",
   "execution_count": 18,
   "id": "4dcc7f82",
   "metadata": {},
   "outputs": [
    {
     "data": {
      "text/plain": [
       "'a'"
      ]
     },
     "execution_count": 18,
     "metadata": {},
     "output_type": "execute_result"
    }
   ],
   "source": [
    "a = {1:'a', 2:'b'}\n",
    "a[1]"
   ]
  },
  {
   "cell_type": "code",
   "execution_count": 19,
   "id": "62b0b85a",
   "metadata": {},
   "outputs": [
    {
     "data": {
      "text/plain": [
       "'b'"
      ]
     },
     "execution_count": 19,
     "metadata": {},
     "output_type": "execute_result"
    }
   ],
   "source": [
    "a[2]"
   ]
  },
  {
   "cell_type": "markdown",
   "id": "afb5256c",
   "metadata": {},
   "source": [
    "class1_4의 \"이름\" key에 할당된 value 들을 전부 성을뺀 이름들로 출력하였습니다.\n",
    "-  홍길동> 길동\n",
    "-  김철수> 철수\n",
    "-  김영희> 영희"
   ]
  },
  {
   "cell_type": "code",
   "execution_count": 20,
   "id": "d77f406a",
   "metadata": {},
   "outputs": [
    {
     "data": {
      "text/plain": [
       "['홍길동', '김철수', '최영희']"
      ]
     },
     "execution_count": 20,
     "metadata": {},
     "output_type": "execute_result"
    }
   ],
   "source": [
    "class1_4[\"이름\"]"
   ]
  },
  {
   "cell_type": "code",
   "execution_count": 26,
   "id": "1580c196",
   "metadata": {},
   "outputs": [
    {
     "name": "stdout",
     "output_type": "stream",
     "text": [
      "길동\n",
      "철수\n",
      "영희\n"
     ]
    }
   ],
   "source": [
    "for i in class1_4[\"이름\"] :\n",
    "    print(i[1:])"
   ]
  },
  {
   "cell_type": "code",
   "execution_count": 30,
   "id": "0b114a70",
   "metadata": {},
   "outputs": [
    {
     "data": {
      "text/plain": [
       "{'이름': ['길동', '철수', '영희'],\n",
       " '나이': [20, 21, 22],\n",
       " '키': [168, 177, 204],\n",
       " '발 사이즈': [290, 275, 240]}"
      ]
     },
     "execution_count": 30,
     "metadata": {},
     "output_type": "execute_result"
    }
   ],
   "source": [
    "class1_4[\"이름\"]=[\"길동\",\"철수\",\"영희\"]\n",
    "class1_4"
   ]
  },
  {
   "cell_type": "code",
   "execution_count": 34,
   "id": "e7b71784",
   "metadata": {},
   "outputs": [
    {
     "data": {
      "text/plain": [
       "[0, 1, 4, 9, 16, 25, 36, 49, 64, 81]"
      ]
     },
     "execution_count": 34,
     "metadata": {},
     "output_type": "execute_result"
    }
   ],
   "source": [
    "[i**2 for i in range(10)]\n"
   ]
  },
  {
   "cell_type": "markdown",
   "id": "8d7e02b9",
   "metadata": {},
   "source": [
    "- 여러 학생의 성적 점수가 다음과 같은 딕션너리로 구성돠어 있다."
   ]
  },
  {
   "cell_type": "code",
   "execution_count": null,
   "id": "37a68d1d",
   "metadata": {},
   "outputs": [],
   "source": [
    "scores = {'홍길동':{'수학':99,'영어':80,'국어':75},\n",
    "          '김미정':{'영어':67,'국어':87,'수학':55},\n",
    "          '정수진':{'수학':67,'국어':41,'영어':23}}"
   ]
  },
  {
   "cell_type": "markdown",
   "id": "545510a4",
   "metadata": {},
   "source": [
    "- 이때 학생들의 평균을 저장하는 새로운 항목을 추가 하려고 한다.\n",
    "- socres에 학생들의 수학,영어, 국어 평균 성적을 기록한 \"성적\" 정보를 추가해주세요"
   ]
  },
  {
   "cell_type": "markdown",
   "id": "90f6ee68",
   "metadata": {},
   "source": [
    "풀이:1,수학 점수  뽑아서 3등분\n",
    "     2.영어 점수 뽕아서 3등분\n",
    "     3. 국어  점수 뽑아거 3등분\n",
    "     그리고 성적 추가 "
   ]
  },
  {
   "cell_type": "code",
   "execution_count": 57,
   "id": "af7e7440",
   "metadata": {},
   "outputs": [
    {
     "data": {
      "text/plain": [
       "73.66666666666667"
      ]
     },
     "execution_count": 57,
     "metadata": {},
     "output_type": "execute_result"
    }
   ],
   "source": [
    "(scores['홍길동']['수학']+scores['김미정']['수학']+scores['정수진']['수학'])/3"
   ]
  },
  {
   "cell_type": "code",
   "execution_count": 67,
   "id": "fd572018",
   "metadata": {},
   "outputs": [
    {
     "data": {
      "text/plain": [
       "56.666666666666664"
      ]
     },
     "execution_count": 67,
     "metadata": {},
     "output_type": "execute_result"
    }
   ],
   "source": [
    "(scores['홍길동']['영어']+scores['김미정']['영어']+scores['정수진']['영어'])/3"
   ]
  },
  {
   "cell_type": "code",
   "execution_count": 58,
   "id": "d4ebb9b3",
   "metadata": {},
   "outputs": [
    {
     "data": {
      "text/plain": [
       "67.66666666666667"
      ]
     },
     "execution_count": 58,
     "metadata": {},
     "output_type": "execute_result"
    }
   ],
   "source": [
    "(scores['홍길동']['국어']+scores['김미정']['국어']+scores['정수진']['국어'])/3"
   ]
  },
  {
   "cell_type": "code",
   "execution_count": 68,
   "id": "b1e85716",
   "metadata": {},
   "outputs": [
    {
     "data": {
      "text/plain": [
       "{'홍길동': {'수학': 99, '영어': 80, '국어': 75},\n",
       " '김미정': {'영어': 67, '국어': 87, '수학': 55},\n",
       " '정수진': {'수학': 67, '국어': 41, '영어': 23},\n",
       " '성적': {'수학평균': 73, '영어평균': 56, '국어평균': 67}}"
      ]
     },
     "execution_count": 68,
     "metadata": {},
     "output_type": "execute_result"
    }
   ],
   "source": [
    "scores['성적'] =   {'수학평균':73,'영어평균':56,'국어평균':67}\n",
    "scores"
   ]
  },
  {
   "cell_type": "code",
   "execution_count": null,
   "id": "f78c0d03",
   "metadata": {},
   "outputs": [],
   "source": []
  },
  {
   "cell_type": "code",
   "execution_count": 70,
   "id": "600f0fb5",
   "metadata": {},
   "outputs": [
    {
     "data": {
      "text/plain": [
       "4"
      ]
     },
     "execution_count": 70,
     "metadata": {},
     "output_type": "execute_result"
    }
   ],
   "source": [
    "len(\"홍길동전\")"
   ]
  },
  {
   "cell_type": "code",
   "execution_count": 86,
   "id": "1522df95",
   "metadata": {},
   "outputs": [
    {
     "data": {
      "text/plain": [
       "73"
      ]
     },
     "execution_count": 86,
     "metadata": {},
     "output_type": "execute_result"
    }
   ],
   "source": [
    "dirty= 73.36666666\n",
    "round(dirty)"
   ]
  },
  {
   "cell_type": "code",
   "execution_count": 89,
   "id": "f4c54021",
   "metadata": {},
   "outputs": [
    {
     "data": {
      "text/plain": [
       "73"
      ]
     },
     "execution_count": 89,
     "metadata": {},
     "output_type": "execute_result"
    }
   ],
   "source": [
    "import math\n",
    "math.floor(dirty)"
   ]
  },
  {
   "cell_type": "code",
   "execution_count": 90,
   "id": "5e6215a6",
   "metadata": {},
   "outputs": [
    {
     "data": {
      "text/plain": [
       "74"
      ]
     },
     "execution_count": 90,
     "metadata": {},
     "output_type": "execute_result"
    }
   ],
   "source": [
    "math.ceil(dirty)"
   ]
  },
  {
   "cell_type": "code",
   "execution_count": 92,
   "id": "91820772",
   "metadata": {},
   "outputs": [
    {
     "data": {
      "text/plain": [
       "73.37"
      ]
     },
     "execution_count": 92,
     "metadata": {},
     "output_type": "execute_result"
    }
   ],
   "source": [
    "round(dirty,2)"
   ]
  },
  {
   "cell_type": "code",
   "execution_count": 93,
   "id": "1ac42199",
   "metadata": {},
   "outputs": [
    {
     "data": {
      "text/plain": [
       "1"
      ]
     },
     "execution_count": 93,
     "metadata": {},
     "output_type": "execute_result"
    }
   ],
   "source": [
    "int(1.6)"
   ]
  },
  {
   "cell_type": "markdown",
   "id": "63432f9f",
   "metadata": {},
   "source": [
    "\n"
   ]
  },
  {
   "cell_type": "code",
   "execution_count": 97,
   "id": "ff6a9164",
   "metadata": {},
   "outputs": [
    {
     "ename": "NameError",
     "evalue": "name 'upper' is not defined",
     "output_type": "error",
     "traceback": [
      "\u001b[1;31m---------------------------------------------------------------------------\u001b[0m",
      "\u001b[1;31mNameError\u001b[0m                                 Traceback (most recent call last)",
      "Input \u001b[1;32mIn [97]\u001b[0m, in \u001b[0;36m<cell line: 2>\u001b[1;34m()\u001b[0m\n\u001b[0;32m      1\u001b[0m a \u001b[38;5;241m=\u001b[39m \u001b[38;5;124m\"\u001b[39m\u001b[38;5;124mnew_id\u001b[39m\u001b[38;5;124m\"\u001b[39m\n\u001b[1;32m----> 2\u001b[0m \u001b[43mupper\u001b[49m(\u001b[38;5;124m\"\u001b[39m\u001b[38;5;124mnew_id\u001b[39m\u001b[38;5;124m\"\u001b[39m)\n",
      "\u001b[1;31mNameError\u001b[0m: name 'upper' is not defined"
     ]
    }
   ],
   "source": []
  },
  {
   "cell_type": "code",
   "execution_count": null,
   "id": "4d033a23",
   "metadata": {},
   "outputs": [],
   "source": []
  }
 ],
 "metadata": {
  "kernelspec": {
   "display_name": "Python 3 (ipykernel)",
   "language": "python",
   "name": "python3"
  },
  "language_info": {
   "codemirror_mode": {
    "name": "ipython",
    "version": 3
   },
   "file_extension": ".py",
   "mimetype": "text/x-python",
   "name": "python",
   "nbconvert_exporter": "python",
   "pygments_lexer": "ipython3",
   "version": "3.9.12"
  }
 },
 "nbformat": 4,
 "nbformat_minor": 5
}
