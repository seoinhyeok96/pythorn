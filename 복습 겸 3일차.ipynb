{
 "cells": [
  {
   "cell_type": "code",
   "execution_count": 1,
   "id": "ba54d69f",
   "metadata": {},
   "outputs": [
    {
     "data": {
      "text/plain": [
       "str"
      ]
     },
     "execution_count": 1,
     "metadata": {},
     "output_type": "execute_result"
    }
   ],
   "source": [
    "b= \"show me the money\"\n",
    "type(b)"
   ]
  },
  {
   "cell_type": "code",
   "execution_count": 4,
   "id": "69e07c6e",
   "metadata": {},
   "outputs": [
    {
     "data": {
      "text/plain": [
       "'ow me the money'"
      ]
     },
     "execution_count": 4,
     "metadata": {},
     "output_type": "execute_result"
    }
   ],
   "source": [
    "\"show me the money\"[2:]"
   ]
  },
  {
   "cell_type": "code",
   "execution_count": 10,
   "id": "43b0560f",
   "metadata": {},
   "outputs": [
    {
     "name": "stdout",
     "output_type": "stream",
     "text": [
      "오늘 점심은 초밥과 짜장면입니다. \n"
     ]
    }
   ],
   "source": [
    "menu1= \"초밥\"\n",
    "menu2= \"짜장면\"\n",
    "# menu= \"국밥\"\n",
    "print(\"오늘 점심은 %s과 %s입니다. \"%(menu1,menu2))"
   ]
  },
  {
   "cell_type": "code",
   "execution_count": 12,
   "id": "b47bb19c",
   "metadata": {},
   "outputs": [
    {
     "name": "stdout",
     "output_type": "stream",
     "text": [
      "오늘 점심은 짜장면과 초밥입니다. \n"
     ]
    }
   ],
   "source": [
    "menu1= \"초밥\"\n",
    "menu2= \"짜장면\"\n",
    "# menu= \"국밥\"\n",
    "print(\"오늘 점심은 {1}과 {0}입니다. \".format(menu1,menu2))"
   ]
  },
  {
   "cell_type": "code",
   "execution_count": 14,
   "id": "55b78ad8",
   "metadata": {},
   "outputs": [
    {
     "name": "stdout",
     "output_type": "stream",
     "text": [
      "오늘 점심은 초밥과 짜장면입니다.\n"
     ]
    }
   ],
   "source": [
    "menu1= \"초밥\"\n",
    "menu2= \"짜장면\"\n",
    "# menu= \"국밥\"\n",
    "print(f\"오늘 점심은 {menu1}과 {menu2}입니다.\")"
   ]
  },
  {
   "cell_type": "code",
   "execution_count": 18,
   "id": "2f7fb832",
   "metadata": {},
   "outputs": [],
   "source": [
    "song=\"tell me tell me tetetete tell me\""
   ]
  },
  {
   "cell_type": "code",
   "execution_count": 19,
   "id": "67576fef",
   "metadata": {},
   "outputs": [
    {
     "data": {
      "text/plain": [
       "0"
      ]
     },
     "execution_count": 19,
     "metadata": {},
     "output_type": "execute_result"
    }
   ],
   "source": [
    "song.find(\"tell me\")"
   ]
  },
  {
   "cell_type": "code",
   "execution_count": 20,
   "id": "59d3bf0d",
   "metadata": {},
   "outputs": [
    {
     "name": "stdout",
     "output_type": "stream",
     "text": [
      "TELL ME TELL ME TETETETE TELL ME\n",
      "tell me tell me tetetete tell me\n",
      "Tell Me Tell Me Tetetete Tell Me\n"
     ]
    }
   ],
   "source": [
    "print(song.upper())\n",
    "print(song.lower())\n",
    "print(song.title())"
   ]
  },
  {
   "cell_type": "code",
   "execution_count": 22,
   "id": "286bd78c",
   "metadata": {},
   "outputs": [
    {
     "data": {
      "text/plain": [
       "['', 'll me ', 'll me ', '', '', '', ' ', 'll me']"
      ]
     },
     "execution_count": 22,
     "metadata": {},
     "output_type": "execute_result"
    }
   ],
   "source": [
    "song.split(\"te\")# 띄어쓰기 기준"
   ]
  },
  {
   "cell_type": "markdown",
   "id": "ba342151",
   "metadata": {},
   "source": [
    "#변경"
   ]
  },
  {
   "cell_type": "code",
   "execution_count": 25,
   "id": "6d778b97",
   "metadata": {},
   "outputs": [
    {
     "data": {
      "text/plain": [
       "'tell him tell him tetetete tell him'"
      ]
     },
     "execution_count": 25,
     "metadata": {},
     "output_type": "execute_result"
    }
   ],
   "source": [
    "song.replace(\"me\", \"him\")"
   ]
  },
  {
   "cell_type": "code",
   "execution_count": 26,
   "id": "9f5edcbe",
   "metadata": {},
   "outputs": [
    {
     "data": {
      "text/plain": [
       "'안녕하세요'"
      ]
     },
     "execution_count": 26,
     "metadata": {},
     "output_type": "execute_result"
    }
   ],
   "source": [
    "#문자열은 오직 덧셈만 됩니다.\n",
    "\"안녕\"+\"하세요\""
   ]
  },
  {
   "cell_type": "code",
   "execution_count": 27,
   "id": "29a8da17",
   "metadata": {},
   "outputs": [
    {
     "data": {
      "text/plain": [
       "'안녕안녕안녕'"
      ]
     },
     "execution_count": 27,
     "metadata": {},
     "output_type": "execute_result"
    }
   ],
   "source": [
    "\"안녕\"*3"
   ]
  },
  {
   "cell_type": "markdown",
   "id": "8f3d9b64",
   "metadata": {},
   "source": [
    "## #논리형"
   ]
  },
  {
   "cell_type": "code",
   "execution_count": 28,
   "id": "5a3ed7a5",
   "metadata": {},
   "outputs": [
    {
     "data": {
      "text/plain": [
       "False"
      ]
     },
     "execution_count": 28,
     "metadata": {},
     "output_type": "execute_result"
    }
   ],
   "source": [
    "1==2"
   ]
  },
  {
   "cell_type": "code",
   "execution_count": 29,
   "id": "569a5a63",
   "metadata": {},
   "outputs": [
    {
     "data": {
      "text/plain": [
       "True"
      ]
     },
     "execution_count": 29,
     "metadata": {},
     "output_type": "execute_result"
    }
   ],
   "source": [
    "1 != 2"
   ]
  },
  {
   "cell_type": "code",
   "execution_count": 30,
   "id": "825fb4f5",
   "metadata": {},
   "outputs": [
    {
     "data": {
      "text/plain": [
       "True"
      ]
     },
     "execution_count": 30,
     "metadata": {},
     "output_type": "execute_result"
    }
   ],
   "source": [
    "1<=2"
   ]
  },
  {
   "cell_type": "code",
   "execution_count": 31,
   "id": "db9603e7",
   "metadata": {},
   "outputs": [
    {
     "data": {
      "text/plain": [
       "True"
      ]
     },
     "execution_count": 31,
     "metadata": {},
     "output_type": "execute_result"
    }
   ],
   "source": [
    "6%2 ==0 and 6%2 ==0"
   ]
  },
  {
   "cell_type": "code",
   "execution_count": 32,
   "id": "ee9dd433",
   "metadata": {},
   "outputs": [
    {
     "data": {
      "text/plain": [
       "True"
      ]
     },
     "execution_count": 32,
     "metadata": {},
     "output_type": "execute_result"
    }
   ],
   "source": [
    "6%2 ==0 or 6%5 == 0"
   ]
  },
  {
   "cell_type": "markdown",
   "id": "f0a44c12",
   "metadata": {},
   "source": [
    "## 조건문"
   ]
  },
  {
   "cell_type": "code",
   "execution_count": 35,
   "id": "2fe2f63d",
   "metadata": {},
   "outputs": [
    {
     "ename": "SyntaxError",
     "evalue": "invalid syntax (2666989668.py, line 1)",
     "output_type": "error",
     "traceback": [
      "\u001b[1;36m  Input \u001b[1;32mIn [35]\u001b[1;36m\u001b[0m\n\u001b[1;33m    if\u001b[0m\n\u001b[1;37m      ^\u001b[0m\n\u001b[1;31mSyntaxError\u001b[0m\u001b[1;31m:\u001b[0m invalid syntax\n"
     ]
    }
   ],
   "source": [
    "if\n",
    "try\n",
    "def\n",
    "for\n",
    "while\n",
    "# 이 프로그램을 위해서 사용한다??\n",
    "\n",
    "\n",
    "if 명제 : \n",
    "    명제가 참일 경우 실행되는 코드\n",
    "else: \n",
    "    명제가 거짓일 경우에 실행되는 코드\n",
    "    \n",
    "    "
   ]
  },
  {
   "cell_type": "code",
   "execution_count": null,
   "id": "7d354c00",
   "metadata": {},
   "outputs": [],
   "source": []
  },
  {
   "cell_type": "code",
   "execution_count": 37,
   "id": "a83a184c",
   "metadata": {},
   "outputs": [
    {
     "name": "stdout",
     "output_type": "stream",
     "text": [
      "택시를 타고 간다.\n"
     ]
    }
   ],
   "source": [
    "money =40000\n",
    "if money >= 4000 :\n",
    "    print(\"택시를 타고 간다.\")\n",
    "else:\n",
    "    print (\"걸어간다.\")"
   ]
  },
  {
   "cell_type": "code",
   "execution_count": 38,
   "id": "3f841961",
   "metadata": {},
   "outputs": [
    {
     "name": "stdout",
     "output_type": "stream",
     "text": [
      "택시를 타고 간다.\n",
      "우아집이다.\n"
     ]
    }
   ],
   "source": [
    "money =40000\n",
    "if money >= 4000 :\n",
    "    print(\"택시를 타고 간다.\")\n",
    "else:\n",
    "    pass\n",
    "\n",
    "print (\"우아집이다.\")"
   ]
  },
  {
   "cell_type": "markdown",
   "id": "abb24d99",
   "metadata": {},
   "source": [
    "##조건이  2개 이상일 경우"
   ]
  },
  {
   "cell_type": "code",
   "execution_count": 40,
   "id": "5b8148c4",
   "metadata": {},
   "outputs": [
    {
     "name": "stdout",
     "output_type": "stream",
     "text": [
      "버스를 타고 간다\n",
      "우아집이다.\n"
     ]
    }
   ],
   "source": [
    "money =2000\n",
    "if money >= 4000 :\n",
    "    print(\"택시를 타고 간다.\")\n",
    "\n",
    "elif money <4000 and money >=1250 :\n",
    "    print(\"버스를 타고 간다\")\n",
    "else:\n",
    "    pass\n",
    "\n",
    "print (\"우아집이다.\")"
   ]
  },
  {
   "cell_type": "code",
   "execution_count": 41,
   "id": "f343938e",
   "metadata": {},
   "outputs": [
    {
     "ename": "SyntaxError",
     "evalue": "invalid syntax (3908698504.py, line 1)",
     "output_type": "error",
     "traceback": [
      "\u001b[1;36m  Input \u001b[1;32mIn [41]\u001b[1;36m\u001b[0m\n\u001b[1;33m    if 명제 1:\u001b[0m\n\u001b[1;37m          ^\u001b[0m\n\u001b[1;31mSyntaxError\u001b[0m\u001b[1;31m:\u001b[0m invalid syntax\n"
     ]
    }
   ],
   "source": [
    "if 명제 1:\n",
    "    명제1이 참일 겨우에 실행되는 코드\n",
    "elif 명제2:\n",
    "    명제1은 거짓이지만, 명제2는 참인 경우에 실행되는 코드 \n",
    "else :\n",
    "    명제1과 명제2가 모두 거짓일 경우에 실행되는 코드 \n",
    "    "
   ]
  },
  {
   "cell_type": "code",
   "execution_count": 42,
   "id": "99df6cf6",
   "metadata": {},
   "outputs": [],
   "source": [
    "#리스트,튜플\n",
    "list1=[1,2,3,4,5,6]\n",
    "tuple1=(7,8,9,10,11,12)"
   ]
  },
  {
   "cell_type": "code",
   "execution_count": 44,
   "id": "a14808d6",
   "metadata": {},
   "outputs": [
    {
     "data": {
      "text/plain": [
       "list[-1]"
      ]
     },
     "execution_count": 44,
     "metadata": {},
     "output_type": "execute_result"
    }
   ],
   "source": [
    "list[-1]"
   ]
  },
  {
   "cell_type": "code",
   "execution_count": 45,
   "id": "7511d8a3",
   "metadata": {},
   "outputs": [
    {
     "data": {
      "text/plain": [
       "7"
      ]
     },
     "execution_count": 45,
     "metadata": {},
     "output_type": "execute_result"
    }
   ],
   "source": [
    "tuple1[0]"
   ]
  },
  {
   "cell_type": "code",
   "execution_count": 48,
   "id": "1d4233ed",
   "metadata": {},
   "outputs": [
    {
     "data": {
      "text/plain": [
       "[1, 2, 3, 4, 5, 6, 'f', 'f', 'f']"
      ]
     },
     "execution_count": 48,
     "metadata": {},
     "output_type": "execute_result"
    }
   ],
   "source": [
    "#리스트를 조작하는 방법\n",
    "list1.append('f')\n",
    "list1"
   ]
  },
  {
   "cell_type": "code",
   "execution_count": 49,
   "id": "7552f559",
   "metadata": {},
   "outputs": [
    {
     "data": {
      "text/plain": [
       "[1, 2, 3, 'g', 4, 5, 6, 'f', 'f', 'f']"
      ]
     },
     "execution_count": 49,
     "metadata": {},
     "output_type": "execute_result"
    }
   ],
   "source": [
    "#원소추가\n",
    "list1. insert(3,\"g\")\n",
    "list1"
   ]
  },
  {
   "cell_type": "code",
   "execution_count": 51,
   "id": "36981d27",
   "metadata": {},
   "outputs": [
    {
     "data": {
      "text/plain": [
       "[1, 2, 3, 'g', 6, 'f', 'f', 'f']"
      ]
     },
     "execution_count": 51,
     "metadata": {},
     "output_type": "execute_result"
    }
   ],
   "source": [
    "#원소 제거\n",
    "del list1 [4]\n",
    "list1"
   ]
  },
  {
   "cell_type": "code",
   "execution_count": 53,
   "id": "422ded78",
   "metadata": {},
   "outputs": [
    {
     "data": {
      "text/plain": [
       "[1, 2, 3, 'g', 6, 'f', 'f']"
      ]
     },
     "execution_count": 53,
     "metadata": {},
     "output_type": "execute_result"
    }
   ],
   "source": [
    "#원소 제거\n",
    "list1.remove('f')\n",
    "list1"
   ]
  },
  {
   "cell_type": "code",
   "execution_count": 54,
   "id": "23c9b435",
   "metadata": {},
   "outputs": [
    {
     "data": {
      "text/plain": [
       "[1, 2, 3, 'g', 6, 'f']"
      ]
     },
     "execution_count": 54,
     "metadata": {},
     "output_type": "execute_result"
    }
   ],
   "source": [
    "#마지막에 있는 원소 제거\n",
    "list1.pop()\n",
    "list1"
   ]
  },
  {
   "cell_type": "code",
   "execution_count": 55,
   "id": "ee4fb6d0",
   "metadata": {},
   "outputs": [
    {
     "data": {
      "text/plain": [
       "['e', 2, 3, 'g', 6, 'f']"
      ]
     },
     "execution_count": 55,
     "metadata": {},
     "output_type": "execute_result"
    }
   ],
   "source": [
    "#원소교체\n",
    "#인덱스 지정 하고 교체\n",
    "list1[0]='e'\n",
    "list1"
   ]
  },
  {
   "cell_type": "code",
   "execution_count": 56,
   "id": "4e3aeb63",
   "metadata": {},
   "outputs": [
    {
     "data": {
      "text/plain": [
       "['f', 6, 'g', 3, 2, 'e']"
      ]
     },
     "execution_count": 56,
     "metadata": {},
     "output_type": "execute_result"
    }
   ],
   "source": [
    "list1.reverse()\n",
    "list1"
   ]
  },
  {
   "cell_type": "code",
   "execution_count": 59,
   "id": "02f2228c",
   "metadata": {},
   "outputs": [
    {
     "ename": "TypeError",
     "evalue": "'<' not supported between instances of 'int' and 'str'",
     "output_type": "error",
     "traceback": [
      "\u001b[1;31m---------------------------------------------------------------------------\u001b[0m",
      "\u001b[1;31mTypeError\u001b[0m                                 Traceback (most recent call last)",
      "Input \u001b[1;32mIn [59]\u001b[0m, in \u001b[0;36m<cell line: 1>\u001b[1;34m()\u001b[0m\n\u001b[1;32m----> 1\u001b[0m \u001b[43mlist1\u001b[49m\u001b[38;5;241;43m.\u001b[39;49m\u001b[43msort\u001b[49m\u001b[43m(\u001b[49m\u001b[43m)\u001b[49m\n\u001b[0;32m      2\u001b[0m list1\n",
      "\u001b[1;31mTypeError\u001b[0m: '<' not supported between instances of 'int' and 'str'"
     ]
    }
   ],
   "source": [
    "#오름차수 정리\n",
    "list1.sort()\n",
    "list1"
   ]
  },
  {
   "cell_type": "code",
   "execution_count": 61,
   "id": "f50ae181",
   "metadata": {},
   "outputs": [
    {
     "data": {
      "text/plain": [
       "'헤어질결심'"
      ]
     },
     "execution_count": 61,
     "metadata": {},
     "output_type": "execute_result"
    }
   ],
   "source": [
    "import random\n",
    "l = [\"코난\",\"헤어질결심\",\"비상선언\",\"미니언즈\"]\n",
    "random. choice(l)"
   ]
  },
  {
   "cell_type": "markdown",
   "id": "4278fa5d",
   "metadata": {},
   "source": [
    "### 아이템 강화 시스템\n",
    "- 플레이어로부터 아이템 강화 등급을 입력받습니다.\n",
    "- 강화 성공율은 0 등급일때 70% , 1등급 일때 65%..1등급이 올라갈수록5%씩 하락합니다.\n",
    "- 강화 실패시 50% 확률로 아이템이 파괴 됩니다.\n",
    "- 강화 성공시 \"강화 성공\" ,\"강화실패\",아이템 파괴 시 \"아이템 파괴\"를 출력해 주세요"
   ]
  },
  {
   "cell_type": "code",
   "execution_count": 73,
   "id": "8e588cc5",
   "metadata": {},
   "outputs": [
    {
     "name": "stdout",
     "output_type": "stream",
     "text": [
      "아이템 강화 등급:5\n",
      "강화 성공\n"
     ]
    }
   ],
   "source": [
    "player_1 = input(\"아이템 강화 등급:\")\n",
    "prob= random.random() \n",
    "if prob <=0.7:\n",
    "    print(\"강화 성공\")\n",
    "\n",
    "elif prob <=0.65:\n",
    "    print(\"강화 성공\")\n",
    "    \n",
    "elif  prob <=0.60:\n",
    "    print(\"강화 성공\")\n",
    "    \n",
    "elif  prob <=0.55:\n",
    "    print(\"강화 성공\")\n",
    "\n",
    "elif  prob <=0.50:\n",
    "    print(\"강화 성공\")\n",
    "    \n",
    "elif  prob <=0.45:\n",
    "    print(\"강화 성공\")\n",
    "\n",
    "elif  prob <=0.40:\n",
    "    print(\"강화 성공\")\n",
    "\n",
    "elif  prob <=0.35:\n",
    "    print(\"강화 성공\")\n",
    "\n",
    "    \n",
    "else :\n",
    "    print(\"강화 실패\")"
   ]
  },
  {
   "cell_type": "code",
   "execution_count": 79,
   "id": "127b3d1d",
   "metadata": {},
   "outputs": [
    {
     "name": "stdout",
     "output_type": "stream",
     "text": [
      "아이템 강화 등급!:3\n",
      "강화 실패\n"
     ]
    }
   ],
   "source": [
    "player_2 = int(input(\"아이템 강화 등급!:\"))\n",
    "prob= random.random()\n",
    "prob2= random.random()\n",
    "if prob <= 0.7-(0.05 * player_2):\n",
    "    print(\"강화 성공\")\n",
    "    \n",
    "else :\n",
    "    if prob2 <=0.5:\n",
    "         print(\"강화 실패\")\n",
    "    else :\n",
    "        print(\"아이템 파괴\")\n",
    "     "
   ]
  },
  {
   "cell_type": "markdown",
   "id": "cbd72c0f",
   "metadata": {},
   "source": [
    "### 반복문"
   ]
  },
  {
   "cell_type": "code",
   "execution_count": 80,
   "id": "b90ce1ca",
   "metadata": {},
   "outputs": [
    {
     "ename": "NameError",
     "evalue": "name 'whlie' is not defined",
     "output_type": "error",
     "traceback": [
      "\u001b[1;31m---------------------------------------------------------------------------\u001b[0m",
      "\u001b[1;31mNameError\u001b[0m                                 Traceback (most recent call last)",
      "Input \u001b[1;32mIn [80]\u001b[0m, in \u001b[0;36m<cell line: 1>\u001b[1;34m()\u001b[0m\n\u001b[1;32m----> 1\u001b[0m \u001b[43mwhlie\u001b[49m\n",
      "\u001b[1;31mNameError\u001b[0m: name 'whlie' is not defined"
     ]
    }
   ],
   "source": [
    "#명제가 참인한 영원히 반복\n",
    "whlie 명제 :\n"
   ]
  },
  {
   "cell_type": "code",
   "execution_count": 84,
   "id": "7fc14d92",
   "metadata": {},
   "outputs": [
    {
     "name": "stdout",
     "output_type": "stream",
     "text": [
      "1\n",
      "1\n",
      "1\n"
     ]
    }
   ],
   "source": [
    "n=0\n",
    "while n < 3:\n",
    "    print(1)\n",
    "    n = n+1"
   ]
  },
  {
   "cell_type": "markdown",
   "id": "e84003cc",
   "metadata": {},
   "source": [
    "### while 문을 사용해서 \"hello Python\"을 열번 출력해라!"
   ]
  },
  {
   "cell_type": "code",
   "execution_count": 90,
   "id": "6d158c0d",
   "metadata": {},
   "outputs": [
    {
     "name": "stdout",
     "output_type": "stream",
     "text": [
      "hello Python\n",
      "hello Python\n",
      "hello Python\n",
      "hello Python\n",
      "hello Python\n",
      "hello Python\n",
      "hello Python\n",
      "hello Python\n",
      "hello Python\n",
      "hello Python\n"
     ]
    }
   ],
   "source": [
    "n= 0 \n",
    "while n <10 :\n",
    "    print(\"hello Python\")\n",
    "    n=n+1"
   ]
  },
  {
   "cell_type": "code",
   "execution_count": 91,
   "id": "63e57362",
   "metadata": {},
   "outputs": [
    {
     "name": "stdout",
     "output_type": "stream",
     "text": [
      "1\n"
     ]
    }
   ],
   "source": [
    "#braek는 무조건 반복문을 깨뜨린다.\n",
    "while 1 <2 :\n",
    "    print(1)\n",
    "    break"
   ]
  },
  {
   "cell_type": "code",
   "execution_count": 98,
   "id": "7fc52b43",
   "metadata": {},
   "outputs": [
    {
     "name": "stdout",
     "output_type": "stream",
     "text": [
      "1\n",
      "2\n",
      "3\n",
      "4\n",
      "5\n",
      "6\n",
      "7\n",
      "8\n",
      "9\n",
      "10\n",
      "11\n",
      "12\n",
      "13\n",
      "14\n",
      "15\n",
      "16\n",
      "17\n",
      "18\n",
      "19\n",
      "20\n",
      "21\n",
      "22\n",
      "23\n",
      "24\n",
      "25\n",
      "26\n",
      "27\n",
      "28\n",
      "29\n",
      "30\n",
      "31\n",
      "32\n",
      "33\n",
      "34\n",
      "35\n",
      "36\n",
      "37\n",
      "38\n",
      "39\n",
      "40\n",
      "41\n",
      "42\n",
      "43\n",
      "44\n",
      "45\n",
      "46\n",
      "47\n",
      "48\n",
      "49\n",
      "50\n",
      "51\n",
      "52\n",
      "53\n",
      "54\n",
      "55\n",
      "56\n",
      "57\n",
      "58\n",
      "59\n",
      "60\n",
      "61\n",
      "62\n",
      "63\n",
      "64\n",
      "65\n",
      "66\n",
      "67\n",
      "68\n",
      "69\n",
      "70\n",
      "71\n",
      "72\n",
      "73\n",
      "74\n",
      "75\n",
      "76\n",
      "77\n",
      "78\n",
      "79\n",
      "80\n",
      "81\n",
      "82\n",
      "83\n",
      "84\n",
      "85\n",
      "86\n",
      "87\n",
      "88\n",
      "89\n",
      "90\n",
      "91\n",
      "92\n",
      "93\n",
      "94\n",
      "95\n",
      "96\n",
      "97\n",
      "98\n",
      "99\n",
      "100\n"
     ]
    }
   ],
   "source": [
    "n = 1\n",
    "while True :\n",
    "    print(n)\n",
    "    if n < 100 :\n",
    "        n= n+1\n",
    "    else:\n",
    "        break"
   ]
  },
  {
   "cell_type": "markdown",
   "id": "afdf5bae",
   "metadata": {},
   "source": [
    "- 두개의 정수를 입력받습니다.\n",
    "- 입력받은 두 정수의 합을 출력합니다.\n",
    "- 두개의 정수로 0과 0을 입력받은 경우 ,반복문에서 이탈합니다."
   ]
  },
  {
   "cell_type": "code",
   "execution_count": 108,
   "id": "84ef399b",
   "metadata": {},
   "outputs": [
    {
     "name": "stdout",
     "output_type": "stream",
     "text": [
      "첫번째 정수 입력: 2\n",
      "두번째 정수 입력 :1\n",
      "3\n",
      "첫번째 정수 입력: 3\n",
      "두번째 정수 입력 :2\n",
      "5\n",
      "첫번째 정수 입력: 3\n",
      "두번째 정수 입력 :2\n",
      "5\n"
     ]
    },
    {
     "ename": "KeyboardInterrupt",
     "evalue": "Interrupted by user",
     "output_type": "error",
     "traceback": [
      "\u001b[1;31m---------------------------------------------------------------------------\u001b[0m",
      "\u001b[1;31mKeyboardInterrupt\u001b[0m                         Traceback (most recent call last)",
      "Input \u001b[1;32mIn [108]\u001b[0m, in \u001b[0;36m<cell line: 2>\u001b[1;34m()\u001b[0m\n\u001b[0;32m      1\u001b[0m \u001b[38;5;28;01mwhile\u001b[39;00m \u001b[38;5;28;01mTrue\u001b[39;00m :\n\u001b[1;32m----> 2\u001b[0m     N\u001b[38;5;241m=\u001b[39m\u001b[38;5;28mint\u001b[39m(\u001b[38;5;28;43minput\u001b[39;49m\u001b[43m(\u001b[49m\u001b[38;5;124;43m\"\u001b[39;49m\u001b[38;5;124;43m첫번째 정수 입력: \u001b[39;49m\u001b[38;5;124;43m\"\u001b[39;49m\u001b[43m)\u001b[49m)\n\u001b[0;32m      3\u001b[0m     M\u001b[38;5;241m=\u001b[39m\u001b[38;5;28mint\u001b[39m(\u001b[38;5;28minput\u001b[39m(\u001b[38;5;124m\"\u001b[39m\u001b[38;5;124m두번째 정수 입력 :\u001b[39m\u001b[38;5;124m\"\u001b[39m))\n\u001b[0;32m      4\u001b[0m     \u001b[38;5;28mprint\u001b[39m(N\u001b[38;5;241m+\u001b[39mM)\n",
      "File \u001b[1;32m~\\anaconda3\\lib\\site-packages\\ipykernel\\kernelbase.py:1075\u001b[0m, in \u001b[0;36mKernel.raw_input\u001b[1;34m(self, prompt)\u001b[0m\n\u001b[0;32m   1071\u001b[0m \u001b[38;5;28;01mif\u001b[39;00m \u001b[38;5;129;01mnot\u001b[39;00m \u001b[38;5;28mself\u001b[39m\u001b[38;5;241m.\u001b[39m_allow_stdin:\n\u001b[0;32m   1072\u001b[0m     \u001b[38;5;28;01mraise\u001b[39;00m StdinNotImplementedError(\n\u001b[0;32m   1073\u001b[0m         \u001b[38;5;124m\"\u001b[39m\u001b[38;5;124mraw_input was called, but this frontend does not support input requests.\u001b[39m\u001b[38;5;124m\"\u001b[39m\n\u001b[0;32m   1074\u001b[0m     )\n\u001b[1;32m-> 1075\u001b[0m \u001b[38;5;28;01mreturn\u001b[39;00m \u001b[38;5;28;43mself\u001b[39;49m\u001b[38;5;241;43m.\u001b[39;49m\u001b[43m_input_request\u001b[49m\u001b[43m(\u001b[49m\n\u001b[0;32m   1076\u001b[0m \u001b[43m    \u001b[49m\u001b[38;5;28;43mstr\u001b[39;49m\u001b[43m(\u001b[49m\u001b[43mprompt\u001b[49m\u001b[43m)\u001b[49m\u001b[43m,\u001b[49m\n\u001b[0;32m   1077\u001b[0m \u001b[43m    \u001b[49m\u001b[38;5;28;43mself\u001b[39;49m\u001b[38;5;241;43m.\u001b[39;49m\u001b[43m_parent_ident\u001b[49m\u001b[43m[\u001b[49m\u001b[38;5;124;43m\"\u001b[39;49m\u001b[38;5;124;43mshell\u001b[39;49m\u001b[38;5;124;43m\"\u001b[39;49m\u001b[43m]\u001b[49m\u001b[43m,\u001b[49m\n\u001b[0;32m   1078\u001b[0m \u001b[43m    \u001b[49m\u001b[38;5;28;43mself\u001b[39;49m\u001b[38;5;241;43m.\u001b[39;49m\u001b[43mget_parent\u001b[49m\u001b[43m(\u001b[49m\u001b[38;5;124;43m\"\u001b[39;49m\u001b[38;5;124;43mshell\u001b[39;49m\u001b[38;5;124;43m\"\u001b[39;49m\u001b[43m)\u001b[49m\u001b[43m,\u001b[49m\n\u001b[0;32m   1079\u001b[0m \u001b[43m    \u001b[49m\u001b[43mpassword\u001b[49m\u001b[38;5;241;43m=\u001b[39;49m\u001b[38;5;28;43;01mFalse\u001b[39;49;00m\u001b[43m,\u001b[49m\n\u001b[0;32m   1080\u001b[0m \u001b[43m\u001b[49m\u001b[43m)\u001b[49m\n",
      "File \u001b[1;32m~\\anaconda3\\lib\\site-packages\\ipykernel\\kernelbase.py:1120\u001b[0m, in \u001b[0;36mKernel._input_request\u001b[1;34m(self, prompt, ident, parent, password)\u001b[0m\n\u001b[0;32m   1117\u001b[0m             \u001b[38;5;28;01mbreak\u001b[39;00m\n\u001b[0;32m   1118\u001b[0m \u001b[38;5;28;01mexcept\u001b[39;00m \u001b[38;5;167;01mKeyboardInterrupt\u001b[39;00m:\n\u001b[0;32m   1119\u001b[0m     \u001b[38;5;66;03m# re-raise KeyboardInterrupt, to truncate traceback\u001b[39;00m\n\u001b[1;32m-> 1120\u001b[0m     \u001b[38;5;28;01mraise\u001b[39;00m \u001b[38;5;167;01mKeyboardInterrupt\u001b[39;00m(\u001b[38;5;124m\"\u001b[39m\u001b[38;5;124mInterrupted by user\u001b[39m\u001b[38;5;124m\"\u001b[39m) \u001b[38;5;28;01mfrom\u001b[39;00m \u001b[38;5;28mNone\u001b[39m\n\u001b[0;32m   1121\u001b[0m \u001b[38;5;28;01mexcept\u001b[39;00m \u001b[38;5;167;01mException\u001b[39;00m:\n\u001b[0;32m   1122\u001b[0m     \u001b[38;5;28mself\u001b[39m\u001b[38;5;241m.\u001b[39mlog\u001b[38;5;241m.\u001b[39mwarning(\u001b[38;5;124m\"\u001b[39m\u001b[38;5;124mInvalid Message:\u001b[39m\u001b[38;5;124m\"\u001b[39m, exc_info\u001b[38;5;241m=\u001b[39m\u001b[38;5;28;01mTrue\u001b[39;00m)\n",
      "\u001b[1;31mKeyboardInterrupt\u001b[0m: Interrupted by user"
     ]
    }
   ],
   "source": [
    "while True :\n",
    "    N=int(input(\"첫번째 정수 입력: \"))\n",
    "    M=int(input(\"두번째 정수 입력 :\"))\n",
    "    print(N+M)\n",
    "    if N==0 and M==0:\n",
    "        break"
   ]
  },
  {
   "cell_type": "markdown",
   "id": "b2190674",
   "metadata": {},
   "source": [
    "### 다이어트 관리 프로그램\n",
    "-  목표 몸무게를 입력합니다. =want\n",
    "-  현재 몸무게를 입력합니다. = now\n",
    "-  매주 감량한 몸무게를 입력한 뒤 ,현재 몸무게보다 적어지면, 프로그램을 종료합니다.\n",
    "- 출력 값으로 \"축하합니다! __주 걸렸습니다.\" 형태입니다."
   ]
  },
  {
   "cell_type": "code",
   "execution_count": 122,
   "id": "f0e70e62",
   "metadata": {},
   "outputs": [
    {
     "ename": "SyntaxError",
     "evalue": "invalid syntax (2389866034.py, line 9)",
     "output_type": "error",
     "traceback": [
      "\u001b[1;36m  Input \u001b[1;32mIn [122]\u001b[1;36m\u001b[0m\n\u001b[1;33m    n=n+1\u001b[0m\n\u001b[1;37m    ^\u001b[0m\n\u001b[1;31mSyntaxError\u001b[0m\u001b[1;31m:\u001b[0m invalid syntax\n"
     ]
    }
   ],
   "source": [
    "want=int(input(\"목표 몸무게: \"))\n",
    "now = int(input(\"현재 몸무게: \"))\n",
    "while True :\n",
    "    if want> now : \n",
    "        break\n",
    "    else :\n",
    "        n=0\n",
    "        lost =int(input(\"감량한 몸무게를 적어주세요:\")\n",
    "        n=n+1\n",
    "        weight = weight - lost\n",
    "print(\"축하합니다.{}주 걸렸습니다.\".format(n))\n",
    "    "
   ]
  },
  {
   "cell_type": "markdown",
   "id": "07540853",
   "metadata": {},
   "source": [
    "## for문 이론\n",
    "range(10)\n",
    "=list(0~9)"
   ]
  },
  {
   "cell_type": "code",
   "execution_count": 124,
   "id": "e47e09e4",
   "metadata": {},
   "outputs": [
    {
     "data": {
      "text/plain": [
       "[0, 1, 2, 3, 4, 5, 6, 7, 8, 9]"
      ]
     },
     "execution_count": 124,
     "metadata": {},
     "output_type": "execute_result"
    }
   ],
   "source": [
    "r= range(10)\n",
    "list(r)"
   ]
  },
  {
   "cell_type": "markdown",
   "id": "6e898d06",
   "metadata": {},
   "source": [
    "for 변수 in 문자열(or 리스트 "
   ]
  },
  {
   "cell_type": "code",
   "execution_count": 125,
   "id": "68b97911",
   "metadata": {},
   "outputs": [
    {
     "name": "stdout",
     "output_type": "stream",
     "text": [
      "햄버거\n",
      "치킨\n",
      "피자\n"
     ]
    }
   ],
   "source": [
    "list_food = [\"햄버거\",\"치킨\",\"피자\"]\n",
    "for food in list_food:\n",
    "    print(food)"
   ]
  },
  {
   "cell_type": "code",
   "execution_count": 126,
   "id": "dd735efe",
   "metadata": {},
   "outputs": [
    {
     "name": "stdout",
     "output_type": "stream",
     "text": [
      "짬뽕은 맛있어!\n",
      "초밥은 맛있어!\n",
      "짜장면은 맛있어!\n"
     ]
    }
   ],
   "source": [
    "food_list = {\"초밥\",\"짜장면\",\"짬뽕\"}\n",
    "for i in food_list :\n",
    "    print(i+ \"은 맛있어!\")"
   ]
  },
  {
   "cell_type": "markdown",
   "id": "c84cf01b",
   "metadata": {},
   "source": [
    "### 1에서 100사이의 숫자중 3의 배수인 값들의 합을 구하시오.\n",
    "정답:1683"
   ]
  },
  {
   "cell_type": "code",
   "execution_count": 154,
   "id": "e8d86774",
   "metadata": {},
   "outputs": [
    {
     "ename": "SyntaxError",
     "evalue": "invalid syntax (4137875891.py, line 3)",
     "output_type": "error",
     "traceback": [
      "\u001b[1;36m  Input \u001b[1;32mIn [154]\u001b[1;36m\u001b[0m\n\u001b[1;33m    if n %3 == 0\u001b[0m\n\u001b[1;37m                 ^\u001b[0m\n\u001b[1;31mSyntaxError\u001b[0m\u001b[1;31m:\u001b[0m invalid syntax\n"
     ]
    }
   ],
   "source": []
  },
  {
   "cell_type": "code",
   "execution_count": 162,
   "id": "cfb3b494",
   "metadata": {},
   "outputs": [
    {
     "name": "stdout",
     "output_type": "stream",
     "text": [
      "1683\n"
     ]
    }
   ],
   "source": [
    "\n",
    "    "
   ]
  },
  {
   "cell_type": "code",
   "execution_count": null,
   "id": "90d11812",
   "metadata": {},
   "outputs": [],
   "source": [
    "## 구구단 출력"
   ]
  },
  {
   "cell_type": "code",
   "execution_count": 170,
   "id": "73f8a5d2",
   "metadata": {},
   "outputs": [
    {
     "name": "stdout",
     "output_type": "stream",
     "text": [
      "3x1= 3\n",
      "3x2= 6\n",
      "3x3= 9\n",
      "3x4= 12\n",
      "3x5= 15\n",
      "3x6= 18\n",
      "3x7= 21\n",
      "3x8= 24\n",
      "3x9= 27\n",
      "3x10= 30\n",
      "3x11= 33\n",
      "3x12= 36\n",
      "3x13= 39\n",
      "3x14= 42\n",
      "3x15= 45\n",
      "3x16= 48\n",
      "3x17= 51\n",
      "3x18= 54\n",
      "3x19= 57\n",
      "-------\n",
      "4x1= 4\n",
      "4x2= 8\n",
      "4x3= 12\n",
      "4x4= 16\n",
      "4x5= 20\n",
      "4x6= 24\n",
      "4x7= 28\n",
      "4x8= 32\n",
      "4x9= 36\n",
      "4x10= 40\n",
      "4x11= 44\n",
      "4x12= 48\n",
      "4x13= 52\n",
      "4x14= 56\n",
      "4x15= 60\n",
      "4x16= 64\n",
      "4x17= 68\n",
      "4x18= 72\n",
      "4x19= 76\n",
      "-------\n",
      "5x1= 5\n",
      "5x2= 10\n",
      "5x3= 15\n",
      "5x4= 20\n",
      "5x5= 25\n",
      "5x6= 30\n",
      "5x7= 35\n",
      "5x8= 40\n",
      "5x9= 45\n",
      "5x10= 50\n",
      "5x11= 55\n",
      "5x12= 60\n",
      "5x13= 65\n",
      "5x14= 70\n",
      "5x15= 75\n",
      "5x16= 80\n",
      "5x17= 85\n",
      "5x18= 90\n",
      "5x19= 95\n",
      "-------\n",
      "6x1= 6\n",
      "6x2= 12\n",
      "6x3= 18\n",
      "6x4= 24\n",
      "6x5= 30\n",
      "6x6= 36\n",
      "6x7= 42\n",
      "6x8= 48\n",
      "6x9= 54\n",
      "6x10= 60\n",
      "6x11= 66\n",
      "6x12= 72\n",
      "6x13= 78\n",
      "6x14= 84\n",
      "6x15= 90\n",
      "6x16= 96\n",
      "6x17= 102\n",
      "6x18= 108\n",
      "6x19= 114\n",
      "-------\n",
      "7x1= 7\n",
      "7x2= 14\n",
      "7x3= 21\n",
      "7x4= 28\n",
      "7x5= 35\n",
      "7x6= 42\n",
      "7x7= 49\n",
      "7x8= 56\n",
      "7x9= 63\n",
      "7x10= 70\n",
      "7x11= 77\n",
      "7x12= 84\n",
      "7x13= 91\n",
      "7x14= 98\n",
      "7x15= 105\n",
      "7x16= 112\n",
      "7x17= 119\n",
      "7x18= 126\n",
      "7x19= 133\n",
      "-------\n",
      "8x1= 8\n",
      "8x2= 16\n",
      "8x3= 24\n",
      "8x4= 32\n",
      "8x5= 40\n",
      "8x6= 48\n",
      "8x7= 56\n",
      "8x8= 64\n",
      "8x9= 72\n",
      "8x10= 80\n",
      "8x11= 88\n",
      "8x12= 96\n",
      "8x13= 104\n",
      "8x14= 112\n",
      "8x15= 120\n",
      "8x16= 128\n",
      "8x17= 136\n",
      "8x18= 144\n",
      "8x19= 152\n",
      "-------\n",
      "9x1= 9\n",
      "9x2= 18\n",
      "9x3= 27\n",
      "9x4= 36\n",
      "9x5= 45\n",
      "9x6= 54\n",
      "9x7= 63\n",
      "9x8= 72\n",
      "9x9= 81\n",
      "9x10= 90\n",
      "9x11= 99\n",
      "9x12= 108\n",
      "9x13= 117\n",
      "9x14= 126\n",
      "9x15= 135\n",
      "9x16= 144\n",
      "9x17= 153\n",
      "9x18= 162\n",
      "9x19= 171\n",
      "-------\n",
      "10x1= 10\n",
      "10x2= 20\n",
      "10x3= 30\n",
      "10x4= 40\n",
      "10x5= 50\n",
      "10x6= 60\n",
      "10x7= 70\n",
      "10x8= 80\n",
      "10x9= 90\n",
      "10x10= 100\n",
      "10x11= 110\n",
      "10x12= 120\n",
      "10x13= 130\n",
      "10x14= 140\n",
      "10x15= 150\n",
      "10x16= 160\n",
      "10x17= 170\n",
      "10x18= 180\n",
      "10x19= 190\n",
      "-------\n",
      "11x1= 11\n",
      "11x2= 22\n",
      "11x3= 33\n",
      "11x4= 44\n",
      "11x5= 55\n",
      "11x6= 66\n",
      "11x7= 77\n",
      "11x8= 88\n",
      "11x9= 99\n",
      "11x10= 110\n",
      "11x11= 121\n",
      "11x12= 132\n",
      "11x13= 143\n",
      "11x14= 154\n",
      "11x15= 165\n",
      "11x16= 176\n",
      "11x17= 187\n",
      "11x18= 198\n",
      "11x19= 209\n",
      "-------\n",
      "12x1= 12\n",
      "12x2= 24\n",
      "12x3= 36\n",
      "12x4= 48\n",
      "12x5= 60\n",
      "12x6= 72\n",
      "12x7= 84\n",
      "12x8= 96\n",
      "12x9= 108\n",
      "12x10= 120\n",
      "12x11= 132\n",
      "12x12= 144\n",
      "12x13= 156\n",
      "12x14= 168\n",
      "12x15= 180\n",
      "12x16= 192\n",
      "12x17= 204\n",
      "12x18= 216\n",
      "12x19= 228\n",
      "-------\n",
      "13x1= 13\n",
      "13x2= 26\n",
      "13x3= 39\n",
      "13x4= 52\n",
      "13x5= 65\n",
      "13x6= 78\n",
      "13x7= 91\n",
      "13x8= 104\n",
      "13x9= 117\n",
      "13x10= 130\n",
      "13x11= 143\n",
      "13x12= 156\n",
      "13x13= 169\n",
      "13x14= 182\n",
      "13x15= 195\n",
      "13x16= 208\n",
      "13x17= 221\n",
      "13x18= 234\n",
      "13x19= 247\n",
      "-------\n",
      "14x1= 14\n",
      "14x2= 28\n",
      "14x3= 42\n",
      "14x4= 56\n",
      "14x5= 70\n",
      "14x6= 84\n",
      "14x7= 98\n",
      "14x8= 112\n",
      "14x9= 126\n",
      "14x10= 140\n",
      "14x11= 154\n",
      "14x12= 168\n",
      "14x13= 182\n",
      "14x14= 196\n",
      "14x15= 210\n",
      "14x16= 224\n",
      "14x17= 238\n",
      "14x18= 252\n",
      "14x19= 266\n",
      "-------\n",
      "15x1= 15\n",
      "15x2= 30\n",
      "15x3= 45\n",
      "15x4= 60\n",
      "15x5= 75\n",
      "15x6= 90\n",
      "15x7= 105\n",
      "15x8= 120\n",
      "15x9= 135\n",
      "15x10= 150\n",
      "15x11= 165\n",
      "15x12= 180\n",
      "15x13= 195\n",
      "15x14= 210\n",
      "15x15= 225\n",
      "15x16= 240\n",
      "15x17= 255\n",
      "15x18= 270\n",
      "15x19= 285\n",
      "-------\n",
      "16x1= 16\n",
      "16x2= 32\n",
      "16x3= 48\n",
      "16x4= 64\n",
      "16x5= 80\n",
      "16x6= 96\n",
      "16x7= 112\n",
      "16x8= 128\n",
      "16x9= 144\n",
      "16x10= 160\n",
      "16x11= 176\n",
      "16x12= 192\n",
      "16x13= 208\n",
      "16x14= 224\n",
      "16x15= 240\n",
      "16x16= 256\n",
      "16x17= 272\n",
      "16x18= 288\n",
      "16x19= 304\n",
      "-------\n",
      "17x1= 17\n",
      "17x2= 34\n",
      "17x3= 51\n",
      "17x4= 68\n",
      "17x5= 85\n",
      "17x6= 102\n",
      "17x7= 119\n",
      "17x8= 136\n",
      "17x9= 153\n",
      "17x10= 170\n",
      "17x11= 187\n",
      "17x12= 204\n",
      "17x13= 221\n",
      "17x14= 238\n",
      "17x15= 255\n",
      "17x16= 272\n",
      "17x17= 289\n",
      "17x18= 306\n",
      "17x19= 323\n",
      "-------\n",
      "18x1= 18\n",
      "18x2= 36\n",
      "18x3= 54\n",
      "18x4= 72\n",
      "18x5= 90\n",
      "18x6= 108\n",
      "18x7= 126\n",
      "18x8= 144\n",
      "18x9= 162\n",
      "18x10= 180\n",
      "18x11= 198\n",
      "18x12= 216\n",
      "18x13= 234\n",
      "18x14= 252\n",
      "18x15= 270\n",
      "18x16= 288\n",
      "18x17= 306\n",
      "18x18= 324\n",
      "18x19= 342\n",
      "-------\n",
      "19x1= 19\n",
      "19x2= 38\n",
      "19x3= 57\n",
      "19x4= 76\n",
      "19x5= 95\n",
      "19x6= 114\n",
      "19x7= 133\n",
      "19x8= 152\n",
      "19x9= 171\n",
      "19x10= 190\n",
      "19x11= 209\n",
      "19x12= 228\n",
      "19x13= 247\n",
      "19x14= 266\n",
      "19x15= 285\n",
      "19x16= 304\n",
      "19x17= 323\n",
      "19x18= 342\n",
      "19x19= 361\n",
      "-------\n"
     ]
    }
   ],
   "source": [
    "for i  in range(3,20) :\n",
    "    for w in range(1,20) :\n",
    "        result = i*w\n",
    "        print(f\"{i}x{w}= {result}\")\n",
    "    print(\"-------\")"
   ]
  },
  {
   "cell_type": "markdown",
   "id": "e391cb67",
   "metadata": {},
   "source": [
    "### 업 다운 게임\n",
    "-  컴퓨터는 1부터 100 사이의 임의의 자연수를 생각합니다.\n",
    "- 플레이어는 1부터 100 사이의 임의의 자연수를 input으로 입력합니다.\n",
    "- 컴퓨터가 생각한 수가 플레이어가 입력한 수보다 크다면 up, 작다면 down을 출력합니다.\n",
    "- 플레이어가 입력한 수가 컴퓨터가 생각한 수와 일치하면 몇번 만에 맞췄는지 출력하고 프로그램을 종료합니다."
   ]
  },
  {
   "cell_type": "code",
   "execution_count": 175,
   "id": "bc67f693",
   "metadata": {},
   "outputs": [
    {
     "ename": "SyntaxError",
     "evalue": "invalid syntax (2928509898.py, line 2)",
     "output_type": "error",
     "traceback": [
      "\u001b[1;36m  Input \u001b[1;32mIn [175]\u001b[1;36m\u001b[0m\n\u001b[1;33m    num= random randint(1,100)\u001b[0m\n\u001b[1;37m                ^\u001b[0m\n\u001b[1;31mSyntaxError\u001b[0m\u001b[1;31m:\u001b[0m invalid syntax\n"
     ]
    }
   ],
   "source": [
    "import random\n",
    "num= random randint(1,100)\n",
    "\n",
    "n=1\n",
    "while True:\n",
    "    a=int(input(\"숫자를 입력하세요\"))\n",
    "    \n",
    "    if num> a:\n",
    "        print(\"up\")\n",
    "    elif num <a :\n",
    "        print(\"Down\")\n",
    "        n=n+1\n",
    "    else:\n",
    "        print(\"축하합니다! {}번만에 정답을 맞췄습니다.\".format(n))\n",
    "        break\n"
   ]
  },
  {
   "cell_type": "markdown",
   "id": "ad7b912f",
   "metadata": {},
   "source": [
    "### 예외 처리"
   ]
  },
  {
   "cell_type": "code",
   "execution_count": 179,
   "id": "34f4adaa",
   "metadata": {},
   "outputs": [
    {
     "name": "stdout",
     "output_type": "stream",
     "text": [
      "0.14285714285714285\n",
      "0.16666666666666666\n",
      "0.2\n",
      "0.25\n",
      "0.3333333333333333\n",
      "0.5\n",
      "1.0\n"
     ]
    },
    {
     "ename": "ZeroDivisionError",
     "evalue": "division by zero",
     "output_type": "error",
     "traceback": [
      "\u001b[1;31m---------------------------------------------------------------------------\u001b[0m",
      "\u001b[1;31mZeroDivisionError\u001b[0m                         Traceback (most recent call last)",
      "Input \u001b[1;32mIn [179]\u001b[0m, in \u001b[0;36m<cell line: 1>\u001b[1;34m()\u001b[0m\n\u001b[0;32m      1\u001b[0m \u001b[38;5;28;01mfor\u001b[39;00m i \u001b[38;5;129;01min\u001b[39;00m \u001b[38;5;28mrange\u001b[39m(\u001b[38;5;241m10\u001b[39m):\n\u001b[1;32m----> 2\u001b[0m     \u001b[38;5;28mprint\u001b[39m(\u001b[38;5;241;43m1\u001b[39;49m\u001b[38;5;241;43m/\u001b[39;49m\u001b[43m(\u001b[49m\u001b[38;5;241;43m7\u001b[39;49m\u001b[38;5;241;43m-\u001b[39;49m\u001b[43mi\u001b[49m\u001b[43m)\u001b[49m)\n",
      "\u001b[1;31mZeroDivisionError\u001b[0m: division by zero"
     ]
    }
   ],
   "source": [
    "for i in range(10):\n",
    "    print(1/(7-i))"
   ]
  },
  {
   "cell_type": "code",
   "execution_count": 178,
   "id": "e54db95b",
   "metadata": {},
   "outputs": [
    {
     "ename": "SyntaxError",
     "evalue": "invalid syntax (1124743367.py, line 1)",
     "output_type": "error",
     "traceback": [
      "\u001b[1;36m  Input \u001b[1;32mIn [178]\u001b[1;36m\u001b[0m\n\u001b[1;33m    try:for i in range(10):\u001b[0m\n\u001b[1;37m        ^\u001b[0m\n\u001b[1;31mSyntaxError\u001b[0m\u001b[1;31m:\u001b[0m invalid syntax\n"
     ]
    }
   ],
   "source": [
    "try:\n",
    "    에러가 날  수도 있는 코드\n",
    "\n",
    "except:\n",
    "    에러가 날 수도 있는 코드가 에러가 났을 때 실행하는 코드\n",
    "    "
   ]
  },
  {
   "cell_type": "code",
   "execution_count": 188,
   "id": "18e84035",
   "metadata": {},
   "outputs": [
    {
     "ename": "IndentationError",
     "evalue": "unindent does not match any outer indentation level (<tokenize>, line 6)",
     "output_type": "error",
     "traceback": [
      "\u001b[1;36m  File \u001b[1;32m<tokenize>:6\u001b[1;36m\u001b[0m\n\u001b[1;33m    except\u001b[0m\n\u001b[1;37m    ^\u001b[0m\n\u001b[1;31mIndentationError\u001b[0m\u001b[1;31m:\u001b[0m unindent does not match any outer indentation level\n"
     ]
    }
   ],
   "source": [
    "while True\n",
    "     try:\n",
    "        a=int(input(\"정수를 입력하세요: \"))\n",
    "        print(a)\n",
    "        break\n",
    "    except \n",
    "        print(\"너 혼난다.\")"
   ]
  },
  {
   "cell_type": "code",
   "execution_count": null,
   "id": "96b7cd72",
   "metadata": {},
   "outputs": [],
   "source": [
    "a= int(input(\"3의 배수를 입력하세요:\"))\n",
    "if a%3 != 0 :\n",
    "    raise Exception(\"3의 배수를 입력하라고요!\")\n",
    "else:\n",
    "    print(a)"
   ]
  },
  {
   "cell_type": "markdown",
   "id": "74cf88fd",
   "metadata": {},
   "source": [
    "## 딕션어리\n",
    "- 여러개의 데이터를 다룰수 있다.\n",
    "\n"
   ]
  },
  {
   "cell_type": "code",
   "execution_count": null,
   "id": "57533d69",
   "metadata": {},
   "outputs": [],
   "source": [
    "csb = {\"이름\" : \"홍길동\",\"나이\" :50 ,\"키\":168}\n",
    "class1_4{[\"이름\" :'홍길동', '김철수', '최영희'],\n",
    "          \"나이\" : [20,21,22],\n",
    "            \"키\"  :[168,177,204]}"
   ]
  },
  {
   "cell_type": "code",
   "execution_count": null,
   "id": "f9d0a9ee",
   "metadata": {},
   "outputs": [],
   "source": [
    "class1_4[\"이름\"]"
   ]
  },
  {
   "cell_type": "code",
   "execution_count": null,
   "id": "13ded279",
   "metadata": {},
   "outputs": [],
   "source": []
  }
 ],
 "metadata": {
  "kernelspec": {
   "display_name": "Python 3 (ipykernel)",
   "language": "python",
   "name": "python3"
  },
  "language_info": {
   "codemirror_mode": {
    "name": "ipython",
    "version": 3
   },
   "file_extension": ".py",
   "mimetype": "text/x-python",
   "name": "python",
   "nbconvert_exporter": "python",
   "pygments_lexer": "ipython3",
   "version": "3.9.12"
  }
 },
 "nbformat": 4,
 "nbformat_minor": 5
}
